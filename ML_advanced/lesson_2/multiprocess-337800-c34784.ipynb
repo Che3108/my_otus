{
 "cells": [
  {
   "cell_type": "code",
   "execution_count": 25,
   "id": "95c73dbc",
   "metadata": {},
   "outputs": [],
   "source": [
    "from concurrent.futures import ThreadPoolExecutor, ProcessPoolExecutor\n",
    "import os\n",
    "import random"
   ]
  },
  {
   "cell_type": "code",
   "execution_count": 27,
   "id": "a193d9b2",
   "metadata": {},
   "outputs": [],
   "source": [
    "def test(i):\n",
    "    os.system(f'sleep {i};')\n",
    "    \n",
    "    return 1 / i"
   ]
  },
  {
   "cell_type": "code",
   "execution_count": 28,
   "id": "2f93aa2c",
   "metadata": {},
   "outputs": [],
   "source": [
    "def test1(i):\n",
    "    \"\"\"this function ...\n",
    "    i > 10, i < 20\"\"\"\n",
    "    os.system(f'sleep {i};')\n",
    "    \n",
    "    return 1 / (i+1)"
   ]
  },
  {
   "cell_type": "code",
   "execution_count": 32,
   "id": "9981818e",
   "metadata": {},
   "outputs": [
    {
     "name": "stdout",
     "output_type": "stream",
     "text": [
      "Help on function test1 in module __main__:\n",
      "\n",
      "test1(i)\n",
      "    this function ...\n",
      "    i > 10, i < 20\n",
      "\n"
     ]
    }
   ],
   "source": [
    "help(test1)"
   ]
  },
  {
   "cell_type": "code",
   "execution_count": 29,
   "id": "b4b7527f",
   "metadata": {},
   "outputs": [],
   "source": [
    "pool = ThreadPoolExecutor(20, thread_name_prefix='test')"
   ]
  },
  {
   "cell_type": "code",
   "execution_count": null,
   "id": "44240aa5",
   "metadata": {},
   "outputs": [],
   "source": []
  },
  {
   "cell_type": "code",
   "execution_count": null,
   "id": "9ab1b294",
   "metadata": {},
   "outputs": [],
   "source": []
  },
  {
   "cell_type": "code",
   "execution_count": null,
   "id": "e5ab9e4c",
   "metadata": {},
   "outputs": [],
   "source": []
  },
  {
   "cell_type": "code",
   "execution_count": null,
   "id": "5bf09c62",
   "metadata": {},
   "outputs": [],
   "source": []
  },
  {
   "cell_type": "code",
   "execution_count": 35,
   "id": "ce0a1fbf",
   "metadata": {},
   "outputs": [
    {
     "data": {
      "text/plain": [
       "['map', 'shutdown', 'submit']"
      ]
     },
     "execution_count": 35,
     "metadata": {},
     "output_type": "execute_result"
    }
   ],
   "source": [
    "[e for e in dir(ThreadPoolExecutor) if not e.startswith('_')]"
   ]
  },
  {
   "cell_type": "code",
   "execution_count": 17,
   "id": "87bc405f",
   "metadata": {},
   "outputs": [
    {
     "data": {
      "text/plain": [
       "{'_max_workers': 20,\n",
       " '_work_queue': <_queue.SimpleQueue at 0x7fcd89efc400>,\n",
       " '_idle_semaphore': <threading.Semaphore at 0x7fcd8a563850>,\n",
       " '_threads': set(),\n",
       " '_broken': False,\n",
       " '_shutdown': False,\n",
       " '_shutdown_lock': <unlocked _thread.lock object at 0x7fcd801c5bc0>,\n",
       " '_thread_name_prefix': 'test',\n",
       " '_initializer': None,\n",
       " '_initargs': ()}"
      ]
     },
     "execution_count": 17,
     "metadata": {},
     "output_type": "execute_result"
    }
   ],
   "source": [
    "vars(pool)"
   ]
  },
  {
   "cell_type": "code",
   "execution_count": null,
   "id": "85f5fa7f",
   "metadata": {},
   "outputs": [],
   "source": []
  },
  {
   "cell_type": "code",
   "execution_count": 36,
   "id": "8b05b051",
   "metadata": {},
   "outputs": [
    {
     "name": "stdout",
     "output_type": "stream",
     "text": [
      "Help on method submit in module concurrent.futures.thread:\n",
      "\n",
      "submit(fn, /, *args, **kwargs) method of concurrent.futures.thread.ThreadPoolExecutor instance\n",
      "    Submits a callable to be executed with the given arguments.\n",
      "    \n",
      "    Schedules the callable to be executed as fn(*args, **kwargs) and returns\n",
      "    a Future instance representing the execution of the callable.\n",
      "    \n",
      "    Returns:\n",
      "        A Future representing the given call.\n",
      "\n"
     ]
    }
   ],
   "source": [
    "help(pool.submit)"
   ]
  },
  {
   "cell_type": "code",
   "execution_count": null,
   "id": "efa9b0fe",
   "metadata": {},
   "outputs": [],
   "source": []
  },
  {
   "cell_type": "code",
   "execution_count": null,
   "id": "46998ae4",
   "metadata": {},
   "outputs": [],
   "source": []
  },
  {
   "cell_type": "code",
   "execution_count": 37,
   "id": "10c6ecda",
   "metadata": {},
   "outputs": [
    {
     "name": "stdout",
     "output_type": "stream",
     "text": [
      "CPU times: user 13.3 ms, sys: 8.03 ms, total: 21.3 ms\n",
      "Wall time: 35.7 ms\n"
     ]
    }
   ],
   "source": [
    "%%time\n",
    "\n",
    "futures = []\n",
    "\n",
    "for i in range(20):\n",
    "    f = pool.submit(test, i=i)\n",
    "    futures.append(f)"
   ]
  },
  {
   "cell_type": "code",
   "execution_count": 40,
   "id": "01e7a8ad",
   "metadata": {},
   "outputs": [
    {
     "data": {
      "text/plain": [
       "2"
      ]
     },
     "execution_count": 40,
     "metadata": {},
     "output_type": "execute_result"
    }
   ],
   "source": [
    "1+1"
   ]
  },
  {
   "cell_type": "code",
   "execution_count": 47,
   "id": "7284e0b6",
   "metadata": {},
   "outputs": [
    {
     "data": {
      "text/plain": [
       "['_Future__get_result',\n",
       " '__class__',\n",
       " '__class_getitem__',\n",
       " '__delattr__',\n",
       " '__dict__',\n",
       " '__dir__',\n",
       " '__doc__',\n",
       " '__eq__',\n",
       " '__format__',\n",
       " '__ge__',\n",
       " '__getattribute__',\n",
       " '__gt__',\n",
       " '__hash__',\n",
       " '__init__',\n",
       " '__init_subclass__',\n",
       " '__le__',\n",
       " '__lt__',\n",
       " '__module__',\n",
       " '__ne__',\n",
       " '__new__',\n",
       " '__reduce__',\n",
       " '__reduce_ex__',\n",
       " '__repr__',\n",
       " '__setattr__',\n",
       " '__sizeof__',\n",
       " '__str__',\n",
       " '__subclasshook__',\n",
       " '__weakref__',\n",
       " '_condition',\n",
       " '_done_callbacks',\n",
       " '_exception',\n",
       " '_invoke_callbacks',\n",
       " '_result',\n",
       " '_state',\n",
       " '_waiters',\n",
       " 'add_done_callback',\n",
       " 'cancel',\n",
       " 'cancelled',\n",
       " 'done',\n",
       " 'exception',\n",
       " 'result',\n",
       " 'running',\n",
       " 'set_exception',\n",
       " 'set_result',\n",
       " 'set_running_or_notify_cancel']"
      ]
     },
     "execution_count": 47,
     "metadata": {},
     "output_type": "execute_result"
    }
   ],
   "source": [
    "dir(futures[-2])"
   ]
  },
  {
   "cell_type": "code",
   "execution_count": null,
   "id": "764859a9",
   "metadata": {},
   "outputs": [],
   "source": []
  },
  {
   "cell_type": "code",
   "execution_count": 48,
   "id": "494cafcd",
   "metadata": {},
   "outputs": [
    {
     "data": {
      "text/plain": [
       "['add_done_callback',\n",
       " 'cancel',\n",
       " 'cancelled',\n",
       " 'done',\n",
       " 'exception',\n",
       " 'result',\n",
       " 'running',\n",
       " 'set_exception',\n",
       " 'set_result',\n",
       " 'set_running_or_notify_cancel']"
      ]
     },
     "execution_count": 48,
     "metadata": {},
     "output_type": "execute_result"
    }
   ],
   "source": [
    "[f for f in dir(futures[-1]) if not f.startswith('_')]"
   ]
  },
  {
   "cell_type": "code",
   "execution_count": 49,
   "id": "fd89bec6",
   "metadata": {},
   "outputs": [
    {
     "name": "stdout",
     "output_type": "stream",
     "text": [
      "Help on method add_done_callback in module concurrent.futures._base:\n",
      "\n",
      "add_done_callback(fn) method of concurrent.futures._base.Future instance\n",
      "    Attaches a callable that will be called when the future finishes.\n",
      "    \n",
      "    Args:\n",
      "        fn: A callable that will be called with this future as its only\n",
      "            argument when the future completes or is cancelled. The callable\n",
      "            will always be called by a thread in the same process in which\n",
      "            it was added. If the future has already completed or been\n",
      "            cancelled then the callable will be called immediately. These\n",
      "            callables are called in the order that they were added.\n",
      "\n"
     ]
    }
   ],
   "source": [
    "help(f.add_done_callback)"
   ]
  },
  {
   "cell_type": "code",
   "execution_count": 58,
   "id": "877771a9",
   "metadata": {},
   "outputs": [],
   "source": [
    "f = futures[-1]"
   ]
  },
  {
   "cell_type": "code",
   "execution_count": 59,
   "id": "1b1864a5",
   "metadata": {},
   "outputs": [
    {
     "data": {
      "text/plain": [
       "True"
      ]
     },
     "execution_count": 59,
     "metadata": {},
     "output_type": "execute_result"
    }
   ],
   "source": [
    "f.done()"
   ]
  },
  {
   "cell_type": "code",
   "execution_count": 60,
   "id": "9c2a99d4",
   "metadata": {},
   "outputs": [],
   "source": [
    "f.exception()"
   ]
  },
  {
   "cell_type": "code",
   "execution_count": 61,
   "id": "33480c40",
   "metadata": {},
   "outputs": [
    {
     "data": {
      "text/plain": [
       "0.05263157894736842"
      ]
     },
     "execution_count": 61,
     "metadata": {},
     "output_type": "execute_result"
    }
   ],
   "source": [
    "f.result()"
   ]
  },
  {
   "cell_type": "code",
   "execution_count": 70,
   "id": "cffa1841",
   "metadata": {},
   "outputs": [
    {
     "name": "stdout",
     "output_type": "stream",
     "text": [
      "CPU times: user 431 µs, sys: 15 µs, total: 446 µs\n",
      "Wall time: 463 µs\n"
     ]
    }
   ],
   "source": [
    "%%time\n",
    "\n",
    "futures = []\n",
    "\n",
    "for i in range(20):\n",
    "    # print(i)\n",
    "    f = pool.submit(test, i=i)\n",
    "    futures.append(f)"
   ]
  },
  {
   "cell_type": "code",
   "execution_count": 68,
   "id": "56bc85f1",
   "metadata": {},
   "outputs": [
    {
     "name": "stdout",
     "output_type": "stream",
     "text": [
      "CPU times: user 9.93 ms, sys: 3.84 ms, total: 13.8 ms\n",
      "Wall time: 19 s\n"
     ]
    }
   ],
   "source": [
    "%%time\n",
    "\n",
    "futures = []\n",
    "\n",
    "for i in range(20):\n",
    "    # print(i)\n",
    "    f = pool.submit(test, i=i)\n",
    "    futures.append(f)\n",
    "\n",
    "res = []\n",
    "\n",
    "for f in futures:\n",
    "    \n",
    "    try:\n",
    "        res.append(f.result())\n",
    "    except:\n",
    "        res.append(None)"
   ]
  },
  {
   "cell_type": "code",
   "execution_count": 67,
   "id": "7d311408",
   "metadata": {},
   "outputs": [
    {
     "data": {
      "text/plain": [
       "0.05263157894736842"
      ]
     },
     "execution_count": 67,
     "metadata": {},
     "output_type": "execute_result"
    }
   ],
   "source": [
    "futures[-1].result()"
   ]
  },
  {
   "cell_type": "code",
   "execution_count": 77,
   "id": "751da9a0",
   "metadata": {},
   "outputs": [
    {
     "data": {
      "text/plain": [
       "2"
      ]
     },
     "execution_count": 77,
     "metadata": {},
     "output_type": "execute_result"
    }
   ],
   "source": [
    "1+1"
   ]
  },
  {
   "cell_type": "code",
   "execution_count": 78,
   "id": "1a5fb29b",
   "metadata": {},
   "outputs": [
    {
     "data": {
      "text/plain": [
       "[None,\n",
       " 1.0,\n",
       " 0.5,\n",
       " 0.3333333333333333,\n",
       " 0.25,\n",
       " 0.2,\n",
       " 0.16666666666666666,\n",
       " 0.14285714285714285,\n",
       " 0.125,\n",
       " 0.1111111111111111,\n",
       " 0.1,\n",
       " 0.09090909090909091,\n",
       " 0.08333333333333333,\n",
       " 0.07692307692307693,\n",
       " 0.07142857142857142,\n",
       " 0.06666666666666667,\n",
       " 0.0625,\n",
       " 0.058823529411764705,\n",
       " 0.05555555555555555,\n",
       " 0.05263157894736842]"
      ]
     },
     "execution_count": 78,
     "metadata": {},
     "output_type": "execute_result"
    }
   ],
   "source": [
    "res"
   ]
  },
  {
   "cell_type": "code",
   "execution_count": 79,
   "id": "046e22b0",
   "metadata": {},
   "outputs": [
    {
     "data": {
      "text/plain": [
       "ZeroDivisionError('division by zero')"
      ]
     },
     "execution_count": 79,
     "metadata": {},
     "output_type": "execute_result"
    }
   ],
   "source": [
    "futures[0].exception()"
   ]
  },
  {
   "cell_type": "code",
   "execution_count": null,
   "id": "ea13aeb9",
   "metadata": {},
   "outputs": [],
   "source": [
    "vars(pool)"
   ]
  },
  {
   "cell_type": "code",
   "execution_count": 48,
   "id": "63e18ef3",
   "metadata": {},
   "outputs": [
    {
     "name": "stdout",
     "output_type": "stream",
     "text": [
      "Help on method map in module concurrent.futures._base:\n",
      "\n",
      "map(fn, *iterables, timeout=None, chunksize=1) method of concurrent.futures.thread.ThreadPoolExecutor instance\n",
      "    Returns an iterator equivalent to map(fn, iter).\n",
      "    \n",
      "    Args:\n",
      "        fn: A callable that will take as many arguments as there are\n",
      "            passed iterables.\n",
      "        timeout: The maximum number of seconds to wait. If None, then there\n",
      "            is no limit on the wait time.\n",
      "        chunksize: The size of the chunks the iterable will be broken into\n",
      "            before being passed to a child process. This argument is only\n",
      "            used by ProcessPoolExecutor; it is ignored by\n",
      "            ThreadPoolExecutor.\n",
      "    \n",
      "    Returns:\n",
      "        An iterator equivalent to: map(func, *iterables) but the calls may\n",
      "        be evaluated out-of-order.\n",
      "    \n",
      "    Raises:\n",
      "        TimeoutError: If the entire result iterator could not be generated\n",
      "            before the given timeout.\n",
      "        Exception: If fn(*args) raises for any values.\n",
      "\n"
     ]
    }
   ],
   "source": [
    "help(pool.map)"
   ]
  },
  {
   "cell_type": "code",
   "execution_count": 92,
   "id": "6938cf86",
   "metadata": {},
   "outputs": [
    {
     "name": "stdout",
     "output_type": "stream",
     "text": [
      "CPU times: user 2.8 ms, sys: 0 ns, total: 2.8 ms\n",
      "Wall time: 2.81 ms\n"
     ]
    }
   ],
   "source": [
    "%%time \n",
    "res = pool.map(test1, [2] * 200, timeout=None, chunksize=1)"
   ]
  },
  {
   "cell_type": "code",
   "execution_count": 93,
   "id": "905a7f0c",
   "metadata": {},
   "outputs": [
    {
     "data": {
      "text/plain": [
       "<_queue.SimpleQueue at 0x7f62440c35b0>"
      ]
     },
     "execution_count": 93,
     "metadata": {},
     "output_type": "execute_result"
    }
   ],
   "source": [
    "pool._work_queue"
   ]
  },
  {
   "cell_type": "code",
   "execution_count": 94,
   "id": "ab0997fd",
   "metadata": {},
   "outputs": [
    {
     "data": {
      "text/plain": [
       "<generator object Executor.map.<locals>.result_iterator at 0x7f622841e180>"
      ]
     },
     "execution_count": 94,
     "metadata": {},
     "output_type": "execute_result"
    }
   ],
   "source": [
    "res"
   ]
  },
  {
   "cell_type": "code",
   "execution_count": 95,
   "id": "d5f751b0",
   "metadata": {},
   "outputs": [
    {
     "name": "stdout",
     "output_type": "stream",
     "text": [
      "CPU times: user 22.2 ms, sys: 468 µs, total: 22.7 ms\n",
      "Wall time: 5.81 s\n"
     ]
    },
    {
     "data": {
      "text/plain": [
       "[0.3333333333333333,\n",
       " 0.3333333333333333,\n",
       " 0.3333333333333333,\n",
       " 0.3333333333333333,\n",
       " 0.3333333333333333,\n",
       " 0.3333333333333333,\n",
       " 0.3333333333333333,\n",
       " 0.3333333333333333,\n",
       " 0.3333333333333333,\n",
       " 0.3333333333333333,\n",
       " 0.3333333333333333,\n",
       " 0.3333333333333333,\n",
       " 0.3333333333333333,\n",
       " 0.3333333333333333,\n",
       " 0.3333333333333333,\n",
       " 0.3333333333333333,\n",
       " 0.3333333333333333,\n",
       " 0.3333333333333333,\n",
       " 0.3333333333333333,\n",
       " 0.3333333333333333,\n",
       " 0.3333333333333333,\n",
       " 0.3333333333333333,\n",
       " 0.3333333333333333,\n",
       " 0.3333333333333333,\n",
       " 0.3333333333333333,\n",
       " 0.3333333333333333,\n",
       " 0.3333333333333333,\n",
       " 0.3333333333333333,\n",
       " 0.3333333333333333,\n",
       " 0.3333333333333333,\n",
       " 0.3333333333333333,\n",
       " 0.3333333333333333,\n",
       " 0.3333333333333333,\n",
       " 0.3333333333333333,\n",
       " 0.3333333333333333,\n",
       " 0.3333333333333333,\n",
       " 0.3333333333333333,\n",
       " 0.3333333333333333,\n",
       " 0.3333333333333333,\n",
       " 0.3333333333333333,\n",
       " 0.3333333333333333,\n",
       " 0.3333333333333333,\n",
       " 0.3333333333333333,\n",
       " 0.3333333333333333,\n",
       " 0.3333333333333333,\n",
       " 0.3333333333333333,\n",
       " 0.3333333333333333,\n",
       " 0.3333333333333333,\n",
       " 0.3333333333333333,\n",
       " 0.3333333333333333,\n",
       " 0.3333333333333333,\n",
       " 0.3333333333333333,\n",
       " 0.3333333333333333,\n",
       " 0.3333333333333333,\n",
       " 0.3333333333333333,\n",
       " 0.3333333333333333,\n",
       " 0.3333333333333333,\n",
       " 0.3333333333333333,\n",
       " 0.3333333333333333,\n",
       " 0.3333333333333333,\n",
       " 0.3333333333333333,\n",
       " 0.3333333333333333,\n",
       " 0.3333333333333333,\n",
       " 0.3333333333333333,\n",
       " 0.3333333333333333,\n",
       " 0.3333333333333333,\n",
       " 0.3333333333333333,\n",
       " 0.3333333333333333,\n",
       " 0.3333333333333333,\n",
       " 0.3333333333333333,\n",
       " 0.3333333333333333,\n",
       " 0.3333333333333333,\n",
       " 0.3333333333333333,\n",
       " 0.3333333333333333,\n",
       " 0.3333333333333333,\n",
       " 0.3333333333333333,\n",
       " 0.3333333333333333,\n",
       " 0.3333333333333333,\n",
       " 0.3333333333333333,\n",
       " 0.3333333333333333,\n",
       " 0.3333333333333333,\n",
       " 0.3333333333333333,\n",
       " 0.3333333333333333,\n",
       " 0.3333333333333333,\n",
       " 0.3333333333333333,\n",
       " 0.3333333333333333,\n",
       " 0.3333333333333333,\n",
       " 0.3333333333333333,\n",
       " 0.3333333333333333,\n",
       " 0.3333333333333333,\n",
       " 0.3333333333333333,\n",
       " 0.3333333333333333,\n",
       " 0.3333333333333333,\n",
       " 0.3333333333333333,\n",
       " 0.3333333333333333,\n",
       " 0.3333333333333333,\n",
       " 0.3333333333333333,\n",
       " 0.3333333333333333,\n",
       " 0.3333333333333333,\n",
       " 0.3333333333333333,\n",
       " 0.3333333333333333,\n",
       " 0.3333333333333333,\n",
       " 0.3333333333333333,\n",
       " 0.3333333333333333,\n",
       " 0.3333333333333333,\n",
       " 0.3333333333333333,\n",
       " 0.3333333333333333,\n",
       " 0.3333333333333333,\n",
       " 0.3333333333333333,\n",
       " 0.3333333333333333,\n",
       " 0.3333333333333333,\n",
       " 0.3333333333333333,\n",
       " 0.3333333333333333,\n",
       " 0.3333333333333333,\n",
       " 0.3333333333333333,\n",
       " 0.3333333333333333,\n",
       " 0.3333333333333333,\n",
       " 0.3333333333333333,\n",
       " 0.3333333333333333,\n",
       " 0.3333333333333333,\n",
       " 0.3333333333333333,\n",
       " 0.3333333333333333,\n",
       " 0.3333333333333333,\n",
       " 0.3333333333333333,\n",
       " 0.3333333333333333,\n",
       " 0.3333333333333333,\n",
       " 0.3333333333333333,\n",
       " 0.3333333333333333,\n",
       " 0.3333333333333333,\n",
       " 0.3333333333333333,\n",
       " 0.3333333333333333,\n",
       " 0.3333333333333333,\n",
       " 0.3333333333333333,\n",
       " 0.3333333333333333,\n",
       " 0.3333333333333333,\n",
       " 0.3333333333333333,\n",
       " 0.3333333333333333,\n",
       " 0.3333333333333333,\n",
       " 0.3333333333333333,\n",
       " 0.3333333333333333,\n",
       " 0.3333333333333333,\n",
       " 0.3333333333333333,\n",
       " 0.3333333333333333,\n",
       " 0.3333333333333333,\n",
       " 0.3333333333333333,\n",
       " 0.3333333333333333,\n",
       " 0.3333333333333333,\n",
       " 0.3333333333333333,\n",
       " 0.3333333333333333,\n",
       " 0.3333333333333333,\n",
       " 0.3333333333333333,\n",
       " 0.3333333333333333,\n",
       " 0.3333333333333333,\n",
       " 0.3333333333333333,\n",
       " 0.3333333333333333,\n",
       " 0.3333333333333333,\n",
       " 0.3333333333333333,\n",
       " 0.3333333333333333,\n",
       " 0.3333333333333333,\n",
       " 0.3333333333333333,\n",
       " 0.3333333333333333,\n",
       " 0.3333333333333333,\n",
       " 0.3333333333333333,\n",
       " 0.3333333333333333,\n",
       " 0.3333333333333333,\n",
       " 0.3333333333333333,\n",
       " 0.3333333333333333,\n",
       " 0.3333333333333333,\n",
       " 0.3333333333333333,\n",
       " 0.3333333333333333,\n",
       " 0.3333333333333333,\n",
       " 0.3333333333333333,\n",
       " 0.3333333333333333,\n",
       " 0.3333333333333333,\n",
       " 0.3333333333333333,\n",
       " 0.3333333333333333,\n",
       " 0.3333333333333333,\n",
       " 0.3333333333333333,\n",
       " 0.3333333333333333,\n",
       " 0.3333333333333333,\n",
       " 0.3333333333333333,\n",
       " 0.3333333333333333,\n",
       " 0.3333333333333333,\n",
       " 0.3333333333333333,\n",
       " 0.3333333333333333,\n",
       " 0.3333333333333333,\n",
       " 0.3333333333333333,\n",
       " 0.3333333333333333,\n",
       " 0.3333333333333333,\n",
       " 0.3333333333333333,\n",
       " 0.3333333333333333,\n",
       " 0.3333333333333333,\n",
       " 0.3333333333333333,\n",
       " 0.3333333333333333,\n",
       " 0.3333333333333333,\n",
       " 0.3333333333333333,\n",
       " 0.3333333333333333,\n",
       " 0.3333333333333333,\n",
       " 0.3333333333333333,\n",
       " 0.3333333333333333]"
      ]
     },
     "execution_count": 95,
     "metadata": {},
     "output_type": "execute_result"
    }
   ],
   "source": [
    "%%time\n",
    "list(res)"
   ]
  },
  {
   "cell_type": "code",
   "execution_count": 66,
   "id": "786eef71",
   "metadata": {},
   "outputs": [],
   "source": [
    "def test2(i):\n",
    "    os.system('sleep 2')\n",
    "    res[i] = 1 / i"
   ]
  },
  {
   "cell_type": "code",
   "execution_count": null,
   "id": "aee3aa21",
   "metadata": {},
   "outputs": [],
   "source": []
  },
  {
   "cell_type": "code",
   "execution_count": 67,
   "id": "36a4f6f3",
   "metadata": {},
   "outputs": [],
   "source": [
    "res = {}\n",
    "\n",
    "for i in range(100):\n",
    "    pool.submit(test2, i=random.randint(1, 200))"
   ]
  },
  {
   "cell_type": "code",
   "execution_count": 133,
   "id": "bbe38aa8",
   "metadata": {},
   "outputs": [
    {
     "data": {
      "text/plain": [
       "(76,\n",
       " {144: 0.006944444444444444,\n",
       "  192: 0.005208333333333333,\n",
       "  39: 0.02564102564102564,\n",
       "  110: 0.00909090909090909,\n",
       "  32: 0.03125,\n",
       "  59: 0.01694915254237288,\n",
       "  123: 0.008130081300813009,\n",
       "  81: 0.012345679012345678,\n",
       "  94: 0.010638297872340425,\n",
       "  116: 0.008620689655172414,\n",
       "  153: 0.006535947712418301,\n",
       "  104: 0.009615384615384616,\n",
       "  73: 0.0136986301369863,\n",
       "  15: 0.06666666666666667,\n",
       "  166: 0.006024096385542169,\n",
       "  61: 0.01639344262295082,\n",
       "  106: 0.009433962264150943,\n",
       "  50: 0.02,\n",
       "  111: 0.009009009009009009,\n",
       "  25: 0.04,\n",
       "  28: 0.03571428571428571,\n",
       "  10: 0.1,\n",
       "  138: 0.007246376811594203,\n",
       "  57: 0.017543859649122806,\n",
       "  198: 0.005050505050505051,\n",
       "  64: 0.015625,\n",
       "  167: 0.005988023952095809,\n",
       "  150: 0.006666666666666667,\n",
       "  131: 0.007633587786259542,\n",
       "  177: 0.005649717514124294,\n",
       "  72: 0.013888888888888888,\n",
       "  85: 0.011764705882352941,\n",
       "  195: 0.005128205128205128,\n",
       "  12: 0.08333333333333333,\n",
       "  160: 0.00625,\n",
       "  83: 0.012048192771084338,\n",
       "  65: 0.015384615384615385,\n",
       "  109: 0.009174311926605505,\n",
       "  69: 0.014492753623188406,\n",
       "  54: 0.018518518518518517,\n",
       "  66: 0.015151515151515152,\n",
       "  183: 0.00546448087431694,\n",
       "  113: 0.008849557522123894,\n",
       "  45: 0.022222222222222223,\n",
       "  63: 0.015873015873015872,\n",
       "  179: 0.00558659217877095,\n",
       "  184: 0.005434782608695652,\n",
       "  137: 0.0072992700729927005,\n",
       "  155: 0.0064516129032258064,\n",
       "  67: 0.014925373134328358,\n",
       "  149: 0.006711409395973154,\n",
       "  5: 0.2,\n",
       "  38: 0.02631578947368421,\n",
       "  141: 0.0070921985815602835,\n",
       "  159: 0.006289308176100629,\n",
       "  71: 0.014084507042253521,\n",
       "  95: 0.010526315789473684,\n",
       "  87: 0.011494252873563218,\n",
       "  97: 0.010309278350515464,\n",
       "  182: 0.005494505494505495,\n",
       "  14: 0.07142857142857142,\n",
       "  146: 0.00684931506849315,\n",
       "  126: 0.007936507936507936,\n",
       "  162: 0.006172839506172839,\n",
       "  199: 0.005025125628140704,\n",
       "  156: 0.00641025641025641,\n",
       "  143: 0.006993006993006993,\n",
       "  132: 0.007575757575757576,\n",
       "  74: 0.013513513513513514,\n",
       "  35: 0.02857142857142857,\n",
       "  194: 0.005154639175257732,\n",
       "  37: 0.02702702702702703,\n",
       "  151: 0.006622516556291391,\n",
       "  169: 0.005917159763313609,\n",
       "  152: 0.006578947368421052,\n",
       "  163: 0.006134969325153374})"
      ]
     },
     "execution_count": 133,
     "metadata": {},
     "output_type": "execute_result"
    }
   ],
   "source": [
    "len(res), res"
   ]
  },
  {
   "cell_type": "code",
   "execution_count": 112,
   "id": "aa559170",
   "metadata": {},
   "outputs": [
    {
     "data": {
      "text/plain": [
       "{'_max_workers': 20,\n",
       " '_work_queue': <_queue.SimpleQueue at 0x7fcd89efc400>,\n",
       " '_idle_semaphore': <threading.Semaphore at 0x7fcd8a563850>,\n",
       " '_threads': {<Thread(test_0, started 140520181458496)>,\n",
       "  <Thread(test_1, started 140520173065792)>,\n",
       "  <Thread(test_10, started 140519552300608)>,\n",
       "  <Thread(test_11, started 140519543907904)>,\n",
       "  <Thread(test_12, started 140519535515200)>,\n",
       "  <Thread(test_13, started 140519049000512)>,\n",
       "  <Thread(test_14, started 140519040607808)>,\n",
       "  <Thread(test_15, started 140519032215104)>,\n",
       "  <Thread(test_16, started 140519023822400)>,\n",
       "  <Thread(test_17, started 140519015429696)>,\n",
       "  <Thread(test_18, started 140519007036992)>,\n",
       "  <Thread(test_19, started 140518998644288)>,\n",
       "  <Thread(test_2, started 140520164673088)>,\n",
       "  <Thread(test_3, started 140520156280384)>,\n",
       "  <Thread(test_4, started 140520146839104)>,\n",
       "  <Thread(test_5, started 140520138446400)>,\n",
       "  <Thread(test_6, started 140519585871424)>,\n",
       "  <Thread(test_7, started 140519577478720)>,\n",
       "  <Thread(test_8, started 140519569086016)>,\n",
       "  <Thread(test_9, started 140519560693312)>},\n",
       " '_broken': False,\n",
       " '_shutdown': False,\n",
       " '_shutdown_lock': <unlocked _thread.lock object at 0x7fcd801c5bc0>,\n",
       " '_thread_name_prefix': 'test',\n",
       " '_initializer': None,\n",
       " '_initargs': ()}"
      ]
     },
     "execution_count": 112,
     "metadata": {},
     "output_type": "execute_result"
    }
   ],
   "source": [
    "vars(pool)"
   ]
  },
  {
   "cell_type": "code",
   "execution_count": 96,
   "id": "f93a74af",
   "metadata": {},
   "outputs": [],
   "source": [
    "import pymysql\n",
    "import uuid\n",
    "import json"
   ]
  },
  {
   "cell_type": "code",
   "execution_count": 97,
   "id": "6202d934",
   "metadata": {},
   "outputs": [
    {
     "name": "stdout",
     "output_type": "stream",
     "text": [
      "Help on class Connection in module pymysql.connections:\n",
      "\n",
      "class Connection(builtins.object)\n",
      " |  Connection(*, user=None, password='', host=None, database=None, unix_socket=None, port=0, charset='', sql_mode=None, read_default_file=None, conv=None, use_unicode=True, client_flag=0, cursorclass=<class 'pymysql.cursors.Cursor'>, init_command=None, connect_timeout=10, read_default_group=None, autocommit=False, local_infile=False, max_allowed_packet=16777216, defer_connect=False, auth_plugin_map=None, read_timeout=None, write_timeout=None, bind_address=None, binary_prefix=False, program_name=None, server_public_key=None, ssl=None, ssl_ca=None, ssl_cert=None, ssl_disabled=None, ssl_key=None, ssl_verify_cert=None, ssl_verify_identity=None, compress=None, named_pipe=None, passwd=None, db=None)\n",
      " |  \n",
      " |  Representation of a socket with a mysql server.\n",
      " |  \n",
      " |  The proper way to get an instance of this class is to call\n",
      " |  connect().\n",
      " |  \n",
      " |  Establish a connection to the MySQL database. Accepts several\n",
      " |  arguments:\n",
      " |  \n",
      " |  :param host: Host where the database server is located\n",
      " |  :param user: Username to log in as\n",
      " |  :param password: Password to use.\n",
      " |  :param database: Database to use, None to not use a particular one.\n",
      " |  :param port: MySQL port to use, default is usually OK. (default: 3306)\n",
      " |  :param bind_address: When the client has multiple network interfaces, specify\n",
      " |      the interface from which to connect to the host. Argument can be\n",
      " |      a hostname or an IP address.\n",
      " |  :param unix_socket: Optionally, you can use a unix socket rather than TCP/IP.\n",
      " |  :param read_timeout: The timeout for reading from the connection in seconds (default: None - no timeout)\n",
      " |  :param write_timeout: The timeout for writing to the connection in seconds (default: None - no timeout)\n",
      " |  :param charset: Charset you want to use.\n",
      " |  :param sql_mode: Default SQL_MODE to use.\n",
      " |  :param read_default_file:\n",
      " |      Specifies  my.cnf file to read these parameters from under the [client] section.\n",
      " |  :param conv:\n",
      " |      Conversion dictionary to use instead of the default one.\n",
      " |      This is used to provide custom marshalling and unmarshalling of types.\n",
      " |      See converters.\n",
      " |  :param use_unicode:\n",
      " |      Whether or not to default to unicode strings.\n",
      " |      This option defaults to true.\n",
      " |  :param client_flag: Custom flags to send to MySQL. Find potential values in constants.CLIENT.\n",
      " |  :param cursorclass: Custom cursor class to use.\n",
      " |  :param init_command: Initial SQL statement to run when connection is established.\n",
      " |  :param connect_timeout: Timeout before throwing an exception when connecting.\n",
      " |      (default: 10, min: 1, max: 31536000)\n",
      " |  :param ssl:\n",
      " |      A dict of arguments similar to mysql_ssl_set()'s parameters.\n",
      " |  :param ssl_ca: Path to the file that contains a PEM-formatted CA certificate\n",
      " |  :param ssl_cert: Path to the file that contains a PEM-formatted client certificate\n",
      " |  :param ssl_disabled: A boolean value that disables usage of TLS\n",
      " |  :param ssl_key: Path to the file that contains a PEM-formatted private key for the client certificate\n",
      " |  :param ssl_verify_cert: Set to true to check the validity of server certificates\n",
      " |  :param ssl_verify_identity: Set to true to check the server's identity\n",
      " |  :param read_default_group: Group to read from in the configuration file.\n",
      " |  :param autocommit: Autocommit mode. None means use server default. (default: False)\n",
      " |  :param local_infile: Boolean to enable the use of LOAD DATA LOCAL command. (default: False)\n",
      " |  :param max_allowed_packet: Max size of packet sent to server in bytes. (default: 16MB)\n",
      " |      Only used to limit size of \"LOAD LOCAL INFILE\" data packet smaller than default (16KB).\n",
      " |  :param defer_connect: Don't explicitly connect on construction - wait for connect call.\n",
      " |      (default: False)\n",
      " |  :param auth_plugin_map: A dict of plugin names to a class that processes that plugin.\n",
      " |      The class will take the Connection object as the argument to the constructor.\n",
      " |      The class needs an authenticate method taking an authentication packet as\n",
      " |      an argument.  For the dialog plugin, a prompt(echo, prompt) method can be used\n",
      " |      (if no authenticate method) for returning a string from the user. (experimental)\n",
      " |  :param server_public_key: SHA256 authentication plugin public key value. (default: None)\n",
      " |  :param binary_prefix: Add _binary prefix on bytes and bytearray. (default: False)\n",
      " |  :param compress: Not supported\n",
      " |  :param named_pipe: Not supported\n",
      " |  :param db: **DEPRECATED** Alias for database.\n",
      " |  :param passwd: **DEPRECATED** Alias for password.\n",
      " |  \n",
      " |  See `Connection <https://www.python.org/dev/peps/pep-0249/#connection-objects>`_ in the\n",
      " |  specification.\n",
      " |  \n",
      " |  Methods defined here:\n",
      " |  \n",
      " |  __del__ = _force_close(self)\n",
      " |  \n",
      " |  __enter__(self)\n",
      " |  \n",
      " |  __exit__(self, *exc_info)\n",
      " |  \n",
      " |  __init__(self, *, user=None, password='', host=None, database=None, unix_socket=None, port=0, charset='', sql_mode=None, read_default_file=None, conv=None, use_unicode=True, client_flag=0, cursorclass=<class 'pymysql.cursors.Cursor'>, init_command=None, connect_timeout=10, read_default_group=None, autocommit=False, local_infile=False, max_allowed_packet=16777216, defer_connect=False, auth_plugin_map=None, read_timeout=None, write_timeout=None, bind_address=None, binary_prefix=False, program_name=None, server_public_key=None, ssl=None, ssl_ca=None, ssl_cert=None, ssl_disabled=None, ssl_key=None, ssl_verify_cert=None, ssl_verify_identity=None, compress=None, named_pipe=None, passwd=None, db=None)\n",
      " |      Initialize self.  See help(type(self)) for accurate signature.\n",
      " |  \n",
      " |  affected_rows(self)\n",
      " |  \n",
      " |  autocommit(self, value)\n",
      " |  \n",
      " |  begin(self)\n",
      " |      Begin transaction.\n",
      " |  \n",
      " |  character_set_name(self)\n",
      " |  \n",
      " |  close(self)\n",
      " |      Send the quit message and close the socket.\n",
      " |      \n",
      " |      See `Connection.close() <https://www.python.org/dev/peps/pep-0249/#Connection.close>`_\n",
      " |      in the specification.\n",
      " |      \n",
      " |      :raise Error: If the connection is already closed.\n",
      " |  \n",
      " |  commit(self)\n",
      " |      Commit changes to stable storage.\n",
      " |      \n",
      " |      See `Connection.commit() <https://www.python.org/dev/peps/pep-0249/#commit>`_\n",
      " |      in the specification.\n",
      " |  \n",
      " |  connect(self, sock=None)\n",
      " |  \n",
      " |  cursor(self, cursor=None)\n",
      " |      Create a new cursor to execute queries with.\n",
      " |      \n",
      " |      :param cursor: The type of cursor to create; one of :py:class:`Cursor`,\n",
      " |          :py:class:`SSCursor`, :py:class:`DictCursor`, or :py:class:`SSDictCursor`.\n",
      " |          None means use Cursor.\n",
      " |  \n",
      " |  escape(self, obj, mapping=None)\n",
      " |      Escape whatever value you pass to it.\n",
      " |      \n",
      " |      Non-standard, for internal use; do not use this in your applications.\n",
      " |  \n",
      " |  escape_string(self, s)\n",
      " |  \n",
      " |  get_autocommit(self)\n",
      " |  \n",
      " |  get_host_info(self)\n",
      " |  \n",
      " |  get_proto_info(self)\n",
      " |  \n",
      " |  get_server_info(self)\n",
      " |  \n",
      " |  insert_id(self)\n",
      " |  \n",
      " |  kill(self, thread_id)\n",
      " |  \n",
      " |  literal(self, obj)\n",
      " |      Alias for escape()\n",
      " |      \n",
      " |      Non-standard, for internal use; do not use this in your applications.\n",
      " |  \n",
      " |  next_result(self, unbuffered=False)\n",
      " |  \n",
      " |  ping(self, reconnect=True)\n",
      " |      Check if the server is alive.\n",
      " |      \n",
      " |      :param reconnect: If the connection is closed, reconnect.\n",
      " |      :raise Error: If the connection is closed and reconnect=False.\n",
      " |  \n",
      " |  query(self, sql, unbuffered=False)\n",
      " |      # The following methods are INTERNAL USE ONLY (called from Cursor)\n",
      " |  \n",
      " |  rollback(self)\n",
      " |      Roll back the current transaction.\n",
      " |      \n",
      " |      See `Connection.rollback() <https://www.python.org/dev/peps/pep-0249/#rollback>`_\n",
      " |      in the specification.\n",
      " |  \n",
      " |  select_db(self, db)\n",
      " |      Set current db.\n",
      " |      \n",
      " |      :param db: The name of the db.\n",
      " |  \n",
      " |  set_charset(self, charset)\n",
      " |  \n",
      " |  show_warnings(self)\n",
      " |      Send the \"SHOW WARNINGS\" SQL command.\n",
      " |  \n",
      " |  thread_id(self)\n",
      " |      # _mysql support\n",
      " |  \n",
      " |  write_packet(self, payload)\n",
      " |      Writes an entire \"mysql packet\" in its entirety to the network\n",
      " |      adding its length and sequence number.\n",
      " |  \n",
      " |  ----------------------------------------------------------------------\n",
      " |  Readonly properties defined here:\n",
      " |  \n",
      " |  open\n",
      " |      Return True if the connection is open\n",
      " |  \n",
      " |  ----------------------------------------------------------------------\n",
      " |  Data descriptors defined here:\n",
      " |  \n",
      " |  __dict__\n",
      " |      dictionary for instance variables (if defined)\n",
      " |  \n",
      " |  __weakref__\n",
      " |      list of weak references to the object (if defined)\n",
      " |  \n",
      " |  ----------------------------------------------------------------------\n",
      " |  Data and other attributes defined here:\n",
      " |  \n",
      " |  DataError = <class 'pymysql.err.DataError'>\n",
      " |      Exception raised for errors that are due to problems with the\n",
      " |      processed data like division by zero, numeric value out of range,\n",
      " |      etc.\n",
      " |  \n",
      " |  \n",
      " |  DatabaseError = <class 'pymysql.err.DatabaseError'>\n",
      " |      Exception raised for errors that are related to the\n",
      " |      database.\n",
      " |  \n",
      " |  \n",
      " |  Error = <class 'pymysql.err.Error'>\n",
      " |      Exception that is the base class of all other error exceptions\n",
      " |      (not Warning).\n",
      " |  \n",
      " |  \n",
      " |  IntegrityError = <class 'pymysql.err.IntegrityError'>\n",
      " |      Exception raised when the relational integrity of the database\n",
      " |      is affected, e.g. a foreign key check fails, duplicate key,\n",
      " |      etc.\n",
      " |  \n",
      " |  \n",
      " |  InterfaceError = <class 'pymysql.err.InterfaceError'>\n",
      " |      Exception raised for errors that are related to the database\n",
      " |      interface rather than the database itself.\n",
      " |  \n",
      " |  \n",
      " |  InternalError = <class 'pymysql.err.InternalError'>\n",
      " |      Exception raised when the database encounters an internal\n",
      " |      error, e.g. the cursor is not valid anymore, the transaction is\n",
      " |      out of sync, etc.\n",
      " |  \n",
      " |  \n",
      " |  NotSupportedError = <class 'pymysql.err.NotSupportedError'>\n",
      " |      Exception raised in case a method or database API was used\n",
      " |      which is not supported by the database, e.g. requesting a\n",
      " |      .rollback() on a connection that does not support transaction or\n",
      " |      has transactions turned off.\n",
      " |  \n",
      " |  \n",
      " |  OperationalError = <class 'pymysql.err.OperationalError'>\n",
      " |      Exception raised for errors that are related to the database's\n",
      " |      operation and not necessarily under the control of the programmer,\n",
      " |      e.g. an unexpected disconnect occurs, the data source name is not\n",
      " |      found, a transaction could not be processed, a memory allocation\n",
      " |      error occurred during processing, etc.\n",
      " |  \n",
      " |  \n",
      " |  ProgrammingError = <class 'pymysql.err.ProgrammingError'>\n",
      " |      Exception raised for programming errors, e.g. table not found\n",
      " |      or already exists, syntax error in the SQL statement, wrong number\n",
      " |      of parameters specified, etc.\n",
      " |  \n",
      " |  \n",
      " |  Warning = <class 'pymysql.err.Warning'>\n",
      " |      Exception raised for important warnings like data truncations\n",
      " |      while inserting, etc.\n",
      "\n"
     ]
    }
   ],
   "source": [
    "help(pymysql.connect)"
   ]
  },
  {
   "cell_type": "code",
   "execution_count": 98,
   "id": "6a505dc6",
   "metadata": {},
   "outputs": [],
   "source": [
    "conn = {\n",
    "    'host': 'localhost',\n",
    "    'port': 3306,\n",
    "    'user': 'alex',\n",
    "    'password': '17012011',\n",
    "    'database': 'test',\n",
    "}"
   ]
  },
  {
   "cell_type": "code",
   "execution_count": 99,
   "id": "68d14364",
   "metadata": {},
   "outputs": [],
   "source": [
    "def insert_row_to_db(key, data):\n",
    "    with pymysql.connect(**conn) as con:\n",
    "        with con.cursor() as cur:\n",
    "            cur.execute(\"insert into test.test (uid, data) values (%s, %s)\", (key, json.dumps(data)))\n",
    "            id_ = cur.lastrowid\n",
    "        con.commit()\n",
    "    return id_, key"
   ]
  },
  {
   "cell_type": "code",
   "execution_count": 7,
   "id": "5533301c",
   "metadata": {},
   "outputs": [
    {
     "data": {
      "text/plain": [
       "'cd73c9e1-788e-415c-b45a-73828821f318'"
      ]
     },
     "execution_count": 7,
     "metadata": {},
     "output_type": "execute_result"
    }
   ],
   "source": [
    "str(uuid.uuid4())"
   ]
  },
  {
   "cell_type": "code",
   "execution_count": 100,
   "id": "a801746b",
   "metadata": {},
   "outputs": [],
   "source": [
    "def mock_data():\n",
    "    return {\n",
    "        'value': random.randint(1,200)\n",
    "    }"
   ]
  },
  {
   "cell_type": "code",
   "execution_count": 107,
   "id": "dbcb9305",
   "metadata": {},
   "outputs": [
    {
     "data": {
      "text/plain": [
       "{'value': 154}"
      ]
     },
     "execution_count": 107,
     "metadata": {},
     "output_type": "execute_result"
    }
   ],
   "source": [
    "mock_data()"
   ]
  },
  {
   "cell_type": "code",
   "execution_count": 108,
   "id": "fb585c7a",
   "metadata": {},
   "outputs": [],
   "source": [
    "key = str(uuid.uuid4())\n",
    "data = mock_data()"
   ]
  },
  {
   "cell_type": "code",
   "execution_count": 109,
   "id": "8536aaff",
   "metadata": {},
   "outputs": [
    {
     "name": "stdout",
     "output_type": "stream",
     "text": [
      "CPU times: user 2.51 ms, sys: 3.88 ms, total: 6.38 ms\n",
      "Wall time: 9.38 ms\n"
     ]
    },
    {
     "data": {
      "text/plain": [
       "(1, 'b6ed0c48-8b9b-44d9-a0a4-9edfe33eaa36')"
      ]
     },
     "execution_count": 109,
     "metadata": {},
     "output_type": "execute_result"
    }
   ],
   "source": [
    "%%time\n",
    "insert_row_to_db(key, data)"
   ]
  },
  {
   "cell_type": "code",
   "execution_count": 112,
   "id": "2b1c1be6",
   "metadata": {},
   "outputs": [],
   "source": [
    "db_conn_pool = ThreadPoolExecutor(50, thread_name_prefix='db_conn')"
   ]
  },
  {
   "cell_type": "code",
   "execution_count": 114,
   "id": "ed73a74a",
   "metadata": {},
   "outputs": [
    {
     "name": "stdout",
     "output_type": "stream",
     "text": [
      "CPU times: user 13.5 s, sys: 12.9 s, total: 26.3 s\n",
      "Wall time: 17.4 s\n"
     ]
    },
    {
     "data": {
      "text/plain": [
       "(30001, '6214ade8-ebcf-4bd2-8d14-ff98216a9dbb')"
      ]
     },
     "execution_count": 114,
     "metadata": {},
     "output_type": "execute_result"
    }
   ],
   "source": [
    "%%time\n",
    "\n",
    "futures = []\n",
    "\n",
    "for i in range(10000):\n",
    "    key = str(uuid.uuid4())\n",
    "    data = mock_data()\n",
    "    f = db_conn_pool.submit(insert_row_to_db, key=key, data=data)\n",
    "    futures.append(f)\n",
    "    # insert_row_to_db(key, data)\n",
    "\n",
    "futures[-1].result()"
   ]
  },
  {
   "cell_type": "code",
   "execution_count": 136,
   "id": "9a70dbd8",
   "metadata": {},
   "outputs": [
    {
     "data": {
      "text/plain": [
       "2"
      ]
     },
     "execution_count": 136,
     "metadata": {},
     "output_type": "execute_result"
    }
   ],
   "source": [
    "1+1"
   ]
  },
  {
   "cell_type": "code",
   "execution_count": 115,
   "id": "df58533b",
   "metadata": {},
   "outputs": [
    {
     "data": {
      "text/plain": [
       "True"
      ]
     },
     "execution_count": 115,
     "metadata": {},
     "output_type": "execute_result"
    }
   ],
   "source": [
    "futures[-1].done()"
   ]
  },
  {
   "cell_type": "code",
   "execution_count": 117,
   "id": "3eb7328e",
   "metadata": {},
   "outputs": [
    {
     "data": {
      "text/plain": [
       "(29998, '71e794f3-38d5-4171-8ed3-d69ad3e94348')"
      ]
     },
     "execution_count": 117,
     "metadata": {},
     "output_type": "execute_result"
    }
   ],
   "source": [
    "futures[-2].result()"
   ]
  },
  {
   "cell_type": "code",
   "execution_count": 118,
   "id": "af302a26",
   "metadata": {},
   "outputs": [
    {
     "data": {
      "text/plain": [
       "(30001, '6214ade8-ebcf-4bd2-8d14-ff98216a9dbb')"
      ]
     },
     "execution_count": 118,
     "metadata": {},
     "output_type": "execute_result"
    }
   ],
   "source": [
    "futures[-1].result()"
   ]
  },
  {
   "cell_type": "code",
   "execution_count": 142,
   "id": "af58cc26",
   "metadata": {},
   "outputs": [
    {
     "data": {
      "text/plain": [
       "12"
      ]
     },
     "execution_count": 142,
     "metadata": {},
     "output_type": "execute_result"
    }
   ],
   "source": [
    "35008 - 34996"
   ]
  },
  {
   "cell_type": "code",
   "execution_count": 116,
   "id": "20c894dc",
   "metadata": {},
   "outputs": [
    {
     "data": {
      "text/plain": [
       "'5e3b4b57-e6b6-4d9e-86c5-622f3fd59c96'"
      ]
     },
     "execution_count": 116,
     "metadata": {},
     "output_type": "execute_result"
    }
   ],
   "source": [
    "key"
   ]
  },
  {
   "cell_type": "code",
   "execution_count": 117,
   "id": "6e62f640",
   "metadata": {},
   "outputs": [
    {
     "data": {
      "text/plain": [
       "9999"
      ]
     },
     "execution_count": 117,
     "metadata": {},
     "output_type": "execute_result"
    }
   ],
   "source": [
    "i"
   ]
  },
  {
   "cell_type": "code",
   "execution_count": 118,
   "id": "1cc6cbab",
   "metadata": {},
   "outputs": [],
   "source": [
    "f = db_conn_pool.submit(insert_row_to_db, key=key, data=data)"
   ]
  },
  {
   "cell_type": "code",
   "execution_count": 119,
   "id": "7a65c8c8",
   "metadata": {},
   "outputs": [
    {
     "data": {
      "text/plain": [
       "(25007, '5e3b4b57-e6b6-4d9e-86c5-622f3fd59c96')"
      ]
     },
     "execution_count": 119,
     "metadata": {},
     "output_type": "execute_result"
    }
   ],
   "source": [
    "# другой код\n",
    "\n",
    "inserted_data = f.result()\n",
    "inserted_data"
   ]
  },
  {
   "cell_type": "code",
   "execution_count": 163,
   "id": "6e48747a",
   "metadata": {},
   "outputs": [
    {
     "name": "stdout",
     "output_type": "stream",
     "text": [
      "Help on method shutdown in module concurrent.futures.thread:\n",
      "\n",
      "shutdown(wait=True, *, cancel_futures=False) method of concurrent.futures.thread.ThreadPoolExecutor instance\n",
      "    Clean-up the resources associated with the Executor.\n",
      "    \n",
      "    It is safe to call this method several times. Otherwise, no other\n",
      "    methods can be called after this one.\n",
      "    \n",
      "    Args:\n",
      "        wait: If True then shutdown will not return until all running\n",
      "            futures have finished executing and the resources used by the\n",
      "            executor have been reclaimed.\n",
      "        cancel_futures: If True then shutdown will cancel all pending\n",
      "            futures. Futures that are completed or running will not be\n",
      "            cancelled.\n",
      "\n"
     ]
    }
   ],
   "source": [
    "help(db_conn_pool.shutdown)"
   ]
  },
  {
   "cell_type": "code",
   "execution_count": 119,
   "id": "29cd4efc",
   "metadata": {},
   "outputs": [],
   "source": [
    "db_conn_pool.shutdown()"
   ]
  },
  {
   "cell_type": "code",
   "execution_count": null,
   "id": "60698d24",
   "metadata": {},
   "outputs": [],
   "source": []
  },
  {
   "cell_type": "code",
   "execution_count": null,
   "id": "2d31963b",
   "metadata": {},
   "outputs": [],
   "source": []
  },
  {
   "cell_type": "code",
   "execution_count": 120,
   "id": "4ae8f4ec",
   "metadata": {},
   "outputs": [],
   "source": [
    "p_pool = ProcessPoolExecutor(8)"
   ]
  },
  {
   "cell_type": "code",
   "execution_count": 121,
   "id": "eec7e478",
   "metadata": {},
   "outputs": [
    {
     "data": {
      "text/plain": [
       "['map', 'shutdown', 'submit']"
      ]
     },
     "execution_count": 121,
     "metadata": {},
     "output_type": "execute_result"
    }
   ],
   "source": [
    "[f for f in dir(p_pool) if not f.startswith('_')]"
   ]
  },
  {
   "cell_type": "code",
   "execution_count": 122,
   "id": "a0bb0223",
   "metadata": {},
   "outputs": [
    {
     "name": "stdout",
     "output_type": "stream",
     "text": [
      "Help on method submit in module concurrent.futures.process:\n",
      "\n",
      "submit(fn, /, *args, **kwargs) method of concurrent.futures.process.ProcessPoolExecutor instance\n",
      "    Submits a callable to be executed with the given arguments.\n",
      "    \n",
      "    Schedules the callable to be executed as fn(*args, **kwargs) and returns\n",
      "    a Future instance representing the execution of the callable.\n",
      "    \n",
      "    Returns:\n",
      "        A Future representing the given call.\n",
      "\n"
     ]
    }
   ],
   "source": [
    "help(p_pool.submit)"
   ]
  },
  {
   "cell_type": "code",
   "execution_count": 125,
   "id": "d60e19e3",
   "metadata": {},
   "outputs": [
    {
     "name": "stdout",
     "output_type": "stream",
     "text": [
      "Help on method map in module concurrent.futures.process:\n",
      "\n",
      "map(fn, *iterables, timeout=None, chunksize=1) method of concurrent.futures.process.ProcessPoolExecutor instance\n",
      "    Returns an iterator equivalent to map(fn, iter).\n",
      "    \n",
      "    Args:\n",
      "        fn: A callable that will take as many arguments as there are\n",
      "            passed iterables.\n",
      "        timeout: The maximum number of seconds to wait. If None, then there\n",
      "            is no limit on the wait time.\n",
      "        chunksize: If greater than one, the iterables will be chopped into\n",
      "            chunks of size chunksize and submitted to the process pool.\n",
      "            If set to one, the items in the list will be sent one at a time.\n",
      "    \n",
      "    Returns:\n",
      "        An iterator equivalent to: map(func, *iterables) but the calls may\n",
      "        be evaluated out-of-order.\n",
      "    \n",
      "    Raises:\n",
      "        TimeoutError: If the entire result iterator could not be generated\n",
      "            before the given timeout.\n",
      "        Exception: If fn(*args) raises for any values.\n",
      "\n"
     ]
    }
   ],
   "source": [
    "help(p_pool.map)"
   ]
  },
  {
   "cell_type": "code",
   "execution_count": 123,
   "id": "eb89845d",
   "metadata": {},
   "outputs": [],
   "source": [
    "def fibb(x):\n",
    "    if x in [1, 2]:\n",
    "        return 1\n",
    "    else:\n",
    "        return fibb(x-1) + fibb(x-2)"
   ]
  },
  {
   "cell_type": "code",
   "execution_count": 170,
   "id": "e54b3ba0",
   "metadata": {},
   "outputs": [
    {
     "name": "stdout",
     "output_type": "stream",
     "text": [
      "CPU times: user 18.7 s, sys: 0 ns, total: 18.7 s\n",
      "Wall time: 18.9 s\n"
     ]
    },
    {
     "data": {
      "text/plain": [
       "63245986"
      ]
     },
     "execution_count": 170,
     "metadata": {},
     "output_type": "execute_result"
    }
   ],
   "source": [
    "%%time\n",
    "fibb(39)"
   ]
  },
  {
   "cell_type": "code",
   "execution_count": 124,
   "id": "e9eed01d",
   "metadata": {},
   "outputs": [],
   "source": [
    "t_pool = ThreadPoolExecutor(8)"
   ]
  },
  {
   "cell_type": "code",
   "execution_count": 172,
   "id": "a3683de2",
   "metadata": {},
   "outputs": [
    {
     "name": "stdout",
     "output_type": "stream",
     "text": [
      "CPU times: user 1min 47s, sys: 1.4 s, total: 1min 48s\n",
      "Wall time: 1min 48s\n"
     ]
    },
    {
     "data": {
      "text/plain": [
       "63245986"
      ]
     },
     "execution_count": 172,
     "metadata": {},
     "output_type": "execute_result"
    }
   ],
   "source": [
    "%%time\n",
    "\n",
    "for i in range(5):\n",
    "    f = t_pool.submit(fibb, x=39)\n",
    "    \n",
    "f.result()"
   ]
  },
  {
   "cell_type": "code",
   "execution_count": 173,
   "id": "b041b72b",
   "metadata": {},
   "outputs": [
    {
     "name": "stdout",
     "output_type": "stream",
     "text": [
      "CPU times: user 21.3 ms, sys: 88.8 ms, total: 110 ms\n",
      "Wall time: 27.2 s\n"
     ]
    },
    {
     "data": {
      "text/plain": [
       "63245986"
      ]
     },
     "execution_count": 173,
     "metadata": {},
     "output_type": "execute_result"
    }
   ],
   "source": [
    "%%time\n",
    "\n",
    "for i in range(5):\n",
    "    f = p_pool.submit(fibb, x=39)\n",
    "    \n",
    "f.result()"
   ]
  },
  {
   "cell_type": "code",
   "execution_count": null,
   "id": "127e3ac8",
   "metadata": {},
   "outputs": [],
   "source": []
  },
  {
   "cell_type": "code",
   "execution_count": 9,
   "id": "f365e731",
   "metadata": {},
   "outputs": [],
   "source": [
    "from functools import lru_cache"
   ]
  },
  {
   "cell_type": "code",
   "execution_count": 16,
   "id": "61a2110d",
   "metadata": {},
   "outputs": [],
   "source": [
    "@lru_cache(100000)\n",
    "def fibb_m(x):\n",
    "    if x in [1, 2]:\n",
    "        return 1\n",
    "    else:\n",
    "        return fibb_m(x-1) + fibb_m(x-2)"
   ]
  },
  {
   "cell_type": "code",
   "execution_count": 20,
   "id": "7f0f979f",
   "metadata": {},
   "outputs": [
    {
     "name": "stdout",
     "output_type": "stream",
     "text": [
      "CPU times: user 7 µs, sys: 1e+03 ns, total: 8 µs\n",
      "Wall time: 10.5 µs\n"
     ]
    },
    {
     "data": {
      "text/plain": [
       "176023680645013966468226945392411250770384383304492191886725992896575345044216019675"
      ]
     },
     "execution_count": 20,
     "metadata": {},
     "output_type": "execute_result"
    }
   ],
   "source": [
    "%%time\n",
    "\n",
    "fibb_m(400)"
   ]
  },
  {
   "cell_type": "code",
   "execution_count": 182,
   "id": "3a787eb7",
   "metadata": {},
   "outputs": [
    {
     "name": "stdout",
     "output_type": "stream",
     "text": [
      "CPU times: user 9 µs, sys: 1e+03 ns, total: 10 µs\n",
      "Wall time: 14.3 µs\n"
     ]
    },
    {
     "data": {
      "text/plain": [
       "39088169"
      ]
     },
     "execution_count": 182,
     "metadata": {},
     "output_type": "execute_result"
    }
   ],
   "source": [
    "%%time\n",
    "\n",
    "fibb_m(38)"
   ]
  },
  {
   "cell_type": "code",
   "execution_count": 147,
   "id": "3ba49cc7",
   "metadata": {},
   "outputs": [
    {
     "name": "stdout",
     "output_type": "stream",
     "text": [
      "CPU times: user 7 µs, sys: 0 ns, total: 7 µs\n",
      "Wall time: 10.5 µs\n"
     ]
    },
    {
     "data": {
      "text/plain": [
       "63245986"
      ]
     },
     "execution_count": 147,
     "metadata": {},
     "output_type": "execute_result"
    }
   ],
   "source": [
    "%%time\n",
    "\n",
    "fibb_m(39)"
   ]
  },
  {
   "cell_type": "code",
   "execution_count": 148,
   "id": "97b93a71",
   "metadata": {},
   "outputs": [
    {
     "name": "stdout",
     "output_type": "stream",
     "text": [
      "CPU times: user 5 µs, sys: 1e+03 ns, total: 6 µs\n",
      "Wall time: 9.06 µs\n"
     ]
    },
    {
     "data": {
      "text/plain": [
       "39088169"
      ]
     },
     "execution_count": 148,
     "metadata": {},
     "output_type": "execute_result"
    }
   ],
   "source": [
    "%%time\n",
    "\n",
    "fibb_m(38)"
   ]
  },
  {
   "cell_type": "code",
   "execution_count": null,
   "id": "c28105e3",
   "metadata": {},
   "outputs": [],
   "source": [
    "f(2)"
   ]
  },
  {
   "cell_type": "code",
   "execution_count": 22,
   "id": "663c4629",
   "metadata": {},
   "outputs": [],
   "source": [
    "class memoize:\n",
    "    def __init__(self, func):\n",
    "        self.cache = {}\n",
    "        self.func = func\n",
    "        \n",
    "    def __call__(self, x):\n",
    "        # можно делать свои операции - обращаться за кэшем в БД, memcached, собирать запчасти из разных углов\n",
    "        try:\n",
    "            return self.cache[x]\n",
    "        except KeyError:\n",
    "            self.cache[x] = self.func(x)\n",
    "            return self.cache[x]"
   ]
  },
  {
   "cell_type": "code",
   "execution_count": 23,
   "id": "b10f38bc",
   "metadata": {},
   "outputs": [],
   "source": [
    "@memoize\n",
    "def fibb_2(x):\n",
    "    if x in [1, 2]:\n",
    "        return 1\n",
    "    else:\n",
    "        return fibb_2(x-1) + fibb_2(x-2)"
   ]
  },
  {
   "cell_type": "code",
   "execution_count": 24,
   "id": "e506656d",
   "metadata": {},
   "outputs": [
    {
     "name": "stdout",
     "output_type": "stream",
     "text": [
      "CPU times: user 132 µs, sys: 3 µs, total: 135 µs\n",
      "Wall time: 140 µs\n"
     ]
    },
    {
     "data": {
      "text/plain": [
       "2178309"
      ]
     },
     "execution_count": 24,
     "metadata": {},
     "output_type": "execute_result"
    }
   ],
   "source": [
    "%%time\n",
    "fibb_2(32)"
   ]
  },
  {
   "cell_type": "code",
   "execution_count": null,
   "id": "f25606a3",
   "metadata": {},
   "outputs": [],
   "source": [
    "help(ProcessPoolExecutor)"
   ]
  }
 ],
 "metadata": {
  "kernelspec": {
   "display_name": "Python 3 (ipykernel)",
   "language": "python",
   "name": "python3"
  },
  "language_info": {
   "codemirror_mode": {
    "name": "ipython",
    "version": 3
   },
   "file_extension": ".py",
   "mimetype": "text/x-python",
   "name": "python",
   "nbconvert_exporter": "python",
   "pygments_lexer": "ipython3",
   "version": "3.10.12"
  }
 },
 "nbformat": 4,
 "nbformat_minor": 5
}
