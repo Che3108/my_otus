{
 "cells": [
  {
   "cell_type": "code",
   "execution_count": null,
   "id": "c75526bb",
   "metadata": {},
   "outputs": [],
   "source": [
    "from pandarallel import pandarallel\n",
    "\n",
    "pandarallel.initialize(progress_bar=True)\n",
    "\n",
    "# df.apply(func)\n",
    "# df.parallel_apply(func)"
   ]
  },
  {
   "cell_type": "code",
   "execution_count": 5,
   "id": "45977282",
   "metadata": {},
   "outputs": [],
   "source": [
    "import json\n",
    "import pandas as pd\n",
    "import re\n",
    "\n",
    "import pymorphy2\n",
    "\n",
    "\n",
    "morph = pymorphy2.MorphAnalyzer()"
   ]
  },
  {
   "cell_type": "code",
   "execution_count": 6,
   "id": "1809312e",
   "metadata": {},
   "outputs": [],
   "source": [
    "with open('zozpp_base.json', 'r') as f:\n",
    "    data = json.load(f)"
   ]
  },
  {
   "cell_type": "code",
   "execution_count": 7,
   "id": "b71faddf",
   "metadata": {},
   "outputs": [],
   "source": [
    "df_data = pd.DataFrame(data)"
   ]
  },
  {
   "cell_type": "code",
   "execution_count": 8,
   "id": "245d4a57",
   "metadata": {},
   "outputs": [
    {
     "data": {
      "text/html": [
       "<div>\n",
       "<style scoped>\n",
       "    .dataframe tbody tr th:only-of-type {\n",
       "        vertical-align: middle;\n",
       "    }\n",
       "\n",
       "    .dataframe tbody tr th {\n",
       "        vertical-align: top;\n",
       "    }\n",
       "\n",
       "    .dataframe thead th {\n",
       "        text-align: right;\n",
       "    }\n",
       "</style>\n",
       "<table border=\"1\" class=\"dataframe\">\n",
       "  <thead>\n",
       "    <tr style=\"text-align: right;\">\n",
       "      <th></th>\n",
       "      <th>id</th>\n",
       "      <th>label</th>\n",
       "      <th>type</th>\n",
       "      <th>title</th>\n",
       "      <th>item_name</th>\n",
       "      <th>item_text</th>\n",
       "    </tr>\n",
       "  </thead>\n",
       "  <tbody>\n",
       "    <tr>\n",
       "      <th>0</th>\n",
       "      <td>0</td>\n",
       "      <td>zozpp_codex</td>\n",
       "      <td>paragraph</td>\n",
       "      <td>\"Уголовный кодекс Российской Федерации\" от 13....</td>\n",
       "      <td>0</td>\n",
       "      <td>\"Уголовный кодекс Российской Федерации\" от 13....</td>\n",
       "    </tr>\n",
       "    <tr>\n",
       "      <th>1</th>\n",
       "      <td>1</td>\n",
       "      <td>zozpp_codex</td>\n",
       "      <td>numeric</td>\n",
       "      <td>Постановление Правительства РФ от 21 сентября ...</td>\n",
       "      <td>1., 2., 3., 1., 2., 3., 4.</td>\n",
       "      <td>Постановление Правительства РФ от 21 сентября ...</td>\n",
       "    </tr>\n",
       "    <tr>\n",
       "      <th>2</th>\n",
       "      <td>2</td>\n",
       "      <td>zozpp_codex</td>\n",
       "      <td>numeric</td>\n",
       "      <td>Постановление Правительства РФ от 21 сентября ...</td>\n",
       "      <td>5., 6., 7.</td>\n",
       "      <td>5. Исполнитель самостоятельно определяет переч...</td>\n",
       "    </tr>\n",
       "    <tr>\n",
       "      <th>3</th>\n",
       "      <td>3</td>\n",
       "      <td>zozpp_codex</td>\n",
       "      <td>numeric</td>\n",
       "      <td>Постановление Правительства РФ от 21 сентября ...</td>\n",
       "      <td>8., 9., 10., 11.</td>\n",
       "      <td>8. Настоящие Правила и Закон Российской Федера...</td>\n",
       "    </tr>\n",
       "    <tr>\n",
       "      <th>4</th>\n",
       "      <td>4</td>\n",
       "      <td>zozpp_codex</td>\n",
       "      <td>numeric</td>\n",
       "      <td>Постановление Правительства РФ от 21 сентября ...</td>\n",
       "      <td>12., 13., 14., 15., 16., 17.</td>\n",
       "      <td>12. Информация об исполнителе и оказываемых им...</td>\n",
       "    </tr>\n",
       "    <tr>\n",
       "      <th>...</th>\n",
       "      <td>...</td>\n",
       "      <td>...</td>\n",
       "      <td>...</td>\n",
       "      <td>...</td>\n",
       "      <td>...</td>\n",
       "      <td>...</td>\n",
       "    </tr>\n",
       "    <tr>\n",
       "      <th>21943</th>\n",
       "      <td>21943</td>\n",
       "      <td>zozpp_comments</td>\n",
       "      <td>paragraph</td>\n",
       "      <td>Департамент санитарных, фитосанитарных и ветер...</td>\n",
       "      <td>74</td>\n",
       "      <td>Вместе с тем, последствия пандемии коронавирус...</td>\n",
       "    </tr>\n",
       "    <tr>\n",
       "      <th>21944</th>\n",
       "      <td>21944</td>\n",
       "      <td>zozpp_comments</td>\n",
       "      <td>paragraph</td>\n",
       "      <td>Департамент санитарных, фитосанитарных и ветер...</td>\n",
       "      <td>75</td>\n",
       "      <td>развитие внутреннего туризма в ЕАЭС: принятие ...</td>\n",
       "    </tr>\n",
       "    <tr>\n",
       "      <th>21945</th>\n",
       "      <td>21945</td>\n",
       "      <td>zozpp_comments</td>\n",
       "      <td>paragraph</td>\n",
       "      <td>Департамент санитарных, фитосанитарных и ветер...</td>\n",
       "      <td>76</td>\n",
       "      <td>30 Там же\\n31 Цифры предоставлены Министерство...</td>\n",
       "    </tr>\n",
       "    <tr>\n",
       "      <th>21946</th>\n",
       "      <td>21946</td>\n",
       "      <td>zozpp_comments</td>\n",
       "      <td>paragraph</td>\n",
       "      <td>Департамент санитарных, фитосанитарных и ветер...</td>\n",
       "      <td>77</td>\n",
       "      <td>35 Источник: Государственной программы развити...</td>\n",
       "    </tr>\n",
       "    <tr>\n",
       "      <th>21947</th>\n",
       "      <td>21947</td>\n",
       "      <td>zozpp_comments</td>\n",
       "      <td>paragraph</td>\n",
       "      <td>Департамент санитарных, фитосанитарных и ветер...</td>\n",
       "      <td>78</td>\n",
       "      <td>Число ночевок в коллективных средствах размеще...</td>\n",
       "    </tr>\n",
       "  </tbody>\n",
       "</table>\n",
       "<p>21948 rows × 6 columns</p>\n",
       "</div>"
      ],
      "text/plain": [
       "          id           label       type  \\\n",
       "0          0     zozpp_codex  paragraph   \n",
       "1          1     zozpp_codex    numeric   \n",
       "2          2     zozpp_codex    numeric   \n",
       "3          3     zozpp_codex    numeric   \n",
       "4          4     zozpp_codex    numeric   \n",
       "...      ...             ...        ...   \n",
       "21943  21943  zozpp_comments  paragraph   \n",
       "21944  21944  zozpp_comments  paragraph   \n",
       "21945  21945  zozpp_comments  paragraph   \n",
       "21946  21946  zozpp_comments  paragraph   \n",
       "21947  21947  zozpp_comments  paragraph   \n",
       "\n",
       "                                                   title  \\\n",
       "0      \"Уголовный кодекс Российской Федерации\" от 13....   \n",
       "1      Постановление Правительства РФ от 21 сентября ...   \n",
       "2      Постановление Правительства РФ от 21 сентября ...   \n",
       "3      Постановление Правительства РФ от 21 сентября ...   \n",
       "4      Постановление Правительства РФ от 21 сентября ...   \n",
       "...                                                  ...   \n",
       "21943  Департамент санитарных, фитосанитарных и ветер...   \n",
       "21944  Департамент санитарных, фитосанитарных и ветер...   \n",
       "21945  Департамент санитарных, фитосанитарных и ветер...   \n",
       "21946  Департамент санитарных, фитосанитарных и ветер...   \n",
       "21947  Департамент санитарных, фитосанитарных и ветер...   \n",
       "\n",
       "                          item_name  \\\n",
       "0                                 0   \n",
       "1        1., 2., 3., 1., 2., 3., 4.   \n",
       "2                        5., 6., 7.   \n",
       "3                  8., 9., 10., 11.   \n",
       "4      12., 13., 14., 15., 16., 17.   \n",
       "...                             ...   \n",
       "21943                            74   \n",
       "21944                            75   \n",
       "21945                            76   \n",
       "21946                            77   \n",
       "21947                            78   \n",
       "\n",
       "                                               item_text  \n",
       "0      \"Уголовный кодекс Российской Федерации\" от 13....  \n",
       "1      Постановление Правительства РФ от 21 сентября ...  \n",
       "2      5. Исполнитель самостоятельно определяет переч...  \n",
       "3      8. Настоящие Правила и Закон Российской Федера...  \n",
       "4      12. Информация об исполнителе и оказываемых им...  \n",
       "...                                                  ...  \n",
       "21943  Вместе с тем, последствия пандемии коронавирус...  \n",
       "21944  развитие внутреннего туризма в ЕАЭС: принятие ...  \n",
       "21945  30 Там же\\n31 Цифры предоставлены Министерство...  \n",
       "21946  35 Источник: Государственной программы развити...  \n",
       "21947  Число ночевок в коллективных средствах размеще...  \n",
       "\n",
       "[21948 rows x 6 columns]"
      ]
     },
     "execution_count": 8,
     "metadata": {},
     "output_type": "execute_result"
    }
   ],
   "source": [
    "df_data"
   ]
  },
  {
   "cell_type": "code",
   "execution_count": 9,
   "id": "1f660556",
   "metadata": {},
   "outputs": [
    {
     "data": {
      "text/plain": [
       "{'id': {17188: 17188},\n",
       " 'label': {17188: 'zozpp_comments'},\n",
       " 'type': {17188: 'paragraph'},\n",
       " 'title': {17188: '\"Защита прав потребителей: Учебное пособие\" (Гафарова Г.Р.) (под ред. З.М. Фаткудинова) (\"Юстицинформ\", 2018)'},\n",
       " 'item_name': {17188: '269'},\n",
       " 'item_text': {17188: '6. Соблюдение следующих требований к порядку продажи товаров по образцам:\\nв организации, осуществляющей продажу товаров по образцам, должны быть выделены помещения для демонстрации образцов предлагаемых к продаже товаров;\\nобразцы товаров, предлагаемых к продаже, должны быть выставлены в месте продажи в витринах, на прилавках, подиумах, стендах, специальных пультах, оборудование и размещение которых позволяет покупателям ознакомиться с товарами, например, при продаже комплектов (наборов) мебели в демонстрационном помещении (торговом зале) могут оформляться интерьеры, имитирующие жилые, бытовые помещения, кухни с использованием других предметов обстановки и оборудования, а также стенды с образцами тканей или отделочных материалов, применяемых для производства изделий;\\nобразцы товаров, требующие ознакомления покупателей с их устройством и действием, демонстрируются в присутствии продавца-консультанта;\\nобразцы товаров, предлагаемых к продаже, демонстрируются в собранном, технически исправном состоянии, без наружных повреждений. Изделия аудио- и видеотехники, музыкальные товары, фото- и киноаппаратура, часы, бытовая техника и другие товары, не требующие специального оборудования для подключения и пуска в эксплуатацию, демонстрируются в действующем состоянии;\\nпродавец должен осуществлять периодическое обновление выставленных образцов с учетом предупреждения потери их качества.\\n7. Договор может быть заключен в месте продажи товаров путем составления документа, подписанного сторонами, либо путем передачи покупателем сообщения о намерении приобрести товар посредством почтовой, телеграфной, телетайпной, телефонной, электронной или иной связи, позволяющей достоверно установить, что сообщение исходит от покупателя, а также в иной форме, согласованной продавцом и покупателем, при непосредственном заключении договора.\\nПредложение покупателя о пересылке товара почтовым отправлением в адрес \"До востребования\" может быть принято только с согласия продавца.'}}"
      ]
     },
     "execution_count": 9,
     "metadata": {},
     "output_type": "execute_result"
    }
   ],
   "source": [
    "df_data.sample(1).to_dict()"
   ]
  },
  {
   "cell_type": "code",
   "execution_count": 15,
   "id": "dd36ecc6",
   "metadata": {},
   "outputs": [
    {
     "data": {
      "text/plain": [
       "'электронный'"
      ]
     },
     "execution_count": 15,
     "metadata": {},
     "output_type": "execute_result"
    }
   ],
   "source": [
    "p = morph.parse('электронной')[0]\n",
    "p.normal_form"
   ]
  },
  {
   "cell_type": "code",
   "execution_count": 12,
   "id": "4beca298",
   "metadata": {},
   "outputs": [
    {
     "data": {
      "text/plain": [
       "Parse(word='кошки', tag=OpencorporaTag('NOUN,anim,femn plur,nomn'), normal_form='кошка', score=0.692307, methods_stack=((DictionaryAnalyzer(), 'кошки', 134, 7),))"
      ]
     },
     "execution_count": 12,
     "metadata": {},
     "output_type": "execute_result"
    }
   ],
   "source": [
    "p"
   ]
  },
  {
   "cell_type": "code",
   "execution_count": 13,
   "id": "e389a35a",
   "metadata": {},
   "outputs": [
    {
     "data": {
      "text/plain": [
       "'кошка'"
      ]
     },
     "execution_count": 13,
     "metadata": {},
     "output_type": "execute_result"
    }
   ],
   "source": []
  },
  {
   "cell_type": "code",
   "execution_count": 16,
   "id": "ad0a18d6",
   "metadata": {},
   "outputs": [],
   "source": [
    "def lemmatize_dummy(text):\n",
    "    tokens = re.findall('[а-яё]+', text.lower())\n",
    "    tokens = [morph.parse(t)[0].normal_form for t in tokens]\n",
    "    \n",
    "    return ' '.join(sorted(set([t for t in tokens if len(t) > 2])))"
   ]
  },
  {
   "cell_type": "code",
   "execution_count": 17,
   "id": "e97faa49",
   "metadata": {},
   "outputs": [
    {
     "data": {
      "text/plain": [
       "'банк быть включить европейский измайлов изучение информационный исследование кодекс маркетинговый международный общество общий палата принять публикация российский смотреть согласно соч торговый указ юстиция'"
      ]
     },
     "execution_count": 17,
     "metadata": {},
     "output_type": "execute_result"
    }
   ],
   "source": [
    "lemmatize_dummy('маркетинговых исследований\" включена в информационный банк согласно публикации - \"Российская юстиция\", 1999, N 12.\\nСм.: Измайлова Е.В. Указ. соч. С. 74.\\nМеждународный кодекс маркетинговых исследований (принят Международной торговой палатой и Европейским обществом по изучению обще')"
   ]
  },
  {
   "cell_type": "code",
   "execution_count": 19,
   "id": "1dfa6c7b",
   "metadata": {},
   "outputs": [],
   "source": [
    "# df_data['item_text'] = df_data['item_text'].apply(lemmatize_dummy)"
   ]
  },
  {
   "cell_type": "code",
   "execution_count": 20,
   "id": "e169494a",
   "metadata": {},
   "outputs": [
    {
     "name": "stdout",
     "output_type": "stream",
     "text": [
      "CPU times: user 35.7 s, sys: 62.9 ms, total: 35.8 s\n",
      "Wall time: 35.9 s\n"
     ]
    },
    {
     "data": {
      "text/plain": [
       "0      без безопасность более возраст вред второй выд...\n",
       "1      анализ блюдо вес вне вправе вступать гарант го...\n",
       "2      акт вид возникать выбор доступный или иметь ин...\n",
       "3      алкогольный белок блюдо быть вес винный витами...\n",
       "4      бланк блюдо бумажный весь вид вправе выбрать в...\n",
       "                             ...                        \n",
       "495    актуализация включить год документ или настоящ...\n",
       "496    включая выбор для договор документ изыскание и...\n",
       "497    аудитор вид включая выполнение добровольный до...\n",
       "498    далее декларация декларирование добровольный з...\n",
       "499    быть выдавать выдать выдача выполнение данные ...\n",
       "Name: item_text, Length: 500, dtype: object"
      ]
     },
     "execution_count": 20,
     "metadata": {},
     "output_type": "execute_result"
    }
   ],
   "source": [
    "%%time\n",
    "\n",
    "df_data['item_text'].iloc[:500].apply(lemmatize_dummy)"
   ]
  },
  {
   "cell_type": "code",
   "execution_count": null,
   "id": "664cf418",
   "metadata": {},
   "outputs": [],
   "source": []
  },
  {
   "cell_type": "markdown",
   "id": "b1d0c9bf",
   "metadata": {},
   "source": [
    "## Cache"
   ]
  },
  {
   "cell_type": "code",
   "execution_count": 23,
   "id": "e57ae88b",
   "metadata": {},
   "outputs": [],
   "source": [
    "from functools import lru_cache"
   ]
  },
  {
   "cell_type": "code",
   "execution_count": 24,
   "id": "90578ebf",
   "metadata": {},
   "outputs": [],
   "source": [
    "@lru_cache(10000)\n",
    "def lemmatize(t):\n",
    "    return morph.parse(t)[0].normal_form"
   ]
  },
  {
   "cell_type": "code",
   "execution_count": 25,
   "id": "672b23b6",
   "metadata": {},
   "outputs": [
    {
     "data": {
      "text/plain": [
       "'кошка'"
      ]
     },
     "execution_count": 25,
     "metadata": {},
     "output_type": "execute_result"
    }
   ],
   "source": [
    "lemmatize('кошки')"
   ]
  },
  {
   "cell_type": "code",
   "execution_count": 31,
   "id": "a36f4731",
   "metadata": {},
   "outputs": [],
   "source": [
    "a = iter(range(10))"
   ]
  },
  {
   "cell_type": "code",
   "execution_count": null,
   "id": "117b62c0",
   "metadata": {},
   "outputs": [],
   "source": []
  },
  {
   "cell_type": "code",
   "execution_count": 43,
   "id": "5702e652",
   "metadata": {},
   "outputs": [],
   "source": [
    "def lemmatize_text(text):\n",
    "    tokens = re.findall('[а-яё]+', text.lower())\n",
    "    tokens = set(tokens)\n",
    "    \n",
    "    tokens = (lemmatize(t) for t in tokens)\n",
    "    \n",
    "    return ' '.join(sorted((t for t in tokens if len(t) > 2)))"
   ]
  },
  {
   "cell_type": "code",
   "execution_count": 44,
   "id": "f83a7924",
   "metadata": {},
   "outputs": [
    {
     "name": "stdout",
     "output_type": "stream",
     "text": [
      "CPU times: user 2.02 s, sys: 3.29 ms, total: 2.02 s\n",
      "Wall time: 2.04 s\n"
     ]
    },
    {
     "data": {
      "text/plain": [
       "0      без безопасность более возраст вред второй выд...\n",
       "1      анализ блюдо вес вне вправе вступать гарант го...\n",
       "2      акт вид возникать выбор доступный или иметь ин...\n",
       "3      алкогольный алкогольный белок блюдо быть вес в...\n",
       "4      бланк блюдо бумажный весь вид вправе выбрать в...\n",
       "                             ...                        \n",
       "495    актуализация включить год документ или настоящ...\n",
       "496    включая выбор для договор документ изыскание и...\n",
       "497    аудитор вид включая выполнение добровольный до...\n",
       "498    далее декларация декларирование добровольный д...\n",
       "499    быть выдавать выдать выдача выполнение данные ...\n",
       "Name: item_text, Length: 500, dtype: object"
      ]
     },
     "execution_count": 44,
     "metadata": {},
     "output_type": "execute_result"
    }
   ],
   "source": [
    "%%time\n",
    "\n",
    "df_data['item_text'].iloc[:500].apply(lemmatize_text)"
   ]
  },
  {
   "cell_type": "code",
   "execution_count": 46,
   "id": "646ef373",
   "metadata": {},
   "outputs": [
    {
     "name": "stdout",
     "output_type": "stream",
     "text": [
      "CPU times: user 1min 5s, sys: 99.2 ms, total: 1min 5s\n",
      "Wall time: 1min 5s\n"
     ]
    }
   ],
   "source": [
    "%%time\n",
    "\n",
    "df_data['item_text'] = df_data['item_text'].apply(lemmatize_text)"
   ]
  },
  {
   "cell_type": "code",
   "execution_count": null,
   "id": "58dc99a2",
   "metadata": {},
   "outputs": [],
   "source": []
  },
  {
   "cell_type": "markdown",
   "id": "fabda900",
   "metadata": {},
   "source": [
    "## Pandarellel + cache"
   ]
  },
  {
   "cell_type": "code",
   "execution_count": 47,
   "id": "aae952db",
   "metadata": {},
   "outputs": [
    {
     "data": {
      "application/vnd.jupyter.widget-view+json": {
       "model_id": "948dcd0276a3416fa4e7a117ed150b19",
       "version_major": 2,
       "version_minor": 0
      },
      "text/plain": [
       "VBox(children=(HBox(children=(IntProgress(value=0, description='0.00%', max=5487), Label(value='0 / 5487'))), …"
      ]
     },
     "metadata": {},
     "output_type": "display_data"
    },
    {
     "name": "stdout",
     "output_type": "stream",
     "text": [
      "CPU times: user 578 ms, sys: 284 ms, total: 862 ms\n",
      "Wall time: 7.6 s\n"
     ]
    }
   ],
   "source": [
    "%%time\n",
    "\n",
    "df_data['item_text'] = df_data['item_text'].parallel_apply(lemmatize_text)"
   ]
  },
  {
   "cell_type": "code",
   "execution_count": null,
   "id": "9e41fc2f",
   "metadata": {},
   "outputs": [],
   "source": []
  },
  {
   "cell_type": "code",
   "execution_count": null,
   "id": "810110fe",
   "metadata": {},
   "outputs": [],
   "source": [
    "import hashlib"
   ]
  },
  {
   "cell_type": "code",
   "execution_count": null,
   "id": "0ecca42f",
   "metadata": {},
   "outputs": [],
   "source": []
  },
  {
   "cell_type": "code",
   "execution_count": null,
   "id": "979ffde2",
   "metadata": {},
   "outputs": [],
   "source": [
    "2**32"
   ]
  },
  {
   "cell_type": "code",
   "execution_count": null,
   "id": "0f482480",
   "metadata": {},
   "outputs": [],
   "source": [
    "hash('iuiuiuiuiui90909lkkluiui ui ui ') % 10000"
   ]
  },
  {
   "cell_type": "code",
   "execution_count": null,
   "id": "41735a8e",
   "metadata": {},
   "outputs": [],
   "source": []
  },
  {
   "cell_type": "code",
   "execution_count": null,
   "id": "079d0cbe",
   "metadata": {},
   "outputs": [],
   "source": [
    "222222222222222222222222222222222222222222222"
   ]
  },
  {
   "cell_type": "code",
   "execution_count": null,
   "id": "1cceb3ba",
   "metadata": {},
   "outputs": [],
   "source": [
    "'2222222222222222222222222222222222222222222222'"
   ]
  }
 ],
 "metadata": {
  "kernelspec": {
   "display_name": "Python 3 (ipykernel)",
   "language": "python",
   "name": "python3"
  },
  "language_info": {
   "codemirror_mode": {
    "name": "ipython",
    "version": 3
   },
   "file_extension": ".py",
   "mimetype": "text/x-python",
   "name": "python",
   "nbconvert_exporter": "python",
   "pygments_lexer": "ipython3",
   "version": "3.10.12"
  }
 },
 "nbformat": 4,
 "nbformat_minor": 5
}
