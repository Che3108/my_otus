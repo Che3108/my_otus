{
  "nbformat": 4,
  "nbformat_minor": 0,
  "metadata": {
    "colab": {
      "provenance": []
    },
    "kernelspec": {
      "name": "python3",
      "display_name": "Python 3"
    },
    "language_info": {
      "name": "python"
    }
  },
  "cells": [
    {
      "cell_type": "code",
      "execution_count": 1,
      "metadata": {
        "id": "ZmUrAGPeUGXD"
      },
      "outputs": [],
      "source": [
        "import numpy as np\n",
        "import pandas as pd\n",
        "\n",
        "import tensorflow as tf\n",
        "import tensorflow_probability as tfp\n",
        "tfd = tfp.distributions"
      ]
    },
    {
      "cell_type": "code",
      "source": [
        "!wget -r https://github.com/ankislyakov/data/raw/main/оценка+стоимости+квартиры.xlsx"
      ],
      "metadata": {
        "colab": {
          "base_uri": "https://localhost:8080/"
        },
        "id": "KT4LVqPZVI_F",
        "outputId": "9e63672b-f28e-412a-c4b3-769084c9be40"
      },
      "execution_count": 2,
      "outputs": [
        {
          "output_type": "stream",
          "name": "stdout",
          "text": [
            "--2024-02-09 18:26:39--  https://github.com/ankislyakov/data/raw/main/%D0%BE%D1%86%D0%B5%D0%BD%D0%BA%D0%B0+%D1%81%D1%82%D0%BE%D0%B8%D0%BC%D0%BE%D1%81%D1%82%D0%B8+%D0%BA%D0%B2%D0%B0%D1%80%D1%82%D0%B8%D1%80%D1%8B.xlsx\n",
            "Resolving github.com (github.com)... 140.82.113.3\n",
            "Connecting to github.com (github.com)|140.82.113.3|:443... connected.\n",
            "HTTP request sent, awaiting response... 302 Found\n",
            "Location: https://raw.githubusercontent.com/ankislyakov/data/main/%D0%BE%D1%86%D0%B5%D0%BD%D0%BA%D0%B0%2B%D1%81%D1%82%D0%BE%D0%B8%D0%BC%D0%BE%D1%81%D1%82%D0%B8%2B%D0%BA%D0%B2%D0%B0%D1%80%D1%82%D0%B8%D1%80%D1%8B.xlsx [following]\n",
            "--2024-02-09 18:26:39--  https://raw.githubusercontent.com/ankislyakov/data/main/%D0%BE%D1%86%D0%B5%D0%BD%D0%BA%D0%B0%2B%D1%81%D1%82%D0%BE%D0%B8%D0%BC%D0%BE%D1%81%D1%82%D0%B8%2B%D0%BA%D0%B2%D0%B0%D1%80%D1%82%D0%B8%D1%80%D1%8B.xlsx\n",
            "Resolving raw.githubusercontent.com (raw.githubusercontent.com)... 185.199.108.133, 185.199.109.133, 185.199.110.133, ...\n",
            "Connecting to raw.githubusercontent.com (raw.githubusercontent.com)|185.199.108.133|:443... connected.\n",
            "HTTP request sent, awaiting response... 200 OK\n",
            "Length: 10002 (9.8K) [application/octet-stream]\n",
            "Saving to: ‘github.com/ankislyakov/data/raw/main/оценка+стоимости+квартиры.xlsx’\n",
            "\n",
            "\r          github.co   0%[                    ]       0  --.-KB/s               \rgithub.com/ankislya 100%[===================>]   9.77K  --.-KB/s    in 0s      \n",
            "\n",
            "2024-02-09 18:26:39 (70.2 MB/s) - ‘github.com/ankislyakov/data/raw/main/оценка+стоимости+квартиры.xlsx’ saved [10002/10002]\n",
            "\n",
            "FINISHED --2024-02-09 18:26:39--\n",
            "Total wall clock time: 0.2s\n",
            "Downloaded: 1 files, 9.8K in 0s (70.2 MB/s)\n"
          ]
        }
      ]
    },
    {
      "cell_type": "code",
      "source": [
        "apart = pd.read_excel('/content/github.com/ankislyakov/data/raw/main/оценка+стоимости+квартиры.xlsx')"
      ],
      "metadata": {
        "id": "Fr17s34AV7YS"
      },
      "execution_count": 3,
      "outputs": []
    },
    {
      "cell_type": "code",
      "source": [
        "X = apart[['Стоимость 1 м2 долл.',\t'Площадь комнаты, м2',\t'Площадь кухни, м2',\t'Общая площадь, м2']].values\n",
        "y = apart['Стоимость квартиры тыс. долл.'].values"
      ],
      "metadata": {
        "id": "Smkba1RlV7pq"
      },
      "execution_count": 4,
      "outputs": []
    },
    {
      "cell_type": "code",
      "source": [
        "#X=X[None].T\n",
        "X = tf.convert_to_tensor(X, dtype=np.float32)"
      ],
      "metadata": {
        "id": "kT4r_Ioed2vU"
      },
      "execution_count": 5,
      "outputs": []
    },
    {
      "cell_type": "code",
      "source": [
        "Y = tf.convert_to_tensor(y, dtype=np.float32)"
      ],
      "metadata": {
        "id": "eGyvaq3DeQiv"
      },
      "execution_count": 6,
      "outputs": []
    },
    {
      "cell_type": "code",
      "source": [
        "Y.shape"
      ],
      "metadata": {
        "colab": {
          "base_uri": "https://localhost:8080/"
        },
        "id": "0GOnM061ImaQ",
        "outputId": "a69ca760-7e54-44d0-cd04-a2392d1ae10b"
      },
      "execution_count": 7,
      "outputs": [
        {
          "output_type": "execute_result",
          "data": {
            "text/plain": [
              "TensorShape([37])"
            ]
          },
          "metadata": {},
          "execution_count": 7
        }
      ]
    },
    {
      "cell_type": "code",
      "source": [
        "model_coefficients, linear_response, is_converged, num_iter = tfp.glm.fit(\n",
        "    model_matrix=X,\n",
        "    response=Y,\n",
        "    model=tfp.glm.Normal(),\n",
        "    )\n",
        "log_likelihood = tfp.glm.Normal().log_prob(Y, linear_response)\n",
        "\n",
        "print('is_converged: ', is_converged.numpy())\n",
        "print('    num_iter: ', num_iter.numpy())\n",
        "print('    deviance: ', 2. * np.mean(log_likelihood))"
      ],
      "metadata": {
        "colab": {
          "base_uri": "https://localhost:8080/"
        },
        "id": "g7MteFDZdw5k",
        "outputId": "77765ee5-5635-405a-a42a-54d4d47ea5d6"
      },
      "execution_count": 8,
      "outputs": [
        {
          "output_type": "stream",
          "name": "stdout",
          "text": [
            "is_converged:  True\n",
            "    num_iter:  2\n",
            "    deviance:  -4.922740459442139\n"
          ]
        }
      ]
    },
    {
      "cell_type": "code",
      "source": [
        "log_likelihood"
      ],
      "metadata": {
        "id": "ScwULqcm_8Lk",
        "outputId": "9d36a8e1-98a1-4e0c-c21d-81ff5afccf6a",
        "colab": {
          "base_uri": "https://localhost:8080/"
        }
      },
      "execution_count": 9,
      "outputs": [
        {
          "output_type": "execute_result",
          "data": {
            "text/plain": [
              "<tf.Tensor: shape=(37,), dtype=float32, numpy=\n",
              "array([-5.585732  , -5.0911074 , -1.2223079 , -0.94350606, -1.5891787 ,\n",
              "       -3.5307274 , -0.92158145, -1.5891787 , -3.5307274 , -1.5891787 ,\n",
              "       -8.818472  , -1.7553159 , -1.8005723 , -1.1355115 , -2.2551866 ,\n",
              "       -4.96539   , -0.95088375, -1.5017161 , -0.9402244 , -1.8747864 ,\n",
              "       -1.3304824 , -2.5732083 , -2.7462392 , -0.9883015 , -0.9189437 ,\n",
              "       -5.7621946 , -1.0015696 , -0.97900546, -1.484381  , -1.2087557 ,\n",
              "       -3.4120188 , -3.4120188 , -1.406369  , -3.0914836 , -1.1831179 ,\n",
              "       -1.6644064 , -6.3169193 ], dtype=float32)>"
            ]
          },
          "metadata": {},
          "execution_count": 9
        }
      ]
    },
    {
      "cell_type": "code",
      "source": [
        "model_coefficients.numpy()"
      ],
      "metadata": {
        "colab": {
          "base_uri": "https://localhost:8080/"
        },
        "id": "U5q1WyNM5mU_",
        "outputId": "34fa1a96-6dca-4ba0-f91e-6be819284025"
      },
      "execution_count": 10,
      "outputs": [
        {
          "output_type": "execute_result",
          "data": {
            "text/plain": [
              "array([ 0.02309196, -0.29639584, -1.4336418 ,  1.1260679 ], dtype=float32)"
            ]
          },
          "metadata": {},
          "execution_count": 10
        }
      ]
    },
    {
      "cell_type": "code",
      "source": [
        "linear_response.numpy()"
      ],
      "metadata": {
        "colab": {
          "base_uri": "https://localhost:8080/"
        },
        "id": "62jFcmk06X-e",
        "outputId": "2b46580b-91b5-4a56-a364-52b39d32d7a7"
      },
      "execution_count": 11,
      "outputs": [
        {
          "output_type": "execute_result",
          "data": {
            "text/plain": [
              "array([51.05509 , 54.888657, 54.778934, 54.778336, 60.15779 , 61.285515,\n",
              "       59.072704, 60.15779 , 61.285515, 60.15779 , 62.974804, 61.29335 ,\n",
              "       61.32788 , 59.34186 , 62.634777, 58.155197, 62.252766, 63.07961 ,\n",
              "       61.79367 , 60.61736 , 62.90724 , 63.81894 , 60.0883  , 62.37246 ,\n",
              "       63.503227, 61.887684, 64.593475, 65.6534  , 64.93657 , 66.23866 ,\n",
              "       64.76703 , 64.76703 , 66.01265 , 66.91551 , 69.27312 , 69.77896 ,\n",
              "       68.71428 ], dtype=float32)"
            ]
          },
          "metadata": {},
          "execution_count": 11
        }
      ]
    },
    {
      "cell_type": "code",
      "source": [
        "Y.numpy()"
      ],
      "metadata": {
        "colab": {
          "base_uri": "https://localhost:8080/"
        },
        "id": "u0kLtAyj81xX",
        "outputId": "04bfab0f-3c25-4469-e300-8e04e752cb64"
      },
      "execution_count": 12,
      "outputs": [
        {
          "output_type": "execute_result",
          "data": {
            "text/plain": [
              "array([48. , 52. , 54. , 55. , 59. , 59. , 59. , 59. , 59. , 59. , 59. ,\n",
              "       60. , 60. , 60. , 61. , 61. , 62. , 62. , 62. , 62. , 62. , 62. ,\n",
              "       62. , 62. , 63.5, 65. , 65. , 66. , 66. , 67. , 67. , 67. , 67. ,\n",
              "       69. , 70. , 71. , 72. ], dtype=float32)"
            ]
          },
          "metadata": {},
          "execution_count": 12
        }
      ]
    },
    {
      "cell_type": "code",
      "source": [
        "# ошибка аппроксимации модели\n",
        "sum(abs((linear_response.numpy()-Y.numpy())/Y.numpy()))/len(Y.numpy())"
      ],
      "metadata": {
        "colab": {
          "base_uri": "https://localhost:8080/"
        },
        "id": "SoD9Xqxb_BqG",
        "outputId": "ffc80aa3-a7cc-47f1-c752-89e086dcb54a"
      },
      "execution_count": 13,
      "outputs": [
        {
          "output_type": "execute_result",
          "data": {
            "text/plain": [
              "0.023523167498284682"
            ]
          },
          "metadata": {},
          "execution_count": 13
        }
      ]
    }
  ]
}