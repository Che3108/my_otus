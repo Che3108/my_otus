{
 "cells": [
  {
   "cell_type": "code",
   "execution_count": 1,
   "metadata": {},
   "outputs": [
    {
     "data": {
      "text/plain": [
       "2"
      ]
     },
     "execution_count": 1,
     "metadata": {},
     "output_type": "execute_result"
    }
   ],
   "source": [
    "1+1"
   ]
  },
  {
   "cell_type": "code",
   "execution_count": 8,
   "metadata": {},
   "outputs": [],
   "source": [
    "import pickle"
   ]
  },
  {
   "cell_type": "code",
   "execution_count": 9,
   "metadata": {},
   "outputs": [],
   "source": [
    "with open('test_data.pkl', 'rb') as f:\n",
    "    data = pickle.load(f)"
   ]
  },
  {
   "cell_type": "code",
   "execution_count": 10,
   "metadata": {},
   "outputs": [
    {
     "data": {
      "text/plain": [
       "{'data': array([[5.8, 4. , 1.2, 0.2],\n",
       "        [5.1, 2.5, 3. , 1.1],\n",
       "        [6.6, 3. , 4.4, 1.4],\n",
       "        [5.4, 3.9, 1.3, 0.4],\n",
       "        [7.9, 3.8, 6.4, 2. ],\n",
       "        [6.3, 3.3, 4.7, 1.6],\n",
       "        [6.9, 3.1, 5.1, 2.3],\n",
       "        [5.1, 3.8, 1.9, 0.4],\n",
       "        [4.7, 3.2, 1.6, 0.2],\n",
       "        [6.9, 3.2, 5.7, 2.3],\n",
       "        [5.6, 2.7, 4.2, 1.3],\n",
       "        [5.4, 3.9, 1.7, 0.4],\n",
       "        [7.1, 3. , 5.9, 2.1],\n",
       "        [6.4, 3.2, 4.5, 1.5],\n",
       "        [6. , 2.9, 4.5, 1.5],\n",
       "        [4.4, 3.2, 1.3, 0.2],\n",
       "        [5.8, 2.6, 4. , 1.2],\n",
       "        [5.6, 3. , 4.5, 1.5],\n",
       "        [5.4, 3.4, 1.5, 0.4],\n",
       "        [5. , 3.2, 1.2, 0.2],\n",
       "        [5.5, 2.6, 4.4, 1.2],\n",
       "        [5.4, 3. , 4.5, 1.5],\n",
       "        [6.7, 3. , 5. , 1.7],\n",
       "        [5. , 3.5, 1.3, 0.3],\n",
       "        [7.2, 3.2, 6. , 1.8],\n",
       "        [5.7, 2.8, 4.1, 1.3],\n",
       "        [5.5, 4.2, 1.4, 0.2],\n",
       "        [5.1, 3.8, 1.5, 0.3],\n",
       "        [6.1, 2.8, 4.7, 1.2],\n",
       "        [6.3, 2.5, 5. , 1.9]]),\n",
       " 'labels': array([0, 1, 1, 0, 2, 1, 2, 0, 0, 2, 1, 0, 2, 1, 1, 0, 1, 1, 0, 0, 1, 1,\n",
       "        1, 0, 2, 1, 0, 0, 1, 2])}"
      ]
     },
     "execution_count": 10,
     "metadata": {},
     "output_type": "execute_result"
    }
   ],
   "source": [
    "data"
   ]
  },
  {
   "cell_type": "code",
   "execution_count": 11,
   "metadata": {},
   "outputs": [
    {
     "data": {
      "text/plain": [
       "numpy.ndarray"
      ]
     },
     "execution_count": 11,
     "metadata": {},
     "output_type": "execute_result"
    }
   ],
   "source": [
    "type(data['data'])"
   ]
  },
  {
   "cell_type": "code",
   "execution_count": 13,
   "metadata": {},
   "outputs": [],
   "source": [
    "X_test = data['data']"
   ]
  },
  {
   "cell_type": "code",
   "execution_count": 14,
   "metadata": {},
   "outputs": [
    {
     "data": {
      "text/plain": [
       "141.70000000000002"
      ]
     },
     "execution_count": 14,
     "metadata": {},
     "output_type": "execute_result"
    }
   ],
   "source": [
    "X_test[0:10].sum()"
   ]
  },
  {
   "cell_type": "code",
   "execution_count": null,
   "metadata": {},
   "outputs": [],
   "source": []
  },
  {
   "cell_type": "code",
   "execution_count": 11,
   "metadata": {},
   "outputs": [],
   "source": [
    "with open('clr1.pkl', 'rb') as f:\n",
    "    clr1 = pickle.load(f)"
   ]
  },
  {
   "cell_type": "code",
   "execution_count": 12,
   "metadata": {},
   "outputs": [
    {
     "data": {
      "text/plain": [
       "RandomForestClassifier()"
      ]
     },
     "execution_count": 12,
     "metadata": {},
     "output_type": "execute_result"
    }
   ],
   "source": [
    "clr1"
   ]
  },
  {
   "cell_type": "code",
   "execution_count": 13,
   "metadata": {},
   "outputs": [
    {
     "data": {
      "text/plain": [
       "sklearn.ensemble._forest.RandomForestClassifier"
      ]
     },
     "execution_count": 13,
     "metadata": {},
     "output_type": "execute_result"
    }
   ],
   "source": [
    "type(clr1)"
   ]
  },
  {
   "cell_type": "code",
   "execution_count": 14,
   "metadata": {},
   "outputs": [
    {
     "data": {
      "text/plain": [
       "{'base_estimator': DecisionTreeClassifier(),\n",
       " 'n_estimators': 100,\n",
       " 'estimator_params': ('criterion',\n",
       "  'max_depth',\n",
       "  'min_samples_split',\n",
       "  'min_samples_leaf',\n",
       "  'min_weight_fraction_leaf',\n",
       "  'max_features',\n",
       "  'max_leaf_nodes',\n",
       "  'min_impurity_decrease',\n",
       "  'random_state',\n",
       "  'ccp_alpha'),\n",
       " 'bootstrap': True,\n",
       " 'oob_score': False,\n",
       " 'n_jobs': None,\n",
       " 'random_state': None,\n",
       " 'verbose': 0,\n",
       " 'warm_start': False,\n",
       " 'class_weight': None,\n",
       " 'max_samples': None,\n",
       " 'criterion': 'gini',\n",
       " 'max_depth': None,\n",
       " 'min_samples_split': 2,\n",
       " 'min_samples_leaf': 1,\n",
       " 'min_weight_fraction_leaf': 0.0,\n",
       " 'max_features': 'auto',\n",
       " 'max_leaf_nodes': None,\n",
       " 'min_impurity_decrease': 0.0,\n",
       " 'ccp_alpha': 0.0,\n",
       " 'n_features_in_': 4,\n",
       " 'n_outputs_': 1,\n",
       " 'classes_': array([0, 1, 2]),\n",
       " 'n_classes_': 3,\n",
       " 'base_estimator_': DecisionTreeClassifier(),\n",
       " 'estimators_': [DecisionTreeClassifier(max_features='auto', random_state=1939243435),\n",
       "  DecisionTreeClassifier(max_features='auto', random_state=831208608),\n",
       "  DecisionTreeClassifier(max_features='auto', random_state=1156350292),\n",
       "  DecisionTreeClassifier(max_features='auto', random_state=1223728637),\n",
       "  DecisionTreeClassifier(max_features='auto', random_state=1266331270),\n",
       "  DecisionTreeClassifier(max_features='auto', random_state=1416635560),\n",
       "  DecisionTreeClassifier(max_features='auto', random_state=984657585),\n",
       "  DecisionTreeClassifier(max_features='auto', random_state=327494773),\n",
       "  DecisionTreeClassifier(max_features='auto', random_state=1173768045),\n",
       "  DecisionTreeClassifier(max_features='auto', random_state=1122613406),\n",
       "  DecisionTreeClassifier(max_features='auto', random_state=2099416652),\n",
       "  DecisionTreeClassifier(max_features='auto', random_state=2049464825),\n",
       "  DecisionTreeClassifier(max_features='auto', random_state=418762858),\n",
       "  DecisionTreeClassifier(max_features='auto', random_state=454602527),\n",
       "  DecisionTreeClassifier(max_features='auto', random_state=1589089768),\n",
       "  DecisionTreeClassifier(max_features='auto', random_state=333510227),\n",
       "  DecisionTreeClassifier(max_features='auto', random_state=938061722),\n",
       "  DecisionTreeClassifier(max_features='auto', random_state=1337181268),\n",
       "  DecisionTreeClassifier(max_features='auto', random_state=726349872),\n",
       "  DecisionTreeClassifier(max_features='auto', random_state=1737262881),\n",
       "  DecisionTreeClassifier(max_features='auto', random_state=1355624737),\n",
       "  DecisionTreeClassifier(max_features='auto', random_state=170477087),\n",
       "  DecisionTreeClassifier(max_features='auto', random_state=274611137),\n",
       "  DecisionTreeClassifier(max_features='auto', random_state=1365648487),\n",
       "  DecisionTreeClassifier(max_features='auto', random_state=583109265),\n",
       "  DecisionTreeClassifier(max_features='auto', random_state=29684003),\n",
       "  DecisionTreeClassifier(max_features='auto', random_state=556368470),\n",
       "  DecisionTreeClassifier(max_features='auto', random_state=1940074086),\n",
       "  DecisionTreeClassifier(max_features='auto', random_state=854083813),\n",
       "  DecisionTreeClassifier(max_features='auto', random_state=760430487),\n",
       "  DecisionTreeClassifier(max_features='auto', random_state=2046706438),\n",
       "  DecisionTreeClassifier(max_features='auto', random_state=1632289003),\n",
       "  DecisionTreeClassifier(max_features='auto', random_state=776918550),\n",
       "  DecisionTreeClassifier(max_features='auto', random_state=2020519956),\n",
       "  DecisionTreeClassifier(max_features='auto', random_state=512248480),\n",
       "  DecisionTreeClassifier(max_features='auto', random_state=2119159492),\n",
       "  DecisionTreeClassifier(max_features='auto', random_state=1620626328),\n",
       "  DecisionTreeClassifier(max_features='auto', random_state=609624583),\n",
       "  DecisionTreeClassifier(max_features='auto', random_state=1697824204),\n",
       "  DecisionTreeClassifier(max_features='auto', random_state=1118162313),\n",
       "  DecisionTreeClassifier(max_features='auto', random_state=859558775),\n",
       "  DecisionTreeClassifier(max_features='auto', random_state=213844085),\n",
       "  DecisionTreeClassifier(max_features='auto', random_state=822432898),\n",
       "  DecisionTreeClassifier(max_features='auto', random_state=1065114355),\n",
       "  DecisionTreeClassifier(max_features='auto', random_state=1160863957),\n",
       "  DecisionTreeClassifier(max_features='auto', random_state=678667864),\n",
       "  DecisionTreeClassifier(max_features='auto', random_state=2116998628),\n",
       "  DecisionTreeClassifier(max_features='auto', random_state=366237972),\n",
       "  DecisionTreeClassifier(max_features='auto', random_state=451564203),\n",
       "  DecisionTreeClassifier(max_features='auto', random_state=1549139047),\n",
       "  DecisionTreeClassifier(max_features='auto', random_state=1986760725),\n",
       "  DecisionTreeClassifier(max_features='auto', random_state=1164002319),\n",
       "  DecisionTreeClassifier(max_features='auto', random_state=377501491),\n",
       "  DecisionTreeClassifier(max_features='auto', random_state=1290634016),\n",
       "  DecisionTreeClassifier(max_features='auto', random_state=1489798431),\n",
       "  DecisionTreeClassifier(max_features='auto', random_state=870635267),\n",
       "  DecisionTreeClassifier(max_features='auto', random_state=1836799495),\n",
       "  DecisionTreeClassifier(max_features='auto', random_state=1060451954),\n",
       "  DecisionTreeClassifier(max_features='auto', random_state=1636497325),\n",
       "  DecisionTreeClassifier(max_features='auto', random_state=174165234),\n",
       "  DecisionTreeClassifier(max_features='auto', random_state=982757136),\n",
       "  DecisionTreeClassifier(max_features='auto', random_state=580718063),\n",
       "  DecisionTreeClassifier(max_features='auto', random_state=1710527868),\n",
       "  DecisionTreeClassifier(max_features='auto', random_state=460706192),\n",
       "  DecisionTreeClassifier(max_features='auto', random_state=2028218122),\n",
       "  DecisionTreeClassifier(max_features='auto', random_state=1376406612),\n",
       "  DecisionTreeClassifier(max_features='auto', random_state=2000265774),\n",
       "  DecisionTreeClassifier(max_features='auto', random_state=1302528348),\n",
       "  DecisionTreeClassifier(max_features='auto', random_state=1214589491),\n",
       "  DecisionTreeClassifier(max_features='auto', random_state=784597816),\n",
       "  DecisionTreeClassifier(max_features='auto', random_state=409159005),\n",
       "  DecisionTreeClassifier(max_features='auto', random_state=1987851318),\n",
       "  DecisionTreeClassifier(max_features='auto', random_state=2048330048),\n",
       "  DecisionTreeClassifier(max_features='auto', random_state=261284417),\n",
       "  DecisionTreeClassifier(max_features='auto', random_state=1628928726),\n",
       "  DecisionTreeClassifier(max_features='auto', random_state=656922817),\n",
       "  DecisionTreeClassifier(max_features='auto', random_state=1237993336),\n",
       "  DecisionTreeClassifier(max_features='auto', random_state=1392801507),\n",
       "  DecisionTreeClassifier(max_features='auto', random_state=364819438),\n",
       "  DecisionTreeClassifier(max_features='auto', random_state=2130767269),\n",
       "  DecisionTreeClassifier(max_features='auto', random_state=1185604520),\n",
       "  DecisionTreeClassifier(max_features='auto', random_state=1063667984),\n",
       "  DecisionTreeClassifier(max_features='auto', random_state=780494229),\n",
       "  DecisionTreeClassifier(max_features='auto', random_state=1381231424),\n",
       "  DecisionTreeClassifier(max_features='auto', random_state=2056205590),\n",
       "  DecisionTreeClassifier(max_features='auto', random_state=12602805),\n",
       "  DecisionTreeClassifier(max_features='auto', random_state=2132272763),\n",
       "  DecisionTreeClassifier(max_features='auto', random_state=50451279),\n",
       "  DecisionTreeClassifier(max_features='auto', random_state=139418625),\n",
       "  DecisionTreeClassifier(max_features='auto', random_state=975699447),\n",
       "  DecisionTreeClassifier(max_features='auto', random_state=1861429213),\n",
       "  DecisionTreeClassifier(max_features='auto', random_state=769176425),\n",
       "  DecisionTreeClassifier(max_features='auto', random_state=519780925),\n",
       "  DecisionTreeClassifier(max_features='auto', random_state=854315038),\n",
       "  DecisionTreeClassifier(max_features='auto', random_state=1295874481),\n",
       "  DecisionTreeClassifier(max_features='auto', random_state=1252925607),\n",
       "  DecisionTreeClassifier(max_features='auto', random_state=1571026682),\n",
       "  DecisionTreeClassifier(max_features='auto', random_state=1750959036),\n",
       "  DecisionTreeClassifier(max_features='auto', random_state=84276779),\n",
       "  DecisionTreeClassifier(max_features='auto', random_state=743214913)]}"
      ]
     },
     "execution_count": 14,
     "metadata": {},
     "output_type": "execute_result"
    }
   ],
   "source": [
    "vars(clr1)"
   ]
  },
  {
   "cell_type": "code",
   "execution_count": 15,
   "metadata": {},
   "outputs": [
    {
     "data": {
      "text/plain": [
       "array([[0.96, 0.04, 0.  ],\n",
       "       [0.  , 0.98, 0.02],\n",
       "       [0.  , 1.  , 0.  ],\n",
       "       [1.  , 0.  , 0.  ],\n",
       "       [0.  , 0.01, 0.99],\n",
       "       [0.  , 0.91, 0.09],\n",
       "       [0.  , 0.04, 0.96],\n",
       "       [1.  , 0.  , 0.  ],\n",
       "       [1.  , 0.  , 0.  ],\n",
       "       [0.  , 0.  , 1.  ],\n",
       "       [0.  , 1.  , 0.  ],\n",
       "       [1.  , 0.  , 0.  ],\n",
       "       [0.  , 0.  , 1.  ],\n",
       "       [0.  , 1.  , 0.  ],\n",
       "       [0.  , 0.99, 0.01],\n",
       "       [1.  , 0.  , 0.  ],\n",
       "       [0.  , 0.98, 0.02],\n",
       "       [0.  , 0.99, 0.01],\n",
       "       [1.  , 0.  , 0.  ],\n",
       "       [1.  , 0.  , 0.  ],\n",
       "       [0.  , 0.97, 0.03],\n",
       "       [0.05, 0.87, 0.08],\n",
       "       [0.  , 0.05, 0.95],\n",
       "       [1.  , 0.  , 0.  ],\n",
       "       [0.  , 0.05, 0.95],\n",
       "       [0.  , 1.  , 0.  ],\n",
       "       [0.98, 0.02, 0.  ],\n",
       "       [1.  , 0.  , 0.  ],\n",
       "       [0.  , 1.  , 0.  ],\n",
       "       [0.  , 0.07, 0.93]])"
      ]
     },
     "execution_count": 15,
     "metadata": {},
     "output_type": "execute_result"
    }
   ],
   "source": [
    "clr1.predict_proba(X_test)"
   ]
  },
  {
   "cell_type": "code",
   "execution_count": 16,
   "metadata": {},
   "outputs": [
    {
     "data": {
      "text/plain": [
       "array([0, 1, 1, 0, 2, 1, 2, 0, 0, 2, 1, 0, 2, 1, 1, 0, 1, 1, 0, 0, 1, 1,\n",
       "       2, 0, 2, 1, 0, 0, 1, 2])"
      ]
     },
     "execution_count": 16,
     "metadata": {},
     "output_type": "execute_result"
    }
   ],
   "source": [
    "clr1.predict(X_test)"
   ]
  },
  {
   "cell_type": "code",
   "execution_count": 17,
   "metadata": {},
   "outputs": [
    {
     "data": {
      "text/plain": [
       "dtype('float64')"
      ]
     },
     "execution_count": 17,
     "metadata": {},
     "output_type": "execute_result"
    }
   ],
   "source": [
    "X_test.dtype"
   ]
  },
  {
   "cell_type": "code",
   "execution_count": 18,
   "metadata": {},
   "outputs": [
    {
     "data": {
      "text/plain": [
       "(30, 4)"
      ]
     },
     "execution_count": 18,
     "metadata": {},
     "output_type": "execute_result"
    }
   ],
   "source": [
    "X_test.shape"
   ]
  },
  {
   "cell_type": "code",
   "execution_count": 16,
   "metadata": {},
   "outputs": [],
   "source": [
    "# ! python3 -m pip install onnxruntime"
   ]
  },
  {
   "cell_type": "code",
   "execution_count": 3,
   "metadata": {},
   "outputs": [],
   "source": [
    "import onnxruntime as rt"
   ]
  },
  {
   "cell_type": "code",
   "execution_count": 4,
   "metadata": {},
   "outputs": [],
   "source": [
    "sess = rt.InferenceSession(\"rf_iris.onnx\", providers=[\"CPUExecutionProvider\"])"
   ]
  },
  {
   "cell_type": "code",
   "execution_count": 15,
   "metadata": {},
   "outputs": [
    {
     "data": {
      "text/plain": [
       "dtype('float64')"
      ]
     },
     "execution_count": 15,
     "metadata": {},
     "output_type": "execute_result"
    }
   ],
   "source": [
    "X_test.dtype"
   ]
  },
  {
   "cell_type": "code",
   "execution_count": 17,
   "metadata": {},
   "outputs": [],
   "source": [
    "input_name = sess.get_inputs()[0].name\n",
    "label_name = sess.get_outputs()[0].name\n",
    "prob_name = sess.get_outputs()[1].name"
   ]
  },
  {
   "cell_type": "code",
   "execution_count": 18,
   "metadata": {},
   "outputs": [
    {
     "data": {
      "text/plain": [
       "('float_input', 'output_label', 'output_probability')"
      ]
     },
     "execution_count": 18,
     "metadata": {},
     "output_type": "execute_result"
    }
   ],
   "source": [
    "input_name, label_name, prob_name"
   ]
  },
  {
   "cell_type": "code",
   "execution_count": null,
   "metadata": {},
   "outputs": [],
   "source": []
  },
  {
   "cell_type": "code",
   "execution_count": 19,
   "metadata": {},
   "outputs": [],
   "source": [
    "pred_onx = sess.run([label_name], {input_name: X_test})[0]"
   ]
  },
  {
   "cell_type": "code",
   "execution_count": 20,
   "metadata": {},
   "outputs": [
    {
     "data": {
      "text/plain": [
       "array([0, 1, 1, 0, 2, 1, 2, 0, 0, 2, 1, 0, 2, 1, 1, 0, 1, 1, 0, 0, 1, 1,\n",
       "       2, 0, 2, 1, 0, 0, 1, 2], dtype=int64)"
      ]
     },
     "execution_count": 20,
     "metadata": {},
     "output_type": "execute_result"
    }
   ],
   "source": [
    "pred_onx"
   ]
  },
  {
   "cell_type": "code",
   "execution_count": 21,
   "metadata": {},
   "outputs": [],
   "source": [
    "pred_onx_prob = sess.run([prob_name], {input_name: X_test})[0]"
   ]
  },
  {
   "cell_type": "code",
   "execution_count": 22,
   "metadata": {},
   "outputs": [
    {
     "data": {
      "text/plain": [
       "[{0: 0.9599999785423279, 1: 0.03999999910593033, 2: 0.0},\n",
       " {0: 0.009999999776482582, 1: 0.9799999594688416, 2: 0.009999999776482582},\n",
       " {0: 0.0, 1: 1.0, 2: 0.0},\n",
       " {0: 1.0, 1: 0.0, 2: 0.0},\n",
       " {0: 0.0, 1: 0.029999999329447746, 2: 0.9699999690055847},\n",
       " {0: 0.0, 1: 0.8799999952316284, 2: 0.11999999731779099},\n",
       " {0: 0.0, 1: 0.009999999776482582, 2: 0.9899999499320984},\n",
       " {0: 1.0, 1: 0.0, 2: 0.0},\n",
       " {0: 1.0, 1: 0.0, 2: 0.0},\n",
       " {0: 0.0, 1: 0.009999999776482582, 2: 0.9899999499320984},\n",
       " {0: 0.0, 1: 1.0, 2: 0.0},\n",
       " {0: 1.0, 1: 0.0, 2: 0.0},\n",
       " {0: 0.0, 1: 0.0, 2: 1.0},\n",
       " {0: 0.0, 1: 0.9799999594688416, 2: 0.019999999552965164},\n",
       " {0: 0.0, 1: 0.9899999499320984, 2: 0.009999999776482582},\n",
       " {0: 1.0, 1: 0.0, 2: 0.0},\n",
       " {0: 0.0, 1: 1.0, 2: 0.0},\n",
       " {0: 0.0, 1: 0.9899999499320984, 2: 0.009999999776482582},\n",
       " {0: 0.9899999499320984, 1: 0.009999999776482582, 2: 0.0},\n",
       " {0: 1.0, 1: 0.0, 2: 0.0},\n",
       " {0: 0.0, 1: 0.9899999499320984, 2: 0.009999999776482582},\n",
       " {0: 0.03999999910593033, 1: 0.8700000047683716, 2: 0.08999999612569809},\n",
       " {0: 0.0, 1: 0.029999999329447746, 2: 0.9699999690055847},\n",
       " {0: 1.0, 1: 0.0, 2: 0.0},\n",
       " {0: 0.0, 1: 0.10999999940395355, 2: 0.8899999856948853},\n",
       " {0: 0.0, 1: 1.0, 2: 0.0},\n",
       " {0: 0.9899999499320984, 1: 0.009999999776482582, 2: 0.0},\n",
       " {0: 1.0, 1: 0.0, 2: 0.0},\n",
       " {0: 0.0, 1: 0.9899999499320984, 2: 0.009999999776482582},\n",
       " {0: 0.0, 1: 0.03999999910593033, 2: 0.9599999785423279}]"
      ]
     },
     "execution_count": 22,
     "metadata": {},
     "output_type": "execute_result"
    }
   ],
   "source": [
    "pred_onx_prob"
   ]
  },
  {
   "cell_type": "code",
   "execution_count": null,
   "metadata": {},
   "outputs": [],
   "source": []
  }
 ],
 "metadata": {
  "kernelspec": {
   "display_name": "Python 3 (ipykernel)",
   "language": "python",
   "name": "python3"
  },
  "language_info": {
   "codemirror_mode": {
    "name": "ipython",
    "version": 3
   },
   "file_extension": ".py",
   "mimetype": "text/x-python",
   "name": "python",
   "nbconvert_exporter": "python",
   "pygments_lexer": "ipython3",
   "version": "3.10.12"
  }
 },
 "nbformat": 4,
 "nbformat_minor": 4
}
