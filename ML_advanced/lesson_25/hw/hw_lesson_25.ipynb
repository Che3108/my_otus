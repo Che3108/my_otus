{
 "cells": [
  {
   "cell_type": "markdown",
   "metadata": {},
   "source": [
    "<b>Домашнее задание</b><br>\n",
    "Постройте posterior predictive distribution для эксперимента с подбрасываем монеты.\n",
    "\n",
    "\n",
    "<b>Описание/Пошаговая инструкция выполнения домашнего задания:</b><br>\n",
    "Мы можем использовать апостериорное прогнозируемое распределение для предсказания того, что произойдет, если мы снова подбросим ту же монету.\n",
    "Используйте sample_posterior_predictive для генерации выборки k, а затем используйте sns.hist для построения графика апостериорного предсказательного распределения.\n",
    "\n",
    "\n",
    "<b>Критерии оценки:</b><br>\n",
    "Построена гистограмма posterior predictive distribution."
   ]
  },
  {
   "cell_type": "code",
   "execution_count": 1,
   "metadata": {},
   "outputs": [],
   "source": [
    "# библиотеки\n",
    "import numpy as np\n",
    "import pymc as pm\n",
    "from scipy.stats import bernoulli\n",
    "import pytensor.tensor as pt\n",
    "import matplotlib.pyplot as plt\n",
    "import seaborn as sns"
   ]
  },
  {
   "cell_type": "markdown",
   "metadata": {},
   "source": [
    "<b> Генерация случайной выборки </b>"
   ]
  },
  {
   "cell_type": "code",
   "execution_count": 2,
   "metadata": {},
   "outputs": [
    {
     "name": "stdout",
     "output_type": "stream",
     "text": [
      "Всего бросков: 20\n",
      "Орел: 6\n",
      "Решка: 14\n"
     ]
    }
   ],
   "source": [
    "# фиксируем случайность\n",
    "np.random.seed(123)\n",
    "\n",
    "# количество бросков\n",
    "n_sample = 20\n",
    "\n",
    "# задаем вероятноть выпадения орла \n",
    "theta_real = 0.42\n",
    "\n",
    "data = bernoulli.rvs(p=theta_real, size=n_sample)\n",
    "\n",
    "print(f'Всего бросков: {data.shape[0]}')\n",
    "print(f'Орел: {data[data==1].shape[0]}')\n",
    "print(f'Решка: {data[data==0].shape[0]}')"
   ]
  },
  {
   "cell_type": "code",
   "execution_count": 3,
   "metadata": {},
   "outputs": [
    {
     "name": "stderr",
     "output_type": "stream",
     "text": [
      "Only 10 samples per chain. Reliable r-hat and ESS diagnostics require longer chains for accurate estimate.\n"
     ]
    },
    {
     "name": "stderr",
     "output_type": "stream",
     "text": [
      "Auto-assigning NUTS sampler...\n",
      "Initializing NUTS using jitter+adapt_diag...\n",
      "Multiprocess sampling (2 chains in 4 jobs)\n",
      "NUTS: [p]\n"
     ]
    },
    {
     "data": {
      "application/vnd.jupyter.widget-view+json": {
       "model_id": "966fc9e88abe499f9891298ee2bf7354",
       "version_major": 2,
       "version_minor": 0
      },
      "text/plain": [
       "Output()"
      ]
     },
     "metadata": {},
     "output_type": "display_data"
    }
   ],
   "source": [
    "with pm.Model() as coin_flipping:\n",
    "    # создадим likelihood\n",
    "    p = pm.Beta('p', alpha=1, beta=1)\n",
    "    pm.Bernoulli('y', p=p, observed=data)\n",
    "\n",
    "    # генерируем варианты\n",
    "    trace = pm.sample(10000, random_seed=123, chains=8, progressbar=True)\n",
    "\n",
    "    # Выбираем подходящие варианты на звание posterior\n",
    "    post_pred = pm.sample_posterior_predictive(\n",
    "        trace,\n",
    "        progressbar=True,\n",
    "        predictions=True,\n",
    "        random_seed=123)"
   ]
  },
  {
   "cell_type": "code",
   "execution_count": null,
   "metadata": {},
   "outputs": [],
   "source": [
    "post_pred.predictions['y']"
   ]
  },
  {
   "cell_type": "code",
   "execution_count": null,
   "metadata": {},
   "outputs": [],
   "source": [
    "sns.histplot(post_pred.predictions['y'][0])"
   ]
  }
 ],
 "metadata": {
  "kernelspec": {
   "display_name": "venv",
   "language": "python",
   "name": "python3"
  },
  "language_info": {
   "codemirror_mode": {
    "name": "ipython",
    "version": 3
   },
   "file_extension": ".py",
   "mimetype": "text/x-python",
   "name": "python",
   "nbconvert_exporter": "python",
   "pygments_lexer": "ipython3",
   "version": "3.11.8"
  }
 },
 "nbformat": 4,
 "nbformat_minor": 2
}
