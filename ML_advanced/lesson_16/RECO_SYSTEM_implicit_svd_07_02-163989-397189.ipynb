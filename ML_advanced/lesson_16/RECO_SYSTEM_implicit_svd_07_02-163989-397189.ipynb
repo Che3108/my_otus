{
  "nbformat": 4,
  "nbformat_minor": 0,
  "metadata": {
    "kernelspec": {
      "display_name": "Python 3",
      "language": "python",
      "name": "python3"
    },
    "language_info": {
      "codemirror_mode": {
        "name": "ipython",
        "version": 3
      },
      "file_extension": ".py",
      "mimetype": "text/x-python",
      "name": "python",
      "nbconvert_exporter": "python",
      "pygments_lexer": "ipython3",
      "version": "3.6.4"
    },
    "colab": {
      "provenance": []
    }
  },
  "cells": [
    {
      "cell_type": "markdown",
      "metadata": {
        "id": "HogNqKeBGUg-"
      },
      "source": [
        "# Рекомендательные системы\n",
        "\n",
        "## Collaborative Filtering\n",
        "\n",
        "Этот подход основан на отношениях между пользователями и предметами, при этом нет никакой информации о пользователях или необходимых предметах.\n",
        "\n",
        "Все, что вам нужно, - это какой-то рейтинг для каждого взаимодействия между пользователями и элементами, которое произошло там, где это возможно. Для этого типа взаимодействия доступны два вида данных: явные и неявные. \n",
        "\n",
        "- Явные: Оценка, например, рейтинг.\n",
        "- Неявно: Не так очевидно с точки зрения предпочтений, такие как клик, просмотр или покупка.\n",
        "\n",
        "Наиболее часто обсуждаемый пример - рейтинги фильмов, которые даются по числовой шкале. Мы можем легко увидеть, понравился ли пользователю фильм на основе предоставленного рейтинга. Проблема, однако, в том, что в большинстве случаев люди вообще не предоставляют рейтинги, поэтому объем доступных данных весьма скуден. Netflix, по крайней мере, знает, смотрел ли я что-то, что не требует дополнительного ввода с моей стороны. Может быть так, что я что-то посмотрел, но потом мне это не понравилось. Таким образом, может быть сложнее сделать вывод, следует ли считать этот тип фильмов положительной рекомендацией или нет.\n",
        "\n",
        "Поскольку больше данных обычно означает лучшую модель, подразумеваемая обратная связь - это то, на чем должны быть сконцентрированы наши усилия. \n",
        "\n",
        "\n",
        "## Singular Value Decomposition\n",
        "\n",
        "Прежде чем мы начнем строить свою собственную систему рекомендаций на примере проблемы, давайте попробуем понять интуцию, как этот метод работает. Совместная фильтрация не требует никакой информации о пользователях или элементах. Есть ли другой способ выяснить, как пользователи и элементы связаны друг с другом? \n",
        "\n",
        "Оказывается, можно, если применить матричную факторизацию. Часто матричная факторизация применяется в области уменьшения размерности, где мы пытаемся уменьшить количество элементов, сохраняя при этом соответствующую информацию. Так обстоит дело с [основным компонентным анализом](https://en.wikipedia.org/wiki/Principal_component_analysis) (PCA) и очень похожим [разложение по сингулярному значению](https://en.wikipedia.org/wiki/Singular_value_decomposition) (SVD). \n",
        "\n",
        "##  Пример\n",
        "\n",
        "Представим, что у нас есть небольшой онлайн-кинотеатр и мы хотим, чтобы пользователи были довольны и смотрели фильмы у нас, а не на других ресурсах. Создадим небольшую матрицу рейтингов наших фильмов, на основании оценок пользователей."
      ]
    },
    {
      "cell_type": "code",
      "metadata": {
        "id": "7_YX4SOKGUhA"
      },
      "source": [
        "import numpy as np\n",
        "import matplotlib.pyplot as plt\n",
        "import pandas as pd\n",
        "%matplotlib inline"
      ],
      "execution_count": 1,
      "outputs": []
    },
    {
      "cell_type": "code",
      "metadata": {
        "id": "oTOfUMGiGUhB",
        "colab": {
          "base_uri": "https://localhost:8080/"
        },
        "outputId": "ee4c0fb6-8c1b-4e2e-8fdb-f6c3651d25c9"
      },
      "source": [
        "#Названия фильмов\n",
        "f = ['Терминатор', 'Робокоп', 'Рэмбо', 'Джеймс Бонд','Властелин Колец', 'Хоббит', 'Гарри Поттер', \n",
        "     'Американский Пирог', 'Мальчишник в Вегасе', 'Мстители', 'Супермен'] \n",
        "len(f)"
      ],
      "execution_count": 2,
      "outputs": [
        {
          "output_type": "execute_result",
          "data": {
            "text/plain": [
              "11"
            ]
          },
          "metadata": {},
          "execution_count": 2
        }
      ]
    },
    {
      "cell_type": "code",
      "metadata": {
        "id": "t12Gpk_WGUhB",
        "colab": {
          "base_uri": "https://localhost:8080/"
        },
        "outputId": "434f8108-8e12-426a-a52e-cc9df6eef030"
      },
      "source": [
        "#Наши пользователи\n",
        "u = ['Вася','Петя','Саша','Женя','Маша','Оля','Лена','Ваня','Ира']\n",
        "len(u)"
      ],
      "execution_count": 3,
      "outputs": [
        {
          "output_type": "execute_result",
          "data": {
            "text/plain": [
              "9"
            ]
          },
          "metadata": {},
          "execution_count": 3
        }
      ]
    },
    {
      "cell_type": "code",
      "metadata": {
        "id": "-Q5nqEyGGUhB"
      },
      "source": [
        "#Рейтинг фильмов от пользователей. 0 - значит фильм не был просмотрен.\n",
        "fu = np.array([[9,0,0,6,4,3,5,7,8,6,5],\n",
        "              [0,0,0,8,10,0,8,5,6,2,0],\n",
        "              [8,0,5,7,4,0,5,7,8,8,5],\n",
        "              [5,2,0,4,10,0,9,5,0,0,0],\n",
        "              [0,0,2,5,7,0,0,9,0,4,0],\n",
        "              [2,3,0,0,0,7,9,0,5,0,3],\n",
        "              [5,0,3,8,8,0,0,7,0,2,4],\n",
        "              [8,7,0,6,5,4,0,8,0,10,0],\n",
        "              [0,0,2,5,10,0,0,0,9,0,3]])"
      ],
      "execution_count": 4,
      "outputs": []
    },
    {
      "cell_type": "code",
      "metadata": {
        "id": "pUR2OzxFGUhC"
      },
      "source": [
        "#Сделаем датафрейм из f,u и fu.\n",
        "R = pd.DataFrame(fu,u,f)"
      ],
      "execution_count": 5,
      "outputs": []
    },
    {
      "cell_type": "code",
      "metadata": {
        "id": "ytC23KfdGUhC",
        "colab": {
          "base_uri": "https://localhost:8080/",
          "height": 332
        },
        "outputId": "d84432e4-40fc-4d62-95be-7e09bcf0c024"
      },
      "source": [
        "R"
      ],
      "execution_count": 6,
      "outputs": [
        {
          "output_type": "execute_result",
          "data": {
            "text/plain": [
              "      Терминатор  Робокоп  Рэмбо  Джеймс Бонд  Властелин Колец  Хоббит  \\\n",
              "Вася           9        0      0            6                4       3   \n",
              "Петя           0        0      0            8               10       0   \n",
              "Саша           8        0      5            7                4       0   \n",
              "Женя           5        2      0            4               10       0   \n",
              "Маша           0        0      2            5                7       0   \n",
              "Оля            2        3      0            0                0       7   \n",
              "Лена           5        0      3            8                8       0   \n",
              "Ваня           8        7      0            6                5       4   \n",
              "Ира            0        0      2            5               10       0   \n",
              "\n",
              "      Гарри Поттер  Американский Пирог  Мальчишник в Вегасе  Мстители  \\\n",
              "Вася             5                   7                    8         6   \n",
              "Петя             8                   5                    6         2   \n",
              "Саша             5                   7                    8         8   \n",
              "Женя             9                   5                    0         0   \n",
              "Маша             0                   9                    0         4   \n",
              "Оля              9                   0                    5         0   \n",
              "Лена             0                   7                    0         2   \n",
              "Ваня             0                   8                    0        10   \n",
              "Ира              0                   0                    9         0   \n",
              "\n",
              "      Супермен  \n",
              "Вася         5  \n",
              "Петя         0  \n",
              "Саша         5  \n",
              "Женя         0  \n",
              "Маша         0  \n",
              "Оля          3  \n",
              "Лена         4  \n",
              "Ваня         0  \n",
              "Ира          3  "
            ],
            "text/html": [
              "\n",
              "  <div id=\"df-21102d8d-7b10-4053-8d74-d808746610e5\">\n",
              "    <div class=\"colab-df-container\">\n",
              "      <div>\n",
              "<style scoped>\n",
              "    .dataframe tbody tr th:only-of-type {\n",
              "        vertical-align: middle;\n",
              "    }\n",
              "\n",
              "    .dataframe tbody tr th {\n",
              "        vertical-align: top;\n",
              "    }\n",
              "\n",
              "    .dataframe thead th {\n",
              "        text-align: right;\n",
              "    }\n",
              "</style>\n",
              "<table border=\"1\" class=\"dataframe\">\n",
              "  <thead>\n",
              "    <tr style=\"text-align: right;\">\n",
              "      <th></th>\n",
              "      <th>Терминатор</th>\n",
              "      <th>Робокоп</th>\n",
              "      <th>Рэмбо</th>\n",
              "      <th>Джеймс Бонд</th>\n",
              "      <th>Властелин Колец</th>\n",
              "      <th>Хоббит</th>\n",
              "      <th>Гарри Поттер</th>\n",
              "      <th>Американский Пирог</th>\n",
              "      <th>Мальчишник в Вегасе</th>\n",
              "      <th>Мстители</th>\n",
              "      <th>Супермен</th>\n",
              "    </tr>\n",
              "  </thead>\n",
              "  <tbody>\n",
              "    <tr>\n",
              "      <th>Вася</th>\n",
              "      <td>9</td>\n",
              "      <td>0</td>\n",
              "      <td>0</td>\n",
              "      <td>6</td>\n",
              "      <td>4</td>\n",
              "      <td>3</td>\n",
              "      <td>5</td>\n",
              "      <td>7</td>\n",
              "      <td>8</td>\n",
              "      <td>6</td>\n",
              "      <td>5</td>\n",
              "    </tr>\n",
              "    <tr>\n",
              "      <th>Петя</th>\n",
              "      <td>0</td>\n",
              "      <td>0</td>\n",
              "      <td>0</td>\n",
              "      <td>8</td>\n",
              "      <td>10</td>\n",
              "      <td>0</td>\n",
              "      <td>8</td>\n",
              "      <td>5</td>\n",
              "      <td>6</td>\n",
              "      <td>2</td>\n",
              "      <td>0</td>\n",
              "    </tr>\n",
              "    <tr>\n",
              "      <th>Саша</th>\n",
              "      <td>8</td>\n",
              "      <td>0</td>\n",
              "      <td>5</td>\n",
              "      <td>7</td>\n",
              "      <td>4</td>\n",
              "      <td>0</td>\n",
              "      <td>5</td>\n",
              "      <td>7</td>\n",
              "      <td>8</td>\n",
              "      <td>8</td>\n",
              "      <td>5</td>\n",
              "    </tr>\n",
              "    <tr>\n",
              "      <th>Женя</th>\n",
              "      <td>5</td>\n",
              "      <td>2</td>\n",
              "      <td>0</td>\n",
              "      <td>4</td>\n",
              "      <td>10</td>\n",
              "      <td>0</td>\n",
              "      <td>9</td>\n",
              "      <td>5</td>\n",
              "      <td>0</td>\n",
              "      <td>0</td>\n",
              "      <td>0</td>\n",
              "    </tr>\n",
              "    <tr>\n",
              "      <th>Маша</th>\n",
              "      <td>0</td>\n",
              "      <td>0</td>\n",
              "      <td>2</td>\n",
              "      <td>5</td>\n",
              "      <td>7</td>\n",
              "      <td>0</td>\n",
              "      <td>0</td>\n",
              "      <td>9</td>\n",
              "      <td>0</td>\n",
              "      <td>4</td>\n",
              "      <td>0</td>\n",
              "    </tr>\n",
              "    <tr>\n",
              "      <th>Оля</th>\n",
              "      <td>2</td>\n",
              "      <td>3</td>\n",
              "      <td>0</td>\n",
              "      <td>0</td>\n",
              "      <td>0</td>\n",
              "      <td>7</td>\n",
              "      <td>9</td>\n",
              "      <td>0</td>\n",
              "      <td>5</td>\n",
              "      <td>0</td>\n",
              "      <td>3</td>\n",
              "    </tr>\n",
              "    <tr>\n",
              "      <th>Лена</th>\n",
              "      <td>5</td>\n",
              "      <td>0</td>\n",
              "      <td>3</td>\n",
              "      <td>8</td>\n",
              "      <td>8</td>\n",
              "      <td>0</td>\n",
              "      <td>0</td>\n",
              "      <td>7</td>\n",
              "      <td>0</td>\n",
              "      <td>2</td>\n",
              "      <td>4</td>\n",
              "    </tr>\n",
              "    <tr>\n",
              "      <th>Ваня</th>\n",
              "      <td>8</td>\n",
              "      <td>7</td>\n",
              "      <td>0</td>\n",
              "      <td>6</td>\n",
              "      <td>5</td>\n",
              "      <td>4</td>\n",
              "      <td>0</td>\n",
              "      <td>8</td>\n",
              "      <td>0</td>\n",
              "      <td>10</td>\n",
              "      <td>0</td>\n",
              "    </tr>\n",
              "    <tr>\n",
              "      <th>Ира</th>\n",
              "      <td>0</td>\n",
              "      <td>0</td>\n",
              "      <td>2</td>\n",
              "      <td>5</td>\n",
              "      <td>10</td>\n",
              "      <td>0</td>\n",
              "      <td>0</td>\n",
              "      <td>0</td>\n",
              "      <td>9</td>\n",
              "      <td>0</td>\n",
              "      <td>3</td>\n",
              "    </tr>\n",
              "  </tbody>\n",
              "</table>\n",
              "</div>\n",
              "      <button class=\"colab-df-convert\" onclick=\"convertToInteractive('df-21102d8d-7b10-4053-8d74-d808746610e5')\"\n",
              "              title=\"Convert this dataframe to an interactive table.\"\n",
              "              style=\"display:none;\">\n",
              "        \n",
              "  <svg xmlns=\"http://www.w3.org/2000/svg\" height=\"24px\"viewBox=\"0 0 24 24\"\n",
              "       width=\"24px\">\n",
              "    <path d=\"M0 0h24v24H0V0z\" fill=\"none\"/>\n",
              "    <path d=\"M18.56 5.44l.94 2.06.94-2.06 2.06-.94-2.06-.94-.94-2.06-.94 2.06-2.06.94zm-11 1L8.5 8.5l.94-2.06 2.06-.94-2.06-.94L8.5 2.5l-.94 2.06-2.06.94zm10 10l.94 2.06.94-2.06 2.06-.94-2.06-.94-.94-2.06-.94 2.06-2.06.94z\"/><path d=\"M17.41 7.96l-1.37-1.37c-.4-.4-.92-.59-1.43-.59-.52 0-1.04.2-1.43.59L10.3 9.45l-7.72 7.72c-.78.78-.78 2.05 0 2.83L4 21.41c.39.39.9.59 1.41.59.51 0 1.02-.2 1.41-.59l7.78-7.78 2.81-2.81c.8-.78.8-2.07 0-2.86zM5.41 20L4 18.59l7.72-7.72 1.47 1.35L5.41 20z\"/>\n",
              "  </svg>\n",
              "      </button>\n",
              "      \n",
              "  <style>\n",
              "    .colab-df-container {\n",
              "      display:flex;\n",
              "      flex-wrap:wrap;\n",
              "      gap: 12px;\n",
              "    }\n",
              "\n",
              "    .colab-df-convert {\n",
              "      background-color: #E8F0FE;\n",
              "      border: none;\n",
              "      border-radius: 50%;\n",
              "      cursor: pointer;\n",
              "      display: none;\n",
              "      fill: #1967D2;\n",
              "      height: 32px;\n",
              "      padding: 0 0 0 0;\n",
              "      width: 32px;\n",
              "    }\n",
              "\n",
              "    .colab-df-convert:hover {\n",
              "      background-color: #E2EBFA;\n",
              "      box-shadow: 0px 1px 2px rgba(60, 64, 67, 0.3), 0px 1px 3px 1px rgba(60, 64, 67, 0.15);\n",
              "      fill: #174EA6;\n",
              "    }\n",
              "\n",
              "    [theme=dark] .colab-df-convert {\n",
              "      background-color: #3B4455;\n",
              "      fill: #D2E3FC;\n",
              "    }\n",
              "\n",
              "    [theme=dark] .colab-df-convert:hover {\n",
              "      background-color: #434B5C;\n",
              "      box-shadow: 0px 1px 3px 1px rgba(0, 0, 0, 0.15);\n",
              "      filter: drop-shadow(0px 1px 2px rgba(0, 0, 0, 0.3));\n",
              "      fill: #FFFFFF;\n",
              "    }\n",
              "  </style>\n",
              "\n",
              "      <script>\n",
              "        const buttonEl =\n",
              "          document.querySelector('#df-21102d8d-7b10-4053-8d74-d808746610e5 button.colab-df-convert');\n",
              "        buttonEl.style.display =\n",
              "          google.colab.kernel.accessAllowed ? 'block' : 'none';\n",
              "\n",
              "        async function convertToInteractive(key) {\n",
              "          const element = document.querySelector('#df-21102d8d-7b10-4053-8d74-d808746610e5');\n",
              "          const dataTable =\n",
              "            await google.colab.kernel.invokeFunction('convertToInteractive',\n",
              "                                                     [key], {});\n",
              "          if (!dataTable) return;\n",
              "\n",
              "          const docLinkHtml = 'Like what you see? Visit the ' +\n",
              "            '<a target=\"_blank\" href=https://colab.research.google.com/notebooks/data_table.ipynb>data table notebook</a>'\n",
              "            + ' to learn more about interactive tables.';\n",
              "          element.innerHTML = '';\n",
              "          dataTable['output_type'] = 'display_data';\n",
              "          await google.colab.output.renderOutput(dataTable, element);\n",
              "          const docLink = document.createElement('div');\n",
              "          docLink.innerHTML = docLinkHtml;\n",
              "          element.appendChild(docLink);\n",
              "        }\n",
              "      </script>\n",
              "    </div>\n",
              "  </div>\n",
              "  "
            ]
          },
          "metadata": {},
          "execution_count": 6
        }
      ]
    },
    {
      "cell_type": "markdown",
      "metadata": {
        "id": "iSRUNsYwGUhD"
      },
      "source": [
        "Вот теперь и встаёт вопрос, какой предложить фильм, чтобы наш пользователь хорошо провёл вечер? Немного поискав на просторах интернета, находим статью о том, что один большой онлнайн-кинотеатр **Netflix** в 2006 году объявил соревнование по разработке рекомендательной системы фильмов. За решение, которое улучшит качество рекомендаций на 10%, была объявлена награда в 1 млн долларов. В итоге в 2011 году такое решение было получено, а работало оно на основе **SVD** - Singular Value Decomposition или Сингулярном Разложении Матриц, если по-русски."
      ]
    },
    {
      "cell_type": "markdown",
      "metadata": {
        "id": "tTbSw4PGGUhD"
      },
      "source": [
        "### Немного линейной алгебры.\n",
        "Смысл SVD состоит в том, что прямоугольную матрицу A мы можем разложить на 3 матрицы: U, Ʃ и V.\n",
        "\n",
        "![image.png](data:image/png;base64,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)"
      ]
    },
    {
      "cell_type": "markdown",
      "metadata": {
        "id": "8jI5ICT8GUhD"
      },
      "source": [
        "\n",
        "\n",
        "![image.png](data:image/png;base64,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)\n",
        "\n",
        "\n",
        "\n"
      ]
    },
    {
      "cell_type": "markdown",
      "metadata": {
        "id": "fS3rSEXOHwlo"
      },
      "source": [
        "В случае разреженной матрицы, которой обычно является рейтинг фильмов, можно использовать усечённое разложение (truncated SVD), где мы оставляем только d первых чисел $\\lambda$. В итоге получаем разложение матрицы A', которое хорошо приближает исходную матрицу A."
      ]
    },
    {
      "cell_type": "markdown",
      "metadata": {
        "id": "CpwBxgdYITpp"
      },
      "source": [
        "![image.png](data:image/png;base64,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)"
      ]
    },
    {
      "cell_type": "markdown",
      "source": [
        "![image.png](data:image/png;base64,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)"
      ],
      "metadata": {
        "id": "oJqiK2AqrNnB"
      }
    },
    {
      "cell_type": "markdown",
      "metadata": {
        "id": "QYAfLqkTGUhE"
      },
      "source": [
        "Теперь применим это к нашей рекомендательной системе. У нас есть матрица оценок R, давайте сделаем её сингулярное разложение.\n",
        "Первые две матрицы перемножим, получим также матрицу $n$ x $d$, в итоге получится такое разложение.\n"
      ]
    },
    {
      "cell_type": "markdown",
      "metadata": {
        "id": "4dolVqKKIBll"
      },
      "source": [
        "![image.png](data:image/png;base64,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)"
      ]
    },
    {
      "cell_type": "markdown",
      "metadata": {
        "id": "5JBUKG7IGUhE"
      },
      "source": [
        "Размерность **d** в данном случае отвечает за количество скрытых свойств/интересов у наших пользователей и фильмов, $\\hat r \\tiny ui$ - рейтинг фильма, который мы получили перемножив матрицы **U** и **V**.\n",
        "\n",
        "Таким образом, мы научились приближать исходную матрицу оценок матрицей, полученной на основе перемножения двух матриц, отвечающих за интересы пользователей и свойства фильмов. Но проблема в том, что матрица **R** у нас разреженная, и мы бы хотели бы как раз заполнить пустые (нулевые) элементы оценками пользователей.\n"
      ]
    },
    {
      "cell_type": "markdown",
      "metadata": {
        "id": "Ar_fBra7GUhE"
      },
      "source": [
        "Как же это сделать? Для этого нам нужно приблизить уже имеющиеся оценки числами, полученными в результате перемножения матриц $U$ и $V$. Тогда мы получим и оценки для нулей нашей исходной матрицы, т.е. нужно минимизировать такую функцию:\n",
        "\n",
        "$$ \\large \\hat r {\\tiny ui} = <p_u,q_i>$$\n",
        "\n",
        "$$\\mathcal{L} = \\large \\frac{1}{n}\\Sigma_{ui} (r {\\tiny ui}-\\hat r {\\tiny ui})^{2} = \\frac{1}{n}\\Sigma_{ui} (r {\\tiny ui} -<p_u,q_i>)^{2} \\to min,$$ \n",
        "\n",
        "\n",
        "где суммирование идёт по ненулевым индексам $u,i$ нашей исходной матрицы оценок, а $n$ - количество оценок в матрице."
      ]
    },
    {
      "cell_type": "markdown",
      "metadata": {
        "id": "KRaMEbsUGUhF"
      },
      "source": [
        "Так это же задача регрессии с квадратичной функций потерь **MSE**. **MSE** выбрана по двум причинам: историческая, Netflix предложили метрику **RMSE** и она лучше оптимизируется градиентным спуском.\n",
        "\n",
        "\n",
        "\n"
      ]
    },
    {
      "cell_type": "markdown",
      "metadata": {
        "id": "qj_NB2ZuGUhF"
      },
      "source": [
        "Функция потерь есть, метод оптимизации выбран, что забыли? Регуляризатор! Воспользуемся $L{\\tiny 2}$-регуляризацией и добавим к функции потерь слагаемое, ограничивающее норму матриц: \n",
        "$\\large \\lambda(\\Sigma_{u}p {\\tiny u}^{2} + \\Sigma_{i}q {\\tiny i}^{2})$\n",
        "\n",
        "В итоге получаем:\n",
        "\n",
        "$$\\mathcal{L} = \\large  \\frac{1}{n}\\Sigma_{ui} (r {\\tiny ui} - <p_u,q_i>)^{2} +  \\lambda(\\Sigma_{u}p {\\tiny u}^{2} + \\Sigma_{i}q {\\tiny i}^{2}) \\to min,$$ \n",
        "\n",
        "\n",
        "Осталось посчитать градиенты для реализации поиска минимума **MSE**. Воспользуемся стохастическим градиентным спуском, поэтому будем считать градиенты на одном объекте $\\large r {\\tiny ui}$ из матрицы оценок. В итоге получаем такие правила обновления элементов наших матриц **U** и **V**."
      ]
    },
    {
      "cell_type": "markdown",
      "metadata": {
        "id": "x7KPTcNtGUhF"
      },
      "source": [
        "$\\large \n",
        "{p_{u,j}=p_{u,j} + \\large \\gamma (r_{ui}-\\hat r_{ui}) q_{i,j} - \\lambda p_{u,j}}$\n",
        "\n",
        "\n",
        "$\\large {q_{i,j}=q_{i,j} + \\large \\gamma (r_{ui}-\\hat r_{ui}) p_{u,j} - \\lambda q_{i,j}}$\n",
        "\n",
        "Индексы $u,i$ - номера пользователя и фильма в наших матрицах **U** (номер строки) и **V** (номер столбца), $j$ - $j$-ая компонента векторов $\\large p_{u}$ и $\\large q_{i}$."
      ]
    },
    {
      "cell_type": "markdown",
      "metadata": {
        "id": "ZUNxf383GUhF"
      },
      "source": [
        "Ну что же, теперь воспользуемся Питоном и сделаем рекомендации для наших пользователей!"
      ]
    },
    {
      "cell_type": "code",
      "metadata": {
        "id": "PDttRDnHGUhF"
      },
      "source": [
        "def SVD(R,d,step,lambda_reg,n_iters):\n",
        "    #инициализуем наши матрицы для разложения\n",
        "    U = np.zeros((R.shape[0],d))\n",
        "    V = np.zeros((d,R.shape[1]))\n",
        "    #начальные элементы матрица U и V будут средним рейтингом по ненулевым оценкам\n",
        "    mu = R.sum()/(R!=0).sum()\n",
        "    non_zero = (R!=0).sum()\n",
        "    U = U + mu\n",
        "    V = V + mu\n",
        "    # Создадим списки, где будут индексы нулевых и ненулевых элементов матрицы R\n",
        "    indx=[]\n",
        "    zero_indx = []\n",
        "    # Инициализируем MSE в начале и будем отслеживать в процессе обучения\n",
        "    MSE_start = 0\n",
        "    MSE=[]\n",
        "    # Найдём индексы нулевых и ненулевых элементов\n",
        "    for i in range(R.shape[0]):\n",
        "        for j in range(R.shape[1]):\n",
        "            if R[i][j]>0:\n",
        "                indx.append([i,j])\n",
        "                MSE_start+=((R[i,j]-np.dot(U[i,:],V[:,j])) ** 2) / non_zero\n",
        "            else:\n",
        "                zero_indx.append([i,j])\n",
        "    # Сделаем градиентный спуск            \n",
        "    for n in range(n_iters):\n",
        "        choice = np.random.randint(0,len(indx))\n",
        "        ij = indx[choice]\n",
        "        for k in range(0,d):\n",
        "            U[ij[0],k] = U[ij[0],k] + step * ((R[ij[0]][ij[1]] - \n",
        "                                               np.dot(U[ij[0],:],V[:,ij[1]])) * V[k,ij[1]] - \n",
        "                                              lambda_reg * U[ij[0],k])\n",
        "            V[k,ij[1]] = V[k,ij[1]] + step * ((R[ij[0]][ij[1]] - \n",
        "                                               np.dot(U[ij[0],:],V[:,ij[1]])) * U[ij[0],k] - \n",
        "                                              lambda_reg * V[k,ij[1]])\n",
        "            \n",
        "        L=0\n",
        "        for i in range(R.shape[0]):\n",
        "            for j in range(R.shape[1]):\n",
        "                if R[i,j]>0:\n",
        "                    L+=((R[i,j]-np.dot(U[i,:],V[:,j])) ** 2)/non_zero\n",
        "        MSE.append(L)    \n",
        "    return U,V, MSE_start, MSE"
      ],
      "execution_count": 7,
      "outputs": []
    },
    {
      "cell_type": "code",
      "metadata": {
        "id": "kisRoWLVGUhG"
      },
      "source": [
        "U,V,M_1,M_end = SVD(R.values,3,0.01,0.1,3000)"
      ],
      "execution_count": 8,
      "outputs": []
    },
    {
      "cell_type": "code",
      "source": [
        "R.index"
      ],
      "metadata": {
        "colab": {
          "base_uri": "https://localhost:8080/"
        },
        "id": "kVaeAEnPD9bb",
        "outputId": "f125e7d3-831a-477e-a579-85c0d8b00285"
      },
      "execution_count": 9,
      "outputs": [
        {
          "output_type": "execute_result",
          "data": {
            "text/plain": [
              "Index(['Вася', 'Петя', 'Саша', 'Женя', 'Маша', 'Оля', 'Лена', 'Ваня', 'Ира'], dtype='object')"
            ]
          },
          "metadata": {},
          "execution_count": 9
        }
      ]
    },
    {
      "cell_type": "code",
      "metadata": {
        "id": "cCZMtRfWGUhG",
        "colab": {
          "base_uri": "https://localhost:8080/"
        },
        "outputId": "0446f8a9-ca5e-4f0f-864f-321f5e671bb3"
      },
      "source": [
        "U"
      ],
      "execution_count": 10,
      "outputs": [
        {
          "output_type": "execute_result",
          "data": {
            "text/plain": [
              "array([[-0.01575587, -0.52131038,  1.88971387],\n",
              "       [-1.14730034,  1.31010871,  1.64542991],\n",
              "       [-0.03880946, -0.68883834,  2.36118006],\n",
              "       [-1.7395885 ,  1.66919281,  1.82320023],\n",
              "       [-2.3409986 ,  1.38074468,  2.81237771],\n",
              "       [-2.05115074,  1.53279287,  2.12139248],\n",
              "       [-1.55969575,  1.30953168,  2.07398728],\n",
              "       [-0.58917643, -0.71614153,  2.9520254 ],\n",
              "       [-2.44895434,  1.76278123,  2.72874944]])"
            ]
          },
          "metadata": {},
          "execution_count": 10
        }
      ]
    },
    {
      "cell_type": "code",
      "source": [
        "R.columns"
      ],
      "metadata": {
        "colab": {
          "base_uri": "https://localhost:8080/"
        },
        "id": "AgiqELO1EGhM",
        "outputId": "f4189667-01c8-46a1-c691-6ef0ff753dbd"
      },
      "execution_count": 11,
      "outputs": [
        {
          "output_type": "execute_result",
          "data": {
            "text/plain": [
              "Index(['Терминатор', 'Робокоп', 'Рэмбо', 'Джеймс Бонд', 'Властелин Колец',\n",
              "       'Хоббит', 'Гарри Поттер', 'Американский Пирог', 'Мальчишник в Вегасе',\n",
              "       'Мстители', 'Супермен'],\n",
              "      dtype='object')"
            ]
          },
          "metadata": {},
          "execution_count": 11
        }
      ]
    },
    {
      "cell_type": "code",
      "metadata": {
        "id": "zFXOb-huGUhH",
        "colab": {
          "base_uri": "https://localhost:8080/"
        },
        "outputId": "3e5d6cf6-8030-4052-9204-55ff50b7af93"
      },
      "source": [
        "V[:,-1]"
      ],
      "execution_count": 12,
      "outputs": [
        {
          "output_type": "execute_result",
          "data": {
            "text/plain": [
              "array([5.20619677, 3.45287429, 3.4938551 ])"
            ]
          },
          "metadata": {},
          "execution_count": 12
        }
      ]
    },
    {
      "cell_type": "code",
      "metadata": {
        "id": "togQXDoMGUhH"
      },
      "source": [
        "r_cap = np.zeros((R.shape[0],R.shape[1]))\n",
        "for i in range(R.shape[0]):\n",
        "    for j in range(R.shape[1]):\n",
        "        r_cap[i,j]=np.dot(U[i,:],V[:,j])"
      ],
      "execution_count": 13,
      "outputs": []
    },
    {
      "cell_type": "code",
      "metadata": {
        "id": "9Jc696ZmGUhH",
        "colab": {
          "base_uri": "https://localhost:8080/",
          "height": 332
        },
        "outputId": "5e3c5ee5-16e1-41f8-98ba-ee198c93d600"
      },
      "source": [
        "R"
      ],
      "execution_count": 14,
      "outputs": [
        {
          "output_type": "execute_result",
          "data": {
            "text/plain": [
              "      Терминатор  Робокоп  Рэмбо  Джеймс Бонд  Властелин Колец  Хоббит  \\\n",
              "Вася           9        0      0            6                4       3   \n",
              "Петя           0        0      0            8               10       0   \n",
              "Саша           8        0      5            7                4       0   \n",
              "Женя           5        2      0            4               10       0   \n",
              "Маша           0        0      2            5                7       0   \n",
              "Оля            2        3      0            0                0       7   \n",
              "Лена           5        0      3            8                8       0   \n",
              "Ваня           8        7      0            6                5       4   \n",
              "Ира            0        0      2            5               10       0   \n",
              "\n",
              "      Гарри Поттер  Американский Пирог  Мальчишник в Вегасе  Мстители  \\\n",
              "Вася             5                   7                    8         6   \n",
              "Петя             8                   5                    6         2   \n",
              "Саша             5                   7                    8         8   \n",
              "Женя             9                   5                    0         0   \n",
              "Маша             0                   9                    0         4   \n",
              "Оля              9                   0                    5         0   \n",
              "Лена             0                   7                    0         2   \n",
              "Ваня             0                   8                    0        10   \n",
              "Ира              0                   0                    9         0   \n",
              "\n",
              "      Супермен  \n",
              "Вася         5  \n",
              "Петя         0  \n",
              "Саша         5  \n",
              "Женя         0  \n",
              "Маша         0  \n",
              "Оля          3  \n",
              "Лена         4  \n",
              "Ваня         0  \n",
              "Ира          3  "
            ],
            "text/html": [
              "\n",
              "  <div id=\"df-bcfddf7f-8860-4bf3-8ba6-a0bc39595851\">\n",
              "    <div class=\"colab-df-container\">\n",
              "      <div>\n",
              "<style scoped>\n",
              "    .dataframe tbody tr th:only-of-type {\n",
              "        vertical-align: middle;\n",
              "    }\n",
              "\n",
              "    .dataframe tbody tr th {\n",
              "        vertical-align: top;\n",
              "    }\n",
              "\n",
              "    .dataframe thead th {\n",
              "        text-align: right;\n",
              "    }\n",
              "</style>\n",
              "<table border=\"1\" class=\"dataframe\">\n",
              "  <thead>\n",
              "    <tr style=\"text-align: right;\">\n",
              "      <th></th>\n",
              "      <th>Терминатор</th>\n",
              "      <th>Робокоп</th>\n",
              "      <th>Рэмбо</th>\n",
              "      <th>Джеймс Бонд</th>\n",
              "      <th>Властелин Колец</th>\n",
              "      <th>Хоббит</th>\n",
              "      <th>Гарри Поттер</th>\n",
              "      <th>Американский Пирог</th>\n",
              "      <th>Мальчишник в Вегасе</th>\n",
              "      <th>Мстители</th>\n",
              "      <th>Супермен</th>\n",
              "    </tr>\n",
              "  </thead>\n",
              "  <tbody>\n",
              "    <tr>\n",
              "      <th>Вася</th>\n",
              "      <td>9</td>\n",
              "      <td>0</td>\n",
              "      <td>0</td>\n",
              "      <td>6</td>\n",
              "      <td>4</td>\n",
              "      <td>3</td>\n",
              "      <td>5</td>\n",
              "      <td>7</td>\n",
              "      <td>8</td>\n",
              "      <td>6</td>\n",
              "      <td>5</td>\n",
              "    </tr>\n",
              "    <tr>\n",
              "      <th>Петя</th>\n",
              "      <td>0</td>\n",
              "      <td>0</td>\n",
              "      <td>0</td>\n",
              "      <td>8</td>\n",
              "      <td>10</td>\n",
              "      <td>0</td>\n",
              "      <td>8</td>\n",
              "      <td>5</td>\n",
              "      <td>6</td>\n",
              "      <td>2</td>\n",
              "      <td>0</td>\n",
              "    </tr>\n",
              "    <tr>\n",
              "      <th>Саша</th>\n",
              "      <td>8</td>\n",
              "      <td>0</td>\n",
              "      <td>5</td>\n",
              "      <td>7</td>\n",
              "      <td>4</td>\n",
              "      <td>0</td>\n",
              "      <td>5</td>\n",
              "      <td>7</td>\n",
              "      <td>8</td>\n",
              "      <td>8</td>\n",
              "      <td>5</td>\n",
              "    </tr>\n",
              "    <tr>\n",
              "      <th>Женя</th>\n",
              "      <td>5</td>\n",
              "      <td>2</td>\n",
              "      <td>0</td>\n",
              "      <td>4</td>\n",
              "      <td>10</td>\n",
              "      <td>0</td>\n",
              "      <td>9</td>\n",
              "      <td>5</td>\n",
              "      <td>0</td>\n",
              "      <td>0</td>\n",
              "      <td>0</td>\n",
              "    </tr>\n",
              "    <tr>\n",
              "      <th>Маша</th>\n",
              "      <td>0</td>\n",
              "      <td>0</td>\n",
              "      <td>2</td>\n",
              "      <td>5</td>\n",
              "      <td>7</td>\n",
              "      <td>0</td>\n",
              "      <td>0</td>\n",
              "      <td>9</td>\n",
              "      <td>0</td>\n",
              "      <td>4</td>\n",
              "      <td>0</td>\n",
              "    </tr>\n",
              "    <tr>\n",
              "      <th>Оля</th>\n",
              "      <td>2</td>\n",
              "      <td>3</td>\n",
              "      <td>0</td>\n",
              "      <td>0</td>\n",
              "      <td>0</td>\n",
              "      <td>7</td>\n",
              "      <td>9</td>\n",
              "      <td>0</td>\n",
              "      <td>5</td>\n",
              "      <td>0</td>\n",
              "      <td>3</td>\n",
              "    </tr>\n",
              "    <tr>\n",
              "      <th>Лена</th>\n",
              "      <td>5</td>\n",
              "      <td>0</td>\n",
              "      <td>3</td>\n",
              "      <td>8</td>\n",
              "      <td>8</td>\n",
              "      <td>0</td>\n",
              "      <td>0</td>\n",
              "      <td>7</td>\n",
              "      <td>0</td>\n",
              "      <td>2</td>\n",
              "      <td>4</td>\n",
              "    </tr>\n",
              "    <tr>\n",
              "      <th>Ваня</th>\n",
              "      <td>8</td>\n",
              "      <td>7</td>\n",
              "      <td>0</td>\n",
              "      <td>6</td>\n",
              "      <td>5</td>\n",
              "      <td>4</td>\n",
              "      <td>0</td>\n",
              "      <td>8</td>\n",
              "      <td>0</td>\n",
              "      <td>10</td>\n",
              "      <td>0</td>\n",
              "    </tr>\n",
              "    <tr>\n",
              "      <th>Ира</th>\n",
              "      <td>0</td>\n",
              "      <td>0</td>\n",
              "      <td>2</td>\n",
              "      <td>5</td>\n",
              "      <td>10</td>\n",
              "      <td>0</td>\n",
              "      <td>0</td>\n",
              "      <td>0</td>\n",
              "      <td>9</td>\n",
              "      <td>0</td>\n",
              "      <td>3</td>\n",
              "    </tr>\n",
              "  </tbody>\n",
              "</table>\n",
              "</div>\n",
              "      <button class=\"colab-df-convert\" onclick=\"convertToInteractive('df-bcfddf7f-8860-4bf3-8ba6-a0bc39595851')\"\n",
              "              title=\"Convert this dataframe to an interactive table.\"\n",
              "              style=\"display:none;\">\n",
              "        \n",
              "  <svg xmlns=\"http://www.w3.org/2000/svg\" height=\"24px\"viewBox=\"0 0 24 24\"\n",
              "       width=\"24px\">\n",
              "    <path d=\"M0 0h24v24H0V0z\" fill=\"none\"/>\n",
              "    <path d=\"M18.56 5.44l.94 2.06.94-2.06 2.06-.94-2.06-.94-.94-2.06-.94 2.06-2.06.94zm-11 1L8.5 8.5l.94-2.06 2.06-.94-2.06-.94L8.5 2.5l-.94 2.06-2.06.94zm10 10l.94 2.06.94-2.06 2.06-.94-2.06-.94-.94-2.06-.94 2.06-2.06.94z\"/><path d=\"M17.41 7.96l-1.37-1.37c-.4-.4-.92-.59-1.43-.59-.52 0-1.04.2-1.43.59L10.3 9.45l-7.72 7.72c-.78.78-.78 2.05 0 2.83L4 21.41c.39.39.9.59 1.41.59.51 0 1.02-.2 1.41-.59l7.78-7.78 2.81-2.81c.8-.78.8-2.07 0-2.86zM5.41 20L4 18.59l7.72-7.72 1.47 1.35L5.41 20z\"/>\n",
              "  </svg>\n",
              "      </button>\n",
              "      \n",
              "  <style>\n",
              "    .colab-df-container {\n",
              "      display:flex;\n",
              "      flex-wrap:wrap;\n",
              "      gap: 12px;\n",
              "    }\n",
              "\n",
              "    .colab-df-convert {\n",
              "      background-color: #E8F0FE;\n",
              "      border: none;\n",
              "      border-radius: 50%;\n",
              "      cursor: pointer;\n",
              "      display: none;\n",
              "      fill: #1967D2;\n",
              "      height: 32px;\n",
              "      padding: 0 0 0 0;\n",
              "      width: 32px;\n",
              "    }\n",
              "\n",
              "    .colab-df-convert:hover {\n",
              "      background-color: #E2EBFA;\n",
              "      box-shadow: 0px 1px 2px rgba(60, 64, 67, 0.3), 0px 1px 3px 1px rgba(60, 64, 67, 0.15);\n",
              "      fill: #174EA6;\n",
              "    }\n",
              "\n",
              "    [theme=dark] .colab-df-convert {\n",
              "      background-color: #3B4455;\n",
              "      fill: #D2E3FC;\n",
              "    }\n",
              "\n",
              "    [theme=dark] .colab-df-convert:hover {\n",
              "      background-color: #434B5C;\n",
              "      box-shadow: 0px 1px 3px 1px rgba(0, 0, 0, 0.15);\n",
              "      filter: drop-shadow(0px 1px 2px rgba(0, 0, 0, 0.3));\n",
              "      fill: #FFFFFF;\n",
              "    }\n",
              "  </style>\n",
              "\n",
              "      <script>\n",
              "        const buttonEl =\n",
              "          document.querySelector('#df-bcfddf7f-8860-4bf3-8ba6-a0bc39595851 button.colab-df-convert');\n",
              "        buttonEl.style.display =\n",
              "          google.colab.kernel.accessAllowed ? 'block' : 'none';\n",
              "\n",
              "        async function convertToInteractive(key) {\n",
              "          const element = document.querySelector('#df-bcfddf7f-8860-4bf3-8ba6-a0bc39595851');\n",
              "          const dataTable =\n",
              "            await google.colab.kernel.invokeFunction('convertToInteractive',\n",
              "                                                     [key], {});\n",
              "          if (!dataTable) return;\n",
              "\n",
              "          const docLinkHtml = 'Like what you see? Visit the ' +\n",
              "            '<a target=\"_blank\" href=https://colab.research.google.com/notebooks/data_table.ipynb>data table notebook</a>'\n",
              "            + ' to learn more about interactive tables.';\n",
              "          element.innerHTML = '';\n",
              "          dataTable['output_type'] = 'display_data';\n",
              "          await google.colab.output.renderOutput(dataTable, element);\n",
              "          const docLink = document.createElement('div');\n",
              "          docLink.innerHTML = docLinkHtml;\n",
              "          element.appendChild(docLink);\n",
              "        }\n",
              "      </script>\n",
              "    </div>\n",
              "  </div>\n",
              "  "
            ]
          },
          "metadata": {},
          "execution_count": 14
        }
      ]
    },
    {
      "cell_type": "code",
      "metadata": {
        "id": "jHt6fFvaGUhH"
      },
      "source": [
        "R_cap = pd.DataFrame(r_cap,u,f)"
      ],
      "execution_count": 15,
      "outputs": []
    },
    {
      "cell_type": "code",
      "metadata": {
        "id": "3CXiVgBAGUhH",
        "colab": {
          "base_uri": "https://localhost:8080/",
          "height": 332
        },
        "outputId": "928a8089-a68d-46b6-f7d5-8f9949b14688"
      },
      "source": [
        "R_cap"
      ],
      "execution_count": 16,
      "outputs": [
        {
          "output_type": "execute_result",
          "data": {
            "text/plain": [
              "      Терминатор   Робокоп     Рэмбо  Джеймс Бонд  Властелин Колец    Хоббит  \\\n",
              "Вася    6.645764  5.472389  4.904232     5.403122         4.021662  4.084200   \n",
              "Петя    5.532038  4.193504  4.146123     5.229871         7.529187  6.598198   \n",
              "Саша    8.051300  6.632301  5.838285     6.560668         4.780563  4.827331   \n",
              "Женя    4.136668  2.921651  2.356888     4.495806         7.630579  6.079703   \n",
              "Маша    4.016297  2.753862  0.846012     4.815548         7.481122  5.241398   \n",
              "Оля     3.140022  2.071107  0.809066     3.904805         6.876489  4.949391   \n",
              "Лена    5.032626  3.718438  2.996531     5.106952         7.483904  6.097931   \n",
              "Ваня    7.373533  5.991774  4.263085     6.388133         4.661888  4.097591   \n",
              "Ира     4.398943  3.009864  1.428931     5.189859         8.571615  6.276332   \n",
              "\n",
              "      Гарри Поттер  Американский Пирог  Мальчишник в Вегасе  Мстители  \\\n",
              "Вася      5.235240            6.011507             6.410176  6.231710   \n",
              "Петя      8.413561            6.760095             7.066765  3.046398   \n",
              "Саша      6.265975            7.278513             7.745612  7.677091   \n",
              "Женя      8.326086            6.154444             6.246685  1.865835   \n",
              "Маша      8.330265            6.489545             6.345491  2.915996   \n",
              "Оля       7.493348            5.460974             5.363478  1.649267   \n",
              "Лена      8.365095            6.679300             6.827657  3.067396   \n",
              "Ваня      6.146433            7.149588             7.399888  7.746103   \n",
              "Ира       9.429725            7.100056             7.020218  2.607668   \n",
              "\n",
              "      Супермен  \n",
              "Вася  4.720339  \n",
              "Петя  4.299463  \n",
              "Саша  5.669099  \n",
              "Женя  3.076870  \n",
              "Маша  2.405879  \n",
              "Оля   2.025685  \n",
              "Лена  3.647776  \n",
              "Ваня  4.773834  \n",
              "Ира   2.870779  "
            ],
            "text/html": [
              "\n",
              "  <div id=\"df-6837d33b-8b52-4d88-b4cc-26e80e74e10e\">\n",
              "    <div class=\"colab-df-container\">\n",
              "      <div>\n",
              "<style scoped>\n",
              "    .dataframe tbody tr th:only-of-type {\n",
              "        vertical-align: middle;\n",
              "    }\n",
              "\n",
              "    .dataframe tbody tr th {\n",
              "        vertical-align: top;\n",
              "    }\n",
              "\n",
              "    .dataframe thead th {\n",
              "        text-align: right;\n",
              "    }\n",
              "</style>\n",
              "<table border=\"1\" class=\"dataframe\">\n",
              "  <thead>\n",
              "    <tr style=\"text-align: right;\">\n",
              "      <th></th>\n",
              "      <th>Терминатор</th>\n",
              "      <th>Робокоп</th>\n",
              "      <th>Рэмбо</th>\n",
              "      <th>Джеймс Бонд</th>\n",
              "      <th>Властелин Колец</th>\n",
              "      <th>Хоббит</th>\n",
              "      <th>Гарри Поттер</th>\n",
              "      <th>Американский Пирог</th>\n",
              "      <th>Мальчишник в Вегасе</th>\n",
              "      <th>Мстители</th>\n",
              "      <th>Супермен</th>\n",
              "    </tr>\n",
              "  </thead>\n",
              "  <tbody>\n",
              "    <tr>\n",
              "      <th>Вася</th>\n",
              "      <td>6.645764</td>\n",
              "      <td>5.472389</td>\n",
              "      <td>4.904232</td>\n",
              "      <td>5.403122</td>\n",
              "      <td>4.021662</td>\n",
              "      <td>4.084200</td>\n",
              "      <td>5.235240</td>\n",
              "      <td>6.011507</td>\n",
              "      <td>6.410176</td>\n",
              "      <td>6.231710</td>\n",
              "      <td>4.720339</td>\n",
              "    </tr>\n",
              "    <tr>\n",
              "      <th>Петя</th>\n",
              "      <td>5.532038</td>\n",
              "      <td>4.193504</td>\n",
              "      <td>4.146123</td>\n",
              "      <td>5.229871</td>\n",
              "      <td>7.529187</td>\n",
              "      <td>6.598198</td>\n",
              "      <td>8.413561</td>\n",
              "      <td>6.760095</td>\n",
              "      <td>7.066765</td>\n",
              "      <td>3.046398</td>\n",
              "      <td>4.299463</td>\n",
              "    </tr>\n",
              "    <tr>\n",
              "      <th>Саша</th>\n",
              "      <td>8.051300</td>\n",
              "      <td>6.632301</td>\n",
              "      <td>5.838285</td>\n",
              "      <td>6.560668</td>\n",
              "      <td>4.780563</td>\n",
              "      <td>4.827331</td>\n",
              "      <td>6.265975</td>\n",
              "      <td>7.278513</td>\n",
              "      <td>7.745612</td>\n",
              "      <td>7.677091</td>\n",
              "      <td>5.669099</td>\n",
              "    </tr>\n",
              "    <tr>\n",
              "      <th>Женя</th>\n",
              "      <td>4.136668</td>\n",
              "      <td>2.921651</td>\n",
              "      <td>2.356888</td>\n",
              "      <td>4.495806</td>\n",
              "      <td>7.630579</td>\n",
              "      <td>6.079703</td>\n",
              "      <td>8.326086</td>\n",
              "      <td>6.154444</td>\n",
              "      <td>6.246685</td>\n",
              "      <td>1.865835</td>\n",
              "      <td>3.076870</td>\n",
              "    </tr>\n",
              "    <tr>\n",
              "      <th>Маша</th>\n",
              "      <td>4.016297</td>\n",
              "      <td>2.753862</td>\n",
              "      <td>0.846012</td>\n",
              "      <td>4.815548</td>\n",
              "      <td>7.481122</td>\n",
              "      <td>5.241398</td>\n",
              "      <td>8.330265</td>\n",
              "      <td>6.489545</td>\n",
              "      <td>6.345491</td>\n",
              "      <td>2.915996</td>\n",
              "      <td>2.405879</td>\n",
              "    </tr>\n",
              "    <tr>\n",
              "      <th>Оля</th>\n",
              "      <td>3.140022</td>\n",
              "      <td>2.071107</td>\n",
              "      <td>0.809066</td>\n",
              "      <td>3.904805</td>\n",
              "      <td>6.876489</td>\n",
              "      <td>4.949391</td>\n",
              "      <td>7.493348</td>\n",
              "      <td>5.460974</td>\n",
              "      <td>5.363478</td>\n",
              "      <td>1.649267</td>\n",
              "      <td>2.025685</td>\n",
              "    </tr>\n",
              "    <tr>\n",
              "      <th>Лена</th>\n",
              "      <td>5.032626</td>\n",
              "      <td>3.718438</td>\n",
              "      <td>2.996531</td>\n",
              "      <td>5.106952</td>\n",
              "      <td>7.483904</td>\n",
              "      <td>6.097931</td>\n",
              "      <td>8.365095</td>\n",
              "      <td>6.679300</td>\n",
              "      <td>6.827657</td>\n",
              "      <td>3.067396</td>\n",
              "      <td>3.647776</td>\n",
              "    </tr>\n",
              "    <tr>\n",
              "      <th>Ваня</th>\n",
              "      <td>7.373533</td>\n",
              "      <td>5.991774</td>\n",
              "      <td>4.263085</td>\n",
              "      <td>6.388133</td>\n",
              "      <td>4.661888</td>\n",
              "      <td>4.097591</td>\n",
              "      <td>6.146433</td>\n",
              "      <td>7.149588</td>\n",
              "      <td>7.399888</td>\n",
              "      <td>7.746103</td>\n",
              "      <td>4.773834</td>\n",
              "    </tr>\n",
              "    <tr>\n",
              "      <th>Ира</th>\n",
              "      <td>4.398943</td>\n",
              "      <td>3.009864</td>\n",
              "      <td>1.428931</td>\n",
              "      <td>5.189859</td>\n",
              "      <td>8.571615</td>\n",
              "      <td>6.276332</td>\n",
              "      <td>9.429725</td>\n",
              "      <td>7.100056</td>\n",
              "      <td>7.020218</td>\n",
              "      <td>2.607668</td>\n",
              "      <td>2.870779</td>\n",
              "    </tr>\n",
              "  </tbody>\n",
              "</table>\n",
              "</div>\n",
              "      <button class=\"colab-df-convert\" onclick=\"convertToInteractive('df-6837d33b-8b52-4d88-b4cc-26e80e74e10e')\"\n",
              "              title=\"Convert this dataframe to an interactive table.\"\n",
              "              style=\"display:none;\">\n",
              "        \n",
              "  <svg xmlns=\"http://www.w3.org/2000/svg\" height=\"24px\"viewBox=\"0 0 24 24\"\n",
              "       width=\"24px\">\n",
              "    <path d=\"M0 0h24v24H0V0z\" fill=\"none\"/>\n",
              "    <path d=\"M18.56 5.44l.94 2.06.94-2.06 2.06-.94-2.06-.94-.94-2.06-.94 2.06-2.06.94zm-11 1L8.5 8.5l.94-2.06 2.06-.94-2.06-.94L8.5 2.5l-.94 2.06-2.06.94zm10 10l.94 2.06.94-2.06 2.06-.94-2.06-.94-.94-2.06-.94 2.06-2.06.94z\"/><path d=\"M17.41 7.96l-1.37-1.37c-.4-.4-.92-.59-1.43-.59-.52 0-1.04.2-1.43.59L10.3 9.45l-7.72 7.72c-.78.78-.78 2.05 0 2.83L4 21.41c.39.39.9.59 1.41.59.51 0 1.02-.2 1.41-.59l7.78-7.78 2.81-2.81c.8-.78.8-2.07 0-2.86zM5.41 20L4 18.59l7.72-7.72 1.47 1.35L5.41 20z\"/>\n",
              "  </svg>\n",
              "      </button>\n",
              "      \n",
              "  <style>\n",
              "    .colab-df-container {\n",
              "      display:flex;\n",
              "      flex-wrap:wrap;\n",
              "      gap: 12px;\n",
              "    }\n",
              "\n",
              "    .colab-df-convert {\n",
              "      background-color: #E8F0FE;\n",
              "      border: none;\n",
              "      border-radius: 50%;\n",
              "      cursor: pointer;\n",
              "      display: none;\n",
              "      fill: #1967D2;\n",
              "      height: 32px;\n",
              "      padding: 0 0 0 0;\n",
              "      width: 32px;\n",
              "    }\n",
              "\n",
              "    .colab-df-convert:hover {\n",
              "      background-color: #E2EBFA;\n",
              "      box-shadow: 0px 1px 2px rgba(60, 64, 67, 0.3), 0px 1px 3px 1px rgba(60, 64, 67, 0.15);\n",
              "      fill: #174EA6;\n",
              "    }\n",
              "\n",
              "    [theme=dark] .colab-df-convert {\n",
              "      background-color: #3B4455;\n",
              "      fill: #D2E3FC;\n",
              "    }\n",
              "\n",
              "    [theme=dark] .colab-df-convert:hover {\n",
              "      background-color: #434B5C;\n",
              "      box-shadow: 0px 1px 3px 1px rgba(0, 0, 0, 0.15);\n",
              "      filter: drop-shadow(0px 1px 2px rgba(0, 0, 0, 0.3));\n",
              "      fill: #FFFFFF;\n",
              "    }\n",
              "  </style>\n",
              "\n",
              "      <script>\n",
              "        const buttonEl =\n",
              "          document.querySelector('#df-6837d33b-8b52-4d88-b4cc-26e80e74e10e button.colab-df-convert');\n",
              "        buttonEl.style.display =\n",
              "          google.colab.kernel.accessAllowed ? 'block' : 'none';\n",
              "\n",
              "        async function convertToInteractive(key) {\n",
              "          const element = document.querySelector('#df-6837d33b-8b52-4d88-b4cc-26e80e74e10e');\n",
              "          const dataTable =\n",
              "            await google.colab.kernel.invokeFunction('convertToInteractive',\n",
              "                                                     [key], {});\n",
              "          if (!dataTable) return;\n",
              "\n",
              "          const docLinkHtml = 'Like what you see? Visit the ' +\n",
              "            '<a target=\"_blank\" href=https://colab.research.google.com/notebooks/data_table.ipynb>data table notebook</a>'\n",
              "            + ' to learn more about interactive tables.';\n",
              "          element.innerHTML = '';\n",
              "          dataTable['output_type'] = 'display_data';\n",
              "          await google.colab.output.renderOutput(dataTable, element);\n",
              "          const docLink = document.createElement('div');\n",
              "          docLink.innerHTML = docLinkHtml;\n",
              "          element.appendChild(docLink);\n",
              "        }\n",
              "      </script>\n",
              "    </div>\n",
              "  </div>\n",
              "  "
            ]
          },
          "metadata": {},
          "execution_count": 16
        }
      ]
    },
    {
      "cell_type": "code",
      "metadata": {
        "id": "8-Icj_7KGUhI",
        "colab": {
          "base_uri": "https://localhost:8080/"
        },
        "outputId": "549164ff-bc9d-42ae-9e45-476c1eac87cb"
      },
      "source": [
        "print ('Start MSE:',M_1,'Finish MSE:',M_end[-1])"
      ],
      "execution_count": 17,
      "outputs": [
        {
          "output_type": "stream",
          "name": "stdout",
          "text": [
            "Start MSE: 9713.71756666667 Finish MSE: 1.428592857595387\n"
          ]
        }
      ]
    },
    {
      "cell_type": "code",
      "metadata": {
        "id": "A_FMLW38GUhI",
        "colab": {
          "base_uri": "https://localhost:8080/"
        },
        "outputId": "55fe7804-cada-4a7a-ce59-5f6a488cb82d"
      },
      "source": [
        "print ('Start RMSE',np.sqrt(M_1),'Finish RMSE',np.sqrt(M_end[-1]))"
      ],
      "execution_count": 18,
      "outputs": [
        {
          "output_type": "stream",
          "name": "stdout",
          "text": [
            "Start RMSE 98.5581938078548 Finish RMSE 1.1952375737046534\n"
          ]
        }
      ]
    },
    {
      "cell_type": "code",
      "metadata": {
        "id": "JBsbSX0PGUhI"
      },
      "source": [
        "n = (R.values != 0).sum()"
      ],
      "execution_count": 19,
      "outputs": []
    },
    {
      "cell_type": "code",
      "metadata": {
        "id": "yhORkRWJGUhI"
      },
      "source": [
        "L=0\n",
        "for i in range(R.shape[0]):\n",
        "    for j in range(R.shape[1]):\n",
        "        if R.values[i,j]>0:\n",
        "            L+=((R.values[i,j]-R_cap.values[i,j]) ** 2)/n"
      ],
      "execution_count": 20,
      "outputs": []
    },
    {
      "cell_type": "code",
      "metadata": {
        "id": "wXqptTyaGUhJ"
      },
      "source": [
        "\n",
        "for col in R_cap:\n",
        "    R_cap[col] = R_cap[col].astype(int)"
      ],
      "execution_count": 21,
      "outputs": []
    },
    {
      "cell_type": "code",
      "metadata": {
        "id": "cz2MQarTGUhJ",
        "colab": {
          "base_uri": "https://localhost:8080/",
          "height": 206
        },
        "outputId": "a14c9644-1b92-40c6-9944-98b57fda799e"
      },
      "source": [
        "R_cap.head()"
      ],
      "execution_count": 22,
      "outputs": [
        {
          "output_type": "execute_result",
          "data": {
            "text/plain": [
              "      Терминатор  Робокоп  Рэмбо  Джеймс Бонд  Властелин Колец  Хоббит  \\\n",
              "Вася           6        5      4            5                4       4   \n",
              "Петя           5        4      4            5                7       6   \n",
              "Саша           8        6      5            6                4       4   \n",
              "Женя           4        2      2            4                7       6   \n",
              "Маша           4        2      0            4                7       5   \n",
              "\n",
              "      Гарри Поттер  Американский Пирог  Мальчишник в Вегасе  Мстители  \\\n",
              "Вася             5                   6                    6         6   \n",
              "Петя             8                   6                    7         3   \n",
              "Саша             6                   7                    7         7   \n",
              "Женя             8                   6                    6         1   \n",
              "Маша             8                   6                    6         2   \n",
              "\n",
              "      Супермен  \n",
              "Вася         4  \n",
              "Петя         4  \n",
              "Саша         5  \n",
              "Женя         3  \n",
              "Маша         2  "
            ],
            "text/html": [
              "\n",
              "  <div id=\"df-f61f719a-8b5c-40be-9896-917b8325789f\">\n",
              "    <div class=\"colab-df-container\">\n",
              "      <div>\n",
              "<style scoped>\n",
              "    .dataframe tbody tr th:only-of-type {\n",
              "        vertical-align: middle;\n",
              "    }\n",
              "\n",
              "    .dataframe tbody tr th {\n",
              "        vertical-align: top;\n",
              "    }\n",
              "\n",
              "    .dataframe thead th {\n",
              "        text-align: right;\n",
              "    }\n",
              "</style>\n",
              "<table border=\"1\" class=\"dataframe\">\n",
              "  <thead>\n",
              "    <tr style=\"text-align: right;\">\n",
              "      <th></th>\n",
              "      <th>Терминатор</th>\n",
              "      <th>Робокоп</th>\n",
              "      <th>Рэмбо</th>\n",
              "      <th>Джеймс Бонд</th>\n",
              "      <th>Властелин Колец</th>\n",
              "      <th>Хоббит</th>\n",
              "      <th>Гарри Поттер</th>\n",
              "      <th>Американский Пирог</th>\n",
              "      <th>Мальчишник в Вегасе</th>\n",
              "      <th>Мстители</th>\n",
              "      <th>Супермен</th>\n",
              "    </tr>\n",
              "  </thead>\n",
              "  <tbody>\n",
              "    <tr>\n",
              "      <th>Вася</th>\n",
              "      <td>6</td>\n",
              "      <td>5</td>\n",
              "      <td>4</td>\n",
              "      <td>5</td>\n",
              "      <td>4</td>\n",
              "      <td>4</td>\n",
              "      <td>5</td>\n",
              "      <td>6</td>\n",
              "      <td>6</td>\n",
              "      <td>6</td>\n",
              "      <td>4</td>\n",
              "    </tr>\n",
              "    <tr>\n",
              "      <th>Петя</th>\n",
              "      <td>5</td>\n",
              "      <td>4</td>\n",
              "      <td>4</td>\n",
              "      <td>5</td>\n",
              "      <td>7</td>\n",
              "      <td>6</td>\n",
              "      <td>8</td>\n",
              "      <td>6</td>\n",
              "      <td>7</td>\n",
              "      <td>3</td>\n",
              "      <td>4</td>\n",
              "    </tr>\n",
              "    <tr>\n",
              "      <th>Саша</th>\n",
              "      <td>8</td>\n",
              "      <td>6</td>\n",
              "      <td>5</td>\n",
              "      <td>6</td>\n",
              "      <td>4</td>\n",
              "      <td>4</td>\n",
              "      <td>6</td>\n",
              "      <td>7</td>\n",
              "      <td>7</td>\n",
              "      <td>7</td>\n",
              "      <td>5</td>\n",
              "    </tr>\n",
              "    <tr>\n",
              "      <th>Женя</th>\n",
              "      <td>4</td>\n",
              "      <td>2</td>\n",
              "      <td>2</td>\n",
              "      <td>4</td>\n",
              "      <td>7</td>\n",
              "      <td>6</td>\n",
              "      <td>8</td>\n",
              "      <td>6</td>\n",
              "      <td>6</td>\n",
              "      <td>1</td>\n",
              "      <td>3</td>\n",
              "    </tr>\n",
              "    <tr>\n",
              "      <th>Маша</th>\n",
              "      <td>4</td>\n",
              "      <td>2</td>\n",
              "      <td>0</td>\n",
              "      <td>4</td>\n",
              "      <td>7</td>\n",
              "      <td>5</td>\n",
              "      <td>8</td>\n",
              "      <td>6</td>\n",
              "      <td>6</td>\n",
              "      <td>2</td>\n",
              "      <td>2</td>\n",
              "    </tr>\n",
              "  </tbody>\n",
              "</table>\n",
              "</div>\n",
              "      <button class=\"colab-df-convert\" onclick=\"convertToInteractive('df-f61f719a-8b5c-40be-9896-917b8325789f')\"\n",
              "              title=\"Convert this dataframe to an interactive table.\"\n",
              "              style=\"display:none;\">\n",
              "        \n",
              "  <svg xmlns=\"http://www.w3.org/2000/svg\" height=\"24px\"viewBox=\"0 0 24 24\"\n",
              "       width=\"24px\">\n",
              "    <path d=\"M0 0h24v24H0V0z\" fill=\"none\"/>\n",
              "    <path d=\"M18.56 5.44l.94 2.06.94-2.06 2.06-.94-2.06-.94-.94-2.06-.94 2.06-2.06.94zm-11 1L8.5 8.5l.94-2.06 2.06-.94-2.06-.94L8.5 2.5l-.94 2.06-2.06.94zm10 10l.94 2.06.94-2.06 2.06-.94-2.06-.94-.94-2.06-.94 2.06-2.06.94z\"/><path d=\"M17.41 7.96l-1.37-1.37c-.4-.4-.92-.59-1.43-.59-.52 0-1.04.2-1.43.59L10.3 9.45l-7.72 7.72c-.78.78-.78 2.05 0 2.83L4 21.41c.39.39.9.59 1.41.59.51 0 1.02-.2 1.41-.59l7.78-7.78 2.81-2.81c.8-.78.8-2.07 0-2.86zM5.41 20L4 18.59l7.72-7.72 1.47 1.35L5.41 20z\"/>\n",
              "  </svg>\n",
              "      </button>\n",
              "      \n",
              "  <style>\n",
              "    .colab-df-container {\n",
              "      display:flex;\n",
              "      flex-wrap:wrap;\n",
              "      gap: 12px;\n",
              "    }\n",
              "\n",
              "    .colab-df-convert {\n",
              "      background-color: #E8F0FE;\n",
              "      border: none;\n",
              "      border-radius: 50%;\n",
              "      cursor: pointer;\n",
              "      display: none;\n",
              "      fill: #1967D2;\n",
              "      height: 32px;\n",
              "      padding: 0 0 0 0;\n",
              "      width: 32px;\n",
              "    }\n",
              "\n",
              "    .colab-df-convert:hover {\n",
              "      background-color: #E2EBFA;\n",
              "      box-shadow: 0px 1px 2px rgba(60, 64, 67, 0.3), 0px 1px 3px 1px rgba(60, 64, 67, 0.15);\n",
              "      fill: #174EA6;\n",
              "    }\n",
              "\n",
              "    [theme=dark] .colab-df-convert {\n",
              "      background-color: #3B4455;\n",
              "      fill: #D2E3FC;\n",
              "    }\n",
              "\n",
              "    [theme=dark] .colab-df-convert:hover {\n",
              "      background-color: #434B5C;\n",
              "      box-shadow: 0px 1px 3px 1px rgba(0, 0, 0, 0.15);\n",
              "      filter: drop-shadow(0px 1px 2px rgba(0, 0, 0, 0.3));\n",
              "      fill: #FFFFFF;\n",
              "    }\n",
              "  </style>\n",
              "\n",
              "      <script>\n",
              "        const buttonEl =\n",
              "          document.querySelector('#df-f61f719a-8b5c-40be-9896-917b8325789f button.colab-df-convert');\n",
              "        buttonEl.style.display =\n",
              "          google.colab.kernel.accessAllowed ? 'block' : 'none';\n",
              "\n",
              "        async function convertToInteractive(key) {\n",
              "          const element = document.querySelector('#df-f61f719a-8b5c-40be-9896-917b8325789f');\n",
              "          const dataTable =\n",
              "            await google.colab.kernel.invokeFunction('convertToInteractive',\n",
              "                                                     [key], {});\n",
              "          if (!dataTable) return;\n",
              "\n",
              "          const docLinkHtml = 'Like what you see? Visit the ' +\n",
              "            '<a target=\"_blank\" href=https://colab.research.google.com/notebooks/data_table.ipynb>data table notebook</a>'\n",
              "            + ' to learn more about interactive tables.';\n",
              "          element.innerHTML = '';\n",
              "          dataTable['output_type'] = 'display_data';\n",
              "          await google.colab.output.renderOutput(dataTable, element);\n",
              "          const docLink = document.createElement('div');\n",
              "          docLink.innerHTML = docLinkHtml;\n",
              "          element.appendChild(docLink);\n",
              "        }\n",
              "      </script>\n",
              "    </div>\n",
              "  </div>\n",
              "  "
            ]
          },
          "metadata": {},
          "execution_count": 22
        }
      ]
    },
    {
      "cell_type": "code",
      "metadata": {
        "id": "t2bdEpPEGUhJ",
        "colab": {
          "base_uri": "https://localhost:8080/"
        },
        "outputId": "d81107d2-f71e-4ac4-ef3d-d1a77bf8676c"
      },
      "source": [
        "L=0\n",
        "for i in range(R.shape[0]):\n",
        "    for j in range(R.shape[1]):\n",
        "        if R.values[i,j]>0:\n",
        "            L+=((R.values[i,j]-R_cap.values[i,j]) ** 2)/n\n",
        "print('RMSE: ' ,np.sqrt(L))"
      ],
      "execution_count": 23,
      "outputs": [
        {
          "output_type": "stream",
          "name": "stdout",
          "text": [
            "RMSE:  1.4605934866804429\n"
          ]
        }
      ]
    },
    {
      "cell_type": "markdown",
      "metadata": {
        "id": "Vcf8p_n-GUhJ"
      },
      "source": [
        "В итоге получили матрицу оценок с помощью SGD. Как видно, MSE сильно упал. Можно поиграться с гиперпараметрами, чтобы настроить качество. Как итог, выбираем фильмы с наибольшей оценкой и рекомендуем их пользователям! :) "
      ]
    },
    {
      "cell_type": "markdown",
      "metadata": {
        "id": "CfoEa8ncGUhJ"
      },
      "source": [
        "В заключение хочется сказать, что есть хорошая библиотека Surprise, где можно делать рекомендации проще, быстрее и различными способами.\n",
        "Оставлю [ссылку](http://surpriselib.com/) для ознакомления. "
      ]
    },
    {
      "cell_type": "code",
      "metadata": {
        "id": "Fpkt3obLGUhJ"
      },
      "source": [],
      "execution_count": 23,
      "outputs": []
    }
  ]
}