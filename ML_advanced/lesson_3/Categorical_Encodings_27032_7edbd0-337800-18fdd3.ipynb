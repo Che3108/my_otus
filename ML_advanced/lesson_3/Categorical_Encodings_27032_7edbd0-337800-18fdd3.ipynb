{
 "cells": [
  {
   "cell_type": "markdown",
   "metadata": {},
   "source": [
    "# Benchmarking categorical encoders"
   ]
  },
  {
   "cell_type": "markdown",
   "metadata": {
    "id": "Xg3vxQs4VXso"
   },
   "source": [
    "## Installation"
   ]
  },
  {
   "cell_type": "code",
   "execution_count": null,
   "metadata": {
    "colab": {
     "base_uri": "https://localhost:8080/"
    },
    "id": "4Ib7KGbOVbca",
    "outputId": "c2613824-143d-4d9f-c6c0-4221159c915a"
   },
   "outputs": [],
   "source": [
    "# !pip install category_encoders"
   ]
  },
  {
   "cell_type": "markdown",
   "metadata": {
    "id": "dsIHBbtvVhIE"
   },
   "source": [
    "## Modules Importing"
   ]
  },
  {
   "cell_type": "code",
   "execution_count": 1,
   "metadata": {
    "colab": {
     "base_uri": "https://localhost:8080/"
    },
    "id": "fXS8EKjT2o7n",
    "outputId": "db61410e-c058-4d1e-c83b-46e6e1deb42e"
   },
   "outputs": [],
   "source": [
    "import numpy as np\n",
    "import pandas as pd\n",
    "import matplotlib.pyplot as plt\n",
    "import seaborn as sns\n",
    "\n",
    "from sklearn.metrics import mean_absolute_error, make_scorer\n",
    "from sklearn.pipeline import Pipeline\n",
    "from sklearn.pipeline import make_union\n",
    "from sklearn.preprocessing import FunctionTransformer\n",
    "from sklearn.compose import ColumnTransformer\n",
    "\n",
    "from sklearn.preprocessing import StandardScaler, MinMaxScaler\n",
    "from sklearn.impute import SimpleImputer\n",
    "from sklearn.model_selection import KFold \n",
    "from sklearn.model_selection import train_test_split\n",
    "from sklearn.model_selection import cross_val_score\n",
    "from sklearn.base import BaseEstimator, TransformerMixin\n",
    "from sklearn.linear_model import Ridge\n",
    "\n",
    "\n",
    "from category_encoders import OrdinalEncoder, OneHotEncoder\n",
    "from category_encoders import BackwardDifferenceEncoder, HelmertEncoder, BinaryEncoder\n",
    "from category_encoders import CountEncoder\n",
    "from category_encoders import LeaveOneOutEncoder, TargetEncoder, JamesSteinEncoder, MEstimateEncoder, WOEEncoder, CatBoostEncoder\n",
    "from category_encoders.wrapper import NestedCVWrapper\n",
    "\n",
    "\n",
    "import warnings\n",
    "from sklearn.exceptions import DataConversionWarning\n",
    "warnings.filterwarnings(action='ignore')"
   ]
  },
  {
   "cell_type": "code",
   "execution_count": 2,
   "metadata": {},
   "outputs": [],
   "source": [
    "np.random.seed(12345)"
   ]
  },
  {
   "cell_type": "markdown",
   "metadata": {
    "id": "8LQUOJ8D2q6f"
   },
   "source": [
    "## Data Generation\n"
   ]
  },
  {
   "cell_type": "code",
   "execution_count": 4,
   "metadata": {
    "id": "31A0dwV-Lohj"
   },
   "outputs": [],
   "source": [
    "def make_categorical_regression(n_samples=100,\n",
    "                                n_features=10,\n",
    "                                n_informative=10,\n",
    "                                n_categories=10,\n",
    "                                imbalance=0.0,\n",
    "                                noise=1.0,\n",
    "                                n_cont_features=0,\n",
    "                                cont_weight=0.1,\n",
    "                                interactions=0.0):\n",
    "    \"\"\"Generate a regression problem with categorical features.\n",
    "  \n",
    "    Parameters\n",
    "    ----------\n",
    "    n_samples : int > 0\n",
    "        Number of samples to generate\n",
    "        Default = 100\n",
    "    n_features : int > 0\n",
    "        Number of categorical features to generate\n",
    "        Default = 10\n",
    "    n_informative : int >= 0\n",
    "        Number of features which carry information about the target.\n",
    "        Default = 10\n",
    "    n_categories : int > 0\n",
    "        Number of categories per feature.  Default = 10\n",
    "    imbalance : float > 0\n",
    "        How much imbalance there is in the number of occurrences of\n",
    "        each category.  Larger values yield a higher concentration\n",
    "        of samples in only a few categories.  An imbalance of 0 \n",
    "        yields the same number of samples in each category.\n",
    "        Default = 0.0\n",
    "    noise : float > 0\n",
    "        Noise to add to target.  Default = 1.0\n",
    "    n_cont_features : int >= 0\n",
    "        Number of continuous (non-categorical) features.\n",
    "        Default = 0\n",
    "    cont_weight : float > 0\n",
    "        Weight of the continuous variables' effect.\n",
    "        Default = 0.1\n",
    "    interactions : float >= 0 and <= 1\n",
    "        Proportion of the variance due to interaction effects.\n",
    "        Note that this only adds interaction effects between the \n",
    "        categorical features, not the continuous features.\n",
    "        Default = 0.0\n",
    "        \n",
    "    Returns\n",
    "    -------\n",
    "    X : pandas DataFrame\n",
    "        Features.  Of shape (n_samples, n_features+n_cont_features)\n",
    "    y : pandas Series of shape (n_samples,)\n",
    "        Target variable.\n",
    "    \"\"\"\n",
    "    \n",
    "    \n",
    "    def beta_binomial(n, a, b):\n",
    "        \"\"\"Beta-binomial probability mass function.\n",
    "        \n",
    "        Parameters\n",
    "        ----------\n",
    "        n : int\n",
    "            Number of trials\n",
    "        a : float > 0\n",
    "            Alpha parameter\n",
    "        b : float > 0\n",
    "            Beta parameter\n",
    "            \n",
    "        Returns\n",
    "        -------\n",
    "        ndarray of size (n,)\n",
    "            Probability mass function.\n",
    "        \"\"\"\n",
    "        from scipy.special import beta\n",
    "        from scipy.special import comb\n",
    "        k = np.arange(n+1)\n",
    "        return comb(n, k)*beta(k+a, n-k+b)/beta(a, b)\n",
    "\n",
    "\n",
    "    # Check inputs\n",
    "    if not isinstance(n_samples, int):\n",
    "        raise TypeError('n_samples must be an int')\n",
    "    if n_samples < 1:\n",
    "        raise ValueError('n_samples must be one or greater')\n",
    "    if not isinstance(n_features, int):\n",
    "        raise TypeError('n_features must be an int')\n",
    "    if n_features < 1:\n",
    "        raise ValueError('n_features must be one or greater')\n",
    "    if not isinstance(n_informative, int):\n",
    "        raise TypeError('n_informative must be an int')\n",
    "    if n_informative < 0:\n",
    "        raise ValueError('n_informative must be non-negative')\n",
    "    if not isinstance(n_categories, int):\n",
    "        raise TypeError('n_categories must be an int')\n",
    "    if n_categories < 1:\n",
    "        raise ValueError('n_categories must be one or greater')\n",
    "    if not isinstance(imbalance, float):\n",
    "        raise TypeError('imbalance must be a float')\n",
    "    if imbalance < 0:\n",
    "        raise ValueError('imbalance must be non-negative')\n",
    "    if not isinstance(noise, float):\n",
    "        raise TypeError('noise must be a float')\n",
    "    if noise < 0:\n",
    "        raise ValueError('noise must be positive')\n",
    "    if not isinstance(n_cont_features, int):\n",
    "        raise TypeError('n_cont_features must be an int')\n",
    "    if n_cont_features < 0:\n",
    "        raise ValueError('n_cont_features must be non-negative')\n",
    "    if not isinstance(cont_weight, float):\n",
    "        raise TypeError('cont_weight must be a float')\n",
    "    if cont_weight < 0:\n",
    "        raise ValueError('cont_weight must be non-negative')\n",
    "    if not isinstance(interactions, float):\n",
    "        raise TypeError('interactions must be a float')\n",
    "    if interactions < 0:\n",
    "        raise ValueError('interactions must be non-negative')\n",
    "        \n",
    "    # Generate random categorical data (using category probabilities\n",
    "    # drawn from a beta-binomial dist w/ alpha=1, beta=imbalance+1)\n",
    "    cat_probs = beta_binomial(n_categories-1, 1.0, imbalance+1)\n",
    "    categories = np.empty((n_samples, n_features), dtype='uint64')\n",
    "    for iC in range(n_features):\n",
    "        categories[:,iC] = np.random.choice(np.arange(n_categories),\n",
    "                                            size=n_samples,\n",
    "                                            p=cat_probs)\n",
    "        \n",
    "    # Generate random values for each category\n",
    "    cat_vals = np.random.randn(n_categories, n_features)\n",
    "    \n",
    "    # Set non-informative columns' effect to 0\n",
    "    cat_vals[:,:(n_features-n_informative)] = 0\n",
    "    \n",
    "    # Compute target variable from those categories and their values\n",
    "    y = np.zeros(n_samples)\n",
    "    for iC in range(n_features):\n",
    "        y += (1.0-interactions) * cat_vals[categories[:,iC], iC]\n",
    "      \n",
    "    # Add interaction effects\n",
    "    if interactions > 0:\n",
    "        for iC1 in range(n_informative):\n",
    "            for iC2 in range(iC1+1, n_informative):\n",
    "                int_vals = np.random.randn(n_categories, #interaction\n",
    "                                           n_categories) #effects\n",
    "                y += interactions * int_vals[categories[:,iC1],\n",
    "                                             categories[:,iC2]]\n",
    "    \n",
    "    # Add noise\n",
    "    y += noise*np.random.randn(n_samples)\n",
    "    \n",
    "    # Generate dataframe from categories\n",
    "    cat_strs = [''.join([chr(ord(c)+49) for c in str(n)]) \n",
    "                for n in range(n_categories)]\n",
    "    X = pd.DataFrame()\n",
    "    for iC in range(n_features):\n",
    "        col_str = 'categorical_'+str(iC)\n",
    "        X[col_str] = [cat_strs[i] for i in categories[:,iC]]\n",
    "        \n",
    "    # Add continuous features\n",
    "    for iC in range(n_cont_features):\n",
    "        col_str = 'continuous_'+str(iC)\n",
    "        X[col_str] = cont_weight*np.random.randn(n_samples)\n",
    "        y += np.random.randn()*X[col_str]\n",
    "                    \n",
    "    # Generate series from target\n",
    "    y = pd.Series(data=y, index=X.index)\n",
    "    \n",
    "    for col in X:\n",
    "\n",
    "        add_miss_rat = 0.08\n",
    "        vals_to_nan = X[col].dropna().sample(frac=add_miss_rat).index\n",
    "        X.loc[vals_to_nan, col] = np.NaN\n",
    "    \n",
    "    # Return features and target\n",
    "    return X, y"
   ]
  },
  {
   "cell_type": "markdown",
   "metadata": {
    "id": "kkB_atSkf30m"
   },
   "source": [
    "Создадим задачу регрессии с 10 категориальными признаками, количество образцов равно 2000, в каждом признаке не более 10 значений + пропуски. "
   ]
  },
  {
   "cell_type": "code",
   "execution_count": 5,
   "metadata": {
    "id": "RnHHmJlIw-AK"
   },
   "outputs": [],
   "source": [
    "# Generate categorical data and target\n",
    "X, y = make_categorical_regression(n_samples=2000,\n",
    "                                   n_features=10,\n",
    "                                   n_categories=10,\n",
    "                                   n_informative=1,\n",
    "                                   imbalance=2.0)\n",
    "\n",
    "# Split into test and training data\n",
    "X_train, X_test, y_train, y_test = train_test_split(\n",
    "    X, y, test_size=0.5)"
   ]
  },
  {
   "cell_type": "code",
   "execution_count": 6,
   "metadata": {
    "colab": {
     "base_uri": "https://localhost:8080/",
     "height": 359
    },
    "id": "iBiFTq5S4Mtn",
    "outputId": "dd75d121-7f6a-4469-fcd4-e9625442d8bf"
   },
   "outputs": [
    {
     "data": {
      "text/html": [
       "<div>\n",
       "<style scoped>\n",
       "    .dataframe tbody tr th:only-of-type {\n",
       "        vertical-align: middle;\n",
       "    }\n",
       "\n",
       "    .dataframe tbody tr th {\n",
       "        vertical-align: top;\n",
       "    }\n",
       "\n",
       "    .dataframe thead th {\n",
       "        text-align: right;\n",
       "    }\n",
       "</style>\n",
       "<table border=\"1\" class=\"dataframe\">\n",
       "  <thead>\n",
       "    <tr style=\"text-align: right;\">\n",
       "      <th></th>\n",
       "      <th>categorical_0</th>\n",
       "      <th>categorical_1</th>\n",
       "      <th>categorical_2</th>\n",
       "      <th>categorical_3</th>\n",
       "      <th>categorical_4</th>\n",
       "      <th>categorical_5</th>\n",
       "      <th>categorical_6</th>\n",
       "      <th>categorical_7</th>\n",
       "      <th>categorical_8</th>\n",
       "      <th>categorical_9</th>\n",
       "    </tr>\n",
       "  </thead>\n",
       "  <tbody>\n",
       "    <tr>\n",
       "      <th>878</th>\n",
       "      <td>d</td>\n",
       "      <td>a</td>\n",
       "      <td>b</td>\n",
       "      <td>f</td>\n",
       "      <td>c</td>\n",
       "      <td>e</td>\n",
       "      <td>a</td>\n",
       "      <td>b</td>\n",
       "      <td>f</td>\n",
       "      <td>d</td>\n",
       "    </tr>\n",
       "    <tr>\n",
       "      <th>988</th>\n",
       "      <td>f</td>\n",
       "      <td>e</td>\n",
       "      <td>a</td>\n",
       "      <td>a</td>\n",
       "      <td>f</td>\n",
       "      <td>a</td>\n",
       "      <td>a</td>\n",
       "      <td>a</td>\n",
       "      <td>c</td>\n",
       "      <td>e</td>\n",
       "    </tr>\n",
       "    <tr>\n",
       "      <th>305</th>\n",
       "      <td>g</td>\n",
       "      <td>g</td>\n",
       "      <td>c</td>\n",
       "      <td>d</td>\n",
       "      <td>b</td>\n",
       "      <td>c</td>\n",
       "      <td>a</td>\n",
       "      <td>c</td>\n",
       "      <td>c</td>\n",
       "      <td>b</td>\n",
       "    </tr>\n",
       "    <tr>\n",
       "      <th>1644</th>\n",
       "      <td>e</td>\n",
       "      <td>a</td>\n",
       "      <td>b</td>\n",
       "      <td>b</td>\n",
       "      <td>a</td>\n",
       "      <td>a</td>\n",
       "      <td>d</td>\n",
       "      <td>g</td>\n",
       "      <td>NaN</td>\n",
       "      <td>d</td>\n",
       "    </tr>\n",
       "    <tr>\n",
       "      <th>489</th>\n",
       "      <td>e</td>\n",
       "      <td>b</td>\n",
       "      <td>a</td>\n",
       "      <td>a</td>\n",
       "      <td>d</td>\n",
       "      <td>a</td>\n",
       "      <td>b</td>\n",
       "      <td>c</td>\n",
       "      <td>a</td>\n",
       "      <td>c</td>\n",
       "    </tr>\n",
       "    <tr>\n",
       "      <th>1900</th>\n",
       "      <td>a</td>\n",
       "      <td>NaN</td>\n",
       "      <td>e</td>\n",
       "      <td>NaN</td>\n",
       "      <td>a</td>\n",
       "      <td>NaN</td>\n",
       "      <td>a</td>\n",
       "      <td>e</td>\n",
       "      <td>d</td>\n",
       "      <td>c</td>\n",
       "    </tr>\n",
       "    <tr>\n",
       "      <th>213</th>\n",
       "      <td>d</td>\n",
       "      <td>b</td>\n",
       "      <td>NaN</td>\n",
       "      <td>d</td>\n",
       "      <td>NaN</td>\n",
       "      <td>b</td>\n",
       "      <td>a</td>\n",
       "      <td>b</td>\n",
       "      <td>c</td>\n",
       "      <td>c</td>\n",
       "    </tr>\n",
       "    <tr>\n",
       "      <th>474</th>\n",
       "      <td>b</td>\n",
       "      <td>b</td>\n",
       "      <td>a</td>\n",
       "      <td>d</td>\n",
       "      <td>c</td>\n",
       "      <td>NaN</td>\n",
       "      <td>c</td>\n",
       "      <td>d</td>\n",
       "      <td>a</td>\n",
       "      <td>e</td>\n",
       "    </tr>\n",
       "    <tr>\n",
       "      <th>347</th>\n",
       "      <td>b</td>\n",
       "      <td>b</td>\n",
       "      <td>b</td>\n",
       "      <td>b</td>\n",
       "      <td>d</td>\n",
       "      <td>f</td>\n",
       "      <td>d</td>\n",
       "      <td>c</td>\n",
       "      <td>e</td>\n",
       "      <td>c</td>\n",
       "    </tr>\n",
       "    <tr>\n",
       "      <th>1496</th>\n",
       "      <td>e</td>\n",
       "      <td>a</td>\n",
       "      <td>a</td>\n",
       "      <td>b</td>\n",
       "      <td>b</td>\n",
       "      <td>b</td>\n",
       "      <td>a</td>\n",
       "      <td>d</td>\n",
       "      <td>NaN</td>\n",
       "      <td>NaN</td>\n",
       "    </tr>\n",
       "  </tbody>\n",
       "</table>\n",
       "</div>"
      ],
      "text/plain": [
       "     categorical_0 categorical_1 categorical_2 categorical_3 categorical_4  \\\n",
       "878              d             a             b             f             c   \n",
       "988              f             e             a             a             f   \n",
       "305              g             g             c             d             b   \n",
       "1644             e             a             b             b             a   \n",
       "489              e             b             a             a             d   \n",
       "1900             a           NaN             e           NaN             a   \n",
       "213              d             b           NaN             d           NaN   \n",
       "474              b             b             a             d             c   \n",
       "347              b             b             b             b             d   \n",
       "1496             e             a             a             b             b   \n",
       "\n",
       "     categorical_5 categorical_6 categorical_7 categorical_8 categorical_9  \n",
       "878              e             a             b             f             d  \n",
       "988              a             a             a             c             e  \n",
       "305              c             a             c             c             b  \n",
       "1644             a             d             g           NaN             d  \n",
       "489              a             b             c             a             c  \n",
       "1900           NaN             a             e             d             c  \n",
       "213              b             a             b             c             c  \n",
       "474            NaN             c             d             a             e  \n",
       "347              f             d             c             e             c  \n",
       "1496             b             a             d           NaN           NaN  "
      ]
     },
     "execution_count": 6,
     "metadata": {},
     "output_type": "execute_result"
    }
   ],
   "source": [
    "X_train.head(10)"
   ]
  },
  {
   "cell_type": "code",
   "execution_count": 7,
   "metadata": {
    "colab": {
     "base_uri": "https://localhost:8080/"
    },
    "id": "P4w8j3CzVV7_",
    "outputId": "ccc0bd33-9164-4438-9b62-9e79317099c7"
   },
   "outputs": [
    {
     "data": {
      "text/plain": [
       "11"
      ]
     },
     "execution_count": 7,
     "metadata": {},
     "output_type": "execute_result"
    }
   ],
   "source": [
    "len(X_train['categorical_1'].unique())"
   ]
  },
  {
   "cell_type": "code",
   "execution_count": 8,
   "metadata": {
    "colab": {
     "base_uri": "https://localhost:8080/"
    },
    "id": "9J21TQ-_WPI6",
    "outputId": "433ce3ca-22ad-4f48-8de6-1c71b99d4944"
   },
   "outputs": [
    {
     "name": "stdout",
     "output_type": "stream",
     "text": [
      "number of values in categorical_0 = 10\n",
      "number of values in categorical_1 = 11\n",
      "number of values in categorical_2 = 11\n",
      "number of values in categorical_3 = 11\n",
      "number of values in categorical_4 = 11\n",
      "number of values in categorical_5 = 11\n",
      "number of values in categorical_6 = 11\n",
      "number of values in categorical_7 = 11\n",
      "number of values in categorical_8 = 11\n",
      "number of values in categorical_9 = 11\n"
     ]
    }
   ],
   "source": [
    "for column in X_train.columns:\n",
    "    print(f'number of values in {column} = {len(X_train[column].unique())}')"
   ]
  },
  {
   "cell_type": "code",
   "execution_count": 9,
   "metadata": {
    "colab": {
     "base_uri": "https://localhost:8080/"
    },
    "id": "8rd7D-AMWSZ-",
    "outputId": "c59a13c0-4520-41e7-cd89-89f2c38651c2"
   },
   "outputs": [
    {
     "data": {
      "text/plain": [
       "878     1.419698\n",
       "988    -1.192324\n",
       "305    -0.231321\n",
       "1644    2.574482\n",
       "489     2.415126\n",
       "          ...   \n",
       "1397    2.630310\n",
       "1789    2.401440\n",
       "373     1.851736\n",
       "614     0.589433\n",
       "181     2.258698\n",
       "Length: 1000, dtype: float64"
      ]
     },
     "execution_count": 9,
     "metadata": {},
     "output_type": "execute_result"
    }
   ],
   "source": [
    "y_train"
   ]
  },
  {
   "cell_type": "code",
   "execution_count": 10,
   "metadata": {
    "colab": {
     "base_uri": "https://localhost:8080/",
     "height": 282
    },
    "id": "y_82h44JyBW7",
    "outputId": "a12a67e2-db04-49fe-bcaf-ae465502c468"
   },
   "outputs": [
    {
     "data": {
      "text/plain": [
       "<AxesSubplot:>"
      ]
     },
     "execution_count": 10,
     "metadata": {},
     "output_type": "execute_result"
    },
    {
     "data": {
      "image/png": "[encoded data removed]",
      "text/plain": [
       "<Figure size 432x288 with 1 Axes>"
      ]
     },
     "metadata": {
      "needs_background": "light"
     },
     "output_type": "display_data"
    }
   ],
   "source": [
    "y_train.hist(bins=20)"
   ]
  },
  {
   "cell_type": "markdown",
   "metadata": {
    "id": "7gsbU-a4ArVl"
   },
   "source": [
    "## Baseline (МАЕ)"
   ]
  },
  {
   "cell_type": "markdown",
   "metadata": {
    "id": "GbZ8NftngKcL"
   },
   "source": [
    "Для оценки будет использовать среднее абсолютное значение"
   ]
  },
  {
   "cell_type": "code",
   "execution_count": 11,
   "metadata": {
    "id": "0b4mrzo6WXjK"
   },
   "outputs": [],
   "source": [
    "errors = {'method': [],'train':[], 'test':[], 'shape': []}"
   ]
  },
  {
   "cell_type": "code",
   "execution_count": 12,
   "metadata": {
    "id": "tBoDohi7W9p7"
   },
   "outputs": [],
   "source": [
    "errors['method'] += ['Raw MAE']\n",
    "errors['shape'] += [X_train.shape[1]]"
   ]
  },
  {
   "cell_type": "code",
   "execution_count": 13,
   "metadata": {
    "colab": {
     "base_uri": "https://localhost:8080/"
    },
    "id": "UTQOgHegAqhh",
    "outputId": "15b813be-5620-42c3-a662-07a500d92a27"
   },
   "outputs": [
    {
     "name": "stdout",
     "output_type": "stream",
     "text": [
      "1.1527288324743703\n"
     ]
    }
   ],
   "source": [
    "print(mean_absolute_error(y_train, \n",
    "                    np.full(y_train.shape[0], y_train.mean())))\n",
    "\n",
    "errors['train'] += [mean_absolute_error(y_train, \n",
    "                    np.full(y_train.shape[0], y_train.mean()))]"
   ]
  },
  {
   "cell_type": "code",
   "execution_count": 14,
   "metadata": {
    "colab": {
     "base_uri": "https://localhost:8080/"
    },
    "id": "AESG2KYUVV8C",
    "outputId": "8e091144-fa4f-4a31-be98-e4a36d420260"
   },
   "outputs": [
    {
     "name": "stdout",
     "output_type": "stream",
     "text": [
      "1.152976907674121\n"
     ]
    }
   ],
   "source": [
    "print(mean_absolute_error(y_test, \n",
    "                    np.full(y_test.shape[0], y_train.mean())))\n",
    "\n",
    "errors['test'] += [mean_absolute_error(y_test, \n",
    "                    np.full(y_test.shape[0], y_train.mean()))]"
   ]
  },
  {
   "cell_type": "code",
   "execution_count": null,
   "metadata": {},
   "outputs": [],
   "source": []
  },
  {
   "cell_type": "code",
   "execution_count": 15,
   "metadata": {
    "colab": {
     "base_uri": "https://localhost:8080/",
     "height": 80
    },
    "id": "Rmug96Yyx1b7",
    "outputId": "7578d4cf-58d6-4e31-a78f-39f1825595f3"
   },
   "outputs": [
    {
     "data": {
      "text/html": [
       "<div>\n",
       "<style scoped>\n",
       "    .dataframe tbody tr th:only-of-type {\n",
       "        vertical-align: middle;\n",
       "    }\n",
       "\n",
       "    .dataframe tbody tr th {\n",
       "        vertical-align: top;\n",
       "    }\n",
       "\n",
       "    .dataframe thead th {\n",
       "        text-align: right;\n",
       "    }\n",
       "</style>\n",
       "<table border=\"1\" class=\"dataframe\">\n",
       "  <thead>\n",
       "    <tr style=\"text-align: right;\">\n",
       "      <th></th>\n",
       "      <th>method</th>\n",
       "      <th>train</th>\n",
       "      <th>test</th>\n",
       "      <th>shape</th>\n",
       "    </tr>\n",
       "  </thead>\n",
       "  <tbody>\n",
       "    <tr>\n",
       "      <th>0</th>\n",
       "      <td>Raw MAE</td>\n",
       "      <td>1.152729</td>\n",
       "      <td>1.152977</td>\n",
       "      <td>10</td>\n",
       "    </tr>\n",
       "  </tbody>\n",
       "</table>\n",
       "</div>"
      ],
      "text/plain": [
       "    method     train      test  shape\n",
       "0  Raw MAE  1.152729  1.152977     10"
      ]
     },
     "execution_count": 15,
     "metadata": {},
     "output_type": "execute_result"
    }
   ],
   "source": [
    "pd.DataFrame(errors)"
   ]
  },
  {
   "cell_type": "markdown",
   "metadata": {
    "id": "-nYer_bfVV8D"
   },
   "source": [
    "## Ordinal Encoder"
   ]
  },
  {
   "cell_type": "code",
   "execution_count": 16,
   "metadata": {
    "colab": {
     "base_uri": "https://localhost:8080/",
     "height": 359
    },
    "id": "Y2YJidsuC0if",
    "outputId": "9659f3d1-70f0-4f7d-957d-8b392549790e"
   },
   "outputs": [
    {
     "data": {
      "text/html": [
       "<div>\n",
       "<style scoped>\n",
       "    .dataframe tbody tr th:only-of-type {\n",
       "        vertical-align: middle;\n",
       "    }\n",
       "\n",
       "    .dataframe tbody tr th {\n",
       "        vertical-align: top;\n",
       "    }\n",
       "\n",
       "    .dataframe thead th {\n",
       "        text-align: right;\n",
       "    }\n",
       "</style>\n",
       "<table border=\"1\" class=\"dataframe\">\n",
       "  <thead>\n",
       "    <tr style=\"text-align: right;\">\n",
       "      <th></th>\n",
       "      <th>categorical_0</th>\n",
       "      <th>categorical_1</th>\n",
       "      <th>categorical_2</th>\n",
       "      <th>categorical_3</th>\n",
       "      <th>categorical_4</th>\n",
       "      <th>categorical_5</th>\n",
       "      <th>categorical_6</th>\n",
       "      <th>categorical_7</th>\n",
       "      <th>categorical_8</th>\n",
       "      <th>categorical_9</th>\n",
       "    </tr>\n",
       "  </thead>\n",
       "  <tbody>\n",
       "    <tr>\n",
       "      <th>878</th>\n",
       "      <td>1</td>\n",
       "      <td>1</td>\n",
       "      <td>1</td>\n",
       "      <td>1</td>\n",
       "      <td>1</td>\n",
       "      <td>1</td>\n",
       "      <td>1</td>\n",
       "      <td>1</td>\n",
       "      <td>1</td>\n",
       "      <td>1</td>\n",
       "    </tr>\n",
       "    <tr>\n",
       "      <th>988</th>\n",
       "      <td>2</td>\n",
       "      <td>2</td>\n",
       "      <td>2</td>\n",
       "      <td>2</td>\n",
       "      <td>2</td>\n",
       "      <td>2</td>\n",
       "      <td>1</td>\n",
       "      <td>2</td>\n",
       "      <td>2</td>\n",
       "      <td>2</td>\n",
       "    </tr>\n",
       "    <tr>\n",
       "      <th>305</th>\n",
       "      <td>3</td>\n",
       "      <td>3</td>\n",
       "      <td>3</td>\n",
       "      <td>3</td>\n",
       "      <td>3</td>\n",
       "      <td>3</td>\n",
       "      <td>1</td>\n",
       "      <td>3</td>\n",
       "      <td>2</td>\n",
       "      <td>3</td>\n",
       "    </tr>\n",
       "    <tr>\n",
       "      <th>1644</th>\n",
       "      <td>4</td>\n",
       "      <td>1</td>\n",
       "      <td>1</td>\n",
       "      <td>4</td>\n",
       "      <td>4</td>\n",
       "      <td>2</td>\n",
       "      <td>2</td>\n",
       "      <td>4</td>\n",
       "      <td>11</td>\n",
       "      <td>1</td>\n",
       "    </tr>\n",
       "    <tr>\n",
       "      <th>489</th>\n",
       "      <td>4</td>\n",
       "      <td>4</td>\n",
       "      <td>2</td>\n",
       "      <td>2</td>\n",
       "      <td>5</td>\n",
       "      <td>2</td>\n",
       "      <td>3</td>\n",
       "      <td>3</td>\n",
       "      <td>3</td>\n",
       "      <td>4</td>\n",
       "    </tr>\n",
       "    <tr>\n",
       "      <th>1900</th>\n",
       "      <td>5</td>\n",
       "      <td>11</td>\n",
       "      <td>4</td>\n",
       "      <td>11</td>\n",
       "      <td>4</td>\n",
       "      <td>11</td>\n",
       "      <td>1</td>\n",
       "      <td>5</td>\n",
       "      <td>4</td>\n",
       "      <td>4</td>\n",
       "    </tr>\n",
       "    <tr>\n",
       "      <th>213</th>\n",
       "      <td>1</td>\n",
       "      <td>4</td>\n",
       "      <td>11</td>\n",
       "      <td>3</td>\n",
       "      <td>11</td>\n",
       "      <td>4</td>\n",
       "      <td>1</td>\n",
       "      <td>1</td>\n",
       "      <td>2</td>\n",
       "      <td>4</td>\n",
       "    </tr>\n",
       "    <tr>\n",
       "      <th>474</th>\n",
       "      <td>6</td>\n",
       "      <td>4</td>\n",
       "      <td>2</td>\n",
       "      <td>3</td>\n",
       "      <td>1</td>\n",
       "      <td>11</td>\n",
       "      <td>4</td>\n",
       "      <td>6</td>\n",
       "      <td>3</td>\n",
       "      <td>2</td>\n",
       "    </tr>\n",
       "    <tr>\n",
       "      <th>347</th>\n",
       "      <td>6</td>\n",
       "      <td>4</td>\n",
       "      <td>1</td>\n",
       "      <td>4</td>\n",
       "      <td>5</td>\n",
       "      <td>5</td>\n",
       "      <td>2</td>\n",
       "      <td>3</td>\n",
       "      <td>5</td>\n",
       "      <td>4</td>\n",
       "    </tr>\n",
       "    <tr>\n",
       "      <th>1496</th>\n",
       "      <td>4</td>\n",
       "      <td>1</td>\n",
       "      <td>2</td>\n",
       "      <td>4</td>\n",
       "      <td>3</td>\n",
       "      <td>4</td>\n",
       "      <td>1</td>\n",
       "      <td>6</td>\n",
       "      <td>11</td>\n",
       "      <td>11</td>\n",
       "    </tr>\n",
       "  </tbody>\n",
       "</table>\n",
       "</div>"
      ],
      "text/plain": [
       "      categorical_0  categorical_1  categorical_2  categorical_3  \\\n",
       "878               1              1              1              1   \n",
       "988               2              2              2              2   \n",
       "305               3              3              3              3   \n",
       "1644              4              1              1              4   \n",
       "489               4              4              2              2   \n",
       "1900              5             11              4             11   \n",
       "213               1              4             11              3   \n",
       "474               6              4              2              3   \n",
       "347               6              4              1              4   \n",
       "1496              4              1              2              4   \n",
       "\n",
       "      categorical_4  categorical_5  categorical_6  categorical_7  \\\n",
       "878               1              1              1              1   \n",
       "988               2              2              1              2   \n",
       "305               3              3              1              3   \n",
       "1644              4              2              2              4   \n",
       "489               5              2              3              3   \n",
       "1900              4             11              1              5   \n",
       "213              11              4              1              1   \n",
       "474               1             11              4              6   \n",
       "347               5              5              2              3   \n",
       "1496              3              4              1              6   \n",
       "\n",
       "      categorical_8  categorical_9  \n",
       "878               1              1  \n",
       "988               2              2  \n",
       "305               2              3  \n",
       "1644             11              1  \n",
       "489               3              4  \n",
       "1900              4              4  \n",
       "213               2              4  \n",
       "474               3              2  \n",
       "347               5              4  \n",
       "1496             11             11  "
      ]
     },
     "execution_count": 16,
     "metadata": {},
     "output_type": "execute_result"
    }
   ],
   "source": [
    "# Label encode the categorical data\n",
    "errors['method'] += ['Ordinary Encoder']\n",
    "le = OrdinalEncoder()\n",
    "X_label_encoded = le.fit_transform(X_train, y_train)\n",
    "errors['shape'] += [X_label_encoded.shape[1]]\n",
    "X_label_encoded.head(10)"
   ]
  },
  {
   "cell_type": "code",
   "execution_count": 17,
   "metadata": {
    "colab": {
     "base_uri": "https://localhost:8080/"
    },
    "id": "5Ix7BL-SVV8E",
    "outputId": "4f68fb37-1405-431b-ec6d-3c3fda212d9d"
   },
   "outputs": [
    {
     "data": {
      "text/plain": [
       "array([ 1,  2,  3,  4,  5,  6,  7,  8, 10,  9])"
      ]
     },
     "execution_count": 17,
     "metadata": {},
     "output_type": "execute_result"
    }
   ],
   "source": [
    "X_label_encoded['categorical_0'].unique()"
   ]
  },
  {
   "cell_type": "code",
   "execution_count": 18,
   "metadata": {
    "colab": {
     "base_uri": "https://localhost:8080/"
    },
    "id": "u4Nibf2SW061",
    "outputId": "d2b4b581-e1df-4c8f-d32b-dea55d0b493d"
   },
   "outputs": [
    {
     "name": "stdout",
     "output_type": "stream",
     "text": [
      "Cross-validated MAE: 1.154 +/- 0.026\n"
     ]
    }
   ],
   "source": [
    "# Regression model\n",
    "model_le = Pipeline([\n",
    "    ('label-encoder', OrdinalEncoder()),\n",
    "    ('imputer', SimpleImputer(strategy='most_frequent')),\n",
    "    ('scaler', StandardScaler()),\n",
    "    ('regressor', Ridge())\n",
    "])\n",
    "\n",
    "# Cross-validated MAE\n",
    "mae_scorer = make_scorer(mean_absolute_error)\n",
    "scores = cross_val_score(model_le, X_train, y_train, \n",
    "                         cv=3, scoring=mae_scorer)\n",
    "print('Cross-validated MAE: %0.3f +/- %0.3f'\n",
    "      % (scores.mean(), scores.std()))\n",
    "\n",
    "errors['train'] += [scores.mean()]"
   ]
  },
  {
   "cell_type": "code",
   "execution_count": 19,
   "metadata": {
    "colab": {
     "base_uri": "https://localhost:8080/"
    },
    "id": "m9Depw3LbhbG",
    "outputId": "ffb18511-e5a9-4d8d-932b-95eafafd40ce"
   },
   "outputs": [
    {
     "name": "stdout",
     "output_type": "stream",
     "text": [
      "Validation MAE: 1.142\n"
     ]
    }
   ],
   "source": [
    "# MAE on test data\n",
    "model_le.fit(X_train, y_train)\n",
    "y_pred = model_le.predict(X_test)\n",
    "test_mae = mean_absolute_error(y_test, y_pred)\n",
    "print('Validation MAE: %0.3f' % test_mae)\n",
    "errors['test'] += [test_mae]"
   ]
  },
  {
   "cell_type": "code",
   "execution_count": 20,
   "metadata": {
    "colab": {
     "base_uri": "https://localhost:8080/"
    },
    "id": "ajF4v_pnYaCg",
    "outputId": "36628c03-9a6f-43be-ed7c-605860411167"
   },
   "outputs": [
    {
     "data": {
      "text/html": [
       "<div>\n",
       "<style scoped>\n",
       "    .dataframe tbody tr th:only-of-type {\n",
       "        vertical-align: middle;\n",
       "    }\n",
       "\n",
       "    .dataframe tbody tr th {\n",
       "        vertical-align: top;\n",
       "    }\n",
       "\n",
       "    .dataframe thead th {\n",
       "        text-align: right;\n",
       "    }\n",
       "</style>\n",
       "<table border=\"1\" class=\"dataframe\">\n",
       "  <thead>\n",
       "    <tr style=\"text-align: right;\">\n",
       "      <th></th>\n",
       "      <th>method</th>\n",
       "      <th>train</th>\n",
       "      <th>test</th>\n",
       "      <th>shape</th>\n",
       "    </tr>\n",
       "  </thead>\n",
       "  <tbody>\n",
       "    <tr>\n",
       "      <th>0</th>\n",
       "      <td>Raw MAE</td>\n",
       "      <td>1.152729</td>\n",
       "      <td>1.152977</td>\n",
       "      <td>10</td>\n",
       "    </tr>\n",
       "    <tr>\n",
       "      <th>1</th>\n",
       "      <td>Ordinary Encoder</td>\n",
       "      <td>1.153679</td>\n",
       "      <td>1.141711</td>\n",
       "      <td>10</td>\n",
       "    </tr>\n",
       "  </tbody>\n",
       "</table>\n",
       "</div>"
      ],
      "text/plain": [
       "             method     train      test  shape\n",
       "0           Raw MAE  1.152729  1.152977     10\n",
       "1  Ordinary Encoder  1.153679  1.141711     10"
      ]
     },
     "execution_count": 20,
     "metadata": {},
     "output_type": "execute_result"
    }
   ],
   "source": [
    "pd.DataFrame(errors)"
   ]
  },
  {
   "cell_type": "markdown",
   "metadata": {
    "id": "0aRgdsXsYpUR"
   },
   "source": [
    "## Count Encoding"
   ]
  },
  {
   "cell_type": "code",
   "execution_count": 21,
   "metadata": {
    "colab": {
     "base_uri": "https://localhost:8080/",
     "height": 204
    },
    "id": "iL0ZHAbYY3bt",
    "outputId": "27c6983a-78c5-4b1a-c68e-bb42dc3ceb71"
   },
   "outputs": [
    {
     "data": {
      "text/html": [
       "<div>\n",
       "<style scoped>\n",
       "    .dataframe tbody tr th:only-of-type {\n",
       "        vertical-align: middle;\n",
       "    }\n",
       "\n",
       "    .dataframe tbody tr th {\n",
       "        vertical-align: top;\n",
       "    }\n",
       "\n",
       "    .dataframe thead th {\n",
       "        text-align: right;\n",
       "    }\n",
       "</style>\n",
       "<table border=\"1\" class=\"dataframe\">\n",
       "  <thead>\n",
       "    <tr style=\"text-align: right;\">\n",
       "      <th></th>\n",
       "      <th>categorical_0</th>\n",
       "      <th>categorical_1</th>\n",
       "      <th>categorical_2</th>\n",
       "      <th>categorical_3</th>\n",
       "      <th>categorical_4</th>\n",
       "      <th>categorical_5</th>\n",
       "      <th>categorical_6</th>\n",
       "      <th>categorical_7</th>\n",
       "      <th>categorical_8</th>\n",
       "      <th>categorical_9</th>\n",
       "    </tr>\n",
       "  </thead>\n",
       "  <tbody>\n",
       "    <tr>\n",
       "      <th>878</th>\n",
       "      <td>138</td>\n",
       "      <td>218</td>\n",
       "      <td>185</td>\n",
       "      <td>63</td>\n",
       "      <td>153</td>\n",
       "      <td>91</td>\n",
       "      <td>212</td>\n",
       "      <td>164</td>\n",
       "      <td>56</td>\n",
       "      <td>120</td>\n",
       "    </tr>\n",
       "    <tr>\n",
       "      <th>988</th>\n",
       "      <td>66</td>\n",
       "      <td>90</td>\n",
       "      <td>231</td>\n",
       "      <td>236</td>\n",
       "      <td>75</td>\n",
       "      <td>233</td>\n",
       "      <td>212</td>\n",
       "      <td>222</td>\n",
       "      <td>153</td>\n",
       "      <td>73</td>\n",
       "    </tr>\n",
       "    <tr>\n",
       "      <th>305</th>\n",
       "      <td>37</td>\n",
       "      <td>37</td>\n",
       "      <td>149</td>\n",
       "      <td>115</td>\n",
       "      <td>182</td>\n",
       "      <td>144</td>\n",
       "      <td>212</td>\n",
       "      <td>152</td>\n",
       "      <td>153</td>\n",
       "      <td>183</td>\n",
       "    </tr>\n",
       "    <tr>\n",
       "      <th>1644</th>\n",
       "      <td>84</td>\n",
       "      <td>218</td>\n",
       "      <td>185</td>\n",
       "      <td>192</td>\n",
       "      <td>206</td>\n",
       "      <td>233</td>\n",
       "      <td>111</td>\n",
       "      <td>51</td>\n",
       "      <td>81</td>\n",
       "      <td>120</td>\n",
       "    </tr>\n",
       "    <tr>\n",
       "      <th>489</th>\n",
       "      <td>84</td>\n",
       "      <td>182</td>\n",
       "      <td>231</td>\n",
       "      <td>236</td>\n",
       "      <td>106</td>\n",
       "      <td>233</td>\n",
       "      <td>215</td>\n",
       "      <td>152</td>\n",
       "      <td>249</td>\n",
       "      <td>153</td>\n",
       "    </tr>\n",
       "  </tbody>\n",
       "</table>\n",
       "</div>"
      ],
      "text/plain": [
       "      categorical_0  categorical_1  categorical_2  categorical_3  \\\n",
       "878             138            218            185             63   \n",
       "988              66             90            231            236   \n",
       "305              37             37            149            115   \n",
       "1644             84            218            185            192   \n",
       "489              84            182            231            236   \n",
       "\n",
       "      categorical_4  categorical_5  categorical_6  categorical_7  \\\n",
       "878             153             91            212            164   \n",
       "988              75            233            212            222   \n",
       "305             182            144            212            152   \n",
       "1644            206            233            111             51   \n",
       "489             106            233            215            152   \n",
       "\n",
       "      categorical_8  categorical_9  \n",
       "878              56            120  \n",
       "988             153             73  \n",
       "305             153            183  \n",
       "1644             81            120  \n",
       "489             249            153  "
      ]
     },
     "execution_count": 21,
     "metadata": {},
     "output_type": "execute_result"
    }
   ],
   "source": [
    "errors['method'] += ['Count Encoding']\n",
    "coue = CountEncoder()\n",
    "X_coue = coue.fit_transform(X_train, y_train)\n",
    "errors['shape'] += [X_coue.shape[1]]\n",
    "X_coue.head()"
   ]
  },
  {
   "cell_type": "code",
   "execution_count": 22,
   "metadata": {
    "colab": {
     "base_uri": "https://localhost:8080/"
    },
    "id": "01gEhSHEY8eR",
    "outputId": "7665986a-90ed-4a75-d20a-355e917c02f9"
   },
   "outputs": [
    {
     "name": "stdout",
     "output_type": "stream",
     "text": [
      "Cross-validated MAE: 1.1671290011667852 +/- 0.03569368091266391\n"
     ]
    }
   ],
   "source": [
    "# Regression model\n",
    "model_oh = Pipeline([\n",
    "    ('encoder', CountEncoder(min_group_size=1)),\n",
    "    ('scaler', StandardScaler()),\n",
    "    ('imputer', SimpleImputer(strategy='mean')),\n",
    "    ('regressor', Ridge())\n",
    "])\n",
    "\n",
    "# Cross-validated MAE\n",
    "scores = cross_val_score(model_oh, X_train, y_train, \n",
    "                         cv=3, scoring=mae_scorer)\n",
    "print('Cross-validated MAE:', scores.mean(), '+/-', scores.std())\n",
    "errors['train'] += [scores.mean()]"
   ]
  },
  {
   "cell_type": "code",
   "execution_count": 23,
   "metadata": {
    "colab": {
     "base_uri": "https://localhost:8080/"
    },
    "id": "1oIMAD2uZB0z",
    "outputId": "e2142cfa-1a92-4980-ff85-2348cfd0d1b5"
   },
   "outputs": [
    {
     "name": "stdout",
     "output_type": "stream",
     "text": [
      "Validation MAE: 1.1463631139228705\n"
     ]
    }
   ],
   "source": [
    "# MAE on test data\n",
    "model_oh.fit(X_train, y_train)\n",
    "y_pred = model_oh.predict(X_test)\n",
    "test_mae = mean_absolute_error(y_test, y_pred)\n",
    "print('Validation MAE:', test_mae)\n",
    "errors['test'] += [test_mae]"
   ]
  },
  {
   "cell_type": "code",
   "execution_count": 24,
   "metadata": {},
   "outputs": [
    {
     "data": {
      "text/html": [
       "<div>\n",
       "<style scoped>\n",
       "    .dataframe tbody tr th:only-of-type {\n",
       "        vertical-align: middle;\n",
       "    }\n",
       "\n",
       "    .dataframe tbody tr th {\n",
       "        vertical-align: top;\n",
       "    }\n",
       "\n",
       "    .dataframe thead th {\n",
       "        text-align: right;\n",
       "    }\n",
       "</style>\n",
       "<table border=\"1\" class=\"dataframe\">\n",
       "  <thead>\n",
       "    <tr style=\"text-align: right;\">\n",
       "      <th></th>\n",
       "      <th>method</th>\n",
       "      <th>train</th>\n",
       "      <th>test</th>\n",
       "      <th>shape</th>\n",
       "    </tr>\n",
       "  </thead>\n",
       "  <tbody>\n",
       "    <tr>\n",
       "      <th>0</th>\n",
       "      <td>Raw MAE</td>\n",
       "      <td>1.152729</td>\n",
       "      <td>1.152977</td>\n",
       "      <td>10</td>\n",
       "    </tr>\n",
       "    <tr>\n",
       "      <th>1</th>\n",
       "      <td>Ordinary Encoder</td>\n",
       "      <td>1.153679</td>\n",
       "      <td>1.141711</td>\n",
       "      <td>10</td>\n",
       "    </tr>\n",
       "    <tr>\n",
       "      <th>2</th>\n",
       "      <td>Count Encoding</td>\n",
       "      <td>1.167129</td>\n",
       "      <td>1.146363</td>\n",
       "      <td>10</td>\n",
       "    </tr>\n",
       "  </tbody>\n",
       "</table>\n",
       "</div>"
      ],
      "text/plain": [
       "             method     train      test  shape\n",
       "0           Raw MAE  1.152729  1.152977     10\n",
       "1  Ordinary Encoder  1.153679  1.141711     10\n",
       "2    Count Encoding  1.167129  1.146363     10"
      ]
     },
     "execution_count": 24,
     "metadata": {},
     "output_type": "execute_result"
    }
   ],
   "source": [
    "pd.DataFrame(errors)\n"
   ]
  },
  {
   "cell_type": "markdown",
   "metadata": {
    "id": "g__EEWRPLuEe"
   },
   "source": [
    "## One-Hot Encoding"
   ]
  },
  {
   "cell_type": "code",
   "execution_count": 25,
   "metadata": {
    "colab": {
     "base_uri": "https://localhost:8080/",
     "height": 253
    },
    "id": "Xg9TlgHDNRC-",
    "outputId": "254089ac-a633-429d-a252-8d5fa6d26714"
   },
   "outputs": [
    {
     "data": {
      "text/html": [
       "<div>\n",
       "<style scoped>\n",
       "    .dataframe tbody tr th:only-of-type {\n",
       "        vertical-align: middle;\n",
       "    }\n",
       "\n",
       "    .dataframe tbody tr th {\n",
       "        vertical-align: top;\n",
       "    }\n",
       "\n",
       "    .dataframe thead th {\n",
       "        text-align: right;\n",
       "    }\n",
       "</style>\n",
       "<table border=\"1\" class=\"dataframe\">\n",
       "  <thead>\n",
       "    <tr style=\"text-align: right;\">\n",
       "      <th></th>\n",
       "      <th>categorical_0_1</th>\n",
       "      <th>categorical_0_2</th>\n",
       "      <th>categorical_0_3</th>\n",
       "      <th>categorical_0_4</th>\n",
       "      <th>categorical_0_5</th>\n",
       "      <th>categorical_0_6</th>\n",
       "      <th>categorical_0_7</th>\n",
       "      <th>categorical_0_8</th>\n",
       "      <th>categorical_0_9</th>\n",
       "      <th>categorical_0_10</th>\n",
       "      <th>...</th>\n",
       "      <th>categorical_9_2</th>\n",
       "      <th>categorical_9_3</th>\n",
       "      <th>categorical_9_4</th>\n",
       "      <th>categorical_9_5</th>\n",
       "      <th>categorical_9_6</th>\n",
       "      <th>categorical_9_7</th>\n",
       "      <th>categorical_9_8</th>\n",
       "      <th>categorical_9_9</th>\n",
       "      <th>categorical_9_10</th>\n",
       "      <th>categorical_9_11</th>\n",
       "    </tr>\n",
       "  </thead>\n",
       "  <tbody>\n",
       "    <tr>\n",
       "      <th>878</th>\n",
       "      <td>1</td>\n",
       "      <td>0</td>\n",
       "      <td>0</td>\n",
       "      <td>0</td>\n",
       "      <td>0</td>\n",
       "      <td>0</td>\n",
       "      <td>0</td>\n",
       "      <td>0</td>\n",
       "      <td>0</td>\n",
       "      <td>0</td>\n",
       "      <td>...</td>\n",
       "      <td>0</td>\n",
       "      <td>0</td>\n",
       "      <td>0</td>\n",
       "      <td>0</td>\n",
       "      <td>0</td>\n",
       "      <td>0</td>\n",
       "      <td>0</td>\n",
       "      <td>0</td>\n",
       "      <td>0</td>\n",
       "      <td>0</td>\n",
       "    </tr>\n",
       "    <tr>\n",
       "      <th>988</th>\n",
       "      <td>0</td>\n",
       "      <td>1</td>\n",
       "      <td>0</td>\n",
       "      <td>0</td>\n",
       "      <td>0</td>\n",
       "      <td>0</td>\n",
       "      <td>0</td>\n",
       "      <td>0</td>\n",
       "      <td>0</td>\n",
       "      <td>0</td>\n",
       "      <td>...</td>\n",
       "      <td>1</td>\n",
       "      <td>0</td>\n",
       "      <td>0</td>\n",
       "      <td>0</td>\n",
       "      <td>0</td>\n",
       "      <td>0</td>\n",
       "      <td>0</td>\n",
       "      <td>0</td>\n",
       "      <td>0</td>\n",
       "      <td>0</td>\n",
       "    </tr>\n",
       "    <tr>\n",
       "      <th>305</th>\n",
       "      <td>0</td>\n",
       "      <td>0</td>\n",
       "      <td>1</td>\n",
       "      <td>0</td>\n",
       "      <td>0</td>\n",
       "      <td>0</td>\n",
       "      <td>0</td>\n",
       "      <td>0</td>\n",
       "      <td>0</td>\n",
       "      <td>0</td>\n",
       "      <td>...</td>\n",
       "      <td>0</td>\n",
       "      <td>1</td>\n",
       "      <td>0</td>\n",
       "      <td>0</td>\n",
       "      <td>0</td>\n",
       "      <td>0</td>\n",
       "      <td>0</td>\n",
       "      <td>0</td>\n",
       "      <td>0</td>\n",
       "      <td>0</td>\n",
       "    </tr>\n",
       "    <tr>\n",
       "      <th>1644</th>\n",
       "      <td>0</td>\n",
       "      <td>0</td>\n",
       "      <td>0</td>\n",
       "      <td>1</td>\n",
       "      <td>0</td>\n",
       "      <td>0</td>\n",
       "      <td>0</td>\n",
       "      <td>0</td>\n",
       "      <td>0</td>\n",
       "      <td>0</td>\n",
       "      <td>...</td>\n",
       "      <td>0</td>\n",
       "      <td>0</td>\n",
       "      <td>0</td>\n",
       "      <td>0</td>\n",
       "      <td>0</td>\n",
       "      <td>0</td>\n",
       "      <td>0</td>\n",
       "      <td>0</td>\n",
       "      <td>0</td>\n",
       "      <td>0</td>\n",
       "    </tr>\n",
       "    <tr>\n",
       "      <th>489</th>\n",
       "      <td>0</td>\n",
       "      <td>0</td>\n",
       "      <td>0</td>\n",
       "      <td>1</td>\n",
       "      <td>0</td>\n",
       "      <td>0</td>\n",
       "      <td>0</td>\n",
       "      <td>0</td>\n",
       "      <td>0</td>\n",
       "      <td>0</td>\n",
       "      <td>...</td>\n",
       "      <td>0</td>\n",
       "      <td>0</td>\n",
       "      <td>1</td>\n",
       "      <td>0</td>\n",
       "      <td>0</td>\n",
       "      <td>0</td>\n",
       "      <td>0</td>\n",
       "      <td>0</td>\n",
       "      <td>0</td>\n",
       "      <td>0</td>\n",
       "    </tr>\n",
       "  </tbody>\n",
       "</table>\n",
       "<p>5 rows × 109 columns</p>\n",
       "</div>"
      ],
      "text/plain": [
       "      categorical_0_1  categorical_0_2  categorical_0_3  categorical_0_4  \\\n",
       "878                 1                0                0                0   \n",
       "988                 0                1                0                0   \n",
       "305                 0                0                1                0   \n",
       "1644                0                0                0                1   \n",
       "489                 0                0                0                1   \n",
       "\n",
       "      categorical_0_5  categorical_0_6  categorical_0_7  categorical_0_8  \\\n",
       "878                 0                0                0                0   \n",
       "988                 0                0                0                0   \n",
       "305                 0                0                0                0   \n",
       "1644                0                0                0                0   \n",
       "489                 0                0                0                0   \n",
       "\n",
       "      categorical_0_9  categorical_0_10  ...  categorical_9_2  \\\n",
       "878                 0                 0  ...                0   \n",
       "988                 0                 0  ...                1   \n",
       "305                 0                 0  ...                0   \n",
       "1644                0                 0  ...                0   \n",
       "489                 0                 0  ...                0   \n",
       "\n",
       "      categorical_9_3  categorical_9_4  categorical_9_5  categorical_9_6  \\\n",
       "878                 0                0                0                0   \n",
       "988                 0                0                0                0   \n",
       "305                 1                0                0                0   \n",
       "1644                0                0                0                0   \n",
       "489                 0                1                0                0   \n",
       "\n",
       "      categorical_9_7  categorical_9_8  categorical_9_9  categorical_9_10  \\\n",
       "878                 0                0                0                 0   \n",
       "988                 0                0                0                 0   \n",
       "305                 0                0                0                 0   \n",
       "1644                0                0                0                 0   \n",
       "489                 0                0                0                 0   \n",
       "\n",
       "      categorical_9_11  \n",
       "878                  0  \n",
       "988                  0  \n",
       "305                  0  \n",
       "1644                 0  \n",
       "489                  0  \n",
       "\n",
       "[5 rows x 109 columns]"
      ]
     },
     "execution_count": 25,
     "metadata": {},
     "output_type": "execute_result"
    }
   ],
   "source": [
    "# One-hot-encode the categorical data\n",
    "errors['method'] += ['One-Hot Encoding']\n",
    "ohe = OneHotEncoder()\n",
    "X_one_hot = ohe.fit_transform(X_train, y_train)\n",
    "errors['shape'] += [X_one_hot.shape[1]]\n",
    "X_one_hot.head()"
   ]
  },
  {
   "cell_type": "code",
   "execution_count": 26,
   "metadata": {
    "colab": {
     "base_uri": "https://localhost:8080/"
    },
    "id": "p0oLwo2h9ztu",
    "outputId": "e8d0e27e-7633-4c98-fb41-576f040c3273"
   },
   "outputs": [
    {
     "name": "stdout",
     "output_type": "stream",
     "text": [
      "Original size: (1000, 10)\n",
      "One-hot encoded size: (1000, 109)\n"
     ]
    }
   ],
   "source": [
    "# Compare sizes\n",
    "print('Original size:', X_train.shape)\n",
    "print('One-hot encoded size:', X_one_hot.shape)"
   ]
  },
  {
   "cell_type": "code",
   "execution_count": 27,
   "metadata": {
    "colab": {
     "base_uri": "https://localhost:8080/"
    },
    "id": "-Bxu2FRyfqKb",
    "outputId": "0ef1c4a9-0c59-42ba-b1e7-54fe40702ad3"
   },
   "outputs": [
    {
     "name": "stdout",
     "output_type": "stream",
     "text": [
      "Cross-validated MAE: 0.8966054184944182 +/- 0.0065453901209490805\n"
     ]
    }
   ],
   "source": [
    "# Regression model\n",
    "model_oh = Pipeline([\n",
    "    ('encoder', OneHotEncoder(handle_missing='return_nan')),\n",
    "#     ('encoder', OneHotEncoder()),    \n",
    "    \n",
    "    ('imputer', SimpleImputer(strategy='most_frequent')),\n",
    "    \n",
    "    ('scaler', StandardScaler()),\n",
    "    ('regressor', Ridge())\n",
    "])\n",
    "\n",
    "# Cross-validated MAE\n",
    "scores = cross_val_score(model_oh, X_train, y_train, \n",
    "                         cv=3, scoring=mae_scorer)\n",
    "print('Cross-validated MAE:', scores.mean(), '+/-', scores.std())\n",
    "errors['train'] += [scores.mean()]"
   ]
  },
  {
   "cell_type": "code",
   "execution_count": 28,
   "metadata": {
    "colab": {
     "base_uri": "https://localhost:8080/"
    },
    "id": "T5wvQe0da6_S",
    "outputId": "fd2a969a-aa36-442f-c6de-f776289a57a4"
   },
   "outputs": [
    {
     "name": "stdout",
     "output_type": "stream",
     "text": [
      "Validation MAE: 0.8669740336288889\n"
     ]
    }
   ],
   "source": [
    "# MAE on test data\n",
    "model_oh.fit(X_train, y_train)\n",
    "y_pred = model_oh.predict(X_test)\n",
    "test_mae = mean_absolute_error(y_test, y_pred)\n",
    "print('Validation MAE:', test_mae)\n",
    "errors['test'] += [test_mae]"
   ]
  },
  {
   "cell_type": "code",
   "execution_count": 29,
   "metadata": {},
   "outputs": [
    {
     "data": {
      "text/html": [
       "<div>\n",
       "<style scoped>\n",
       "    .dataframe tbody tr th:only-of-type {\n",
       "        vertical-align: middle;\n",
       "    }\n",
       "\n",
       "    .dataframe tbody tr th {\n",
       "        vertical-align: top;\n",
       "    }\n",
       "\n",
       "    .dataframe thead th {\n",
       "        text-align: right;\n",
       "    }\n",
       "</style>\n",
       "<table border=\"1\" class=\"dataframe\">\n",
       "  <thead>\n",
       "    <tr style=\"text-align: right;\">\n",
       "      <th></th>\n",
       "      <th>method</th>\n",
       "      <th>train</th>\n",
       "      <th>test</th>\n",
       "      <th>shape</th>\n",
       "    </tr>\n",
       "  </thead>\n",
       "  <tbody>\n",
       "    <tr>\n",
       "      <th>0</th>\n",
       "      <td>Raw MAE</td>\n",
       "      <td>1.152729</td>\n",
       "      <td>1.152977</td>\n",
       "      <td>10</td>\n",
       "    </tr>\n",
       "    <tr>\n",
       "      <th>1</th>\n",
       "      <td>Ordinary Encoder</td>\n",
       "      <td>1.153679</td>\n",
       "      <td>1.141711</td>\n",
       "      <td>10</td>\n",
       "    </tr>\n",
       "    <tr>\n",
       "      <th>2</th>\n",
       "      <td>Count Encoding</td>\n",
       "      <td>1.167129</td>\n",
       "      <td>1.146363</td>\n",
       "      <td>10</td>\n",
       "    </tr>\n",
       "    <tr>\n",
       "      <th>3</th>\n",
       "      <td>One-Hot Encoding</td>\n",
       "      <td>0.896605</td>\n",
       "      <td>0.866974</td>\n",
       "      <td>109</td>\n",
       "    </tr>\n",
       "  </tbody>\n",
       "</table>\n",
       "</div>"
      ],
      "text/plain": [
       "             method     train      test  shape\n",
       "0           Raw MAE  1.152729  1.152977     10\n",
       "1  Ordinary Encoder  1.153679  1.141711     10\n",
       "2    Count Encoding  1.167129  1.146363     10\n",
       "3  One-Hot Encoding  0.896605  0.866974    109"
      ]
     },
     "execution_count": 29,
     "metadata": {},
     "output_type": "execute_result"
    }
   ],
   "source": [
    "pd.DataFrame(errors)"
   ]
  },
  {
   "cell_type": "markdown",
   "metadata": {
    "id": "2FQs7KOdVV8H"
   },
   "source": [
    "## Binary Encoding"
   ]
  },
  {
   "cell_type": "code",
   "execution_count": 30,
   "metadata": {
    "colab": {
     "base_uri": "https://localhost:8080/",
     "height": 35
    },
    "id": "jgI6TCRJVV8I",
    "outputId": "8ccdc5e3-fdbd-4f7b-8c84-c303e117a6a1",
    "scrolled": true
   },
   "outputs": [
    {
     "data": {
      "text/plain": [
       "'0b1011'"
      ]
     },
     "execution_count": 30,
     "metadata": {},
     "output_type": "execute_result"
    }
   ],
   "source": [
    "bin(11)"
   ]
  },
  {
   "cell_type": "code",
   "execution_count": null,
   "metadata": {},
   "outputs": [],
   "source": [
    "help(bin)"
   ]
  },
  {
   "cell_type": "code",
   "execution_count": 31,
   "metadata": {
    "colab": {
     "base_uri": "https://localhost:8080/",
     "height": 224
    },
    "id": "rR5IWcaEVV8I",
    "outputId": "907c0451-672b-413f-9a20-176d52196ea1"
   },
   "outputs": [
    {
     "data": {
      "text/html": [
       "<div>\n",
       "<style scoped>\n",
       "    .dataframe tbody tr th:only-of-type {\n",
       "        vertical-align: middle;\n",
       "    }\n",
       "\n",
       "    .dataframe tbody tr th {\n",
       "        vertical-align: top;\n",
       "    }\n",
       "\n",
       "    .dataframe thead th {\n",
       "        text-align: right;\n",
       "    }\n",
       "</style>\n",
       "<table border=\"1\" class=\"dataframe\">\n",
       "  <thead>\n",
       "    <tr style=\"text-align: right;\">\n",
       "      <th></th>\n",
       "      <th>categorical_0_0</th>\n",
       "      <th>categorical_0_1</th>\n",
       "      <th>categorical_0_2</th>\n",
       "      <th>categorical_0_3</th>\n",
       "      <th>categorical_1_0</th>\n",
       "      <th>categorical_1_1</th>\n",
       "      <th>categorical_1_2</th>\n",
       "      <th>categorical_1_3</th>\n",
       "      <th>categorical_2_0</th>\n",
       "      <th>categorical_2_1</th>\n",
       "      <th>...</th>\n",
       "      <th>categorical_7_2</th>\n",
       "      <th>categorical_7_3</th>\n",
       "      <th>categorical_8_0</th>\n",
       "      <th>categorical_8_1</th>\n",
       "      <th>categorical_8_2</th>\n",
       "      <th>categorical_8_3</th>\n",
       "      <th>categorical_9_0</th>\n",
       "      <th>categorical_9_1</th>\n",
       "      <th>categorical_9_2</th>\n",
       "      <th>categorical_9_3</th>\n",
       "    </tr>\n",
       "  </thead>\n",
       "  <tbody>\n",
       "    <tr>\n",
       "      <th>878</th>\n",
       "      <td>0</td>\n",
       "      <td>0</td>\n",
       "      <td>0</td>\n",
       "      <td>1</td>\n",
       "      <td>0</td>\n",
       "      <td>0</td>\n",
       "      <td>0</td>\n",
       "      <td>1</td>\n",
       "      <td>0</td>\n",
       "      <td>0</td>\n",
       "      <td>...</td>\n",
       "      <td>0</td>\n",
       "      <td>1</td>\n",
       "      <td>0</td>\n",
       "      <td>0</td>\n",
       "      <td>0</td>\n",
       "      <td>1</td>\n",
       "      <td>0</td>\n",
       "      <td>0</td>\n",
       "      <td>0</td>\n",
       "      <td>1</td>\n",
       "    </tr>\n",
       "    <tr>\n",
       "      <th>988</th>\n",
       "      <td>0</td>\n",
       "      <td>0</td>\n",
       "      <td>1</td>\n",
       "      <td>0</td>\n",
       "      <td>0</td>\n",
       "      <td>0</td>\n",
       "      <td>1</td>\n",
       "      <td>0</td>\n",
       "      <td>0</td>\n",
       "      <td>0</td>\n",
       "      <td>...</td>\n",
       "      <td>1</td>\n",
       "      <td>0</td>\n",
       "      <td>0</td>\n",
       "      <td>0</td>\n",
       "      <td>1</td>\n",
       "      <td>0</td>\n",
       "      <td>0</td>\n",
       "      <td>0</td>\n",
       "      <td>1</td>\n",
       "      <td>0</td>\n",
       "    </tr>\n",
       "    <tr>\n",
       "      <th>305</th>\n",
       "      <td>0</td>\n",
       "      <td>0</td>\n",
       "      <td>1</td>\n",
       "      <td>1</td>\n",
       "      <td>0</td>\n",
       "      <td>0</td>\n",
       "      <td>1</td>\n",
       "      <td>1</td>\n",
       "      <td>0</td>\n",
       "      <td>0</td>\n",
       "      <td>...</td>\n",
       "      <td>1</td>\n",
       "      <td>1</td>\n",
       "      <td>0</td>\n",
       "      <td>0</td>\n",
       "      <td>1</td>\n",
       "      <td>0</td>\n",
       "      <td>0</td>\n",
       "      <td>0</td>\n",
       "      <td>1</td>\n",
       "      <td>1</td>\n",
       "    </tr>\n",
       "    <tr>\n",
       "      <th>1644</th>\n",
       "      <td>0</td>\n",
       "      <td>1</td>\n",
       "      <td>0</td>\n",
       "      <td>0</td>\n",
       "      <td>0</td>\n",
       "      <td>0</td>\n",
       "      <td>0</td>\n",
       "      <td>1</td>\n",
       "      <td>0</td>\n",
       "      <td>0</td>\n",
       "      <td>...</td>\n",
       "      <td>0</td>\n",
       "      <td>0</td>\n",
       "      <td>1</td>\n",
       "      <td>0</td>\n",
       "      <td>1</td>\n",
       "      <td>1</td>\n",
       "      <td>0</td>\n",
       "      <td>0</td>\n",
       "      <td>0</td>\n",
       "      <td>1</td>\n",
       "    </tr>\n",
       "    <tr>\n",
       "      <th>489</th>\n",
       "      <td>0</td>\n",
       "      <td>1</td>\n",
       "      <td>0</td>\n",
       "      <td>0</td>\n",
       "      <td>0</td>\n",
       "      <td>1</td>\n",
       "      <td>0</td>\n",
       "      <td>0</td>\n",
       "      <td>0</td>\n",
       "      <td>0</td>\n",
       "      <td>...</td>\n",
       "      <td>1</td>\n",
       "      <td>1</td>\n",
       "      <td>0</td>\n",
       "      <td>0</td>\n",
       "      <td>1</td>\n",
       "      <td>1</td>\n",
       "      <td>0</td>\n",
       "      <td>1</td>\n",
       "      <td>0</td>\n",
       "      <td>0</td>\n",
       "    </tr>\n",
       "  </tbody>\n",
       "</table>\n",
       "<p>5 rows × 40 columns</p>\n",
       "</div>"
      ],
      "text/plain": [
       "      categorical_0_0  categorical_0_1  categorical_0_2  categorical_0_3  \\\n",
       "878                 0                0                0                1   \n",
       "988                 0                0                1                0   \n",
       "305                 0                0                1                1   \n",
       "1644                0                1                0                0   \n",
       "489                 0                1                0                0   \n",
       "\n",
       "      categorical_1_0  categorical_1_1  categorical_1_2  categorical_1_3  \\\n",
       "878                 0                0                0                1   \n",
       "988                 0                0                1                0   \n",
       "305                 0                0                1                1   \n",
       "1644                0                0                0                1   \n",
       "489                 0                1                0                0   \n",
       "\n",
       "      categorical_2_0  categorical_2_1  ...  categorical_7_2  categorical_7_3  \\\n",
       "878                 0                0  ...                0                1   \n",
       "988                 0                0  ...                1                0   \n",
       "305                 0                0  ...                1                1   \n",
       "1644                0                0  ...                0                0   \n",
       "489                 0                0  ...                1                1   \n",
       "\n",
       "      categorical_8_0  categorical_8_1  categorical_8_2  categorical_8_3  \\\n",
       "878                 0                0                0                1   \n",
       "988                 0                0                1                0   \n",
       "305                 0                0                1                0   \n",
       "1644                1                0                1                1   \n",
       "489                 0                0                1                1   \n",
       "\n",
       "      categorical_9_0  categorical_9_1  categorical_9_2  categorical_9_3  \n",
       "878                 0                0                0                1  \n",
       "988                 0                0                1                0  \n",
       "305                 0                0                1                1  \n",
       "1644                0                0                0                1  \n",
       "489                 0                1                0                0  \n",
       "\n",
       "[5 rows x 40 columns]"
      ]
     },
     "execution_count": 31,
     "metadata": {},
     "output_type": "execute_result"
    }
   ],
   "source": [
    "errors['method'] += ['Binary Encoding']\n",
    "bd = BinaryEncoder(drop_invariant=True) #удаляет ведущий ноль\n",
    "X_bd = bd.fit_transform(X_train, y_train)\n",
    "errors['shape'] += [X_bd.shape[1]]\n",
    "X_bd.head()"
   ]
  },
  {
   "cell_type": "code",
   "execution_count": 32,
   "metadata": {
    "colab": {
     "base_uri": "https://localhost:8080/"
    },
    "id": "BtAD69ABVV8I",
    "outputId": "1599dc91-441f-4afe-8088-40d5ecf9382e",
    "scrolled": true
   },
   "outputs": [
    {
     "name": "stdout",
     "output_type": "stream",
     "text": [
      "Original size: (1000, 10)\n",
      "Binary encoded size: (1000, 40)\n"
     ]
    }
   ],
   "source": [
    "# Compare sizes\n",
    "print('Original size:', X_train.shape)\n",
    "print('Binary encoded size:', X_bd.shape)"
   ]
  },
  {
   "cell_type": "code",
   "execution_count": 33,
   "metadata": {
    "colab": {
     "base_uri": "https://localhost:8080/"
    },
    "id": "LAKd8c-9VV8I",
    "outputId": "121d39ad-0baf-4ddd-f4af-5978b71a48d8"
   },
   "outputs": [
    {
     "name": "stdout",
     "output_type": "stream",
     "text": [
      "Cross-validated MAE: 1.0889099879010176 +/- 0.012943863363808272\n"
     ]
    }
   ],
   "source": [
    "# Regression model\n",
    "model_oh = Pipeline([\n",
    "    ('encoder', BinaryEncoder()),\n",
    "    ('scaler', StandardScaler()),\n",
    "    ('imputer', SimpleImputer(strategy='mean')),\n",
    "    ('regressor', Ridge())\n",
    "])\n",
    "\n",
    "# Cross-validated MAE\n",
    "scores = cross_val_score(model_oh, X_train, y_train, \n",
    "                         cv=3, scoring=mae_scorer)\n",
    "print('Cross-validated MAE:', scores.mean(), '+/-', scores.std())\n",
    "errors['train'] += [scores.mean()]"
   ]
  },
  {
   "cell_type": "code",
   "execution_count": 34,
   "metadata": {
    "colab": {
     "base_uri": "https://localhost:8080/"
    },
    "id": "IzfTty8XVV8J",
    "outputId": "cae03d0c-d6d1-412c-f34c-2bda10cc6681"
   },
   "outputs": [
    {
     "name": "stdout",
     "output_type": "stream",
     "text": [
      "Validation MAE: 1.0600207629271954\n"
     ]
    }
   ],
   "source": [
    "# MAE on test data\n",
    "model_oh.fit(X_train, y_train)\n",
    "y_pred = model_oh.predict(X_test)\n",
    "test_mae = mean_absolute_error(y_test, y_pred)\n",
    "print('Validation MAE:', test_mae)\n",
    "errors['test'] += [test_mae]"
   ]
  },
  {
   "cell_type": "code",
   "execution_count": 35,
   "metadata": {},
   "outputs": [
    {
     "data": {
      "text/html": [
       "<div>\n",
       "<style scoped>\n",
       "    .dataframe tbody tr th:only-of-type {\n",
       "        vertical-align: middle;\n",
       "    }\n",
       "\n",
       "    .dataframe tbody tr th {\n",
       "        vertical-align: top;\n",
       "    }\n",
       "\n",
       "    .dataframe thead th {\n",
       "        text-align: right;\n",
       "    }\n",
       "</style>\n",
       "<table border=\"1\" class=\"dataframe\">\n",
       "  <thead>\n",
       "    <tr style=\"text-align: right;\">\n",
       "      <th></th>\n",
       "      <th>method</th>\n",
       "      <th>train</th>\n",
       "      <th>test</th>\n",
       "      <th>shape</th>\n",
       "    </tr>\n",
       "  </thead>\n",
       "  <tbody>\n",
       "    <tr>\n",
       "      <th>0</th>\n",
       "      <td>Raw MAE</td>\n",
       "      <td>1.152729</td>\n",
       "      <td>1.152977</td>\n",
       "      <td>10</td>\n",
       "    </tr>\n",
       "    <tr>\n",
       "      <th>1</th>\n",
       "      <td>Ordinary Encoder</td>\n",
       "      <td>1.153679</td>\n",
       "      <td>1.141711</td>\n",
       "      <td>10</td>\n",
       "    </tr>\n",
       "    <tr>\n",
       "      <th>2</th>\n",
       "      <td>Count Encoding</td>\n",
       "      <td>1.167129</td>\n",
       "      <td>1.146363</td>\n",
       "      <td>10</td>\n",
       "    </tr>\n",
       "    <tr>\n",
       "      <th>3</th>\n",
       "      <td>One-Hot Encoding</td>\n",
       "      <td>0.896605</td>\n",
       "      <td>0.866974</td>\n",
       "      <td>109</td>\n",
       "    </tr>\n",
       "    <tr>\n",
       "      <th>4</th>\n",
       "      <td>Binary Encoding</td>\n",
       "      <td>1.088910</td>\n",
       "      <td>1.060021</td>\n",
       "      <td>40</td>\n",
       "    </tr>\n",
       "  </tbody>\n",
       "</table>\n",
       "</div>"
      ],
      "text/plain": [
       "             method     train      test  shape\n",
       "0           Raw MAE  1.152729  1.152977     10\n",
       "1  Ordinary Encoder  1.153679  1.141711     10\n",
       "2    Count Encoding  1.167129  1.146363     10\n",
       "3  One-Hot Encoding  0.896605  0.866974    109\n",
       "4   Binary Encoding  1.088910  1.060021     40"
      ]
     },
     "execution_count": 35,
     "metadata": {},
     "output_type": "execute_result"
    }
   ],
   "source": [
    "pd.DataFrame(errors)"
   ]
  },
  {
   "cell_type": "markdown",
   "metadata": {},
   "source": [
    "## Helmert Encoding"
   ]
  },
  {
   "cell_type": "code",
   "execution_count": 36,
   "metadata": {},
   "outputs": [
    {
     "data": {
      "text/html": [
       "<div>\n",
       "<style scoped>\n",
       "    .dataframe tbody tr th:only-of-type {\n",
       "        vertical-align: middle;\n",
       "    }\n",
       "\n",
       "    .dataframe tbody tr th {\n",
       "        vertical-align: top;\n",
       "    }\n",
       "\n",
       "    .dataframe thead th {\n",
       "        text-align: right;\n",
       "    }\n",
       "</style>\n",
       "<table border=\"1\" class=\"dataframe\">\n",
       "  <thead>\n",
       "    <tr style=\"text-align: right;\">\n",
       "      <th></th>\n",
       "      <th>categorical_0_0</th>\n",
       "      <th>categorical_0_1</th>\n",
       "      <th>categorical_0_2</th>\n",
       "      <th>categorical_0_3</th>\n",
       "      <th>categorical_0_4</th>\n",
       "      <th>categorical_0_5</th>\n",
       "      <th>categorical_0_6</th>\n",
       "      <th>categorical_0_7</th>\n",
       "      <th>categorical_0_8</th>\n",
       "      <th>categorical_1_0</th>\n",
       "      <th>...</th>\n",
       "      <th>categorical_9_0</th>\n",
       "      <th>categorical_9_1</th>\n",
       "      <th>categorical_9_2</th>\n",
       "      <th>categorical_9_3</th>\n",
       "      <th>categorical_9_4</th>\n",
       "      <th>categorical_9_5</th>\n",
       "      <th>categorical_9_6</th>\n",
       "      <th>categorical_9_7</th>\n",
       "      <th>categorical_9_8</th>\n",
       "      <th>categorical_9_9</th>\n",
       "    </tr>\n",
       "  </thead>\n",
       "  <tbody>\n",
       "    <tr>\n",
       "      <th>878</th>\n",
       "      <td>-1.0</td>\n",
       "      <td>-1.0</td>\n",
       "      <td>-1.0</td>\n",
       "      <td>-1.0</td>\n",
       "      <td>-1.0</td>\n",
       "      <td>-1.0</td>\n",
       "      <td>-1.0</td>\n",
       "      <td>-1.0</td>\n",
       "      <td>-1.0</td>\n",
       "      <td>-1.0</td>\n",
       "      <td>...</td>\n",
       "      <td>-1.0</td>\n",
       "      <td>-1.0</td>\n",
       "      <td>-1.0</td>\n",
       "      <td>-1.0</td>\n",
       "      <td>-1.0</td>\n",
       "      <td>-1.0</td>\n",
       "      <td>-1.0</td>\n",
       "      <td>-1.0</td>\n",
       "      <td>-1.0</td>\n",
       "      <td>-1.0</td>\n",
       "    </tr>\n",
       "    <tr>\n",
       "      <th>988</th>\n",
       "      <td>1.0</td>\n",
       "      <td>-1.0</td>\n",
       "      <td>-1.0</td>\n",
       "      <td>-1.0</td>\n",
       "      <td>-1.0</td>\n",
       "      <td>-1.0</td>\n",
       "      <td>-1.0</td>\n",
       "      <td>-1.0</td>\n",
       "      <td>-1.0</td>\n",
       "      <td>1.0</td>\n",
       "      <td>...</td>\n",
       "      <td>1.0</td>\n",
       "      <td>-1.0</td>\n",
       "      <td>-1.0</td>\n",
       "      <td>-1.0</td>\n",
       "      <td>-1.0</td>\n",
       "      <td>-1.0</td>\n",
       "      <td>-1.0</td>\n",
       "      <td>-1.0</td>\n",
       "      <td>-1.0</td>\n",
       "      <td>-1.0</td>\n",
       "    </tr>\n",
       "    <tr>\n",
       "      <th>305</th>\n",
       "      <td>0.0</td>\n",
       "      <td>2.0</td>\n",
       "      <td>-1.0</td>\n",
       "      <td>-1.0</td>\n",
       "      <td>-1.0</td>\n",
       "      <td>-1.0</td>\n",
       "      <td>-1.0</td>\n",
       "      <td>-1.0</td>\n",
       "      <td>-1.0</td>\n",
       "      <td>0.0</td>\n",
       "      <td>...</td>\n",
       "      <td>0.0</td>\n",
       "      <td>2.0</td>\n",
       "      <td>-1.0</td>\n",
       "      <td>-1.0</td>\n",
       "      <td>-1.0</td>\n",
       "      <td>-1.0</td>\n",
       "      <td>-1.0</td>\n",
       "      <td>-1.0</td>\n",
       "      <td>-1.0</td>\n",
       "      <td>-1.0</td>\n",
       "    </tr>\n",
       "    <tr>\n",
       "      <th>1644</th>\n",
       "      <td>0.0</td>\n",
       "      <td>0.0</td>\n",
       "      <td>3.0</td>\n",
       "      <td>-1.0</td>\n",
       "      <td>-1.0</td>\n",
       "      <td>-1.0</td>\n",
       "      <td>-1.0</td>\n",
       "      <td>-1.0</td>\n",
       "      <td>-1.0</td>\n",
       "      <td>-1.0</td>\n",
       "      <td>...</td>\n",
       "      <td>-1.0</td>\n",
       "      <td>-1.0</td>\n",
       "      <td>-1.0</td>\n",
       "      <td>-1.0</td>\n",
       "      <td>-1.0</td>\n",
       "      <td>-1.0</td>\n",
       "      <td>-1.0</td>\n",
       "      <td>-1.0</td>\n",
       "      <td>-1.0</td>\n",
       "      <td>-1.0</td>\n",
       "    </tr>\n",
       "    <tr>\n",
       "      <th>489</th>\n",
       "      <td>0.0</td>\n",
       "      <td>0.0</td>\n",
       "      <td>3.0</td>\n",
       "      <td>-1.0</td>\n",
       "      <td>-1.0</td>\n",
       "      <td>-1.0</td>\n",
       "      <td>-1.0</td>\n",
       "      <td>-1.0</td>\n",
       "      <td>-1.0</td>\n",
       "      <td>0.0</td>\n",
       "      <td>...</td>\n",
       "      <td>0.0</td>\n",
       "      <td>0.0</td>\n",
       "      <td>3.0</td>\n",
       "      <td>-1.0</td>\n",
       "      <td>-1.0</td>\n",
       "      <td>-1.0</td>\n",
       "      <td>-1.0</td>\n",
       "      <td>-1.0</td>\n",
       "      <td>-1.0</td>\n",
       "      <td>-1.0</td>\n",
       "    </tr>\n",
       "  </tbody>\n",
       "</table>\n",
       "<p>5 rows × 99 columns</p>\n",
       "</div>"
      ],
      "text/plain": [
       "      categorical_0_0  categorical_0_1  categorical_0_2  categorical_0_3  \\\n",
       "878              -1.0             -1.0             -1.0             -1.0   \n",
       "988               1.0             -1.0             -1.0             -1.0   \n",
       "305               0.0              2.0             -1.0             -1.0   \n",
       "1644              0.0              0.0              3.0             -1.0   \n",
       "489               0.0              0.0              3.0             -1.0   \n",
       "\n",
       "      categorical_0_4  categorical_0_5  categorical_0_6  categorical_0_7  \\\n",
       "878              -1.0             -1.0             -1.0             -1.0   \n",
       "988              -1.0             -1.0             -1.0             -1.0   \n",
       "305              -1.0             -1.0             -1.0             -1.0   \n",
       "1644             -1.0             -1.0             -1.0             -1.0   \n",
       "489              -1.0             -1.0             -1.0             -1.0   \n",
       "\n",
       "      categorical_0_8  categorical_1_0  ...  categorical_9_0  categorical_9_1  \\\n",
       "878              -1.0             -1.0  ...             -1.0             -1.0   \n",
       "988              -1.0              1.0  ...              1.0             -1.0   \n",
       "305              -1.0              0.0  ...              0.0              2.0   \n",
       "1644             -1.0             -1.0  ...             -1.0             -1.0   \n",
       "489              -1.0              0.0  ...              0.0              0.0   \n",
       "\n",
       "      categorical_9_2  categorical_9_3  categorical_9_4  categorical_9_5  \\\n",
       "878              -1.0             -1.0             -1.0             -1.0   \n",
       "988              -1.0             -1.0             -1.0             -1.0   \n",
       "305              -1.0             -1.0             -1.0             -1.0   \n",
       "1644             -1.0             -1.0             -1.0             -1.0   \n",
       "489               3.0             -1.0             -1.0             -1.0   \n",
       "\n",
       "      categorical_9_6  categorical_9_7  categorical_9_8  categorical_9_9  \n",
       "878              -1.0             -1.0             -1.0             -1.0  \n",
       "988              -1.0             -1.0             -1.0             -1.0  \n",
       "305              -1.0             -1.0             -1.0             -1.0  \n",
       "1644             -1.0             -1.0             -1.0             -1.0  \n",
       "489              -1.0             -1.0             -1.0             -1.0  \n",
       "\n",
       "[5 rows x 99 columns]"
      ]
     },
     "execution_count": 36,
     "metadata": {},
     "output_type": "execute_result"
    }
   ],
   "source": [
    "errors['method'] += ['Helmert Encoding']\n",
    "he = HelmertEncoder(drop_invariant=True) #удаляет ведущий ноль\n",
    "X_he = he.fit_transform(X_train, y_train)\n",
    "errors['shape'] += [X_he.shape[1]]\n",
    "X_he.head()"
   ]
  },
  {
   "cell_type": "code",
   "execution_count": 37,
   "metadata": {},
   "outputs": [
    {
     "name": "stdout",
     "output_type": "stream",
     "text": [
      "Original size: (1000, 10)\n",
      "Helmert encoded size: (1000, 99)\n"
     ]
    }
   ],
   "source": [
    "# Compare sizes\n",
    "print('Original size:', X_train.shape)\n",
    "print('Helmert encoded size:', X_he.shape)"
   ]
  },
  {
   "cell_type": "code",
   "execution_count": 38,
   "metadata": {},
   "outputs": [
    {
     "name": "stdout",
     "output_type": "stream",
     "text": [
      "Cross-validated MAE: 0.8971745171317246 +/- 0.006092943627210301\n"
     ]
    }
   ],
   "source": [
    "# Regression model\n",
    "model_he = Pipeline([\n",
    "    ('encoder', HelmertEncoder()),\n",
    "    ('scaler', StandardScaler()),\n",
    "    ('imputer', SimpleImputer(strategy='mean')),\n",
    "    ('regressor', Ridge())\n",
    "])\n",
    "\n",
    "# Cross-validated MAE\n",
    "scores = cross_val_score(model_he, X_train, y_train, \n",
    "                         cv=3, scoring=mae_scorer)\n",
    "print('Cross-validated MAE:', scores.mean(), '+/-', scores.std())\n",
    "errors['train'] += [scores.mean()]"
   ]
  },
  {
   "cell_type": "code",
   "execution_count": 39,
   "metadata": {},
   "outputs": [
    {
     "name": "stdout",
     "output_type": "stream",
     "text": [
      "Validation MAE: 0.8668806924531702\n"
     ]
    }
   ],
   "source": [
    "# MAE on test data\n",
    "model_he.fit(X_train, y_train)\n",
    "y_pred = model_he.predict(X_test)\n",
    "test_mae = mean_absolute_error(y_test, y_pred)\n",
    "print('Validation MAE:', test_mae)\n",
    "errors['test'] += [test_mae]"
   ]
  },
  {
   "cell_type": "code",
   "execution_count": 40,
   "metadata": {},
   "outputs": [
    {
     "data": {
      "text/html": [
       "<div>\n",
       "<style scoped>\n",
       "    .dataframe tbody tr th:only-of-type {\n",
       "        vertical-align: middle;\n",
       "    }\n",
       "\n",
       "    .dataframe tbody tr th {\n",
       "        vertical-align: top;\n",
       "    }\n",
       "\n",
       "    .dataframe thead th {\n",
       "        text-align: right;\n",
       "    }\n",
       "</style>\n",
       "<table border=\"1\" class=\"dataframe\">\n",
       "  <thead>\n",
       "    <tr style=\"text-align: right;\">\n",
       "      <th></th>\n",
       "      <th>method</th>\n",
       "      <th>train</th>\n",
       "      <th>test</th>\n",
       "      <th>shape</th>\n",
       "    </tr>\n",
       "  </thead>\n",
       "  <tbody>\n",
       "    <tr>\n",
       "      <th>0</th>\n",
       "      <td>Raw MAE</td>\n",
       "      <td>1.152729</td>\n",
       "      <td>1.152977</td>\n",
       "      <td>10</td>\n",
       "    </tr>\n",
       "    <tr>\n",
       "      <th>1</th>\n",
       "      <td>Ordinary Encoder</td>\n",
       "      <td>1.153679</td>\n",
       "      <td>1.141711</td>\n",
       "      <td>10</td>\n",
       "    </tr>\n",
       "    <tr>\n",
       "      <th>2</th>\n",
       "      <td>Count Encoding</td>\n",
       "      <td>1.167129</td>\n",
       "      <td>1.146363</td>\n",
       "      <td>10</td>\n",
       "    </tr>\n",
       "    <tr>\n",
       "      <th>3</th>\n",
       "      <td>One-Hot Encoding</td>\n",
       "      <td>0.896605</td>\n",
       "      <td>0.866974</td>\n",
       "      <td>109</td>\n",
       "    </tr>\n",
       "    <tr>\n",
       "      <th>4</th>\n",
       "      <td>Binary Encoding</td>\n",
       "      <td>1.088910</td>\n",
       "      <td>1.060021</td>\n",
       "      <td>40</td>\n",
       "    </tr>\n",
       "    <tr>\n",
       "      <th>5</th>\n",
       "      <td>Helmert Encoding</td>\n",
       "      <td>0.897175</td>\n",
       "      <td>0.866881</td>\n",
       "      <td>99</td>\n",
       "    </tr>\n",
       "  </tbody>\n",
       "</table>\n",
       "</div>"
      ],
      "text/plain": [
       "             method     train      test  shape\n",
       "0           Raw MAE  1.152729  1.152977     10\n",
       "1  Ordinary Encoder  1.153679  1.141711     10\n",
       "2    Count Encoding  1.167129  1.146363     10\n",
       "3  One-Hot Encoding  0.896605  0.866974    109\n",
       "4   Binary Encoding  1.088910  1.060021     40\n",
       "5  Helmert Encoding  0.897175  0.866881     99"
      ]
     },
     "execution_count": 40,
     "metadata": {},
     "output_type": "execute_result"
    }
   ],
   "source": [
    "pd.DataFrame(errors)"
   ]
  },
  {
   "cell_type": "markdown",
   "metadata": {},
   "source": [
    "## BackwardDifferenceEncoder"
   ]
  },
  {
   "cell_type": "code",
   "execution_count": 41,
   "metadata": {},
   "outputs": [
    {
     "data": {
      "text/html": [
       "<div>\n",
       "<style scoped>\n",
       "    .dataframe tbody tr th:only-of-type {\n",
       "        vertical-align: middle;\n",
       "    }\n",
       "\n",
       "    .dataframe tbody tr th {\n",
       "        vertical-align: top;\n",
       "    }\n",
       "\n",
       "    .dataframe thead th {\n",
       "        text-align: right;\n",
       "    }\n",
       "</style>\n",
       "<table border=\"1\" class=\"dataframe\">\n",
       "  <thead>\n",
       "    <tr style=\"text-align: right;\">\n",
       "      <th></th>\n",
       "      <th>categorical_0_0</th>\n",
       "      <th>categorical_0_1</th>\n",
       "      <th>categorical_0_2</th>\n",
       "      <th>categorical_0_3</th>\n",
       "      <th>categorical_0_4</th>\n",
       "      <th>categorical_0_5</th>\n",
       "      <th>categorical_0_6</th>\n",
       "      <th>categorical_0_7</th>\n",
       "      <th>categorical_0_8</th>\n",
       "      <th>categorical_1_0</th>\n",
       "      <th>...</th>\n",
       "      <th>categorical_9_0</th>\n",
       "      <th>categorical_9_1</th>\n",
       "      <th>categorical_9_2</th>\n",
       "      <th>categorical_9_3</th>\n",
       "      <th>categorical_9_4</th>\n",
       "      <th>categorical_9_5</th>\n",
       "      <th>categorical_9_6</th>\n",
       "      <th>categorical_9_7</th>\n",
       "      <th>categorical_9_8</th>\n",
       "      <th>categorical_9_9</th>\n",
       "    </tr>\n",
       "  </thead>\n",
       "  <tbody>\n",
       "    <tr>\n",
       "      <th>878</th>\n",
       "      <td>-0.9</td>\n",
       "      <td>-0.8</td>\n",
       "      <td>-0.7</td>\n",
       "      <td>-0.6</td>\n",
       "      <td>-0.5</td>\n",
       "      <td>-0.4</td>\n",
       "      <td>-0.3</td>\n",
       "      <td>-0.2</td>\n",
       "      <td>-0.1</td>\n",
       "      <td>-0.909091</td>\n",
       "      <td>...</td>\n",
       "      <td>-0.909091</td>\n",
       "      <td>-0.818182</td>\n",
       "      <td>-0.727273</td>\n",
       "      <td>-0.636364</td>\n",
       "      <td>-0.545455</td>\n",
       "      <td>-0.454545</td>\n",
       "      <td>-0.363636</td>\n",
       "      <td>-0.272727</td>\n",
       "      <td>-0.181818</td>\n",
       "      <td>-0.090909</td>\n",
       "    </tr>\n",
       "    <tr>\n",
       "      <th>988</th>\n",
       "      <td>0.1</td>\n",
       "      <td>-0.8</td>\n",
       "      <td>-0.7</td>\n",
       "      <td>-0.6</td>\n",
       "      <td>-0.5</td>\n",
       "      <td>-0.4</td>\n",
       "      <td>-0.3</td>\n",
       "      <td>-0.2</td>\n",
       "      <td>-0.1</td>\n",
       "      <td>0.090909</td>\n",
       "      <td>...</td>\n",
       "      <td>0.090909</td>\n",
       "      <td>-0.818182</td>\n",
       "      <td>-0.727273</td>\n",
       "      <td>-0.636364</td>\n",
       "      <td>-0.545455</td>\n",
       "      <td>-0.454545</td>\n",
       "      <td>-0.363636</td>\n",
       "      <td>-0.272727</td>\n",
       "      <td>-0.181818</td>\n",
       "      <td>-0.090909</td>\n",
       "    </tr>\n",
       "    <tr>\n",
       "      <th>305</th>\n",
       "      <td>0.1</td>\n",
       "      <td>0.2</td>\n",
       "      <td>-0.7</td>\n",
       "      <td>-0.6</td>\n",
       "      <td>-0.5</td>\n",
       "      <td>-0.4</td>\n",
       "      <td>-0.3</td>\n",
       "      <td>-0.2</td>\n",
       "      <td>-0.1</td>\n",
       "      <td>0.090909</td>\n",
       "      <td>...</td>\n",
       "      <td>0.090909</td>\n",
       "      <td>0.181818</td>\n",
       "      <td>-0.727273</td>\n",
       "      <td>-0.636364</td>\n",
       "      <td>-0.545455</td>\n",
       "      <td>-0.454545</td>\n",
       "      <td>-0.363636</td>\n",
       "      <td>-0.272727</td>\n",
       "      <td>-0.181818</td>\n",
       "      <td>-0.090909</td>\n",
       "    </tr>\n",
       "    <tr>\n",
       "      <th>1644</th>\n",
       "      <td>0.1</td>\n",
       "      <td>0.2</td>\n",
       "      <td>0.3</td>\n",
       "      <td>-0.6</td>\n",
       "      <td>-0.5</td>\n",
       "      <td>-0.4</td>\n",
       "      <td>-0.3</td>\n",
       "      <td>-0.2</td>\n",
       "      <td>-0.1</td>\n",
       "      <td>-0.909091</td>\n",
       "      <td>...</td>\n",
       "      <td>-0.909091</td>\n",
       "      <td>-0.818182</td>\n",
       "      <td>-0.727273</td>\n",
       "      <td>-0.636364</td>\n",
       "      <td>-0.545455</td>\n",
       "      <td>-0.454545</td>\n",
       "      <td>-0.363636</td>\n",
       "      <td>-0.272727</td>\n",
       "      <td>-0.181818</td>\n",
       "      <td>-0.090909</td>\n",
       "    </tr>\n",
       "    <tr>\n",
       "      <th>489</th>\n",
       "      <td>0.1</td>\n",
       "      <td>0.2</td>\n",
       "      <td>0.3</td>\n",
       "      <td>-0.6</td>\n",
       "      <td>-0.5</td>\n",
       "      <td>-0.4</td>\n",
       "      <td>-0.3</td>\n",
       "      <td>-0.2</td>\n",
       "      <td>-0.1</td>\n",
       "      <td>0.090909</td>\n",
       "      <td>...</td>\n",
       "      <td>0.090909</td>\n",
       "      <td>0.181818</td>\n",
       "      <td>0.272727</td>\n",
       "      <td>-0.636364</td>\n",
       "      <td>-0.545455</td>\n",
       "      <td>-0.454545</td>\n",
       "      <td>-0.363636</td>\n",
       "      <td>-0.272727</td>\n",
       "      <td>-0.181818</td>\n",
       "      <td>-0.090909</td>\n",
       "    </tr>\n",
       "  </tbody>\n",
       "</table>\n",
       "<p>5 rows × 99 columns</p>\n",
       "</div>"
      ],
      "text/plain": [
       "      categorical_0_0  categorical_0_1  categorical_0_2  categorical_0_3  \\\n",
       "878              -0.9             -0.8             -0.7             -0.6   \n",
       "988               0.1             -0.8             -0.7             -0.6   \n",
       "305               0.1              0.2             -0.7             -0.6   \n",
       "1644              0.1              0.2              0.3             -0.6   \n",
       "489               0.1              0.2              0.3             -0.6   \n",
       "\n",
       "      categorical_0_4  categorical_0_5  categorical_0_6  categorical_0_7  \\\n",
       "878              -0.5             -0.4             -0.3             -0.2   \n",
       "988              -0.5             -0.4             -0.3             -0.2   \n",
       "305              -0.5             -0.4             -0.3             -0.2   \n",
       "1644             -0.5             -0.4             -0.3             -0.2   \n",
       "489              -0.5             -0.4             -0.3             -0.2   \n",
       "\n",
       "      categorical_0_8  categorical_1_0  ...  categorical_9_0  categorical_9_1  \\\n",
       "878              -0.1        -0.909091  ...        -0.909091        -0.818182   \n",
       "988              -0.1         0.090909  ...         0.090909        -0.818182   \n",
       "305              -0.1         0.090909  ...         0.090909         0.181818   \n",
       "1644             -0.1        -0.909091  ...        -0.909091        -0.818182   \n",
       "489              -0.1         0.090909  ...         0.090909         0.181818   \n",
       "\n",
       "      categorical_9_2  categorical_9_3  categorical_9_4  categorical_9_5  \\\n",
       "878         -0.727273        -0.636364        -0.545455        -0.454545   \n",
       "988         -0.727273        -0.636364        -0.545455        -0.454545   \n",
       "305         -0.727273        -0.636364        -0.545455        -0.454545   \n",
       "1644        -0.727273        -0.636364        -0.545455        -0.454545   \n",
       "489          0.272727        -0.636364        -0.545455        -0.454545   \n",
       "\n",
       "      categorical_9_6  categorical_9_7  categorical_9_8  categorical_9_9  \n",
       "878         -0.363636        -0.272727        -0.181818        -0.090909  \n",
       "988         -0.363636        -0.272727        -0.181818        -0.090909  \n",
       "305         -0.363636        -0.272727        -0.181818        -0.090909  \n",
       "1644        -0.363636        -0.272727        -0.181818        -0.090909  \n",
       "489         -0.363636        -0.272727        -0.181818        -0.090909  \n",
       "\n",
       "[5 rows x 99 columns]"
      ]
     },
     "execution_count": 41,
     "metadata": {},
     "output_type": "execute_result"
    }
   ],
   "source": [
    "errors['method'] += ['BackwardDifference Encoding']\n",
    "bd = BackwardDifferenceEncoder(drop_invariant=True) #удаляет ведущий ноль\n",
    "X_bd = bd.fit_transform(X_train, y_train)\n",
    "errors['shape'] += [X_bd.shape[1]]\n",
    "X_bd.head()"
   ]
  },
  {
   "cell_type": "code",
   "execution_count": 42,
   "metadata": {},
   "outputs": [
    {
     "name": "stdout",
     "output_type": "stream",
     "text": [
      "Original size: (1000, 10)\n",
      "Helmert encoded size: (1000, 99)\n"
     ]
    }
   ],
   "source": [
    "# Compare sizes\n",
    "print('Original size:', X_train.shape)\n",
    "print('Helmert encoded size:', X_bd.shape)"
   ]
  },
  {
   "cell_type": "code",
   "execution_count": 43,
   "metadata": {},
   "outputs": [
    {
     "name": "stdout",
     "output_type": "stream",
     "text": [
      "Cross-validated MAE: 0.8963082579210969 +/- 0.00630949368675888\n"
     ]
    }
   ],
   "source": [
    "# Regression model\n",
    "model_bd = Pipeline([\n",
    "    ('encoder', BackwardDifferenceEncoder()),\n",
    "    ('scaler', StandardScaler()),\n",
    "    ('imputer', SimpleImputer(strategy='mean')),\n",
    "    ('regressor', Ridge())\n",
    "])\n",
    "\n",
    "# Cross-validated MAE\n",
    "scores = cross_val_score(model_bd, X_train, y_train, \n",
    "                         cv=3, scoring=mae_scorer)\n",
    "print('Cross-validated MAE:', scores.mean(), '+/-', scores.std())\n",
    "errors['train'] += [scores.mean()]"
   ]
  },
  {
   "cell_type": "code",
   "execution_count": 44,
   "metadata": {},
   "outputs": [
    {
     "name": "stdout",
     "output_type": "stream",
     "text": [
      "Validation MAE: 0.8658905636979023\n"
     ]
    }
   ],
   "source": [
    "# MAE on test data\n",
    "model_bd.fit(X_train, y_train)\n",
    "y_pred = model_bd.predict(X_test)\n",
    "test_mae = mean_absolute_error(y_test, y_pred)\n",
    "print('Validation MAE:', test_mae)\n",
    "errors['test'] += [test_mae]"
   ]
  },
  {
   "cell_type": "code",
   "execution_count": null,
   "metadata": {},
   "outputs": [],
   "source": []
  },
  {
   "cell_type": "code",
   "execution_count": 45,
   "metadata": {},
   "outputs": [
    {
     "data": {
      "text/html": [
       "<div>\n",
       "<style scoped>\n",
       "    .dataframe tbody tr th:only-of-type {\n",
       "        vertical-align: middle;\n",
       "    }\n",
       "\n",
       "    .dataframe tbody tr th {\n",
       "        vertical-align: top;\n",
       "    }\n",
       "\n",
       "    .dataframe thead th {\n",
       "        text-align: right;\n",
       "    }\n",
       "</style>\n",
       "<table border=\"1\" class=\"dataframe\">\n",
       "  <thead>\n",
       "    <tr style=\"text-align: right;\">\n",
       "      <th></th>\n",
       "      <th>method</th>\n",
       "      <th>train</th>\n",
       "      <th>test</th>\n",
       "      <th>shape</th>\n",
       "    </tr>\n",
       "  </thead>\n",
       "  <tbody>\n",
       "    <tr>\n",
       "      <th>0</th>\n",
       "      <td>Raw MAE</td>\n",
       "      <td>1.152729</td>\n",
       "      <td>1.152977</td>\n",
       "      <td>10</td>\n",
       "    </tr>\n",
       "    <tr>\n",
       "      <th>1</th>\n",
       "      <td>Ordinary Encoder</td>\n",
       "      <td>1.153679</td>\n",
       "      <td>1.141711</td>\n",
       "      <td>10</td>\n",
       "    </tr>\n",
       "    <tr>\n",
       "      <th>2</th>\n",
       "      <td>Count Encoding</td>\n",
       "      <td>1.167129</td>\n",
       "      <td>1.146363</td>\n",
       "      <td>10</td>\n",
       "    </tr>\n",
       "    <tr>\n",
       "      <th>3</th>\n",
       "      <td>One-Hot Encoding</td>\n",
       "      <td>0.896605</td>\n",
       "      <td>0.866974</td>\n",
       "      <td>109</td>\n",
       "    </tr>\n",
       "    <tr>\n",
       "      <th>4</th>\n",
       "      <td>Binary Encoding</td>\n",
       "      <td>1.088910</td>\n",
       "      <td>1.060021</td>\n",
       "      <td>40</td>\n",
       "    </tr>\n",
       "    <tr>\n",
       "      <th>5</th>\n",
       "      <td>Helmert Encoding</td>\n",
       "      <td>0.897175</td>\n",
       "      <td>0.866881</td>\n",
       "      <td>99</td>\n",
       "    </tr>\n",
       "    <tr>\n",
       "      <th>6</th>\n",
       "      <td>BackwardDifference Encoding</td>\n",
       "      <td>0.896308</td>\n",
       "      <td>0.865891</td>\n",
       "      <td>99</td>\n",
       "    </tr>\n",
       "  </tbody>\n",
       "</table>\n",
       "</div>"
      ],
      "text/plain": [
       "                        method     train      test  shape\n",
       "0                      Raw MAE  1.152729  1.152977     10\n",
       "1             Ordinary Encoder  1.153679  1.141711     10\n",
       "2               Count Encoding  1.167129  1.146363     10\n",
       "3             One-Hot Encoding  0.896605  0.866974    109\n",
       "4              Binary Encoding  1.088910  1.060021     40\n",
       "5             Helmert Encoding  0.897175  0.866881     99\n",
       "6  BackwardDifference Encoding  0.896308  0.865891     99"
      ]
     },
     "execution_count": 45,
     "metadata": {},
     "output_type": "execute_result"
    }
   ],
   "source": [
    "pd.DataFrame(errors)"
   ]
  },
  {
   "cell_type": "markdown",
   "metadata": {
    "id": "pJR4JtnALzk7"
   },
   "source": [
    "## Target Encoding"
   ]
  },
  {
   "cell_type": "code",
   "execution_count": 46,
   "metadata": {
    "colab": {
     "base_uri": "https://localhost:8080/"
    },
    "id": "XE-V3BU-VV8K",
    "outputId": "21f41c7e-c330-42c9-f302-6fed606844e4"
   },
   "outputs": [
    {
     "data": {
      "text/plain": [
       "0.1389303264955781"
      ]
     },
     "execution_count": 46,
     "metadata": {},
     "output_type": "execute_result"
    }
   ],
   "source": [
    "y_train[X_train[X_train['categorical_0'] == 'a'].index].mean() "
   ]
  },
  {
   "cell_type": "code",
   "execution_count": 47,
   "metadata": {
    "colab": {
     "base_uri": "https://localhost:8080/",
     "height": 204
    },
    "id": "G3Q_B2N5V2ZN",
    "outputId": "55665dfc-7c94-4997-8655-0dd3b8ed1a50"
   },
   "outputs": [
    {
     "data": {
      "text/html": [
       "<div>\n",
       "<style scoped>\n",
       "    .dataframe tbody tr th:only-of-type {\n",
       "        vertical-align: middle;\n",
       "    }\n",
       "\n",
       "    .dataframe tbody tr th {\n",
       "        vertical-align: top;\n",
       "    }\n",
       "\n",
       "    .dataframe thead th {\n",
       "        text-align: right;\n",
       "    }\n",
       "</style>\n",
       "<table border=\"1\" class=\"dataframe\">\n",
       "  <thead>\n",
       "    <tr style=\"text-align: right;\">\n",
       "      <th></th>\n",
       "      <th>categorical_0</th>\n",
       "      <th>categorical_1</th>\n",
       "      <th>categorical_2</th>\n",
       "      <th>categorical_3</th>\n",
       "      <th>categorical_4</th>\n",
       "      <th>categorical_5</th>\n",
       "      <th>categorical_6</th>\n",
       "      <th>categorical_7</th>\n",
       "      <th>categorical_8</th>\n",
       "      <th>categorical_9</th>\n",
       "    </tr>\n",
       "  </thead>\n",
       "  <tbody>\n",
       "    <tr>\n",
       "      <th>878</th>\n",
       "      <td>0.048687</td>\n",
       "      <td>0.105149</td>\n",
       "      <td>0.254408</td>\n",
       "      <td>0.335531</td>\n",
       "      <td>0.326531</td>\n",
       "      <td>0.401084</td>\n",
       "      <td>0.165886</td>\n",
       "      <td>0.139940</td>\n",
       "      <td>-0.091535</td>\n",
       "      <td>2.051528</td>\n",
       "    </tr>\n",
       "    <tr>\n",
       "      <th>988</th>\n",
       "      <td>0.147641</td>\n",
       "      <td>0.245556</td>\n",
       "      <td>0.129712</td>\n",
       "      <td>0.256120</td>\n",
       "      <td>0.126966</td>\n",
       "      <td>0.180153</td>\n",
       "      <td>0.165886</td>\n",
       "      <td>0.262572</td>\n",
       "      <td>0.293681</td>\n",
       "      <td>-0.685957</td>\n",
       "    </tr>\n",
       "    <tr>\n",
       "      <th>305</th>\n",
       "      <td>0.332669</td>\n",
       "      <td>0.144578</td>\n",
       "      <td>0.230513</td>\n",
       "      <td>0.249642</td>\n",
       "      <td>0.302961</td>\n",
       "      <td>0.239725</td>\n",
       "      <td>0.165886</td>\n",
       "      <td>0.310264</td>\n",
       "      <td>0.293681</td>\n",
       "      <td>-1.193131</td>\n",
       "    </tr>\n",
       "    <tr>\n",
       "      <th>1644</th>\n",
       "      <td>0.456792</td>\n",
       "      <td>0.105149</td>\n",
       "      <td>0.254408</td>\n",
       "      <td>0.223898</td>\n",
       "      <td>0.183028</td>\n",
       "      <td>0.180153</td>\n",
       "      <td>0.116573</td>\n",
       "      <td>0.210924</td>\n",
       "      <td>0.330240</td>\n",
       "      <td>2.051528</td>\n",
       "    </tr>\n",
       "    <tr>\n",
       "      <th>489</th>\n",
       "      <td>0.456792</td>\n",
       "      <td>0.170270</td>\n",
       "      <td>0.129712</td>\n",
       "      <td>0.256120</td>\n",
       "      <td>0.155722</td>\n",
       "      <td>0.180153</td>\n",
       "      <td>0.256183</td>\n",
       "      <td>0.310264</td>\n",
       "      <td>0.208062</td>\n",
       "      <td>0.723355</td>\n",
       "    </tr>\n",
       "  </tbody>\n",
       "</table>\n",
       "</div>"
      ],
      "text/plain": [
       "      categorical_0  categorical_1  categorical_2  categorical_3  \\\n",
       "878        0.048687       0.105149       0.254408       0.335531   \n",
       "988        0.147641       0.245556       0.129712       0.256120   \n",
       "305        0.332669       0.144578       0.230513       0.249642   \n",
       "1644       0.456792       0.105149       0.254408       0.223898   \n",
       "489        0.456792       0.170270       0.129712       0.256120   \n",
       "\n",
       "      categorical_4  categorical_5  categorical_6  categorical_7  \\\n",
       "878        0.326531       0.401084       0.165886       0.139940   \n",
       "988        0.126966       0.180153       0.165886       0.262572   \n",
       "305        0.302961       0.239725       0.165886       0.310264   \n",
       "1644       0.183028       0.180153       0.116573       0.210924   \n",
       "489        0.155722       0.180153       0.256183       0.310264   \n",
       "\n",
       "      categorical_8  categorical_9  \n",
       "878       -0.091535       2.051528  \n",
       "988        0.293681      -0.685957  \n",
       "305        0.293681      -1.193131  \n",
       "1644       0.330240       2.051528  \n",
       "489        0.208062       0.723355  "
      ]
     },
     "execution_count": 47,
     "metadata": {},
     "output_type": "execute_result"
    }
   ],
   "source": [
    "errors['method'] += ['Target Encoding']\n",
    "te = TargetEncoder()\n",
    "X_target_encoded = te.fit_transform(X_train, y_train)\n",
    "errors['shape'] += [X_target_encoded.shape[1]]\n",
    "X_target_encoded.head()"
   ]
  },
  {
   "cell_type": "code",
   "execution_count": 48,
   "metadata": {
    "colab": {
     "base_uri": "https://localhost:8080/"
    },
    "id": "q7j8DFVNWGiF",
    "outputId": "eb93df8f-d594-4282-a699-f55d44061aad"
   },
   "outputs": [
    {
     "name": "stdout",
     "output_type": "stream",
     "text": [
      "Cross-validated MAE: 0.8812897665300262 +/- 0.01003895493141844\n"
     ]
    }
   ],
   "source": [
    "# Regression model\n",
    "model_te = Pipeline([\n",
    "    ('encoder', TargetEncoder()),\n",
    "    ('scaler', StandardScaler()),\n",
    "    ('imputer', SimpleImputer(strategy='mean')),\n",
    "    ('regressor', Ridge())\n",
    "])\n",
    "\n",
    "# Cross-validated MAE\n",
    "scores = cross_val_score(model_te, X_train, y_train, \n",
    "                         cv=3, scoring=mae_scorer)\n",
    "print('Cross-validated MAE:', scores.mean(), '+/-', scores.std())\n",
    "errors['train'] += [scores.mean()]"
   ]
  },
  {
   "cell_type": "code",
   "execution_count": 49,
   "metadata": {
    "colab": {
     "base_uri": "https://localhost:8080/"
    },
    "id": "Sq3DV6aIYMeE",
    "outputId": "0f6de0b5-8b13-4d39-df04-92cffc4b5e5d"
   },
   "outputs": [
    {
     "name": "stdout",
     "output_type": "stream",
     "text": [
      "Validation MAE: 0.8458976011521858\n"
     ]
    }
   ],
   "source": [
    "# MAE on test data\n",
    "model_te.fit(X_train, y_train)\n",
    "y_pred = model_te.predict(X_test)\n",
    "test_mae = mean_absolute_error(y_test, y_pred)\n",
    "print('Validation MAE:', test_mae)\n",
    "errors['test'] += [test_mae]"
   ]
  },
  {
   "cell_type": "code",
   "execution_count": 50,
   "metadata": {},
   "outputs": [
    {
     "data": {
      "text/html": [
       "<div>\n",
       "<style scoped>\n",
       "    .dataframe tbody tr th:only-of-type {\n",
       "        vertical-align: middle;\n",
       "    }\n",
       "\n",
       "    .dataframe tbody tr th {\n",
       "        vertical-align: top;\n",
       "    }\n",
       "\n",
       "    .dataframe thead th {\n",
       "        text-align: right;\n",
       "    }\n",
       "</style>\n",
       "<table border=\"1\" class=\"dataframe\">\n",
       "  <thead>\n",
       "    <tr style=\"text-align: right;\">\n",
       "      <th></th>\n",
       "      <th>method</th>\n",
       "      <th>train</th>\n",
       "      <th>test</th>\n",
       "      <th>shape</th>\n",
       "    </tr>\n",
       "  </thead>\n",
       "  <tbody>\n",
       "    <tr>\n",
       "      <th>0</th>\n",
       "      <td>Raw MAE</td>\n",
       "      <td>1.152729</td>\n",
       "      <td>1.152977</td>\n",
       "      <td>10</td>\n",
       "    </tr>\n",
       "    <tr>\n",
       "      <th>1</th>\n",
       "      <td>Ordinary Encoder</td>\n",
       "      <td>1.153679</td>\n",
       "      <td>1.141711</td>\n",
       "      <td>10</td>\n",
       "    </tr>\n",
       "    <tr>\n",
       "      <th>2</th>\n",
       "      <td>Count Encoding</td>\n",
       "      <td>1.167129</td>\n",
       "      <td>1.146363</td>\n",
       "      <td>10</td>\n",
       "    </tr>\n",
       "    <tr>\n",
       "      <th>3</th>\n",
       "      <td>One-Hot Encoding</td>\n",
       "      <td>0.896605</td>\n",
       "      <td>0.866974</td>\n",
       "      <td>109</td>\n",
       "    </tr>\n",
       "    <tr>\n",
       "      <th>4</th>\n",
       "      <td>Binary Encoding</td>\n",
       "      <td>1.088910</td>\n",
       "      <td>1.060021</td>\n",
       "      <td>40</td>\n",
       "    </tr>\n",
       "    <tr>\n",
       "      <th>5</th>\n",
       "      <td>Helmert Encoding</td>\n",
       "      <td>0.897175</td>\n",
       "      <td>0.866881</td>\n",
       "      <td>99</td>\n",
       "    </tr>\n",
       "    <tr>\n",
       "      <th>6</th>\n",
       "      <td>BackwardDifference Encoding</td>\n",
       "      <td>0.896308</td>\n",
       "      <td>0.865891</td>\n",
       "      <td>99</td>\n",
       "    </tr>\n",
       "    <tr>\n",
       "      <th>7</th>\n",
       "      <td>Target Encoding</td>\n",
       "      <td>0.881290</td>\n",
       "      <td>0.845898</td>\n",
       "      <td>10</td>\n",
       "    </tr>\n",
       "  </tbody>\n",
       "</table>\n",
       "</div>"
      ],
      "text/plain": [
       "                        method     train      test  shape\n",
       "0                      Raw MAE  1.152729  1.152977     10\n",
       "1             Ordinary Encoder  1.153679  1.141711     10\n",
       "2               Count Encoding  1.167129  1.146363     10\n",
       "3             One-Hot Encoding  0.896605  0.866974    109\n",
       "4              Binary Encoding  1.088910  1.060021     40\n",
       "5             Helmert Encoding  0.897175  0.866881     99\n",
       "6  BackwardDifference Encoding  0.896308  0.865891     99\n",
       "7              Target Encoding  0.881290  0.845898     10"
      ]
     },
     "execution_count": 50,
     "metadata": {},
     "output_type": "execute_result"
    }
   ],
   "source": [
    "pd.DataFrame(errors)"
   ]
  },
  {
   "cell_type": "markdown",
   "metadata": {
    "id": "WAyX99su6Ztp"
   },
   "source": [
    "## Leave One Out Encoding\n"
   ]
  },
  {
   "cell_type": "code",
   "execution_count": 51,
   "metadata": {
    "colab": {
     "base_uri": "https://localhost:8080/",
     "height": 204
    },
    "id": "qJhMNfjbxs5u",
    "outputId": "9f30271b-1139-4580-d10f-2a6c77607017"
   },
   "outputs": [
    {
     "data": {
      "text/html": [
       "<div>\n",
       "<style scoped>\n",
       "    .dataframe tbody tr th:only-of-type {\n",
       "        vertical-align: middle;\n",
       "    }\n",
       "\n",
       "    .dataframe tbody tr th {\n",
       "        vertical-align: top;\n",
       "    }\n",
       "\n",
       "    .dataframe thead th {\n",
       "        text-align: right;\n",
       "    }\n",
       "</style>\n",
       "<table border=\"1\" class=\"dataframe\">\n",
       "  <thead>\n",
       "    <tr style=\"text-align: right;\">\n",
       "      <th></th>\n",
       "      <th>categorical_0</th>\n",
       "      <th>categorical_1</th>\n",
       "      <th>categorical_2</th>\n",
       "      <th>categorical_3</th>\n",
       "      <th>categorical_4</th>\n",
       "      <th>categorical_5</th>\n",
       "      <th>categorical_6</th>\n",
       "      <th>categorical_7</th>\n",
       "      <th>categorical_8</th>\n",
       "      <th>categorical_9</th>\n",
       "    </tr>\n",
       "  </thead>\n",
       "  <tbody>\n",
       "    <tr>\n",
       "      <th>878</th>\n",
       "      <td>0.038679</td>\n",
       "      <td>0.099091</td>\n",
       "      <td>0.248075</td>\n",
       "      <td>0.320154</td>\n",
       "      <td>0.319339</td>\n",
       "      <td>0.389948</td>\n",
       "      <td>0.159943</td>\n",
       "      <td>0.132089</td>\n",
       "      <td>-0.126636</td>\n",
       "      <td>2.056923</td>\n",
       "    </tr>\n",
       "    <tr>\n",
       "      <th>988</th>\n",
       "      <td>0.167900</td>\n",
       "      <td>0.261770</td>\n",
       "      <td>0.135460</td>\n",
       "      <td>0.262283</td>\n",
       "      <td>0.144564</td>\n",
       "      <td>0.186068</td>\n",
       "      <td>0.172323</td>\n",
       "      <td>0.269155</td>\n",
       "      <td>0.303457</td>\n",
       "      <td>-0.683319</td>\n",
       "    </tr>\n",
       "    <tr>\n",
       "      <th>305</th>\n",
       "      <td>0.376534</td>\n",
       "      <td>0.147903</td>\n",
       "      <td>0.233633</td>\n",
       "      <td>0.253866</td>\n",
       "      <td>0.305912</td>\n",
       "      <td>0.243020</td>\n",
       "      <td>0.167768</td>\n",
       "      <td>0.313851</td>\n",
       "      <td>0.297135</td>\n",
       "      <td>-1.198416</td>\n",
       "    </tr>\n",
       "    <tr>\n",
       "      <th>1644</th>\n",
       "      <td>0.431739</td>\n",
       "      <td>0.093769</td>\n",
       "      <td>0.241799</td>\n",
       "      <td>0.211591</td>\n",
       "      <td>0.171363</td>\n",
       "      <td>0.169832</td>\n",
       "      <td>0.094221</td>\n",
       "      <td>0.164960</td>\n",
       "      <td>0.302522</td>\n",
       "      <td>2.047219</td>\n",
       "    </tr>\n",
       "    <tr>\n",
       "      <th>489</th>\n",
       "      <td>0.433659</td>\n",
       "      <td>0.157867</td>\n",
       "      <td>0.119776</td>\n",
       "      <td>0.246932</td>\n",
       "      <td>0.134199</td>\n",
       "      <td>0.170519</td>\n",
       "      <td>0.246094</td>\n",
       "      <td>0.296325</td>\n",
       "      <td>0.199162</td>\n",
       "      <td>0.712226</td>\n",
       "    </tr>\n",
       "  </tbody>\n",
       "</table>\n",
       "</div>"
      ],
      "text/plain": [
       "      categorical_0  categorical_1  categorical_2  categorical_3  \\\n",
       "878        0.038679       0.099091       0.248075       0.320154   \n",
       "988        0.167900       0.261770       0.135460       0.262283   \n",
       "305        0.376534       0.147903       0.233633       0.253866   \n",
       "1644       0.431739       0.093769       0.241799       0.211591   \n",
       "489        0.433659       0.157867       0.119776       0.246932   \n",
       "\n",
       "      categorical_4  categorical_5  categorical_6  categorical_7  \\\n",
       "878        0.319339       0.389948       0.159943       0.132089   \n",
       "988        0.144564       0.186068       0.172323       0.269155   \n",
       "305        0.305912       0.243020       0.167768       0.313851   \n",
       "1644       0.171363       0.169832       0.094221       0.164960   \n",
       "489        0.134199       0.170519       0.246094       0.296325   \n",
       "\n",
       "      categorical_8  categorical_9  \n",
       "878       -0.126636       2.056923  \n",
       "988        0.303457      -0.683319  \n",
       "305        0.297135      -1.198416  \n",
       "1644       0.302522       2.047219  \n",
       "489        0.199162       0.712226  "
      ]
     },
     "execution_count": 51,
     "metadata": {},
     "output_type": "execute_result"
    }
   ],
   "source": [
    "errors['method'] += ['Leave One Out Encoding']\n",
    "te = LeaveOneOutEncoder()\n",
    "X_target_encoded_loo = te.fit_transform(X_train, y_train)\n",
    "errors['shape'] += [X_target_encoded_loo.shape[1]]\n",
    "X_target_encoded_loo.head()"
   ]
  },
  {
   "cell_type": "code",
   "execution_count": 52,
   "metadata": {
    "colab": {
     "base_uri": "https://localhost:8080/"
    },
    "id": "lstPcHwUVV8M",
    "outputId": "12412a49-3eb7-40bc-9b25-145913ec0ddd"
   },
   "outputs": [
    {
     "data": {
      "text/plain": [
       "0.13889825154726093"
      ]
     },
     "execution_count": 52,
     "metadata": {},
     "output_type": "execute_result"
    }
   ],
   "source": [
    "y_train[X_train['categorical_0'] =='a'].iloc[1:].mean()"
   ]
  },
  {
   "cell_type": "code",
   "execution_count": 53,
   "metadata": {
    "colab": {
     "base_uri": "https://localhost:8080/"
    },
    "id": "x8E8OZ5y1oNy",
    "outputId": "1f5c818f-737c-499d-b59e-711dc2e1dbf5"
   },
   "outputs": [
    {
     "name": "stdout",
     "output_type": "stream",
     "text": [
      "Cross-validated MAE: 0.8559010150873649 +/- 0.006070457777463622\n"
     ]
    }
   ],
   "source": [
    "# Regression model\n",
    "model_te_loo = Pipeline([\n",
    "    ('encoder', LeaveOneOutEncoder()),\n",
    "    ('scaler', StandardScaler()),\n",
    "    ('imputer', SimpleImputer(strategy='mean')),\n",
    "    ('regressor', Ridge())\n",
    "])\n",
    "\n",
    "# Cross-validated MAE\n",
    "scores = cross_val_score(model_te_loo, X_train, y_train, \n",
    "                         cv=3, scoring=mae_scorer)\n",
    "print('Cross-validated MAE:', scores.mean(), '+/-', scores.std())\n",
    "errors['train'] += [scores.mean()]"
   ]
  },
  {
   "cell_type": "code",
   "execution_count": 54,
   "metadata": {
    "colab": {
     "base_uri": "https://localhost:8080/"
    },
    "id": "aT3SSVXu1xkB",
    "outputId": "7322976a-314f-442d-c7f9-2135d92adb88"
   },
   "outputs": [
    {
     "name": "stdout",
     "output_type": "stream",
     "text": [
      "Validation MAE: 0.8396774600801863\n"
     ]
    }
   ],
   "source": [
    "# MAE on test data\n",
    "model_te_loo.fit(X_train, y_train)\n",
    "y_pred = model_te_loo.predict(X_test)\n",
    "test_mae = mean_absolute_error(y_test, y_pred)\n",
    "print('Validation MAE:', test_mae)\n",
    "errors['test'] += [test_mae]"
   ]
  },
  {
   "cell_type": "code",
   "execution_count": 55,
   "metadata": {},
   "outputs": [
    {
     "data": {
      "text/html": [
       "<div>\n",
       "<style scoped>\n",
       "    .dataframe tbody tr th:only-of-type {\n",
       "        vertical-align: middle;\n",
       "    }\n",
       "\n",
       "    .dataframe tbody tr th {\n",
       "        vertical-align: top;\n",
       "    }\n",
       "\n",
       "    .dataframe thead th {\n",
       "        text-align: right;\n",
       "    }\n",
       "</style>\n",
       "<table border=\"1\" class=\"dataframe\">\n",
       "  <thead>\n",
       "    <tr style=\"text-align: right;\">\n",
       "      <th></th>\n",
       "      <th>method</th>\n",
       "      <th>train</th>\n",
       "      <th>test</th>\n",
       "      <th>shape</th>\n",
       "    </tr>\n",
       "  </thead>\n",
       "  <tbody>\n",
       "    <tr>\n",
       "      <th>0</th>\n",
       "      <td>Raw MAE</td>\n",
       "      <td>1.152729</td>\n",
       "      <td>1.152977</td>\n",
       "      <td>10</td>\n",
       "    </tr>\n",
       "    <tr>\n",
       "      <th>1</th>\n",
       "      <td>Ordinary Encoder</td>\n",
       "      <td>1.153679</td>\n",
       "      <td>1.141711</td>\n",
       "      <td>10</td>\n",
       "    </tr>\n",
       "    <tr>\n",
       "      <th>2</th>\n",
       "      <td>Count Encoding</td>\n",
       "      <td>1.167129</td>\n",
       "      <td>1.146363</td>\n",
       "      <td>10</td>\n",
       "    </tr>\n",
       "    <tr>\n",
       "      <th>3</th>\n",
       "      <td>One-Hot Encoding</td>\n",
       "      <td>0.896605</td>\n",
       "      <td>0.866974</td>\n",
       "      <td>109</td>\n",
       "    </tr>\n",
       "    <tr>\n",
       "      <th>4</th>\n",
       "      <td>Binary Encoding</td>\n",
       "      <td>1.088910</td>\n",
       "      <td>1.060021</td>\n",
       "      <td>40</td>\n",
       "    </tr>\n",
       "    <tr>\n",
       "      <th>5</th>\n",
       "      <td>Helmert Encoding</td>\n",
       "      <td>0.897175</td>\n",
       "      <td>0.866881</td>\n",
       "      <td>99</td>\n",
       "    </tr>\n",
       "    <tr>\n",
       "      <th>6</th>\n",
       "      <td>BackwardDifference Encoding</td>\n",
       "      <td>0.896308</td>\n",
       "      <td>0.865891</td>\n",
       "      <td>99</td>\n",
       "    </tr>\n",
       "    <tr>\n",
       "      <th>7</th>\n",
       "      <td>Target Encoding</td>\n",
       "      <td>0.881290</td>\n",
       "      <td>0.845898</td>\n",
       "      <td>10</td>\n",
       "    </tr>\n",
       "    <tr>\n",
       "      <th>8</th>\n",
       "      <td>Leave One Out Encoding</td>\n",
       "      <td>0.855901</td>\n",
       "      <td>0.839677</td>\n",
       "      <td>10</td>\n",
       "    </tr>\n",
       "  </tbody>\n",
       "</table>\n",
       "</div>"
      ],
      "text/plain": [
       "                        method     train      test  shape\n",
       "0                      Raw MAE  1.152729  1.152977     10\n",
       "1             Ordinary Encoder  1.153679  1.141711     10\n",
       "2               Count Encoding  1.167129  1.146363     10\n",
       "3             One-Hot Encoding  0.896605  0.866974    109\n",
       "4              Binary Encoding  1.088910  1.060021     40\n",
       "5             Helmert Encoding  0.897175  0.866881     99\n",
       "6  BackwardDifference Encoding  0.896308  0.865891     99\n",
       "7              Target Encoding  0.881290  0.845898     10\n",
       "8       Leave One Out Encoding  0.855901  0.839677     10"
      ]
     },
     "execution_count": 55,
     "metadata": {},
     "output_type": "execute_result"
    }
   ],
   "source": [
    "pd.DataFrame(errors)"
   ]
  },
  {
   "cell_type": "markdown",
   "metadata": {
    "id": "jU2J2QUedZCm"
   },
   "source": [
    "## James Stein Encoding"
   ]
  },
  {
   "cell_type": "code",
   "execution_count": 56,
   "metadata": {
    "colab": {
     "base_uri": "https://localhost:8080/",
     "height": 204
    },
    "id": "Fk1oosv_cdit",
    "outputId": "a3f9c233-9773-4aad-9d75-b89bc925c4c3"
   },
   "outputs": [
    {
     "data": {
      "text/html": [
       "<div>\n",
       "<style scoped>\n",
       "    .dataframe tbody tr th:only-of-type {\n",
       "        vertical-align: middle;\n",
       "    }\n",
       "\n",
       "    .dataframe tbody tr th {\n",
       "        vertical-align: top;\n",
       "    }\n",
       "\n",
       "    .dataframe thead th {\n",
       "        text-align: right;\n",
       "    }\n",
       "</style>\n",
       "<table border=\"1\" class=\"dataframe\">\n",
       "  <thead>\n",
       "    <tr style=\"text-align: right;\">\n",
       "      <th></th>\n",
       "      <th>categorical_0</th>\n",
       "      <th>categorical_1</th>\n",
       "      <th>categorical_2</th>\n",
       "      <th>categorical_3</th>\n",
       "      <th>categorical_4</th>\n",
       "      <th>categorical_5</th>\n",
       "      <th>categorical_6</th>\n",
       "      <th>categorical_7</th>\n",
       "      <th>categorical_8</th>\n",
       "      <th>categorical_9</th>\n",
       "    </tr>\n",
       "  </thead>\n",
       "  <tbody>\n",
       "    <tr>\n",
       "      <th>878</th>\n",
       "      <td>0.100205</td>\n",
       "      <td>0.137496</td>\n",
       "      <td>0.224146</td>\n",
       "      <td>0.274096</td>\n",
       "      <td>0.273002</td>\n",
       "      <td>0.310541</td>\n",
       "      <td>0.171780</td>\n",
       "      <td>0.156156</td>\n",
       "      <td>0.013263</td>\n",
       "      <td>1.522121</td>\n",
       "    </tr>\n",
       "    <tr>\n",
       "      <th>988</th>\n",
       "      <td>0.159963</td>\n",
       "      <td>0.224306</td>\n",
       "      <td>0.150086</td>\n",
       "      <td>0.226516</td>\n",
       "      <td>0.149552</td>\n",
       "      <td>0.181085</td>\n",
       "      <td>0.171780</td>\n",
       "      <td>0.230259</td>\n",
       "      <td>0.246713</td>\n",
       "      <td>-0.425510</td>\n",
       "    </tr>\n",
       "    <tr>\n",
       "      <th>305</th>\n",
       "      <td>0.283523</td>\n",
       "      <td>0.154821</td>\n",
       "      <td>0.210858</td>\n",
       "      <td>0.222431</td>\n",
       "      <td>0.252333</td>\n",
       "      <td>0.217095</td>\n",
       "      <td>0.171780</td>\n",
       "      <td>0.262471</td>\n",
       "      <td>0.246713</td>\n",
       "      <td>-0.824641</td>\n",
       "    </tr>\n",
       "    <tr>\n",
       "      <th>1644</th>\n",
       "      <td>0.349908</td>\n",
       "      <td>0.137496</td>\n",
       "      <td>0.224146</td>\n",
       "      <td>0.208053</td>\n",
       "      <td>0.182798</td>\n",
       "      <td>0.181085</td>\n",
       "      <td>0.143214</td>\n",
       "      <td>0.199422</td>\n",
       "      <td>0.273983</td>\n",
       "      <td>1.522121</td>\n",
       "    </tr>\n",
       "    <tr>\n",
       "      <th>489</th>\n",
       "      <td>0.349908</td>\n",
       "      <td>0.175357</td>\n",
       "      <td>0.150086</td>\n",
       "      <td>0.226516</td>\n",
       "      <td>0.165419</td>\n",
       "      <td>0.181085</td>\n",
       "      <td>0.225439</td>\n",
       "      <td>0.262471</td>\n",
       "      <td>0.197881</td>\n",
       "      <td>0.601578</td>\n",
       "    </tr>\n",
       "  </tbody>\n",
       "</table>\n",
       "</div>"
      ],
      "text/plain": [
       "      categorical_0  categorical_1  categorical_2  categorical_3  \\\n",
       "878        0.100205       0.137496       0.224146       0.274096   \n",
       "988        0.159963       0.224306       0.150086       0.226516   \n",
       "305        0.283523       0.154821       0.210858       0.222431   \n",
       "1644       0.349908       0.137496       0.224146       0.208053   \n",
       "489        0.349908       0.175357       0.150086       0.226516   \n",
       "\n",
       "      categorical_4  categorical_5  categorical_6  categorical_7  \\\n",
       "878        0.273002       0.310541       0.171780       0.156156   \n",
       "988        0.149552       0.181085       0.171780       0.230259   \n",
       "305        0.252333       0.217095       0.171780       0.262471   \n",
       "1644       0.182798       0.181085       0.143214       0.199422   \n",
       "489        0.165419       0.181085       0.225439       0.262471   \n",
       "\n",
       "      categorical_8  categorical_9  \n",
       "878        0.013263       1.522121  \n",
       "988        0.246713      -0.425510  \n",
       "305        0.246713      -0.824641  \n",
       "1644       0.273983       1.522121  \n",
       "489        0.197881       0.601578  "
      ]
     },
     "execution_count": 56,
     "metadata": {},
     "output_type": "execute_result"
    }
   ],
   "source": [
    "errors['method'] += ['James Stein Encoding']\n",
    "js = JamesSteinEncoder()\n",
    "X_js = js.fit_transform(X_train, y_train)\n",
    "errors['shape'] += [X_js.shape[1]]\n",
    "X_js.head()"
   ]
  },
  {
   "cell_type": "code",
   "execution_count": 57,
   "metadata": {
    "colab": {
     "base_uri": "https://localhost:8080/"
    },
    "id": "AGbKkqhrd-Ei",
    "outputId": "45a146c2-b1b7-43fd-90a9-fc44ae6ea89b"
   },
   "outputs": [
    {
     "name": "stdout",
     "output_type": "stream",
     "text": [
      "Cross-validated MAE: 0.8778655076760685 +/- 0.0039036329613203057\n"
     ]
    }
   ],
   "source": [
    "# Regression model\n",
    "model_oh = Pipeline([\n",
    "    ('encoder', JamesSteinEncoder()),\n",
    "    ('scaler', StandardScaler()),\n",
    "    ('imputer', SimpleImputer(strategy='mean')),\n",
    "    ('regressor', Ridge())\n",
    "])\n",
    "\n",
    "# Cross-validated MAE\n",
    "scores = cross_val_score(model_oh, X_train, y_train, \n",
    "                         cv=3, scoring=mae_scorer)\n",
    "print('Cross-validated MAE:', scores.mean(), '+/-', scores.std())\n",
    "errors['train'] += [scores.mean()]"
   ]
  },
  {
   "cell_type": "code",
   "execution_count": 58,
   "metadata": {
    "colab": {
     "base_uri": "https://localhost:8080/"
    },
    "id": "w9X7xB7PeC1X",
    "outputId": "e5ce748f-a1ba-41c5-f06b-29a1ce5e6f5f"
   },
   "outputs": [
    {
     "name": "stdout",
     "output_type": "stream",
     "text": [
      "Validation MAE: 0.8565878291516763\n"
     ]
    }
   ],
   "source": [
    "# MAE on test data\n",
    "model_oh.fit(X_train, y_train)\n",
    "y_pred = model_oh.predict(X_test)\n",
    "test_mae = mean_absolute_error(y_test, y_pred)\n",
    "print('Validation MAE:', test_mae)\n",
    "errors['test'] += [test_mae]"
   ]
  },
  {
   "cell_type": "code",
   "execution_count": 59,
   "metadata": {},
   "outputs": [
    {
     "data": {
      "text/html": [
       "<div>\n",
       "<style scoped>\n",
       "    .dataframe tbody tr th:only-of-type {\n",
       "        vertical-align: middle;\n",
       "    }\n",
       "\n",
       "    .dataframe tbody tr th {\n",
       "        vertical-align: top;\n",
       "    }\n",
       "\n",
       "    .dataframe thead th {\n",
       "        text-align: right;\n",
       "    }\n",
       "</style>\n",
       "<table border=\"1\" class=\"dataframe\">\n",
       "  <thead>\n",
       "    <tr style=\"text-align: right;\">\n",
       "      <th></th>\n",
       "      <th>method</th>\n",
       "      <th>train</th>\n",
       "      <th>test</th>\n",
       "      <th>shape</th>\n",
       "    </tr>\n",
       "  </thead>\n",
       "  <tbody>\n",
       "    <tr>\n",
       "      <th>0</th>\n",
       "      <td>Raw MAE</td>\n",
       "      <td>1.152729</td>\n",
       "      <td>1.152977</td>\n",
       "      <td>10</td>\n",
       "    </tr>\n",
       "    <tr>\n",
       "      <th>1</th>\n",
       "      <td>Ordinary Encoder</td>\n",
       "      <td>1.153679</td>\n",
       "      <td>1.141711</td>\n",
       "      <td>10</td>\n",
       "    </tr>\n",
       "    <tr>\n",
       "      <th>2</th>\n",
       "      <td>Count Encoding</td>\n",
       "      <td>1.167129</td>\n",
       "      <td>1.146363</td>\n",
       "      <td>10</td>\n",
       "    </tr>\n",
       "    <tr>\n",
       "      <th>3</th>\n",
       "      <td>One-Hot Encoding</td>\n",
       "      <td>0.896605</td>\n",
       "      <td>0.866974</td>\n",
       "      <td>109</td>\n",
       "    </tr>\n",
       "    <tr>\n",
       "      <th>4</th>\n",
       "      <td>Binary Encoding</td>\n",
       "      <td>1.088910</td>\n",
       "      <td>1.060021</td>\n",
       "      <td>40</td>\n",
       "    </tr>\n",
       "    <tr>\n",
       "      <th>5</th>\n",
       "      <td>Helmert Encoding</td>\n",
       "      <td>0.897175</td>\n",
       "      <td>0.866881</td>\n",
       "      <td>99</td>\n",
       "    </tr>\n",
       "    <tr>\n",
       "      <th>6</th>\n",
       "      <td>BackwardDifference Encoding</td>\n",
       "      <td>0.896308</td>\n",
       "      <td>0.865891</td>\n",
       "      <td>99</td>\n",
       "    </tr>\n",
       "    <tr>\n",
       "      <th>7</th>\n",
       "      <td>Target Encoding</td>\n",
       "      <td>0.881290</td>\n",
       "      <td>0.845898</td>\n",
       "      <td>10</td>\n",
       "    </tr>\n",
       "    <tr>\n",
       "      <th>8</th>\n",
       "      <td>Leave One Out Encoding</td>\n",
       "      <td>0.855901</td>\n",
       "      <td>0.839677</td>\n",
       "      <td>10</td>\n",
       "    </tr>\n",
       "    <tr>\n",
       "      <th>9</th>\n",
       "      <td>James Stein Encoding</td>\n",
       "      <td>0.877866</td>\n",
       "      <td>0.856588</td>\n",
       "      <td>10</td>\n",
       "    </tr>\n",
       "  </tbody>\n",
       "</table>\n",
       "</div>"
      ],
      "text/plain": [
       "                        method     train      test  shape\n",
       "0                      Raw MAE  1.152729  1.152977     10\n",
       "1             Ordinary Encoder  1.153679  1.141711     10\n",
       "2               Count Encoding  1.167129  1.146363     10\n",
       "3             One-Hot Encoding  0.896605  0.866974    109\n",
       "4              Binary Encoding  1.088910  1.060021     40\n",
       "5             Helmert Encoding  0.897175  0.866881     99\n",
       "6  BackwardDifference Encoding  0.896308  0.865891     99\n",
       "7              Target Encoding  0.881290  0.845898     10\n",
       "8       Leave One Out Encoding  0.855901  0.839677     10\n",
       "9         James Stein Encoding  0.877866  0.856588     10"
      ]
     },
     "execution_count": 59,
     "metadata": {},
     "output_type": "execute_result"
    }
   ],
   "source": [
    "pd.DataFrame(errors)"
   ]
  },
  {
   "cell_type": "markdown",
   "metadata": {},
   "source": [
    "## Mix One Hot + Leave One Out"
   ]
  },
  {
   "cell_type": "code",
   "execution_count": 60,
   "metadata": {},
   "outputs": [],
   "source": [
    "columns = list(X_train.columns)"
   ]
  },
  {
   "cell_type": "code",
   "execution_count": 61,
   "metadata": {},
   "outputs": [],
   "source": [
    "columns_te = ['te_' + c for c in columns]"
   ]
  },
  {
   "cell_type": "code",
   "execution_count": 62,
   "metadata": {},
   "outputs": [],
   "source": [
    "X_train1 = pd.concat([X_train, X_train], axis=1)"
   ]
  },
  {
   "cell_type": "code",
   "execution_count": 63,
   "metadata": {},
   "outputs": [],
   "source": [
    "X_train1.columns = columns + columns_te"
   ]
  },
  {
   "cell_type": "code",
   "execution_count": 64,
   "metadata": {},
   "outputs": [],
   "source": [
    "X_test1 = pd.concat([X_test, X_test], axis=1)\n",
    "X_test1.columns = columns + columns_te"
   ]
  },
  {
   "cell_type": "code",
   "execution_count": 65,
   "metadata": {},
   "outputs": [
    {
     "data": {
      "text/html": [
       "<div>\n",
       "<style scoped>\n",
       "    .dataframe tbody tr th:only-of-type {\n",
       "        vertical-align: middle;\n",
       "    }\n",
       "\n",
       "    .dataframe tbody tr th {\n",
       "        vertical-align: top;\n",
       "    }\n",
       "\n",
       "    .dataframe thead th {\n",
       "        text-align: right;\n",
       "    }\n",
       "</style>\n",
       "<table border=\"1\" class=\"dataframe\">\n",
       "  <thead>\n",
       "    <tr style=\"text-align: right;\">\n",
       "      <th></th>\n",
       "      <th>categorical_0</th>\n",
       "      <th>categorical_1</th>\n",
       "      <th>categorical_2</th>\n",
       "      <th>categorical_3</th>\n",
       "      <th>categorical_4</th>\n",
       "      <th>categorical_5</th>\n",
       "      <th>categorical_6</th>\n",
       "      <th>categorical_7</th>\n",
       "      <th>categorical_8</th>\n",
       "      <th>categorical_9</th>\n",
       "      <th>te_categorical_0</th>\n",
       "      <th>te_categorical_1</th>\n",
       "      <th>te_categorical_2</th>\n",
       "      <th>te_categorical_3</th>\n",
       "      <th>te_categorical_4</th>\n",
       "      <th>te_categorical_5</th>\n",
       "      <th>te_categorical_6</th>\n",
       "      <th>te_categorical_7</th>\n",
       "      <th>te_categorical_8</th>\n",
       "      <th>te_categorical_9</th>\n",
       "    </tr>\n",
       "  </thead>\n",
       "  <tbody>\n",
       "    <tr>\n",
       "      <th>878</th>\n",
       "      <td>d</td>\n",
       "      <td>a</td>\n",
       "      <td>b</td>\n",
       "      <td>f</td>\n",
       "      <td>c</td>\n",
       "      <td>e</td>\n",
       "      <td>a</td>\n",
       "      <td>b</td>\n",
       "      <td>f</td>\n",
       "      <td>d</td>\n",
       "      <td>d</td>\n",
       "      <td>a</td>\n",
       "      <td>b</td>\n",
       "      <td>f</td>\n",
       "      <td>c</td>\n",
       "      <td>e</td>\n",
       "      <td>a</td>\n",
       "      <td>b</td>\n",
       "      <td>f</td>\n",
       "      <td>d</td>\n",
       "    </tr>\n",
       "    <tr>\n",
       "      <th>988</th>\n",
       "      <td>f</td>\n",
       "      <td>e</td>\n",
       "      <td>a</td>\n",
       "      <td>a</td>\n",
       "      <td>f</td>\n",
       "      <td>a</td>\n",
       "      <td>a</td>\n",
       "      <td>a</td>\n",
       "      <td>c</td>\n",
       "      <td>e</td>\n",
       "      <td>f</td>\n",
       "      <td>e</td>\n",
       "      <td>a</td>\n",
       "      <td>a</td>\n",
       "      <td>f</td>\n",
       "      <td>a</td>\n",
       "      <td>a</td>\n",
       "      <td>a</td>\n",
       "      <td>c</td>\n",
       "      <td>e</td>\n",
       "    </tr>\n",
       "    <tr>\n",
       "      <th>305</th>\n",
       "      <td>g</td>\n",
       "      <td>g</td>\n",
       "      <td>c</td>\n",
       "      <td>d</td>\n",
       "      <td>b</td>\n",
       "      <td>c</td>\n",
       "      <td>a</td>\n",
       "      <td>c</td>\n",
       "      <td>c</td>\n",
       "      <td>b</td>\n",
       "      <td>g</td>\n",
       "      <td>g</td>\n",
       "      <td>c</td>\n",
       "      <td>d</td>\n",
       "      <td>b</td>\n",
       "      <td>c</td>\n",
       "      <td>a</td>\n",
       "      <td>c</td>\n",
       "      <td>c</td>\n",
       "      <td>b</td>\n",
       "    </tr>\n",
       "    <tr>\n",
       "      <th>1644</th>\n",
       "      <td>e</td>\n",
       "      <td>a</td>\n",
       "      <td>b</td>\n",
       "      <td>b</td>\n",
       "      <td>a</td>\n",
       "      <td>a</td>\n",
       "      <td>d</td>\n",
       "      <td>g</td>\n",
       "      <td>NaN</td>\n",
       "      <td>d</td>\n",
       "      <td>e</td>\n",
       "      <td>a</td>\n",
       "      <td>b</td>\n",
       "      <td>b</td>\n",
       "      <td>a</td>\n",
       "      <td>a</td>\n",
       "      <td>d</td>\n",
       "      <td>g</td>\n",
       "      <td>NaN</td>\n",
       "      <td>d</td>\n",
       "    </tr>\n",
       "    <tr>\n",
       "      <th>489</th>\n",
       "      <td>e</td>\n",
       "      <td>b</td>\n",
       "      <td>a</td>\n",
       "      <td>a</td>\n",
       "      <td>d</td>\n",
       "      <td>a</td>\n",
       "      <td>b</td>\n",
       "      <td>c</td>\n",
       "      <td>a</td>\n",
       "      <td>c</td>\n",
       "      <td>e</td>\n",
       "      <td>b</td>\n",
       "      <td>a</td>\n",
       "      <td>a</td>\n",
       "      <td>d</td>\n",
       "      <td>a</td>\n",
       "      <td>b</td>\n",
       "      <td>c</td>\n",
       "      <td>a</td>\n",
       "      <td>c</td>\n",
       "    </tr>\n",
       "    <tr>\n",
       "      <th>...</th>\n",
       "      <td>...</td>\n",
       "      <td>...</td>\n",
       "      <td>...</td>\n",
       "      <td>...</td>\n",
       "      <td>...</td>\n",
       "      <td>...</td>\n",
       "      <td>...</td>\n",
       "      <td>...</td>\n",
       "      <td>...</td>\n",
       "      <td>...</td>\n",
       "      <td>...</td>\n",
       "      <td>...</td>\n",
       "      <td>...</td>\n",
       "      <td>...</td>\n",
       "      <td>...</td>\n",
       "      <td>...</td>\n",
       "      <td>...</td>\n",
       "      <td>...</td>\n",
       "      <td>...</td>\n",
       "      <td>...</td>\n",
       "    </tr>\n",
       "    <tr>\n",
       "      <th>1397</th>\n",
       "      <td>a</td>\n",
       "      <td>a</td>\n",
       "      <td>c</td>\n",
       "      <td>d</td>\n",
       "      <td>b</td>\n",
       "      <td>a</td>\n",
       "      <td>NaN</td>\n",
       "      <td>f</td>\n",
       "      <td>a</td>\n",
       "      <td>d</td>\n",
       "      <td>a</td>\n",
       "      <td>a</td>\n",
       "      <td>c</td>\n",
       "      <td>d</td>\n",
       "      <td>b</td>\n",
       "      <td>a</td>\n",
       "      <td>NaN</td>\n",
       "      <td>f</td>\n",
       "      <td>a</td>\n",
       "      <td>d</td>\n",
       "    </tr>\n",
       "    <tr>\n",
       "      <th>1789</th>\n",
       "      <td>e</td>\n",
       "      <td>f</td>\n",
       "      <td>a</td>\n",
       "      <td>j</td>\n",
       "      <td>g</td>\n",
       "      <td>d</td>\n",
       "      <td>b</td>\n",
       "      <td>e</td>\n",
       "      <td>d</td>\n",
       "      <td>a</td>\n",
       "      <td>e</td>\n",
       "      <td>f</td>\n",
       "      <td>a</td>\n",
       "      <td>j</td>\n",
       "      <td>g</td>\n",
       "      <td>d</td>\n",
       "      <td>b</td>\n",
       "      <td>e</td>\n",
       "      <td>d</td>\n",
       "      <td>a</td>\n",
       "    </tr>\n",
       "    <tr>\n",
       "      <th>373</th>\n",
       "      <td>a</td>\n",
       "      <td>g</td>\n",
       "      <td>a</td>\n",
       "      <td>b</td>\n",
       "      <td>g</td>\n",
       "      <td>d</td>\n",
       "      <td>a</td>\n",
       "      <td>a</td>\n",
       "      <td>a</td>\n",
       "      <td>a</td>\n",
       "      <td>a</td>\n",
       "      <td>g</td>\n",
       "      <td>a</td>\n",
       "      <td>b</td>\n",
       "      <td>g</td>\n",
       "      <td>d</td>\n",
       "      <td>a</td>\n",
       "      <td>a</td>\n",
       "      <td>a</td>\n",
       "      <td>a</td>\n",
       "    </tr>\n",
       "    <tr>\n",
       "      <th>614</th>\n",
       "      <td>c</td>\n",
       "      <td>f</td>\n",
       "      <td>d</td>\n",
       "      <td>g</td>\n",
       "      <td>e</td>\n",
       "      <td>NaN</td>\n",
       "      <td>f</td>\n",
       "      <td>c</td>\n",
       "      <td>b</td>\n",
       "      <td>c</td>\n",
       "      <td>c</td>\n",
       "      <td>f</td>\n",
       "      <td>d</td>\n",
       "      <td>g</td>\n",
       "      <td>e</td>\n",
       "      <td>NaN</td>\n",
       "      <td>f</td>\n",
       "      <td>c</td>\n",
       "      <td>b</td>\n",
       "      <td>c</td>\n",
       "    </tr>\n",
       "    <tr>\n",
       "      <th>181</th>\n",
       "      <td>b</td>\n",
       "      <td>a</td>\n",
       "      <td>d</td>\n",
       "      <td>b</td>\n",
       "      <td>a</td>\n",
       "      <td>c</td>\n",
       "      <td>NaN</td>\n",
       "      <td>g</td>\n",
       "      <td>c</td>\n",
       "      <td>d</td>\n",
       "      <td>b</td>\n",
       "      <td>a</td>\n",
       "      <td>d</td>\n",
       "      <td>b</td>\n",
       "      <td>a</td>\n",
       "      <td>c</td>\n",
       "      <td>NaN</td>\n",
       "      <td>g</td>\n",
       "      <td>c</td>\n",
       "      <td>d</td>\n",
       "    </tr>\n",
       "  </tbody>\n",
       "</table>\n",
       "<p>1000 rows × 20 columns</p>\n",
       "</div>"
      ],
      "text/plain": [
       "     categorical_0 categorical_1 categorical_2 categorical_3 categorical_4  \\\n",
       "878              d             a             b             f             c   \n",
       "988              f             e             a             a             f   \n",
       "305              g             g             c             d             b   \n",
       "1644             e             a             b             b             a   \n",
       "489              e             b             a             a             d   \n",
       "...            ...           ...           ...           ...           ...   \n",
       "1397             a             a             c             d             b   \n",
       "1789             e             f             a             j             g   \n",
       "373              a             g             a             b             g   \n",
       "614              c             f             d             g             e   \n",
       "181              b             a             d             b             a   \n",
       "\n",
       "     categorical_5 categorical_6 categorical_7 categorical_8 categorical_9  \\\n",
       "878              e             a             b             f             d   \n",
       "988              a             a             a             c             e   \n",
       "305              c             a             c             c             b   \n",
       "1644             a             d             g           NaN             d   \n",
       "489              a             b             c             a             c   \n",
       "...            ...           ...           ...           ...           ...   \n",
       "1397             a           NaN             f             a             d   \n",
       "1789             d             b             e             d             a   \n",
       "373              d             a             a             a             a   \n",
       "614            NaN             f             c             b             c   \n",
       "181              c           NaN             g             c             d   \n",
       "\n",
       "     te_categorical_0 te_categorical_1 te_categorical_2 te_categorical_3  \\\n",
       "878                 d                a                b                f   \n",
       "988                 f                e                a                a   \n",
       "305                 g                g                c                d   \n",
       "1644                e                a                b                b   \n",
       "489                 e                b                a                a   \n",
       "...               ...              ...              ...              ...   \n",
       "1397                a                a                c                d   \n",
       "1789                e                f                a                j   \n",
       "373                 a                g                a                b   \n",
       "614                 c                f                d                g   \n",
       "181                 b                a                d                b   \n",
       "\n",
       "     te_categorical_4 te_categorical_5 te_categorical_6 te_categorical_7  \\\n",
       "878                 c                e                a                b   \n",
       "988                 f                a                a                a   \n",
       "305                 b                c                a                c   \n",
       "1644                a                a                d                g   \n",
       "489                 d                a                b                c   \n",
       "...               ...              ...              ...              ...   \n",
       "1397                b                a              NaN                f   \n",
       "1789                g                d                b                e   \n",
       "373                 g                d                a                a   \n",
       "614                 e              NaN                f                c   \n",
       "181                 a                c              NaN                g   \n",
       "\n",
       "     te_categorical_8 te_categorical_9  \n",
       "878                 f                d  \n",
       "988                 c                e  \n",
       "305                 c                b  \n",
       "1644              NaN                d  \n",
       "489                 a                c  \n",
       "...               ...              ...  \n",
       "1397                a                d  \n",
       "1789                d                a  \n",
       "373                 a                a  \n",
       "614                 b                c  \n",
       "181                 c                d  \n",
       "\n",
       "[1000 rows x 20 columns]"
      ]
     },
     "execution_count": 65,
     "metadata": {},
     "output_type": "execute_result"
    }
   ],
   "source": [
    "X_train1"
   ]
  },
  {
   "cell_type": "code",
   "execution_count": 66,
   "metadata": {},
   "outputs": [],
   "source": [
    "preprocessor = ColumnTransformer(\n",
    "transformers=[\n",
    "    ('encoder_ohe', OneHotEncoder(), columns),\n",
    "    ('encoder_te', LeaveOneOutEncoder(), columns_te)\n",
    "])"
   ]
  },
  {
   "cell_type": "code",
   "execution_count": 67,
   "metadata": {},
   "outputs": [
    {
     "name": "stdout",
     "output_type": "stream",
     "text": [
      "Cross-validated MAE: 1.0418752720456654 +/- 0.03450384172807419\n"
     ]
    }
   ],
   "source": [
    "# Regression model\n",
    "model_mix = Pipeline([\n",
    "    ('preproc', preprocessor),\n",
    "    ('scaler', StandardScaler()),\n",
    "    ('imputer', SimpleImputer(strategy='mean')),\n",
    "    ('regressor', Ridge())\n",
    "])\n",
    "\n",
    "# Cross-validated MAE\n",
    "scores = cross_val_score(model_mix, X_train1, y_train,\n",
    "                         cv=3, scoring=mae_scorer)\n",
    "print('Cross-validated MAE:', scores.mean(), '+/-', scores.std())\n",
    "errors['train'] += [scores.mean()]"
   ]
  },
  {
   "cell_type": "code",
   "execution_count": 68,
   "metadata": {},
   "outputs": [],
   "source": [
    "errors['method'] += ['Mix One Hot + Leave One Out']\n",
    "\n",
    "X_train_mix = preprocessor.fit_transform(X_train1, y_train)\n",
    "\n",
    "errors['shape'] += [X_train_mix.shape[1]]\n"
   ]
  },
  {
   "cell_type": "code",
   "execution_count": 69,
   "metadata": {},
   "outputs": [
    {
     "name": "stdout",
     "output_type": "stream",
     "text": [
      "Validation MAE: 1.0888778348174664\n"
     ]
    }
   ],
   "source": [
    "# MAE on test data\n",
    "model_mix.fit(X_train1, y_train)\n",
    "y_pred = model_mix.predict(X_test1)\n",
    "test_mae = mean_absolute_error(y_test, y_pred)\n",
    "print('Validation MAE:', test_mae)\n",
    "errors['test'] += [test_mae]"
   ]
  },
  {
   "cell_type": "code",
   "execution_count": 70,
   "metadata": {},
   "outputs": [
    {
     "data": {
      "text/html": [
       "<div>\n",
       "<style scoped>\n",
       "    .dataframe tbody tr th:only-of-type {\n",
       "        vertical-align: middle;\n",
       "    }\n",
       "\n",
       "    .dataframe tbody tr th {\n",
       "        vertical-align: top;\n",
       "    }\n",
       "\n",
       "    .dataframe thead th {\n",
       "        text-align: right;\n",
       "    }\n",
       "</style>\n",
       "<table border=\"1\" class=\"dataframe\">\n",
       "  <thead>\n",
       "    <tr style=\"text-align: right;\">\n",
       "      <th></th>\n",
       "      <th>method</th>\n",
       "      <th>train</th>\n",
       "      <th>test</th>\n",
       "      <th>shape</th>\n",
       "    </tr>\n",
       "  </thead>\n",
       "  <tbody>\n",
       "    <tr>\n",
       "      <th>0</th>\n",
       "      <td>Raw MAE</td>\n",
       "      <td>1.152729</td>\n",
       "      <td>1.152977</td>\n",
       "      <td>10</td>\n",
       "    </tr>\n",
       "    <tr>\n",
       "      <th>1</th>\n",
       "      <td>Ordinary Encoder</td>\n",
       "      <td>1.153679</td>\n",
       "      <td>1.141711</td>\n",
       "      <td>10</td>\n",
       "    </tr>\n",
       "    <tr>\n",
       "      <th>2</th>\n",
       "      <td>Count Encoding</td>\n",
       "      <td>1.167129</td>\n",
       "      <td>1.146363</td>\n",
       "      <td>10</td>\n",
       "    </tr>\n",
       "    <tr>\n",
       "      <th>3</th>\n",
       "      <td>One-Hot Encoding</td>\n",
       "      <td>0.896605</td>\n",
       "      <td>0.866974</td>\n",
       "      <td>109</td>\n",
       "    </tr>\n",
       "    <tr>\n",
       "      <th>4</th>\n",
       "      <td>Binary Encoding</td>\n",
       "      <td>1.088910</td>\n",
       "      <td>1.060021</td>\n",
       "      <td>40</td>\n",
       "    </tr>\n",
       "    <tr>\n",
       "      <th>5</th>\n",
       "      <td>Helmert Encoding</td>\n",
       "      <td>0.897175</td>\n",
       "      <td>0.866881</td>\n",
       "      <td>99</td>\n",
       "    </tr>\n",
       "    <tr>\n",
       "      <th>6</th>\n",
       "      <td>BackwardDifference Encoding</td>\n",
       "      <td>0.896308</td>\n",
       "      <td>0.865891</td>\n",
       "      <td>99</td>\n",
       "    </tr>\n",
       "    <tr>\n",
       "      <th>7</th>\n",
       "      <td>Target Encoding</td>\n",
       "      <td>0.881290</td>\n",
       "      <td>0.845898</td>\n",
       "      <td>10</td>\n",
       "    </tr>\n",
       "    <tr>\n",
       "      <th>8</th>\n",
       "      <td>Leave One Out Encoding</td>\n",
       "      <td>0.855901</td>\n",
       "      <td>0.839677</td>\n",
       "      <td>10</td>\n",
       "    </tr>\n",
       "    <tr>\n",
       "      <th>9</th>\n",
       "      <td>James Stein Encoding</td>\n",
       "      <td>0.877866</td>\n",
       "      <td>0.856588</td>\n",
       "      <td>10</td>\n",
       "    </tr>\n",
       "    <tr>\n",
       "      <th>10</th>\n",
       "      <td>Mix One Hot + Leave One Out</td>\n",
       "      <td>1.041875</td>\n",
       "      <td>1.088878</td>\n",
       "      <td>119</td>\n",
       "    </tr>\n",
       "  </tbody>\n",
       "</table>\n",
       "</div>"
      ],
      "text/plain": [
       "                         method     train      test  shape\n",
       "0                       Raw MAE  1.152729  1.152977     10\n",
       "1              Ordinary Encoder  1.153679  1.141711     10\n",
       "2                Count Encoding  1.167129  1.146363     10\n",
       "3              One-Hot Encoding  0.896605  0.866974    109\n",
       "4               Binary Encoding  1.088910  1.060021     40\n",
       "5              Helmert Encoding  0.897175  0.866881     99\n",
       "6   BackwardDifference Encoding  0.896308  0.865891     99\n",
       "7               Target Encoding  0.881290  0.845898     10\n",
       "8        Leave One Out Encoding  0.855901  0.839677     10\n",
       "9          James Stein Encoding  0.877866  0.856588     10\n",
       "10  Mix One Hot + Leave One Out  1.041875  1.088878    119"
      ]
     },
     "execution_count": 70,
     "metadata": {},
     "output_type": "execute_result"
    }
   ],
   "source": [
    "pd.DataFrame(errors)"
   ]
  },
  {
   "cell_type": "code",
   "execution_count": null,
   "metadata": {},
   "outputs": [],
   "source": []
  },
  {
   "cell_type": "markdown",
   "metadata": {
    "id": "reiHc4OQeEpE"
   },
   "source": [
    "## Finalizing results"
   ]
  },
  {
   "cell_type": "code",
   "execution_count": 71,
   "metadata": {
    "colab": {
     "base_uri": "https://localhost:8080/",
     "height": 359
    },
    "id": "4TAI_XPIeGcm",
    "outputId": "64c3bd19-5b30-4b56-fc4d-4523bd7cd15a"
   },
   "outputs": [
    {
     "data": {
      "text/html": [
       "<div>\n",
       "<style scoped>\n",
       "    .dataframe tbody tr th:only-of-type {\n",
       "        vertical-align: middle;\n",
       "    }\n",
       "\n",
       "    .dataframe tbody tr th {\n",
       "        vertical-align: top;\n",
       "    }\n",
       "\n",
       "    .dataframe thead th {\n",
       "        text-align: right;\n",
       "    }\n",
       "</style>\n",
       "<table border=\"1\" class=\"dataframe\">\n",
       "  <thead>\n",
       "    <tr style=\"text-align: right;\">\n",
       "      <th></th>\n",
       "      <th>method</th>\n",
       "      <th>train</th>\n",
       "      <th>test</th>\n",
       "      <th>shape</th>\n",
       "    </tr>\n",
       "  </thead>\n",
       "  <tbody>\n",
       "    <tr>\n",
       "      <th>8</th>\n",
       "      <td>Leave One Out Encoding</td>\n",
       "      <td>0.855901</td>\n",
       "      <td>0.839677</td>\n",
       "      <td>10</td>\n",
       "    </tr>\n",
       "    <tr>\n",
       "      <th>7</th>\n",
       "      <td>Target Encoding</td>\n",
       "      <td>0.881290</td>\n",
       "      <td>0.845898</td>\n",
       "      <td>10</td>\n",
       "    </tr>\n",
       "    <tr>\n",
       "      <th>9</th>\n",
       "      <td>James Stein Encoding</td>\n",
       "      <td>0.877866</td>\n",
       "      <td>0.856588</td>\n",
       "      <td>10</td>\n",
       "    </tr>\n",
       "    <tr>\n",
       "      <th>6</th>\n",
       "      <td>BackwardDifference Encoding</td>\n",
       "      <td>0.896308</td>\n",
       "      <td>0.865891</td>\n",
       "      <td>99</td>\n",
       "    </tr>\n",
       "    <tr>\n",
       "      <th>5</th>\n",
       "      <td>Helmert Encoding</td>\n",
       "      <td>0.897175</td>\n",
       "      <td>0.866881</td>\n",
       "      <td>99</td>\n",
       "    </tr>\n",
       "    <tr>\n",
       "      <th>3</th>\n",
       "      <td>One-Hot Encoding</td>\n",
       "      <td>0.896605</td>\n",
       "      <td>0.866974</td>\n",
       "      <td>109</td>\n",
       "    </tr>\n",
       "    <tr>\n",
       "      <th>4</th>\n",
       "      <td>Binary Encoding</td>\n",
       "      <td>1.088910</td>\n",
       "      <td>1.060021</td>\n",
       "      <td>40</td>\n",
       "    </tr>\n",
       "    <tr>\n",
       "      <th>10</th>\n",
       "      <td>Mix One Hot + Leave One Out</td>\n",
       "      <td>1.041875</td>\n",
       "      <td>1.088878</td>\n",
       "      <td>119</td>\n",
       "    </tr>\n",
       "    <tr>\n",
       "      <th>1</th>\n",
       "      <td>Ordinary Encoder</td>\n",
       "      <td>1.153679</td>\n",
       "      <td>1.141711</td>\n",
       "      <td>10</td>\n",
       "    </tr>\n",
       "    <tr>\n",
       "      <th>2</th>\n",
       "      <td>Count Encoding</td>\n",
       "      <td>1.167129</td>\n",
       "      <td>1.146363</td>\n",
       "      <td>10</td>\n",
       "    </tr>\n",
       "    <tr>\n",
       "      <th>0</th>\n",
       "      <td>Raw MAE</td>\n",
       "      <td>1.152729</td>\n",
       "      <td>1.152977</td>\n",
       "      <td>10</td>\n",
       "    </tr>\n",
       "  </tbody>\n",
       "</table>\n",
       "</div>"
      ],
      "text/plain": [
       "                         method     train      test  shape\n",
       "8        Leave One Out Encoding  0.855901  0.839677     10\n",
       "7               Target Encoding  0.881290  0.845898     10\n",
       "9          James Stein Encoding  0.877866  0.856588     10\n",
       "6   BackwardDifference Encoding  0.896308  0.865891     99\n",
       "5              Helmert Encoding  0.897175  0.866881     99\n",
       "3              One-Hot Encoding  0.896605  0.866974    109\n",
       "4               Binary Encoding  1.088910  1.060021     40\n",
       "10  Mix One Hot + Leave One Out  1.041875  1.088878    119\n",
       "1              Ordinary Encoder  1.153679  1.141711     10\n",
       "2                Count Encoding  1.167129  1.146363     10\n",
       "0                       Raw MAE  1.152729  1.152977     10"
      ]
     },
     "execution_count": 71,
     "metadata": {},
     "output_type": "execute_result"
    }
   ],
   "source": [
    "pd.DataFrame(errors).sort_values(by='test')"
   ]
  },
  {
   "cell_type": "markdown",
   "metadata": {
    "id": "AtdaQTbSfFLi"
   },
   "source": [
    "## Минута рефлексии\n",
    "\n",
    "\n",
    "*   Какие выводы можно сделать по полученным результатам?\n",
    "*   С какими методами вы познакомились впервые?\n",
    "\n"
   ]
  },
  {
   "cell_type": "markdown",
   "metadata": {
    "id": "QaY2j94OeSAY"
   },
   "source": [
    "# Еще Encoders\n",
    "\n",
    "- CatBoost Encoding\n",
    "- Encoding для временных рядов"
   ]
  },
  {
   "cell_type": "code",
   "execution_count": null,
   "metadata": {},
   "outputs": [],
   "source": []
  }
 ],
 "metadata": {
  "colab": {
   "collapsed_sections": [],
   "name": "Categorical_Encodings_final.ipynb",
   "provenance": [],
   "toc_visible": true
  },
  "kernelspec": {
   "display_name": "Python 3 (ipykernel)",
   "language": "python",
   "name": "python3"
  },
  "language_info": {
   "codemirror_mode": {
    "name": "ipython",
    "version": 3
   },
   "file_extension": ".py",
   "mimetype": "text/x-python",
   "name": "python",
   "nbconvert_exporter": "python",
   "pygments_lexer": "ipython3",
   "version": "3.10.12"
  },
  "toc": {
   "base_numbering": 1,
   "nav_menu": {},
   "number_sections": true,
   "sideBar": true,
   "skip_h1_title": false,
   "title_cell": "Table of Contents",
   "title_sidebar": "Contents",
   "toc_cell": false,
   "toc_position": {},
   "toc_section_display": true,
   "toc_window_display": false
  }
 },
 "nbformat": 4,
 "nbformat_minor": 4
}
