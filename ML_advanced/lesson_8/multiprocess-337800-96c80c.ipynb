{
 "cells": [
  {
   "cell_type": "code",
   "execution_count": 2,
   "id": "95c73dbc",
   "metadata": {},
   "outputs": [],
   "source": [
    "from concurrent.futures import ThreadPoolExecutor, ProcessPoolExecutor\n",
    "import os\n",
    "import random"
   ]
  },
  {
   "cell_type": "code",
   "execution_count": 3,
   "id": "a193d9b2",
   "metadata": {},
   "outputs": [],
   "source": [
    "def test(i):\n",
    "    os.system(f'sleep {i};')\n",
    "    \n",
    "    return 1 / i"
   ]
  },
  {
   "cell_type": "code",
   "execution_count": 4,
   "id": "2f93aa2c",
   "metadata": {},
   "outputs": [],
   "source": [
    "def test1(i):\n",
    "    \"\"\"this function ...\n",
    "    i > 10, i < 20\"\"\"\n",
    "    os.system(f'sleep {i};')\n",
    "    \n",
    "    return 1 / (i+1)"
   ]
  },
  {
   "cell_type": "code",
   "execution_count": 13,
   "id": "9981818e",
   "metadata": {},
   "outputs": [
    {
     "name": "stdout",
     "output_type": "stream",
     "text": [
      "Help on function test in module __main__:\n",
      "\n",
      "test(i)\n",
      "\n"
     ]
    }
   ],
   "source": [
    "help(test)"
   ]
  },
  {
   "cell_type": "code",
   "execution_count": 10,
   "id": "b4b7527f",
   "metadata": {},
   "outputs": [],
   "source": [
    "pool = ThreadPoolExecutor(20, thread_name_prefix='test')"
   ]
  },
  {
   "cell_type": "code",
   "execution_count": 15,
   "id": "ce0a1fbf",
   "metadata": {},
   "outputs": [
    {
     "data": {
      "text/plain": [
       "['map', 'shutdown', 'submit']"
      ]
     },
     "execution_count": 15,
     "metadata": {},
     "output_type": "execute_result"
    }
   ],
   "source": [
    "[e for e in dir(ThreadPoolExecutor) if not e.startswith('_')]"
   ]
  },
  {
   "cell_type": "code",
   "execution_count": 17,
   "id": "87bc405f",
   "metadata": {},
   "outputs": [
    {
     "data": {
      "text/plain": [
       "{'_max_workers': 20,\n",
       " '_work_queue': <_queue.SimpleQueue at 0x7fcd89efc400>,\n",
       " '_idle_semaphore': <threading.Semaphore at 0x7fcd8a563850>,\n",
       " '_threads': set(),\n",
       " '_broken': False,\n",
       " '_shutdown': False,\n",
       " '_shutdown_lock': <unlocked _thread.lock object at 0x7fcd801c5bc0>,\n",
       " '_thread_name_prefix': 'test',\n",
       " '_initializer': None,\n",
       " '_initargs': ()}"
      ]
     },
     "execution_count": 17,
     "metadata": {},
     "output_type": "execute_result"
    }
   ],
   "source": [
    "vars(pool)"
   ]
  },
  {
   "cell_type": "code",
   "execution_count": 16,
   "id": "85f5fa7f",
   "metadata": {},
   "outputs": [
    {
     "data": {
      "text/plain": [
       "['map', 'shutdown', 'submit']"
      ]
     },
     "execution_count": 16,
     "metadata": {},
     "output_type": "execute_result"
    }
   ],
   "source": [
    "[f for f in dir(pool) if not f.startswith('_')]"
   ]
  },
  {
   "cell_type": "code",
   "execution_count": 11,
   "id": "8b05b051",
   "metadata": {},
   "outputs": [
    {
     "name": "stdout",
     "output_type": "stream",
     "text": [
      "Help on method submit in module concurrent.futures.thread:\n",
      "\n",
      "submit(fn, /, *args, **kwargs) method of concurrent.futures.thread.ThreadPoolExecutor instance\n",
      "    Submits a callable to be executed with the given arguments.\n",
      "    \n",
      "    Schedules the callable to be executed as fn(*args, **kwargs) and returns\n",
      "    a Future instance representing the execution of the callable.\n",
      "    \n",
      "    Returns:\n",
      "        A Future representing the given call.\n",
      "\n"
     ]
    }
   ],
   "source": [
    "help(pool.submit)"
   ]
  },
  {
   "cell_type": "code",
   "execution_count": 10,
   "id": "efa9b0fe",
   "metadata": {},
   "outputs": [
    {
     "data": {
      "text/plain": [
       "['__class__',\n",
       " '__delattr__',\n",
       " '__dict__',\n",
       " '__dir__',\n",
       " '__doc__',\n",
       " '__enter__',\n",
       " '__eq__',\n",
       " '__exit__',\n",
       " '__format__',\n",
       " '__ge__',\n",
       " '__getattribute__',\n",
       " '__gt__',\n",
       " '__hash__',\n",
       " '__init__',\n",
       " '__init_subclass__',\n",
       " '__le__',\n",
       " '__lt__',\n",
       " '__module__',\n",
       " '__ne__',\n",
       " '__new__',\n",
       " '__reduce__',\n",
       " '__reduce_ex__',\n",
       " '__repr__',\n",
       " '__setattr__',\n",
       " '__sizeof__',\n",
       " '__str__',\n",
       " '__subclasshook__',\n",
       " '__weakref__',\n",
       " '_adjust_thread_count',\n",
       " '_broken',\n",
       " '_counter',\n",
       " '_idle_semaphore',\n",
       " '_initargs',\n",
       " '_initializer',\n",
       " '_initializer_failed',\n",
       " '_max_workers',\n",
       " '_shutdown',\n",
       " '_shutdown_lock',\n",
       " '_thread_name_prefix',\n",
       " '_threads',\n",
       " '_work_queue',\n",
       " 'map',\n",
       " 'shutdown',\n",
       " 'submit']"
      ]
     },
     "execution_count": 10,
     "metadata": {},
     "output_type": "execute_result"
    }
   ],
   "source": [
    "dir(pool)"
   ]
  },
  {
   "cell_type": "code",
   "execution_count": 8,
   "id": "46998ae4",
   "metadata": {},
   "outputs": [
    {
     "data": {
      "text/plain": [
       "{'_max_workers': 20,\n",
       " '_work_queue': <_queue.SimpleQueue at 0x7f85d0285670>,\n",
       " '_idle_semaphore': <threading.Semaphore at 0x7f85d026a530>,\n",
       " '_threads': set(),\n",
       " '_broken': False,\n",
       " '_shutdown': False,\n",
       " '_shutdown_lock': <unlocked _thread.lock object at 0x7f85d02949c0>,\n",
       " '_thread_name_prefix': 'test',\n",
       " '_initializer': None,\n",
       " '_initargs': ()}"
      ]
     },
     "execution_count": 8,
     "metadata": {},
     "output_type": "execute_result"
    }
   ],
   "source": [
    "vars(pool)"
   ]
  },
  {
   "cell_type": "code",
   "execution_count": 23,
   "id": "10c6ecda",
   "metadata": {},
   "outputs": [
    {
     "name": "stdout",
     "output_type": "stream",
     "text": [
      "CPU times: user 337 µs, sys: 28 µs, total: 365 µs\n",
      "Wall time: 363 µs\n"
     ]
    }
   ],
   "source": [
    "%%time\n",
    "\n",
    "futures = []\n",
    "\n",
    "for i in range(20):\n",
    "    f = pool.submit(test, i=i)\n",
    "    futures.append(f)"
   ]
  },
  {
   "cell_type": "code",
   "execution_count": 19,
   "id": "01e7a8ad",
   "metadata": {},
   "outputs": [
    {
     "data": {
      "text/plain": [
       "2"
      ]
     },
     "execution_count": 19,
     "metadata": {},
     "output_type": "execute_result"
    }
   ],
   "source": [
    "1+1"
   ]
  },
  {
   "cell_type": "code",
   "execution_count": 35,
   "id": "7284e0b6",
   "metadata": {},
   "outputs": [
    {
     "data": {
      "text/plain": [
       "{'_condition': <Condition(<unlocked _thread.RLock object owner=0 count=0 at 0x7fcd801ca4c0>, 0)>,\n",
       " '_state': 'FINISHED',\n",
       " '_result': None,\n",
       " '_exception': ZeroDivisionError('division by zero'),\n",
       " '_waiters': [],\n",
       " '_done_callbacks': []}"
      ]
     },
     "execution_count": 35,
     "metadata": {},
     "output_type": "execute_result"
    }
   ],
   "source": [
    "vars(futures[0])"
   ]
  },
  {
   "cell_type": "code",
   "execution_count": null,
   "id": "764859a9",
   "metadata": {},
   "outputs": [],
   "source": []
  },
  {
   "cell_type": "code",
   "execution_count": 36,
   "id": "494cafcd",
   "metadata": {},
   "outputs": [
    {
     "data": {
      "text/plain": [
       "['add_done_callback',\n",
       " 'cancel',\n",
       " 'cancelled',\n",
       " 'done',\n",
       " 'exception',\n",
       " 'result',\n",
       " 'running',\n",
       " 'set_exception',\n",
       " 'set_result',\n",
       " 'set_running_or_notify_cancel']"
      ]
     },
     "execution_count": 36,
     "metadata": {},
     "output_type": "execute_result"
    }
   ],
   "source": [
    "[f for f in dir(futures[-1]) if not f.startswith('_')]"
   ]
  },
  {
   "cell_type": "code",
   "execution_count": 37,
   "id": "fd89bec6",
   "metadata": {},
   "outputs": [
    {
     "name": "stdout",
     "output_type": "stream",
     "text": [
      "Help on method add_done_callback in module concurrent.futures._base:\n",
      "\n",
      "add_done_callback(fn) method of concurrent.futures._base.Future instance\n",
      "    Attaches a callable that will be called when the future finishes.\n",
      "    \n",
      "    Args:\n",
      "        fn: A callable that will be called with this future as its only\n",
      "            argument when the future completes or is cancelled. The callable\n",
      "            will always be called by a thread in the same process in which\n",
      "            it was added. If the future has already completed or been\n",
      "            cancelled then the callable will be called immediately. These\n",
      "            callables are called in the order that they were added.\n",
      "\n"
     ]
    }
   ],
   "source": [
    "help(f.add_done_callback)"
   ]
  },
  {
   "cell_type": "code",
   "execution_count": 53,
   "id": "877771a9",
   "metadata": {},
   "outputs": [],
   "source": [
    "f = futures[0]"
   ]
  },
  {
   "cell_type": "code",
   "execution_count": 43,
   "id": "1b1864a5",
   "metadata": {},
   "outputs": [
    {
     "data": {
      "text/plain": [
       "True"
      ]
     },
     "execution_count": 43,
     "metadata": {},
     "output_type": "execute_result"
    }
   ],
   "source": [
    "f.done()"
   ]
  },
  {
   "cell_type": "code",
   "execution_count": 44,
   "id": "9c2a99d4",
   "metadata": {},
   "outputs": [
    {
     "data": {
      "text/plain": [
       "ZeroDivisionError('division by zero')"
      ]
     },
     "execution_count": 44,
     "metadata": {},
     "output_type": "execute_result"
    }
   ],
   "source": [
    "f.exception()"
   ]
  },
  {
   "cell_type": "code",
   "execution_count": 54,
   "id": "33480c40",
   "metadata": {},
   "outputs": [
    {
     "ename": "ZeroDivisionError",
     "evalue": "division by zero",
     "output_type": "error",
     "traceback": [
      "\u001b[0;31m---------------------------------------------------------------------------\u001b[0m",
      "\u001b[0;31mZeroDivisionError\u001b[0m                         Traceback (most recent call last)",
      "Input \u001b[0;32mIn [54]\u001b[0m, in \u001b[0;36m<cell line: 1>\u001b[0;34m()\u001b[0m\n\u001b[0;32m----> 1\u001b[0m \u001b[43mf\u001b[49m\u001b[38;5;241;43m.\u001b[39;49m\u001b[43mresult\u001b[49m\u001b[43m(\u001b[49m\u001b[43m)\u001b[49m\n",
      "File \u001b[0;32m/usr/lib/python3.10/concurrent/futures/_base.py:451\u001b[0m, in \u001b[0;36mFuture.result\u001b[0;34m(self, timeout)\u001b[0m\n\u001b[1;32m    449\u001b[0m     \u001b[38;5;28;01mraise\u001b[39;00m CancelledError()\n\u001b[1;32m    450\u001b[0m \u001b[38;5;28;01melif\u001b[39;00m \u001b[38;5;28mself\u001b[39m\u001b[38;5;241m.\u001b[39m_state \u001b[38;5;241m==\u001b[39m FINISHED:\n\u001b[0;32m--> 451\u001b[0m     \u001b[38;5;28;01mreturn\u001b[39;00m \u001b[38;5;28;43mself\u001b[39;49m\u001b[38;5;241;43m.\u001b[39;49m\u001b[43m__get_result\u001b[49m\u001b[43m(\u001b[49m\u001b[43m)\u001b[49m\n\u001b[1;32m    453\u001b[0m \u001b[38;5;28mself\u001b[39m\u001b[38;5;241m.\u001b[39m_condition\u001b[38;5;241m.\u001b[39mwait(timeout)\n\u001b[1;32m    455\u001b[0m \u001b[38;5;28;01mif\u001b[39;00m \u001b[38;5;28mself\u001b[39m\u001b[38;5;241m.\u001b[39m_state \u001b[38;5;129;01min\u001b[39;00m [CANCELLED, CANCELLED_AND_NOTIFIED]:\n",
      "File \u001b[0;32m/usr/lib/python3.10/concurrent/futures/_base.py:403\u001b[0m, in \u001b[0;36mFuture.__get_result\u001b[0;34m(self)\u001b[0m\n\u001b[1;32m    401\u001b[0m \u001b[38;5;28;01mif\u001b[39;00m \u001b[38;5;28mself\u001b[39m\u001b[38;5;241m.\u001b[39m_exception:\n\u001b[1;32m    402\u001b[0m     \u001b[38;5;28;01mtry\u001b[39;00m:\n\u001b[0;32m--> 403\u001b[0m         \u001b[38;5;28;01mraise\u001b[39;00m \u001b[38;5;28mself\u001b[39m\u001b[38;5;241m.\u001b[39m_exception\n\u001b[1;32m    404\u001b[0m     \u001b[38;5;28;01mfinally\u001b[39;00m:\n\u001b[1;32m    405\u001b[0m         \u001b[38;5;66;03m# Break a reference cycle with the exception in self._exception\u001b[39;00m\n\u001b[1;32m    406\u001b[0m         \u001b[38;5;28mself\u001b[39m \u001b[38;5;241m=\u001b[39m \u001b[38;5;28;01mNone\u001b[39;00m\n",
      "File \u001b[0;32m<timed exec>:6\u001b[0m, in \u001b[0;36m<module>\u001b[0;34m\u001b[0m\n",
      "File \u001b[0;32m/usr/lib/python3.10/concurrent/futures/_base.py:451\u001b[0m, in \u001b[0;36mFuture.result\u001b[0;34m(self, timeout)\u001b[0m\n\u001b[1;32m    449\u001b[0m     \u001b[38;5;28;01mraise\u001b[39;00m CancelledError()\n\u001b[1;32m    450\u001b[0m \u001b[38;5;28;01melif\u001b[39;00m \u001b[38;5;28mself\u001b[39m\u001b[38;5;241m.\u001b[39m_state \u001b[38;5;241m==\u001b[39m FINISHED:\n\u001b[0;32m--> 451\u001b[0m     \u001b[38;5;28;01mreturn\u001b[39;00m \u001b[38;5;28;43mself\u001b[39;49m\u001b[38;5;241;43m.\u001b[39;49m\u001b[43m__get_result\u001b[49m\u001b[43m(\u001b[49m\u001b[43m)\u001b[49m\n\u001b[1;32m    453\u001b[0m \u001b[38;5;28mself\u001b[39m\u001b[38;5;241m.\u001b[39m_condition\u001b[38;5;241m.\u001b[39mwait(timeout)\n\u001b[1;32m    455\u001b[0m \u001b[38;5;28;01mif\u001b[39;00m \u001b[38;5;28mself\u001b[39m\u001b[38;5;241m.\u001b[39m_state \u001b[38;5;129;01min\u001b[39;00m [CANCELLED, CANCELLED_AND_NOTIFIED]:\n",
      "File \u001b[0;32m/usr/lib/python3.10/concurrent/futures/_base.py:403\u001b[0m, in \u001b[0;36mFuture.__get_result\u001b[0;34m(self)\u001b[0m\n\u001b[1;32m    401\u001b[0m \u001b[38;5;28;01mif\u001b[39;00m \u001b[38;5;28mself\u001b[39m\u001b[38;5;241m.\u001b[39m_exception:\n\u001b[1;32m    402\u001b[0m     \u001b[38;5;28;01mtry\u001b[39;00m:\n\u001b[0;32m--> 403\u001b[0m         \u001b[38;5;28;01mraise\u001b[39;00m \u001b[38;5;28mself\u001b[39m\u001b[38;5;241m.\u001b[39m_exception\n\u001b[1;32m    404\u001b[0m     \u001b[38;5;28;01mfinally\u001b[39;00m:\n\u001b[1;32m    405\u001b[0m         \u001b[38;5;66;03m# Break a reference cycle with the exception in self._exception\u001b[39;00m\n\u001b[1;32m    406\u001b[0m         \u001b[38;5;28mself\u001b[39m \u001b[38;5;241m=\u001b[39m \u001b[38;5;28;01mNone\u001b[39;00m\n",
      "File \u001b[0;32m/usr/lib/python3.10/concurrent/futures/thread.py:58\u001b[0m, in \u001b[0;36m_WorkItem.run\u001b[0;34m(self)\u001b[0m\n\u001b[1;32m     55\u001b[0m     \u001b[38;5;28;01mreturn\u001b[39;00m\n\u001b[1;32m     57\u001b[0m \u001b[38;5;28;01mtry\u001b[39;00m:\n\u001b[0;32m---> 58\u001b[0m     result \u001b[38;5;241m=\u001b[39m \u001b[38;5;28;43mself\u001b[39;49m\u001b[38;5;241;43m.\u001b[39;49m\u001b[43mfn\u001b[49m\u001b[43m(\u001b[49m\u001b[38;5;241;43m*\u001b[39;49m\u001b[38;5;28;43mself\u001b[39;49m\u001b[38;5;241;43m.\u001b[39;49m\u001b[43margs\u001b[49m\u001b[43m,\u001b[49m\u001b[43m \u001b[49m\u001b[38;5;241;43m*\u001b[39;49m\u001b[38;5;241;43m*\u001b[39;49m\u001b[38;5;28;43mself\u001b[39;49m\u001b[38;5;241;43m.\u001b[39;49m\u001b[43mkwargs\u001b[49m\u001b[43m)\u001b[49m\n\u001b[1;32m     59\u001b[0m \u001b[38;5;28;01mexcept\u001b[39;00m \u001b[38;5;167;01mBaseException\u001b[39;00m \u001b[38;5;28;01mas\u001b[39;00m exc:\n\u001b[1;32m     60\u001b[0m     \u001b[38;5;28mself\u001b[39m\u001b[38;5;241m.\u001b[39mfuture\u001b[38;5;241m.\u001b[39mset_exception(exc)\n",
      "Input \u001b[0;32mIn [3]\u001b[0m, in \u001b[0;36mtest\u001b[0;34m(i)\u001b[0m\n\u001b[1;32m      1\u001b[0m \u001b[38;5;28;01mdef\u001b[39;00m \u001b[38;5;21mtest\u001b[39m(i):\n\u001b[1;32m      2\u001b[0m     os\u001b[38;5;241m.\u001b[39msystem(\u001b[38;5;124mf\u001b[39m\u001b[38;5;124m'\u001b[39m\u001b[38;5;124msleep \u001b[39m\u001b[38;5;132;01m{\u001b[39;00mi\u001b[38;5;132;01m}\u001b[39;00m\u001b[38;5;124m;\u001b[39m\u001b[38;5;124m'\u001b[39m)\n\u001b[0;32m----> 4\u001b[0m     \u001b[38;5;28;01mreturn\u001b[39;00m \u001b[38;5;241;43m1\u001b[39;49m\u001b[43m \u001b[49m\u001b[38;5;241;43m/\u001b[39;49m\u001b[43m \u001b[49m\u001b[43mi\u001b[49m\n",
      "\u001b[0;31mZeroDivisionError\u001b[0m: division by zero"
     ]
    }
   ],
   "source": [
    "f.result()"
   ]
  },
  {
   "cell_type": "code",
   "execution_count": 55,
   "id": "cffa1841",
   "metadata": {},
   "outputs": [
    {
     "name": "stdout",
     "output_type": "stream",
     "text": [
      "0\n",
      "1\n",
      "2\n",
      "3\n",
      "4\n",
      "5\n",
      "6\n",
      "7\n",
      "8\n",
      "9\n",
      "10\n",
      "11\n",
      "12\n",
      "13\n",
      "14\n",
      "15\n",
      "16\n",
      "17\n",
      "18\n",
      "19\n",
      "CPU times: user 1.31 ms, sys: 0 ns, total: 1.31 ms\n",
      "Wall time: 1.2 ms\n"
     ]
    }
   ],
   "source": [
    "%%time\n",
    "\n",
    "futures = []\n",
    "\n",
    "for i in range(20):\n",
    "    # print(i)\n",
    "    f = pool.submit(test, i=i)\n",
    "    futures.append(f)"
   ]
  },
  {
   "cell_type": "code",
   "execution_count": 64,
   "id": "56bc85f1",
   "metadata": {},
   "outputs": [
    {
     "name": "stdout",
     "output_type": "stream",
     "text": [
      "CPU times: user 8.74 ms, sys: 396 µs, total: 9.13 ms\n",
      "Wall time: 19 s\n"
     ]
    }
   ],
   "source": [
    "%%time\n",
    "\n",
    "futures = []\n",
    "\n",
    "for i in range(20):\n",
    "    # print(i)\n",
    "    f = pool.submit(test, i=i)\n",
    "    futures.append(f)\n",
    "\n",
    "res = []\n",
    "\n",
    "for f in futures:\n",
    "    \n",
    "    try:\n",
    "        res.append(f.result())\n",
    "    except:\n",
    "        res.append(None)"
   ]
  },
  {
   "cell_type": "code",
   "execution_count": 59,
   "id": "7d311408",
   "metadata": {},
   "outputs": [
    {
     "ename": "ZeroDivisionError",
     "evalue": "division by zero",
     "output_type": "error",
     "traceback": [
      "\u001b[0;31m---------------------------------------------------------------------------\u001b[0m",
      "\u001b[0;31mZeroDivisionError\u001b[0m                         Traceback (most recent call last)",
      "Input \u001b[0;32mIn [59]\u001b[0m, in \u001b[0;36m<cell line: 1>\u001b[0;34m()\u001b[0m\n\u001b[0;32m----> 1\u001b[0m \u001b[43mfutures\u001b[49m\u001b[43m[\u001b[49m\u001b[38;5;241;43m0\u001b[39;49m\u001b[43m]\u001b[49m\u001b[38;5;241;43m.\u001b[39;49m\u001b[43mresult\u001b[49m\u001b[43m(\u001b[49m\u001b[43m)\u001b[49m\n",
      "File \u001b[0;32m/usr/lib/python3.10/concurrent/futures/_base.py:451\u001b[0m, in \u001b[0;36mFuture.result\u001b[0;34m(self, timeout)\u001b[0m\n\u001b[1;32m    449\u001b[0m     \u001b[38;5;28;01mraise\u001b[39;00m CancelledError()\n\u001b[1;32m    450\u001b[0m \u001b[38;5;28;01melif\u001b[39;00m \u001b[38;5;28mself\u001b[39m\u001b[38;5;241m.\u001b[39m_state \u001b[38;5;241m==\u001b[39m FINISHED:\n\u001b[0;32m--> 451\u001b[0m     \u001b[38;5;28;01mreturn\u001b[39;00m \u001b[38;5;28;43mself\u001b[39;49m\u001b[38;5;241;43m.\u001b[39;49m\u001b[43m__get_result\u001b[49m\u001b[43m(\u001b[49m\u001b[43m)\u001b[49m\n\u001b[1;32m    453\u001b[0m \u001b[38;5;28mself\u001b[39m\u001b[38;5;241m.\u001b[39m_condition\u001b[38;5;241m.\u001b[39mwait(timeout)\n\u001b[1;32m    455\u001b[0m \u001b[38;5;28;01mif\u001b[39;00m \u001b[38;5;28mself\u001b[39m\u001b[38;5;241m.\u001b[39m_state \u001b[38;5;129;01min\u001b[39;00m [CANCELLED, CANCELLED_AND_NOTIFIED]:\n",
      "File \u001b[0;32m/usr/lib/python3.10/concurrent/futures/_base.py:403\u001b[0m, in \u001b[0;36mFuture.__get_result\u001b[0;34m(self)\u001b[0m\n\u001b[1;32m    401\u001b[0m \u001b[38;5;28;01mif\u001b[39;00m \u001b[38;5;28mself\u001b[39m\u001b[38;5;241m.\u001b[39m_exception:\n\u001b[1;32m    402\u001b[0m     \u001b[38;5;28;01mtry\u001b[39;00m:\n\u001b[0;32m--> 403\u001b[0m         \u001b[38;5;28;01mraise\u001b[39;00m \u001b[38;5;28mself\u001b[39m\u001b[38;5;241m.\u001b[39m_exception\n\u001b[1;32m    404\u001b[0m     \u001b[38;5;28;01mfinally\u001b[39;00m:\n\u001b[1;32m    405\u001b[0m         \u001b[38;5;66;03m# Break a reference cycle with the exception in self._exception\u001b[39;00m\n\u001b[1;32m    406\u001b[0m         \u001b[38;5;28mself\u001b[39m \u001b[38;5;241m=\u001b[39m \u001b[38;5;28;01mNone\u001b[39;00m\n",
      "    \u001b[0;31m[... skipping hidden 1 frame]\u001b[0m\n",
      "Input \u001b[0;32mIn [59]\u001b[0m, in \u001b[0;36m<cell line: 1>\u001b[0;34m()\u001b[0m\n\u001b[0;32m----> 1\u001b[0m \u001b[43mfutures\u001b[49m\u001b[43m[\u001b[49m\u001b[38;5;241;43m0\u001b[39;49m\u001b[43m]\u001b[49m\u001b[38;5;241;43m.\u001b[39;49m\u001b[43mresult\u001b[49m\u001b[43m(\u001b[49m\u001b[43m)\u001b[49m\n",
      "File \u001b[0;32m/usr/lib/python3.10/concurrent/futures/_base.py:451\u001b[0m, in \u001b[0;36mFuture.result\u001b[0;34m(self, timeout)\u001b[0m\n\u001b[1;32m    449\u001b[0m     \u001b[38;5;28;01mraise\u001b[39;00m CancelledError()\n\u001b[1;32m    450\u001b[0m \u001b[38;5;28;01melif\u001b[39;00m \u001b[38;5;28mself\u001b[39m\u001b[38;5;241m.\u001b[39m_state \u001b[38;5;241m==\u001b[39m FINISHED:\n\u001b[0;32m--> 451\u001b[0m     \u001b[38;5;28;01mreturn\u001b[39;00m \u001b[38;5;28;43mself\u001b[39;49m\u001b[38;5;241;43m.\u001b[39;49m\u001b[43m__get_result\u001b[49m\u001b[43m(\u001b[49m\u001b[43m)\u001b[49m\n\u001b[1;32m    453\u001b[0m \u001b[38;5;28mself\u001b[39m\u001b[38;5;241m.\u001b[39m_condition\u001b[38;5;241m.\u001b[39mwait(timeout)\n\u001b[1;32m    455\u001b[0m \u001b[38;5;28;01mif\u001b[39;00m \u001b[38;5;28mself\u001b[39m\u001b[38;5;241m.\u001b[39m_state \u001b[38;5;129;01min\u001b[39;00m [CANCELLED, CANCELLED_AND_NOTIFIED]:\n",
      "File \u001b[0;32m/usr/lib/python3.10/concurrent/futures/_base.py:403\u001b[0m, in \u001b[0;36mFuture.__get_result\u001b[0;34m(self)\u001b[0m\n\u001b[1;32m    401\u001b[0m \u001b[38;5;28;01mif\u001b[39;00m \u001b[38;5;28mself\u001b[39m\u001b[38;5;241m.\u001b[39m_exception:\n\u001b[1;32m    402\u001b[0m     \u001b[38;5;28;01mtry\u001b[39;00m:\n\u001b[0;32m--> 403\u001b[0m         \u001b[38;5;28;01mraise\u001b[39;00m \u001b[38;5;28mself\u001b[39m\u001b[38;5;241m.\u001b[39m_exception\n\u001b[1;32m    404\u001b[0m     \u001b[38;5;28;01mfinally\u001b[39;00m:\n\u001b[1;32m    405\u001b[0m         \u001b[38;5;66;03m# Break a reference cycle with the exception in self._exception\u001b[39;00m\n\u001b[1;32m    406\u001b[0m         \u001b[38;5;28mself\u001b[39m \u001b[38;5;241m=\u001b[39m \u001b[38;5;28;01mNone\u001b[39;00m\n",
      "File \u001b[0;32m<timed exec>:6\u001b[0m, in \u001b[0;36m<module>\u001b[0;34m\u001b[0m\n",
      "File \u001b[0;32m/usr/lib/python3.10/concurrent/futures/_base.py:451\u001b[0m, in \u001b[0;36mFuture.result\u001b[0;34m(self, timeout)\u001b[0m\n\u001b[1;32m    449\u001b[0m     \u001b[38;5;28;01mraise\u001b[39;00m CancelledError()\n\u001b[1;32m    450\u001b[0m \u001b[38;5;28;01melif\u001b[39;00m \u001b[38;5;28mself\u001b[39m\u001b[38;5;241m.\u001b[39m_state \u001b[38;5;241m==\u001b[39m FINISHED:\n\u001b[0;32m--> 451\u001b[0m     \u001b[38;5;28;01mreturn\u001b[39;00m \u001b[38;5;28;43mself\u001b[39;49m\u001b[38;5;241;43m.\u001b[39;49m\u001b[43m__get_result\u001b[49m\u001b[43m(\u001b[49m\u001b[43m)\u001b[49m\n\u001b[1;32m    453\u001b[0m \u001b[38;5;28mself\u001b[39m\u001b[38;5;241m.\u001b[39m_condition\u001b[38;5;241m.\u001b[39mwait(timeout)\n\u001b[1;32m    455\u001b[0m \u001b[38;5;28;01mif\u001b[39;00m \u001b[38;5;28mself\u001b[39m\u001b[38;5;241m.\u001b[39m_state \u001b[38;5;129;01min\u001b[39;00m [CANCELLED, CANCELLED_AND_NOTIFIED]:\n",
      "File \u001b[0;32m/usr/lib/python3.10/concurrent/futures/_base.py:403\u001b[0m, in \u001b[0;36mFuture.__get_result\u001b[0;34m(self)\u001b[0m\n\u001b[1;32m    401\u001b[0m \u001b[38;5;28;01mif\u001b[39;00m \u001b[38;5;28mself\u001b[39m\u001b[38;5;241m.\u001b[39m_exception:\n\u001b[1;32m    402\u001b[0m     \u001b[38;5;28;01mtry\u001b[39;00m:\n\u001b[0;32m--> 403\u001b[0m         \u001b[38;5;28;01mraise\u001b[39;00m \u001b[38;5;28mself\u001b[39m\u001b[38;5;241m.\u001b[39m_exception\n\u001b[1;32m    404\u001b[0m     \u001b[38;5;28;01mfinally\u001b[39;00m:\n\u001b[1;32m    405\u001b[0m         \u001b[38;5;66;03m# Break a reference cycle with the exception in self._exception\u001b[39;00m\n\u001b[1;32m    406\u001b[0m         \u001b[38;5;28mself\u001b[39m \u001b[38;5;241m=\u001b[39m \u001b[38;5;28;01mNone\u001b[39;00m\n",
      "File \u001b[0;32m/usr/lib/python3.10/concurrent/futures/thread.py:58\u001b[0m, in \u001b[0;36m_WorkItem.run\u001b[0;34m(self)\u001b[0m\n\u001b[1;32m     55\u001b[0m     \u001b[38;5;28;01mreturn\u001b[39;00m\n\u001b[1;32m     57\u001b[0m \u001b[38;5;28;01mtry\u001b[39;00m:\n\u001b[0;32m---> 58\u001b[0m     result \u001b[38;5;241m=\u001b[39m \u001b[38;5;28;43mself\u001b[39;49m\u001b[38;5;241;43m.\u001b[39;49m\u001b[43mfn\u001b[49m\u001b[43m(\u001b[49m\u001b[38;5;241;43m*\u001b[39;49m\u001b[38;5;28;43mself\u001b[39;49m\u001b[38;5;241;43m.\u001b[39;49m\u001b[43margs\u001b[49m\u001b[43m,\u001b[49m\u001b[43m \u001b[49m\u001b[38;5;241;43m*\u001b[39;49m\u001b[38;5;241;43m*\u001b[39;49m\u001b[38;5;28;43mself\u001b[39;49m\u001b[38;5;241;43m.\u001b[39;49m\u001b[43mkwargs\u001b[49m\u001b[43m)\u001b[49m\n\u001b[1;32m     59\u001b[0m \u001b[38;5;28;01mexcept\u001b[39;00m \u001b[38;5;167;01mBaseException\u001b[39;00m \u001b[38;5;28;01mas\u001b[39;00m exc:\n\u001b[1;32m     60\u001b[0m     \u001b[38;5;28mself\u001b[39m\u001b[38;5;241m.\u001b[39mfuture\u001b[38;5;241m.\u001b[39mset_exception(exc)\n",
      "Input \u001b[0;32mIn [3]\u001b[0m, in \u001b[0;36mtest\u001b[0;34m(i)\u001b[0m\n\u001b[1;32m      1\u001b[0m \u001b[38;5;28;01mdef\u001b[39;00m \u001b[38;5;21mtest\u001b[39m(i):\n\u001b[1;32m      2\u001b[0m     os\u001b[38;5;241m.\u001b[39msystem(\u001b[38;5;124mf\u001b[39m\u001b[38;5;124m'\u001b[39m\u001b[38;5;124msleep \u001b[39m\u001b[38;5;132;01m{\u001b[39;00mi\u001b[38;5;132;01m}\u001b[39;00m\u001b[38;5;124m;\u001b[39m\u001b[38;5;124m'\u001b[39m)\n\u001b[0;32m----> 4\u001b[0m     \u001b[38;5;28;01mreturn\u001b[39;00m \u001b[38;5;241;43m1\u001b[39;49m\u001b[43m \u001b[49m\u001b[38;5;241;43m/\u001b[39;49m\u001b[43m \u001b[49m\u001b[43mi\u001b[49m\n",
      "\u001b[0;31mZeroDivisionError\u001b[0m: division by zero"
     ]
    }
   ],
   "source": [
    "futures[0].result()"
   ]
  },
  {
   "cell_type": "code",
   "execution_count": 60,
   "id": "1a5fb29b",
   "metadata": {},
   "outputs": [
    {
     "data": {
      "text/plain": [
       "[None,\n",
       " 1.0,\n",
       " 0.5,\n",
       " 0.3333333333333333,\n",
       " 0.25,\n",
       " 0.2,\n",
       " 0.16666666666666666,\n",
       " 0.14285714285714285,\n",
       " 0.125,\n",
       " 0.1111111111111111,\n",
       " 0.1,\n",
       " 0.09090909090909091,\n",
       " 0.08333333333333333,\n",
       " 0.07692307692307693,\n",
       " 0.07142857142857142,\n",
       " 0.06666666666666667,\n",
       " 0.0625,\n",
       " 0.058823529411764705,\n",
       " 0.05555555555555555,\n",
       " 0.05263157894736842]"
      ]
     },
     "execution_count": 60,
     "metadata": {},
     "output_type": "execute_result"
    }
   ],
   "source": [
    "res"
   ]
  },
  {
   "cell_type": "code",
   "execution_count": 51,
   "id": "046e22b0",
   "metadata": {},
   "outputs": [
    {
     "data": {
      "text/plain": [
       "ZeroDivisionError('division by zero')"
      ]
     },
     "execution_count": 51,
     "metadata": {},
     "output_type": "execute_result"
    }
   ],
   "source": [
    "futures[0].exception()"
   ]
  },
  {
   "cell_type": "code",
   "execution_count": null,
   "id": "ea13aeb9",
   "metadata": {},
   "outputs": [],
   "source": [
    "vars(pool)"
   ]
  },
  {
   "cell_type": "code",
   "execution_count": 48,
   "id": "63e18ef3",
   "metadata": {},
   "outputs": [
    {
     "name": "stdout",
     "output_type": "stream",
     "text": [
      "Help on method map in module concurrent.futures._base:\n",
      "\n",
      "map(fn, *iterables, timeout=None, chunksize=1) method of concurrent.futures.thread.ThreadPoolExecutor instance\n",
      "    Returns an iterator equivalent to map(fn, iter).\n",
      "    \n",
      "    Args:\n",
      "        fn: A callable that will take as many arguments as there are\n",
      "            passed iterables.\n",
      "        timeout: The maximum number of seconds to wait. If None, then there\n",
      "            is no limit on the wait time.\n",
      "        chunksize: The size of the chunks the iterable will be broken into\n",
      "            before being passed to a child process. This argument is only\n",
      "            used by ProcessPoolExecutor; it is ignored by\n",
      "            ThreadPoolExecutor.\n",
      "    \n",
      "    Returns:\n",
      "        An iterator equivalent to: map(func, *iterables) but the calls may\n",
      "        be evaluated out-of-order.\n",
      "    \n",
      "    Raises:\n",
      "        TimeoutError: If the entire result iterator could not be generated\n",
      "            before the given timeout.\n",
      "        Exception: If fn(*args) raises for any values.\n",
      "\n"
     ]
    }
   ],
   "source": [
    "help(pool.map)"
   ]
  },
  {
   "cell_type": "code",
   "execution_count": 61,
   "id": "6938cf86",
   "metadata": {},
   "outputs": [
    {
     "name": "stdout",
     "output_type": "stream",
     "text": [
      "CPU times: user 2.05 ms, sys: 590 µs, total: 2.64 ms\n",
      "Wall time: 2.65 ms\n"
     ]
    }
   ],
   "source": [
    "%%time \n",
    "res = pool.map(test1, [1] * 200, timeout=None, chunksize=1)"
   ]
  },
  {
   "cell_type": "code",
   "execution_count": 62,
   "id": "ab0997fd",
   "metadata": {},
   "outputs": [
    {
     "data": {
      "text/plain": [
       "<generator object Executor.map.<locals>.result_iterator at 0x7fcd801a1770>"
      ]
     },
     "execution_count": 62,
     "metadata": {},
     "output_type": "execute_result"
    }
   ],
   "source": [
    "res"
   ]
  },
  {
   "cell_type": "code",
   "execution_count": 63,
   "id": "d5f751b0",
   "metadata": {},
   "outputs": [
    {
     "name": "stdout",
     "output_type": "stream",
     "text": [
      "CPU times: user 15.6 ms, sys: 28.1 ms, total: 43.7 ms\n",
      "Wall time: 6.2 s\n"
     ]
    },
    {
     "data": {
      "text/plain": [
       "[0.5,\n",
       " 0.5,\n",
       " 0.5,\n",
       " 0.5,\n",
       " 0.5,\n",
       " 0.5,\n",
       " 0.5,\n",
       " 0.5,\n",
       " 0.5,\n",
       " 0.5,\n",
       " 0.5,\n",
       " 0.5,\n",
       " 0.5,\n",
       " 0.5,\n",
       " 0.5,\n",
       " 0.5,\n",
       " 0.5,\n",
       " 0.5,\n",
       " 0.5,\n",
       " 0.5,\n",
       " 0.5,\n",
       " 0.5,\n",
       " 0.5,\n",
       " 0.5,\n",
       " 0.5,\n",
       " 0.5,\n",
       " 0.5,\n",
       " 0.5,\n",
       " 0.5,\n",
       " 0.5,\n",
       " 0.5,\n",
       " 0.5,\n",
       " 0.5,\n",
       " 0.5,\n",
       " 0.5,\n",
       " 0.5,\n",
       " 0.5,\n",
       " 0.5,\n",
       " 0.5,\n",
       " 0.5,\n",
       " 0.5,\n",
       " 0.5,\n",
       " 0.5,\n",
       " 0.5,\n",
       " 0.5,\n",
       " 0.5,\n",
       " 0.5,\n",
       " 0.5,\n",
       " 0.5,\n",
       " 0.5,\n",
       " 0.5,\n",
       " 0.5,\n",
       " 0.5,\n",
       " 0.5,\n",
       " 0.5,\n",
       " 0.5,\n",
       " 0.5,\n",
       " 0.5,\n",
       " 0.5,\n",
       " 0.5,\n",
       " 0.5,\n",
       " 0.5,\n",
       " 0.5,\n",
       " 0.5,\n",
       " 0.5,\n",
       " 0.5,\n",
       " 0.5,\n",
       " 0.5,\n",
       " 0.5,\n",
       " 0.5,\n",
       " 0.5,\n",
       " 0.5,\n",
       " 0.5,\n",
       " 0.5,\n",
       " 0.5,\n",
       " 0.5,\n",
       " 0.5,\n",
       " 0.5,\n",
       " 0.5,\n",
       " 0.5,\n",
       " 0.5,\n",
       " 0.5,\n",
       " 0.5,\n",
       " 0.5,\n",
       " 0.5,\n",
       " 0.5,\n",
       " 0.5,\n",
       " 0.5,\n",
       " 0.5,\n",
       " 0.5,\n",
       " 0.5,\n",
       " 0.5,\n",
       " 0.5,\n",
       " 0.5,\n",
       " 0.5,\n",
       " 0.5,\n",
       " 0.5,\n",
       " 0.5,\n",
       " 0.5,\n",
       " 0.5,\n",
       " 0.5,\n",
       " 0.5,\n",
       " 0.5,\n",
       " 0.5,\n",
       " 0.5,\n",
       " 0.5,\n",
       " 0.5,\n",
       " 0.5,\n",
       " 0.5,\n",
       " 0.5,\n",
       " 0.5,\n",
       " 0.5,\n",
       " 0.5,\n",
       " 0.5,\n",
       " 0.5,\n",
       " 0.5,\n",
       " 0.5,\n",
       " 0.5,\n",
       " 0.5,\n",
       " 0.5,\n",
       " 0.5,\n",
       " 0.5,\n",
       " 0.5,\n",
       " 0.5,\n",
       " 0.5,\n",
       " 0.5,\n",
       " 0.5,\n",
       " 0.5,\n",
       " 0.5,\n",
       " 0.5,\n",
       " 0.5,\n",
       " 0.5,\n",
       " 0.5,\n",
       " 0.5,\n",
       " 0.5,\n",
       " 0.5,\n",
       " 0.5,\n",
       " 0.5,\n",
       " 0.5,\n",
       " 0.5,\n",
       " 0.5,\n",
       " 0.5,\n",
       " 0.5,\n",
       " 0.5,\n",
       " 0.5,\n",
       " 0.5,\n",
       " 0.5,\n",
       " 0.5,\n",
       " 0.5,\n",
       " 0.5,\n",
       " 0.5,\n",
       " 0.5,\n",
       " 0.5,\n",
       " 0.5,\n",
       " 0.5,\n",
       " 0.5,\n",
       " 0.5,\n",
       " 0.5,\n",
       " 0.5,\n",
       " 0.5,\n",
       " 0.5,\n",
       " 0.5,\n",
       " 0.5,\n",
       " 0.5,\n",
       " 0.5,\n",
       " 0.5,\n",
       " 0.5,\n",
       " 0.5,\n",
       " 0.5,\n",
       " 0.5,\n",
       " 0.5,\n",
       " 0.5,\n",
       " 0.5,\n",
       " 0.5,\n",
       " 0.5,\n",
       " 0.5,\n",
       " 0.5,\n",
       " 0.5,\n",
       " 0.5,\n",
       " 0.5,\n",
       " 0.5,\n",
       " 0.5,\n",
       " 0.5,\n",
       " 0.5,\n",
       " 0.5,\n",
       " 0.5,\n",
       " 0.5,\n",
       " 0.5,\n",
       " 0.5,\n",
       " 0.5,\n",
       " 0.5,\n",
       " 0.5,\n",
       " 0.5,\n",
       " 0.5,\n",
       " 0.5,\n",
       " 0.5,\n",
       " 0.5,\n",
       " 0.5,\n",
       " 0.5,\n",
       " 0.5]"
      ]
     },
     "execution_count": 63,
     "metadata": {},
     "output_type": "execute_result"
    }
   ],
   "source": [
    "%%time\n",
    "list(res)"
   ]
  },
  {
   "cell_type": "code",
   "execution_count": 66,
   "id": "786eef71",
   "metadata": {},
   "outputs": [],
   "source": [
    "def test2(i):\n",
    "    os.system('sleep 2')\n",
    "    res[i] = 1 / i"
   ]
  },
  {
   "cell_type": "code",
   "execution_count": null,
   "id": "aee3aa21",
   "metadata": {},
   "outputs": [],
   "source": []
  },
  {
   "cell_type": "code",
   "execution_count": 67,
   "id": "36a4f6f3",
   "metadata": {},
   "outputs": [],
   "source": [
    "res = {}\n",
    "\n",
    "for i in range(100):\n",
    "    pool.submit(test2, i=random.randint(1, 200))"
   ]
  },
  {
   "cell_type": "code",
   "execution_count": 133,
   "id": "bbe38aa8",
   "metadata": {},
   "outputs": [
    {
     "data": {
      "text/plain": [
       "(76,\n",
       " {144: 0.006944444444444444,\n",
       "  192: 0.005208333333333333,\n",
       "  39: 0.02564102564102564,\n",
       "  110: 0.00909090909090909,\n",
       "  32: 0.03125,\n",
       "  59: 0.01694915254237288,\n",
       "  123: 0.008130081300813009,\n",
       "  81: 0.012345679012345678,\n",
       "  94: 0.010638297872340425,\n",
       "  116: 0.008620689655172414,\n",
       "  153: 0.006535947712418301,\n",
       "  104: 0.009615384615384616,\n",
       "  73: 0.0136986301369863,\n",
       "  15: 0.06666666666666667,\n",
       "  166: 0.006024096385542169,\n",
       "  61: 0.01639344262295082,\n",
       "  106: 0.009433962264150943,\n",
       "  50: 0.02,\n",
       "  111: 0.009009009009009009,\n",
       "  25: 0.04,\n",
       "  28: 0.03571428571428571,\n",
       "  10: 0.1,\n",
       "  138: 0.007246376811594203,\n",
       "  57: 0.017543859649122806,\n",
       "  198: 0.005050505050505051,\n",
       "  64: 0.015625,\n",
       "  167: 0.005988023952095809,\n",
       "  150: 0.006666666666666667,\n",
       "  131: 0.007633587786259542,\n",
       "  177: 0.005649717514124294,\n",
       "  72: 0.013888888888888888,\n",
       "  85: 0.011764705882352941,\n",
       "  195: 0.005128205128205128,\n",
       "  12: 0.08333333333333333,\n",
       "  160: 0.00625,\n",
       "  83: 0.012048192771084338,\n",
       "  65: 0.015384615384615385,\n",
       "  109: 0.009174311926605505,\n",
       "  69: 0.014492753623188406,\n",
       "  54: 0.018518518518518517,\n",
       "  66: 0.015151515151515152,\n",
       "  183: 0.00546448087431694,\n",
       "  113: 0.008849557522123894,\n",
       "  45: 0.022222222222222223,\n",
       "  63: 0.015873015873015872,\n",
       "  179: 0.00558659217877095,\n",
       "  184: 0.005434782608695652,\n",
       "  137: 0.0072992700729927005,\n",
       "  155: 0.0064516129032258064,\n",
       "  67: 0.014925373134328358,\n",
       "  149: 0.006711409395973154,\n",
       "  5: 0.2,\n",
       "  38: 0.02631578947368421,\n",
       "  141: 0.0070921985815602835,\n",
       "  159: 0.006289308176100629,\n",
       "  71: 0.014084507042253521,\n",
       "  95: 0.010526315789473684,\n",
       "  87: 0.011494252873563218,\n",
       "  97: 0.010309278350515464,\n",
       "  182: 0.005494505494505495,\n",
       "  14: 0.07142857142857142,\n",
       "  146: 0.00684931506849315,\n",
       "  126: 0.007936507936507936,\n",
       "  162: 0.006172839506172839,\n",
       "  199: 0.005025125628140704,\n",
       "  156: 0.00641025641025641,\n",
       "  143: 0.006993006993006993,\n",
       "  132: 0.007575757575757576,\n",
       "  74: 0.013513513513513514,\n",
       "  35: 0.02857142857142857,\n",
       "  194: 0.005154639175257732,\n",
       "  37: 0.02702702702702703,\n",
       "  151: 0.006622516556291391,\n",
       "  169: 0.005917159763313609,\n",
       "  152: 0.006578947368421052,\n",
       "  163: 0.006134969325153374})"
      ]
     },
     "execution_count": 133,
     "metadata": {},
     "output_type": "execute_result"
    }
   ],
   "source": [
    "len(res), res"
   ]
  },
  {
   "cell_type": "code",
   "execution_count": 112,
   "id": "aa559170",
   "metadata": {},
   "outputs": [
    {
     "data": {
      "text/plain": [
       "{'_max_workers': 20,\n",
       " '_work_queue': <_queue.SimpleQueue at 0x7fcd89efc400>,\n",
       " '_idle_semaphore': <threading.Semaphore at 0x7fcd8a563850>,\n",
       " '_threads': {<Thread(test_0, started 140520181458496)>,\n",
       "  <Thread(test_1, started 140520173065792)>,\n",
       "  <Thread(test_10, started 140519552300608)>,\n",
       "  <Thread(test_11, started 140519543907904)>,\n",
       "  <Thread(test_12, started 140519535515200)>,\n",
       "  <Thread(test_13, started 140519049000512)>,\n",
       "  <Thread(test_14, started 140519040607808)>,\n",
       "  <Thread(test_15, started 140519032215104)>,\n",
       "  <Thread(test_16, started 140519023822400)>,\n",
       "  <Thread(test_17, started 140519015429696)>,\n",
       "  <Thread(test_18, started 140519007036992)>,\n",
       "  <Thread(test_19, started 140518998644288)>,\n",
       "  <Thread(test_2, started 140520164673088)>,\n",
       "  <Thread(test_3, started 140520156280384)>,\n",
       "  <Thread(test_4, started 140520146839104)>,\n",
       "  <Thread(test_5, started 140520138446400)>,\n",
       "  <Thread(test_6, started 140519585871424)>,\n",
       "  <Thread(test_7, started 140519577478720)>,\n",
       "  <Thread(test_8, started 140519569086016)>,\n",
       "  <Thread(test_9, started 140519560693312)>},\n",
       " '_broken': False,\n",
       " '_shutdown': False,\n",
       " '_shutdown_lock': <unlocked _thread.lock object at 0x7fcd801c5bc0>,\n",
       " '_thread_name_prefix': 'test',\n",
       " '_initializer': None,\n",
       " '_initargs': ()}"
      ]
     },
     "execution_count": 112,
     "metadata": {},
     "output_type": "execute_result"
    }
   ],
   "source": [
    "vars(pool)"
   ]
  },
  {
   "cell_type": "code",
   "execution_count": 113,
   "id": "f93a74af",
   "metadata": {},
   "outputs": [],
   "source": [
    "import pymysql\n",
    "import uuid\n",
    "import json"
   ]
  },
  {
   "cell_type": "code",
   "execution_count": 114,
   "id": "6202d934",
   "metadata": {},
   "outputs": [
    {
     "name": "stdout",
     "output_type": "stream",
     "text": [
      "Help on class Connection in module pymysql.connections:\n",
      "\n",
      "class Connection(builtins.object)\n",
      " |  Connection(*, user=None, password='', host=None, database=None, unix_socket=None, port=0, charset='', sql_mode=None, read_default_file=None, conv=None, use_unicode=True, client_flag=0, cursorclass=<class 'pymysql.cursors.Cursor'>, init_command=None, connect_timeout=10, read_default_group=None, autocommit=False, local_infile=False, max_allowed_packet=16777216, defer_connect=False, auth_plugin_map=None, read_timeout=None, write_timeout=None, bind_address=None, binary_prefix=False, program_name=None, server_public_key=None, ssl=None, ssl_ca=None, ssl_cert=None, ssl_disabled=None, ssl_key=None, ssl_verify_cert=None, ssl_verify_identity=None, compress=None, named_pipe=None, passwd=None, db=None)\n",
      " |  \n",
      " |  Representation of a socket with a mysql server.\n",
      " |  \n",
      " |  The proper way to get an instance of this class is to call\n",
      " |  connect().\n",
      " |  \n",
      " |  Establish a connection to the MySQL database. Accepts several\n",
      " |  arguments:\n",
      " |  \n",
      " |  :param host: Host where the database server is located\n",
      " |  :param user: Username to log in as\n",
      " |  :param password: Password to use.\n",
      " |  :param database: Database to use, None to not use a particular one.\n",
      " |  :param port: MySQL port to use, default is usually OK. (default: 3306)\n",
      " |  :param bind_address: When the client has multiple network interfaces, specify\n",
      " |      the interface from which to connect to the host. Argument can be\n",
      " |      a hostname or an IP address.\n",
      " |  :param unix_socket: Optionally, you can use a unix socket rather than TCP/IP.\n",
      " |  :param read_timeout: The timeout for reading from the connection in seconds (default: None - no timeout)\n",
      " |  :param write_timeout: The timeout for writing to the connection in seconds (default: None - no timeout)\n",
      " |  :param charset: Charset you want to use.\n",
      " |  :param sql_mode: Default SQL_MODE to use.\n",
      " |  :param read_default_file:\n",
      " |      Specifies  my.cnf file to read these parameters from under the [client] section.\n",
      " |  :param conv:\n",
      " |      Conversion dictionary to use instead of the default one.\n",
      " |      This is used to provide custom marshalling and unmarshalling of types.\n",
      " |      See converters.\n",
      " |  :param use_unicode:\n",
      " |      Whether or not to default to unicode strings.\n",
      " |      This option defaults to true.\n",
      " |  :param client_flag: Custom flags to send to MySQL. Find potential values in constants.CLIENT.\n",
      " |  :param cursorclass: Custom cursor class to use.\n",
      " |  :param init_command: Initial SQL statement to run when connection is established.\n",
      " |  :param connect_timeout: Timeout before throwing an exception when connecting.\n",
      " |      (default: 10, min: 1, max: 31536000)\n",
      " |  :param ssl:\n",
      " |      A dict of arguments similar to mysql_ssl_set()'s parameters.\n",
      " |  :param ssl_ca: Path to the file that contains a PEM-formatted CA certificate\n",
      " |  :param ssl_cert: Path to the file that contains a PEM-formatted client certificate\n",
      " |  :param ssl_disabled: A boolean value that disables usage of TLS\n",
      " |  :param ssl_key: Path to the file that contains a PEM-formatted private key for the client certificate\n",
      " |  :param ssl_verify_cert: Set to true to check the validity of server certificates\n",
      " |  :param ssl_verify_identity: Set to true to check the server's identity\n",
      " |  :param read_default_group: Group to read from in the configuration file.\n",
      " |  :param autocommit: Autocommit mode. None means use server default. (default: False)\n",
      " |  :param local_infile: Boolean to enable the use of LOAD DATA LOCAL command. (default: False)\n",
      " |  :param max_allowed_packet: Max size of packet sent to server in bytes. (default: 16MB)\n",
      " |      Only used to limit size of \"LOAD LOCAL INFILE\" data packet smaller than default (16KB).\n",
      " |  :param defer_connect: Don't explicitly connect on construction - wait for connect call.\n",
      " |      (default: False)\n",
      " |  :param auth_plugin_map: A dict of plugin names to a class that processes that plugin.\n",
      " |      The class will take the Connection object as the argument to the constructor.\n",
      " |      The class needs an authenticate method taking an authentication packet as\n",
      " |      an argument.  For the dialog plugin, a prompt(echo, prompt) method can be used\n",
      " |      (if no authenticate method) for returning a string from the user. (experimental)\n",
      " |  :param server_public_key: SHA256 authentication plugin public key value. (default: None)\n",
      " |  :param binary_prefix: Add _binary prefix on bytes and bytearray. (default: False)\n",
      " |  :param compress: Not supported\n",
      " |  :param named_pipe: Not supported\n",
      " |  :param db: **DEPRECATED** Alias for database.\n",
      " |  :param passwd: **DEPRECATED** Alias for password.\n",
      " |  \n",
      " |  See `Connection <https://www.python.org/dev/peps/pep-0249/#connection-objects>`_ in the\n",
      " |  specification.\n",
      " |  \n",
      " |  Methods defined here:\n",
      " |  \n",
      " |  __del__ = _force_close(self)\n",
      " |  \n",
      " |  __enter__(self)\n",
      " |  \n",
      " |  __exit__(self, *exc_info)\n",
      " |  \n",
      " |  __init__(self, *, user=None, password='', host=None, database=None, unix_socket=None, port=0, charset='', sql_mode=None, read_default_file=None, conv=None, use_unicode=True, client_flag=0, cursorclass=<class 'pymysql.cursors.Cursor'>, init_command=None, connect_timeout=10, read_default_group=None, autocommit=False, local_infile=False, max_allowed_packet=16777216, defer_connect=False, auth_plugin_map=None, read_timeout=None, write_timeout=None, bind_address=None, binary_prefix=False, program_name=None, server_public_key=None, ssl=None, ssl_ca=None, ssl_cert=None, ssl_disabled=None, ssl_key=None, ssl_verify_cert=None, ssl_verify_identity=None, compress=None, named_pipe=None, passwd=None, db=None)\n",
      " |      Initialize self.  See help(type(self)) for accurate signature.\n",
      " |  \n",
      " |  affected_rows(self)\n",
      " |  \n",
      " |  autocommit(self, value)\n",
      " |  \n",
      " |  begin(self)\n",
      " |      Begin transaction.\n",
      " |  \n",
      " |  character_set_name(self)\n",
      " |  \n",
      " |  close(self)\n",
      " |      Send the quit message and close the socket.\n",
      " |      \n",
      " |      See `Connection.close() <https://www.python.org/dev/peps/pep-0249/#Connection.close>`_\n",
      " |      in the specification.\n",
      " |      \n",
      " |      :raise Error: If the connection is already closed.\n",
      " |  \n",
      " |  commit(self)\n",
      " |      Commit changes to stable storage.\n",
      " |      \n",
      " |      See `Connection.commit() <https://www.python.org/dev/peps/pep-0249/#commit>`_\n",
      " |      in the specification.\n",
      " |  \n",
      " |  connect(self, sock=None)\n",
      " |  \n",
      " |  cursor(self, cursor=None)\n",
      " |      Create a new cursor to execute queries with.\n",
      " |      \n",
      " |      :param cursor: The type of cursor to create; one of :py:class:`Cursor`,\n",
      " |          :py:class:`SSCursor`, :py:class:`DictCursor`, or :py:class:`SSDictCursor`.\n",
      " |          None means use Cursor.\n",
      " |  \n",
      " |  escape(self, obj, mapping=None)\n",
      " |      Escape whatever value you pass to it.\n",
      " |      \n",
      " |      Non-standard, for internal use; do not use this in your applications.\n",
      " |  \n",
      " |  escape_string(self, s)\n",
      " |  \n",
      " |  get_autocommit(self)\n",
      " |  \n",
      " |  get_host_info(self)\n",
      " |  \n",
      " |  get_proto_info(self)\n",
      " |  \n",
      " |  get_server_info(self)\n",
      " |  \n",
      " |  insert_id(self)\n",
      " |  \n",
      " |  kill(self, thread_id)\n",
      " |  \n",
      " |  literal(self, obj)\n",
      " |      Alias for escape()\n",
      " |      \n",
      " |      Non-standard, for internal use; do not use this in your applications.\n",
      " |  \n",
      " |  next_result(self, unbuffered=False)\n",
      " |  \n",
      " |  ping(self, reconnect=True)\n",
      " |      Check if the server is alive.\n",
      " |      \n",
      " |      :param reconnect: If the connection is closed, reconnect.\n",
      " |      :raise Error: If the connection is closed and reconnect=False.\n",
      " |  \n",
      " |  query(self, sql, unbuffered=False)\n",
      " |      # The following methods are INTERNAL USE ONLY (called from Cursor)\n",
      " |  \n",
      " |  rollback(self)\n",
      " |      Roll back the current transaction.\n",
      " |      \n",
      " |      See `Connection.rollback() <https://www.python.org/dev/peps/pep-0249/#rollback>`_\n",
      " |      in the specification.\n",
      " |  \n",
      " |  select_db(self, db)\n",
      " |      Set current db.\n",
      " |      \n",
      " |      :param db: The name of the db.\n",
      " |  \n",
      " |  set_charset(self, charset)\n",
      " |  \n",
      " |  show_warnings(self)\n",
      " |      Send the \"SHOW WARNINGS\" SQL command.\n",
      " |  \n",
      " |  thread_id(self)\n",
      " |      # _mysql support\n",
      " |  \n",
      " |  write_packet(self, payload)\n",
      " |      Writes an entire \"mysql packet\" in its entirety to the network\n",
      " |      adding its length and sequence number.\n",
      " |  \n",
      " |  ----------------------------------------------------------------------\n",
      " |  Readonly properties defined here:\n",
      " |  \n",
      " |  open\n",
      " |      Return True if the connection is open\n",
      " |  \n",
      " |  ----------------------------------------------------------------------\n",
      " |  Data descriptors defined here:\n",
      " |  \n",
      " |  __dict__\n",
      " |      dictionary for instance variables (if defined)\n",
      " |  \n",
      " |  __weakref__\n",
      " |      list of weak references to the object (if defined)\n",
      " |  \n",
      " |  ----------------------------------------------------------------------\n",
      " |  Data and other attributes defined here:\n",
      " |  \n",
      " |  DataError = <class 'pymysql.err.DataError'>\n",
      " |      Exception raised for errors that are due to problems with the\n",
      " |      processed data like division by zero, numeric value out of range,\n",
      " |      etc.\n",
      " |  \n",
      " |  \n",
      " |  DatabaseError = <class 'pymysql.err.DatabaseError'>\n",
      " |      Exception raised for errors that are related to the\n",
      " |      database.\n",
      " |  \n",
      " |  \n",
      " |  Error = <class 'pymysql.err.Error'>\n",
      " |      Exception that is the base class of all other error exceptions\n",
      " |      (not Warning).\n",
      " |  \n",
      " |  \n",
      " |  IntegrityError = <class 'pymysql.err.IntegrityError'>\n",
      " |      Exception raised when the relational integrity of the database\n",
      " |      is affected, e.g. a foreign key check fails, duplicate key,\n",
      " |      etc.\n",
      " |  \n",
      " |  \n",
      " |  InterfaceError = <class 'pymysql.err.InterfaceError'>\n",
      " |      Exception raised for errors that are related to the database\n",
      " |      interface rather than the database itself.\n",
      " |  \n",
      " |  \n",
      " |  InternalError = <class 'pymysql.err.InternalError'>\n",
      " |      Exception raised when the database encounters an internal\n",
      " |      error, e.g. the cursor is not valid anymore, the transaction is\n",
      " |      out of sync, etc.\n",
      " |  \n",
      " |  \n",
      " |  NotSupportedError = <class 'pymysql.err.NotSupportedError'>\n",
      " |      Exception raised in case a method or database API was used\n",
      " |      which is not supported by the database, e.g. requesting a\n",
      " |      .rollback() on a connection that does not support transaction or\n",
      " |      has transactions turned off.\n",
      " |  \n",
      " |  \n",
      " |  OperationalError = <class 'pymysql.err.OperationalError'>\n",
      " |      Exception raised for errors that are related to the database's\n",
      " |      operation and not necessarily under the control of the programmer,\n",
      " |      e.g. an unexpected disconnect occurs, the data source name is not\n",
      " |      found, a transaction could not be processed, a memory allocation\n",
      " |      error occurred during processing, etc.\n",
      " |  \n",
      " |  \n",
      " |  ProgrammingError = <class 'pymysql.err.ProgrammingError'>\n",
      " |      Exception raised for programming errors, e.g. table not found\n",
      " |      or already exists, syntax error in the SQL statement, wrong number\n",
      " |      of parameters specified, etc.\n",
      " |  \n",
      " |  \n",
      " |  Warning = <class 'pymysql.err.Warning'>\n",
      " |      Exception raised for important warnings like data truncations\n",
      " |      while inserting, etc.\n",
      "\n"
     ]
    }
   ],
   "source": [
    "help(pymysql.connect)"
   ]
  },
  {
   "cell_type": "code",
   "execution_count": 118,
   "id": "6a505dc6",
   "metadata": {},
   "outputs": [],
   "source": [
    "conn = {\n",
    "    'host': 'localhost',\n",
    "    'port': 3306,\n",
    "    'user': 'alex',\n",
    "    'password': '17012011',\n",
    "    'database': 'test',\n",
    "}"
   ]
  },
  {
   "cell_type": "code",
   "execution_count": 119,
   "id": "68d14364",
   "metadata": {},
   "outputs": [],
   "source": [
    "def insert_row_to_db(key, data):\n",
    "    with pymysql.connect(**conn) as con:\n",
    "        with con.cursor() as cur:\n",
    "            cur.execute(\"insert into test.test (uid, data) values (%s, %s)\", (key, json.dumps(data)))\n",
    "            id_ = cur.lastrowid\n",
    "        con.commit()\n",
    "    return id_, key"
   ]
  },
  {
   "cell_type": "code",
   "execution_count": 130,
   "id": "5533301c",
   "metadata": {},
   "outputs": [
    {
     "data": {
      "text/plain": [
       "'e4b92168-d985-4f78-89d2-cea505eeea15'"
      ]
     },
     "execution_count": 130,
     "metadata": {},
     "output_type": "execute_result"
    }
   ],
   "source": [
    "str(uuid.uuid4())"
   ]
  },
  {
   "cell_type": "code",
   "execution_count": 121,
   "id": "a801746b",
   "metadata": {},
   "outputs": [],
   "source": [
    "def mock_data():\n",
    "    return {\n",
    "        'value': random.randint(1,200)\n",
    "    }"
   ]
  },
  {
   "cell_type": "code",
   "execution_count": 125,
   "id": "dbcb9305",
   "metadata": {},
   "outputs": [
    {
     "data": {
      "text/plain": [
       "{'value': 22}"
      ]
     },
     "execution_count": 125,
     "metadata": {},
     "output_type": "execute_result"
    }
   ],
   "source": [
    "mock_data()"
   ]
  },
  {
   "cell_type": "code",
   "execution_count": 126,
   "id": "fb585c7a",
   "metadata": {},
   "outputs": [],
   "source": [
    "key = str(uuid.uuid4())\n",
    "data = mock_data()"
   ]
  },
  {
   "cell_type": "code",
   "execution_count": 162,
   "id": "8536aaff",
   "metadata": {},
   "outputs": [
    {
     "name": "stdout",
     "output_type": "stream",
     "text": [
      "CPU times: user 3.64 ms, sys: 0 ns, total: 3.64 ms\n",
      "Wall time: 8.11 ms\n"
     ]
    },
    {
     "data": {
      "text/plain": [
       "(66009, 'd3bc386a-a972-4270-91ce-2e7ebf92db05')"
      ]
     },
     "execution_count": 162,
     "metadata": {},
     "output_type": "execute_result"
    }
   ],
   "source": [
    "%%time\n",
    "insert_row_to_db(key, data)"
   ]
  },
  {
   "cell_type": "code",
   "execution_count": 134,
   "id": "2b1c1be6",
   "metadata": {},
   "outputs": [],
   "source": [
    "db_conn_pool = ThreadPoolExecutor(50, thread_name_prefix='db_conn')"
   ]
  },
  {
   "cell_type": "code",
   "execution_count": 161,
   "id": "ed73a74a",
   "metadata": {},
   "outputs": [
    {
     "name": "stdout",
     "output_type": "stream",
     "text": [
      "CPU times: user 12.3 s, sys: 4.08 s, total: 16.4 s\n",
      "Wall time: 29.9 s\n"
     ]
    }
   ],
   "source": [
    "%%time\n",
    "\n",
    "futures = []\n",
    "\n",
    "for i in range(10000):\n",
    "    key = str(uuid.uuid4())\n",
    "    data = mock_data()\n",
    "    # f = db_conn_pool.submit(insert_row_to_db, key=key, data=data)\n",
    "    # futures.append(f)\n",
    "    insert_row_to_db(key, data)\n",
    "\n",
    "# futures[-1].result()"
   ]
  },
  {
   "cell_type": "code",
   "execution_count": 136,
   "id": "9a70dbd8",
   "metadata": {},
   "outputs": [
    {
     "data": {
      "text/plain": [
       "2"
      ]
     },
     "execution_count": 136,
     "metadata": {},
     "output_type": "execute_result"
    }
   ],
   "source": [
    "1+1"
   ]
  },
  {
   "cell_type": "code",
   "execution_count": 158,
   "id": "df58533b",
   "metadata": {},
   "outputs": [
    {
     "data": {
      "text/plain": [
       "True"
      ]
     },
     "execution_count": 158,
     "metadata": {},
     "output_type": "execute_result"
    }
   ],
   "source": [
    "futures[-1].done()"
   ]
  },
  {
   "cell_type": "code",
   "execution_count": 146,
   "id": "3eb7328e",
   "metadata": {},
   "outputs": [
    {
     "data": {
      "text/plain": [
       "(35000, 'a84ad33f-0826-45fa-b800-bc3386236bbd')"
      ]
     },
     "execution_count": 146,
     "metadata": {},
     "output_type": "execute_result"
    }
   ],
   "source": [
    "futures[-8].result()"
   ]
  },
  {
   "cell_type": "code",
   "execution_count": 142,
   "id": "af58cc26",
   "metadata": {},
   "outputs": [
    {
     "data": {
      "text/plain": [
       "12"
      ]
     },
     "execution_count": 142,
     "metadata": {},
     "output_type": "execute_result"
    }
   ],
   "source": [
    "35008 - 34996"
   ]
  },
  {
   "cell_type": "code",
   "execution_count": 116,
   "id": "20c894dc",
   "metadata": {},
   "outputs": [
    {
     "data": {
      "text/plain": [
       "'5e3b4b57-e6b6-4d9e-86c5-622f3fd59c96'"
      ]
     },
     "execution_count": 116,
     "metadata": {},
     "output_type": "execute_result"
    }
   ],
   "source": [
    "key"
   ]
  },
  {
   "cell_type": "code",
   "execution_count": 117,
   "id": "6e62f640",
   "metadata": {},
   "outputs": [
    {
     "data": {
      "text/plain": [
       "9999"
      ]
     },
     "execution_count": 117,
     "metadata": {},
     "output_type": "execute_result"
    }
   ],
   "source": [
    "i"
   ]
  },
  {
   "cell_type": "code",
   "execution_count": 118,
   "id": "1cc6cbab",
   "metadata": {},
   "outputs": [],
   "source": [
    "f = db_conn_pool.submit(insert_row_to_db, key=key, data=data)"
   ]
  },
  {
   "cell_type": "code",
   "execution_count": 119,
   "id": "7a65c8c8",
   "metadata": {},
   "outputs": [
    {
     "data": {
      "text/plain": [
       "(25007, '5e3b4b57-e6b6-4d9e-86c5-622f3fd59c96')"
      ]
     },
     "execution_count": 119,
     "metadata": {},
     "output_type": "execute_result"
    }
   ],
   "source": [
    "# другой код\n",
    "\n",
    "inserted_data = f.result()\n",
    "inserted_data"
   ]
  },
  {
   "cell_type": "code",
   "execution_count": 163,
   "id": "6e48747a",
   "metadata": {},
   "outputs": [
    {
     "name": "stdout",
     "output_type": "stream",
     "text": [
      "Help on method shutdown in module concurrent.futures.thread:\n",
      "\n",
      "shutdown(wait=True, *, cancel_futures=False) method of concurrent.futures.thread.ThreadPoolExecutor instance\n",
      "    Clean-up the resources associated with the Executor.\n",
      "    \n",
      "    It is safe to call this method several times. Otherwise, no other\n",
      "    methods can be called after this one.\n",
      "    \n",
      "    Args:\n",
      "        wait: If True then shutdown will not return until all running\n",
      "            futures have finished executing and the resources used by the\n",
      "            executor have been reclaimed.\n",
      "        cancel_futures: If True then shutdown will cancel all pending\n",
      "            futures. Futures that are completed or running will not be\n",
      "            cancelled.\n",
      "\n"
     ]
    }
   ],
   "source": [
    "help(db_conn_pool.shutdown)"
   ]
  },
  {
   "cell_type": "code",
   "execution_count": 164,
   "id": "29cd4efc",
   "metadata": {},
   "outputs": [],
   "source": [
    "db_conn_pool.shutdown()"
   ]
  },
  {
   "cell_type": "code",
   "execution_count": null,
   "id": "60698d24",
   "metadata": {},
   "outputs": [],
   "source": []
  },
  {
   "cell_type": "code",
   "execution_count": null,
   "id": "2d31963b",
   "metadata": {},
   "outputs": [],
   "source": []
  },
  {
   "cell_type": "code",
   "execution_count": 166,
   "id": "4ae8f4ec",
   "metadata": {},
   "outputs": [],
   "source": [
    "p_pool = ProcessPoolExecutor(8)"
   ]
  },
  {
   "cell_type": "code",
   "execution_count": 167,
   "id": "eec7e478",
   "metadata": {},
   "outputs": [
    {
     "data": {
      "text/plain": [
       "['map', 'shutdown', 'submit']"
      ]
     },
     "execution_count": 167,
     "metadata": {},
     "output_type": "execute_result"
    }
   ],
   "source": [
    "[f for f in dir(p_pool) if not f.startswith('_')]"
   ]
  },
  {
   "cell_type": "code",
   "execution_count": 168,
   "id": "a0bb0223",
   "metadata": {},
   "outputs": [
    {
     "name": "stdout",
     "output_type": "stream",
     "text": [
      "Help on method submit in module concurrent.futures.process:\n",
      "\n",
      "submit(fn, /, *args, **kwargs) method of concurrent.futures.process.ProcessPoolExecutor instance\n",
      "    Submits a callable to be executed with the given arguments.\n",
      "    \n",
      "    Schedules the callable to be executed as fn(*args, **kwargs) and returns\n",
      "    a Future instance representing the execution of the callable.\n",
      "    \n",
      "    Returns:\n",
      "        A Future representing the given call.\n",
      "\n"
     ]
    }
   ],
   "source": [
    "help(p_pool.submit)"
   ]
  },
  {
   "cell_type": "code",
   "execution_count": 125,
   "id": "d60e19e3",
   "metadata": {},
   "outputs": [
    {
     "name": "stdout",
     "output_type": "stream",
     "text": [
      "Help on method map in module concurrent.futures.process:\n",
      "\n",
      "map(fn, *iterables, timeout=None, chunksize=1) method of concurrent.futures.process.ProcessPoolExecutor instance\n",
      "    Returns an iterator equivalent to map(fn, iter).\n",
      "    \n",
      "    Args:\n",
      "        fn: A callable that will take as many arguments as there are\n",
      "            passed iterables.\n",
      "        timeout: The maximum number of seconds to wait. If None, then there\n",
      "            is no limit on the wait time.\n",
      "        chunksize: If greater than one, the iterables will be chopped into\n",
      "            chunks of size chunksize and submitted to the process pool.\n",
      "            If set to one, the items in the list will be sent one at a time.\n",
      "    \n",
      "    Returns:\n",
      "        An iterator equivalent to: map(func, *iterables) but the calls may\n",
      "        be evaluated out-of-order.\n",
      "    \n",
      "    Raises:\n",
      "        TimeoutError: If the entire result iterator could not be generated\n",
      "            before the given timeout.\n",
      "        Exception: If fn(*args) raises for any values.\n",
      "\n"
     ]
    }
   ],
   "source": [
    "help(p_pool.map)"
   ]
  },
  {
   "cell_type": "code",
   "execution_count": 169,
   "id": "eb89845d",
   "metadata": {},
   "outputs": [],
   "source": [
    "def fibb(x):\n",
    "    if x in [1, 2]:\n",
    "        return 1\n",
    "    else:\n",
    "        return fibb(x-1) + fibb(x-2)"
   ]
  },
  {
   "cell_type": "code",
   "execution_count": 170,
   "id": "e54b3ba0",
   "metadata": {},
   "outputs": [
    {
     "name": "stdout",
     "output_type": "stream",
     "text": [
      "CPU times: user 18.7 s, sys: 0 ns, total: 18.7 s\n",
      "Wall time: 18.9 s\n"
     ]
    },
    {
     "data": {
      "text/plain": [
       "63245986"
      ]
     },
     "execution_count": 170,
     "metadata": {},
     "output_type": "execute_result"
    }
   ],
   "source": [
    "%%time\n",
    "fibb(39)"
   ]
  },
  {
   "cell_type": "code",
   "execution_count": 171,
   "id": "e9eed01d",
   "metadata": {},
   "outputs": [],
   "source": [
    "t_pool = ThreadPoolExecutor(8)"
   ]
  },
  {
   "cell_type": "code",
   "execution_count": 172,
   "id": "a3683de2",
   "metadata": {},
   "outputs": [
    {
     "name": "stdout",
     "output_type": "stream",
     "text": [
      "CPU times: user 1min 47s, sys: 1.4 s, total: 1min 48s\n",
      "Wall time: 1min 48s\n"
     ]
    },
    {
     "data": {
      "text/plain": [
       "63245986"
      ]
     },
     "execution_count": 172,
     "metadata": {},
     "output_type": "execute_result"
    }
   ],
   "source": [
    "%%time\n",
    "\n",
    "for i in range(5):\n",
    "    f = t_pool.submit(fibb, x=39)\n",
    "    \n",
    "f.result()"
   ]
  },
  {
   "cell_type": "code",
   "execution_count": 173,
   "id": "b041b72b",
   "metadata": {},
   "outputs": [
    {
     "name": "stdout",
     "output_type": "stream",
     "text": [
      "CPU times: user 21.3 ms, sys: 88.8 ms, total: 110 ms\n",
      "Wall time: 27.2 s\n"
     ]
    },
    {
     "data": {
      "text/plain": [
       "63245986"
      ]
     },
     "execution_count": 173,
     "metadata": {},
     "output_type": "execute_result"
    }
   ],
   "source": [
    "%%time\n",
    "\n",
    "for i in range(5):\n",
    "    f = p_pool.submit(fibb, x=39)\n",
    "    \n",
    "f.result()"
   ]
  },
  {
   "cell_type": "code",
   "execution_count": null,
   "id": "127e3ac8",
   "metadata": {},
   "outputs": [],
   "source": []
  },
  {
   "cell_type": "code",
   "execution_count": 174,
   "id": "f365e731",
   "metadata": {},
   "outputs": [],
   "source": [
    "from functools import lru_cache"
   ]
  },
  {
   "cell_type": "code",
   "execution_count": 175,
   "id": "61a2110d",
   "metadata": {},
   "outputs": [],
   "source": [
    "@lru_cache(100000)\n",
    "def fibb_m(x):\n",
    "    if x in [1, 2]:\n",
    "        return 1\n",
    "    else:\n",
    "        return fibb_m(x-1) + fibb_m(x-2)"
   ]
  },
  {
   "cell_type": "code",
   "execution_count": 181,
   "id": "7f0f979f",
   "metadata": {},
   "outputs": [
    {
     "name": "stdout",
     "output_type": "stream",
     "text": [
      "CPU times: user 4 µs, sys: 1e+03 ns, total: 5 µs\n",
      "Wall time: 8.34 µs\n"
     ]
    },
    {
     "data": {
      "text/plain": [
       "267914296"
      ]
     },
     "execution_count": 181,
     "metadata": {},
     "output_type": "execute_result"
    }
   ],
   "source": [
    "%%time\n",
    "\n",
    "fibb_m(42)"
   ]
  },
  {
   "cell_type": "code",
   "execution_count": 182,
   "id": "3a787eb7",
   "metadata": {},
   "outputs": [
    {
     "name": "stdout",
     "output_type": "stream",
     "text": [
      "CPU times: user 9 µs, sys: 1e+03 ns, total: 10 µs\n",
      "Wall time: 14.3 µs\n"
     ]
    },
    {
     "data": {
      "text/plain": [
       "39088169"
      ]
     },
     "execution_count": 182,
     "metadata": {},
     "output_type": "execute_result"
    }
   ],
   "source": [
    "%%time\n",
    "\n",
    "fibb_m(38)"
   ]
  },
  {
   "cell_type": "code",
   "execution_count": 147,
   "id": "3ba49cc7",
   "metadata": {},
   "outputs": [
    {
     "name": "stdout",
     "output_type": "stream",
     "text": [
      "CPU times: user 7 µs, sys: 0 ns, total: 7 µs\n",
      "Wall time: 10.5 µs\n"
     ]
    },
    {
     "data": {
      "text/plain": [
       "63245986"
      ]
     },
     "execution_count": 147,
     "metadata": {},
     "output_type": "execute_result"
    }
   ],
   "source": [
    "%%time\n",
    "\n",
    "fibb_m(39)"
   ]
  },
  {
   "cell_type": "code",
   "execution_count": 148,
   "id": "97b93a71",
   "metadata": {},
   "outputs": [
    {
     "name": "stdout",
     "output_type": "stream",
     "text": [
      "CPU times: user 5 µs, sys: 1e+03 ns, total: 6 µs\n",
      "Wall time: 9.06 µs\n"
     ]
    },
    {
     "data": {
      "text/plain": [
       "39088169"
      ]
     },
     "execution_count": 148,
     "metadata": {},
     "output_type": "execute_result"
    }
   ],
   "source": [
    "%%time\n",
    "\n",
    "fibb_m(38)"
   ]
  },
  {
   "cell_type": "code",
   "execution_count": null,
   "id": "c28105e3",
   "metadata": {},
   "outputs": [],
   "source": [
    "f(2)"
   ]
  },
  {
   "cell_type": "code",
   "execution_count": 183,
   "id": "663c4629",
   "metadata": {},
   "outputs": [],
   "source": [
    "class memoize:\n",
    "    def __init__(self, func):\n",
    "        self.cache = {}\n",
    "        self.func = func\n",
    "        \n",
    "    def __call__(self, x):\n",
    "        # можно делать свои операции - обращаться за кэшем в БД, memcached, собирать запчасти из разных углов\n",
    "        try:\n",
    "            return self.cache[x]\n",
    "        except KeyError:\n",
    "            self.cache[x] = self.func(x)\n",
    "            return self.cache[x]"
   ]
  },
  {
   "cell_type": "code",
   "execution_count": 184,
   "id": "b10f38bc",
   "metadata": {},
   "outputs": [],
   "source": [
    "@memoize\n",
    "def fibb_2(x):\n",
    "    if x in [1, 2]:\n",
    "        return 1\n",
    "    else:\n",
    "        return fibb_2(x-1) + fibb_2(x-2)"
   ]
  },
  {
   "cell_type": "code",
   "execution_count": 185,
   "id": "e506656d",
   "metadata": {},
   "outputs": [
    {
     "name": "stdout",
     "output_type": "stream",
     "text": [
      "CPU times: user 0 ns, sys: 627 µs, total: 627 µs\n",
      "Wall time: 663 µs\n"
     ]
    },
    {
     "data": {
      "text/plain": [
       "2178309"
      ]
     },
     "execution_count": 185,
     "metadata": {},
     "output_type": "execute_result"
    }
   ],
   "source": [
    "%%time\n",
    "fibb_2(32)"
   ]
  },
  {
   "cell_type": "code",
   "execution_count": null,
   "id": "f25606a3",
   "metadata": {},
   "outputs": [],
   "source": [
    "help(ProcessPoolExecutor)"
   ]
  }
 ],
 "metadata": {
  "kernelspec": {
   "display_name": "Python 3 (ipykernel)",
   "language": "python",
   "name": "python3"
  },
  "language_info": {
   "codemirror_mode": {
    "name": "ipython",
    "version": 3
   },
   "file_extension": ".py",
   "mimetype": "text/x-python",
   "name": "python",
   "nbconvert_exporter": "python",
   "pygments_lexer": "ipython3",
   "version": "3.10.6"
  }
 },
 "nbformat": 4,
 "nbformat_minor": 5
}
