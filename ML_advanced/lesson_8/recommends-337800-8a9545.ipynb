{
 "cells": [
  {
   "cell_type": "code",
   "execution_count": 1,
   "metadata": {},
   "outputs": [],
   "source": [
    "import os\n",
    "import json\n",
    "import numpy as np"
   ]
  },
  {
   "cell_type": "code",
   "execution_count": 2,
   "metadata": {},
   "outputs": [],
   "source": [
    "with open('./vects_q.npy', 'rb') as f:\n",
    "    vects = np.load(f)\n",
    "    \n",
    "with open('./index.json', 'r') as f:\n",
    "    index = json.load(f)"
   ]
  },
  {
   "cell_type": "code",
   "execution_count": null,
   "metadata": {},
   "outputs": [],
   "source": []
  },
  {
   "cell_type": "code",
   "execution_count": 3,
   "metadata": {},
   "outputs": [],
   "source": [
    "def get_similar(v, vects, n=10):\n",
    "    scores = np.matmul(vects, v)\n",
    "    \n",
    "    scores = scores / 128\n",
    "    \n",
    "    top_similar_ind = (-scores).argsort()[:n]\n",
    "    \n",
    "    return {'similar_ind': list(top_similar_ind), \n",
    "            'scores': list(scores[top_similar_ind])}\n",
    "\n",
    "\n"
   ]
  },
  {
   "cell_type": "code",
   "execution_count": 4,
   "metadata": {},
   "outputs": [],
   "source": [
    "def get_im_by_indexes(inds, index):\n",
    "    f_names = []\n",
    "    for i in inds:\n",
    "        f_names.append(f'/main_pics/{index[i]}_0.jpg')\n",
    "    return f_names\n"
   ]
  },
  {
   "cell_type": "code",
   "execution_count": 5,
   "metadata": {},
   "outputs": [],
   "source": [
    "def get_sim_mean(viewed_ids, vects, n=10):\n",
    "    v = np.zeros(2048)\n",
    "    viewed_ids = viewed_ids[::-1][:10]\n",
    "    for i in viewed_ids[:]:\n",
    "        v += vects[i]\n",
    "    v = v / len(viewed_ids)\n",
    "        \n",
    "    v = v / np.linalg.norm(v)\n",
    "    \n",
    "    return filter_(get_similar(v, vects, n+len(viewed_ids)), viewed_ids)\n",
    "\n",
    "\n"
   ]
  },
  {
   "cell_type": "code",
   "execution_count": 6,
   "metadata": {},
   "outputs": [],
   "source": [
    "def filter_(recommends, viewed_ids):\n",
    "    res = {\n",
    "        'similar_ind': [],\n",
    "        'scores': []\n",
    "    }\n",
    "\n",
    "    for i in range(len(recommends['similar_ind'])):\n",
    "        if recommends['similar_ind'][i] not in viewed_ids:\n",
    "            res['similar_ind'].append(recommends['similar_ind'][i])\n",
    "            res['scores'].append(recommends['scores'][i])\n",
    "    return res"
   ]
  },
  {
   "cell_type": "code",
   "execution_count": 7,
   "metadata": {},
   "outputs": [],
   "source": [
    "class NpEncoder(json.JSONEncoder):\n",
    "    def default(self, obj):\n",
    "        if isinstance(obj, np.integer):\n",
    "            return int(obj)\n",
    "        if isinstance(obj, np.floating):\n",
    "            return float(obj)\n",
    "        if isinstance(obj, np.ndarray):\n",
    "            return obj.tolist()\n",
    "        return super(NpEncoder, self).default(obj)"
   ]
  },
  {
   "cell_type": "code",
   "execution_count": null,
   "metadata": {},
   "outputs": [],
   "source": []
  },
  {
   "cell_type": "code",
   "execution_count": 8,
   "metadata": {},
   "outputs": [],
   "source": [
    "viewed_ids = [1]"
   ]
  },
  {
   "cell_type": "code",
   "execution_count": 9,
   "metadata": {},
   "outputs": [],
   "source": [
    "res = get_sim_mean(viewed_ids, vects)"
   ]
  },
  {
   "cell_type": "code",
   "execution_count": 11,
   "metadata": {},
   "outputs": [
    {
     "data": {
      "text/plain": [
       "[1079, 457, 1129, 1377, 305, 1352, 325, 272, 333, 1301]"
      ]
     },
     "execution_count": 11,
     "metadata": {},
     "output_type": "execute_result"
    }
   ],
   "source": [
    "res['similar_ind']"
   ]
  },
  {
   "cell_type": "code",
   "execution_count": 10,
   "metadata": {},
   "outputs": [
    {
     "data": {
      "text/plain": [
       "[0.8328981852298845,\n",
       " 0.8204697228699342,\n",
       " 0.8163906377876944,\n",
       " 0.8147972451774443,\n",
       " 0.8046632681762542,\n",
       " 0.8042808539497943,\n",
       " 0.8012215401381142,\n",
       " 0.7965050980117743,\n",
       " 0.7940831412441942,\n",
       " 0.7906414132060542]"
      ]
     },
     "execution_count": 10,
     "metadata": {},
     "output_type": "execute_result"
    }
   ],
   "source": [
    "res['scores']"
   ]
  },
  {
   "cell_type": "code",
   "execution_count": 12,
   "metadata": {},
   "outputs": [
    {
     "data": {
      "text/plain": [
       "{'similar_ind': [1079, 457, 1129, 1377, 305, 1352, 325, 272, 333, 1301],\n",
       " 'scores': [0.8328981852298845,\n",
       "  0.8204697228699342,\n",
       "  0.8163906377876944,\n",
       "  0.8147972451774443,\n",
       "  0.8046632681762542,\n",
       "  0.8042808539497943,\n",
       "  0.8012215401381142,\n",
       "  0.7965050980117743,\n",
       "  0.7940831412441942,\n",
       "  0.7906414132060542]}"
      ]
     },
     "execution_count": 12,
     "metadata": {},
     "output_type": "execute_result"
    }
   ],
   "source": [
    "res"
   ]
  },
  {
   "cell_type": "code",
   "execution_count": 13,
   "metadata": {},
   "outputs": [
    {
     "data": {
      "text/plain": [
       "'{\"similar_ind\": [1079, 457, 1129, 1377, 305, 1352, 325, 272, 333, 1301], \"scores\": [0.8328981852298845, 0.8204697228699342, 0.8163906377876944, 0.8147972451774443, 0.8046632681762542, 0.8042808539497943, 0.8012215401381142, 0.7965050980117743, 0.7940831412441942, 0.7906414132060542]}'"
      ]
     },
     "execution_count": 13,
     "metadata": {},
     "output_type": "execute_result"
    }
   ],
   "source": [
    "json.dumps(res, cls=NpEncoder)"
   ]
  },
  {
   "cell_type": "code",
   "execution_count": null,
   "metadata": {},
   "outputs": [],
   "source": [
    "# https://bottlepy.org/docs/dev/tutorial.html\n",
    "\n",
    "\n"
   ]
  },
  {
   "cell_type": "code",
   "execution_count": null,
   "metadata": {},
   "outputs": [],
   "source": [
    "# https://github.com/bottlepy/bottle\n",
    "\n"
   ]
  },
  {
   "cell_type": "code",
   "execution_count": 44,
   "metadata": {},
   "outputs": [
    {
     "name": "stdout",
     "output_type": "stream",
     "text": [
      "Bottle v0.13-dev server starting up (using WSGIRefServer())...\n",
      "Listening on http://localhost:8080/\n",
      "Hit Ctrl-C to quit.\n",
      "\n",
      "Traceback (most recent call last):\n",
      "  File \"/usr/lib/python3.8/wsgiref/handlers.py\", line 183, in finish_response\n",
      "    for data in self.result:\n",
      "  File \"/usr/lib/python3.8/wsgiref/util.py\", line 37, in __next__\n",
      "    data = self.filelike.read(self.blksize)\n",
      "TypeError: 'str' object is not callable\n",
      "\n",
      "During handling of the above exception, another exception occurred:\n",
      "\n",
      "Traceback (most recent call last):\n",
      "  File \"/usr/lib/python3.8/wsgiref/handlers.py\", line 138, in run\n",
      "    self.finish_response()\n",
      "  File \"/usr/lib/python3.8/wsgiref/handlers.py\", line 190, in finish_response\n",
      "    self.result.close()\n",
      "TypeError: 'str' object is not callable\n",
      "127.0.0.1 - - [13/May/2023 16:51:06] \"GET /show/?ids=1,2,3 HTTP/1.1\" 500 59\n",
      "Traceback (most recent call last):\n",
      "  File \"/usr/lib/python3.8/wsgiref/handlers.py\", line 183, in finish_response\n",
      "    for data in self.result:\n",
      "  File \"/usr/lib/python3.8/wsgiref/util.py\", line 37, in __next__\n",
      "    data = self.filelike.read(self.blksize)\n",
      "TypeError: 'str' object is not callable\n",
      "\n",
      "During handling of the above exception, another exception occurred:\n",
      "\n",
      "Traceback (most recent call last):\n",
      "  File \"/usr/lib/python3.8/wsgiref/handlers.py\", line 138, in run\n",
      "    self.finish_response()\n",
      "  File \"/usr/lib/python3.8/wsgiref/handlers.py\", line 190, in finish_response\n",
      "    self.result.close()\n",
      "TypeError: 'str' object is not callable\n",
      "127.0.0.1 - - [13/May/2023 16:53:02] \"GET /show/?ids=1.2.3 HTTP/1.1\" 500 59\n",
      "Traceback (most recent call last):\n",
      "  File \"/usr/lib/python3.8/wsgiref/handlers.py\", line 183, in finish_response\n",
      "    for data in self.result:\n",
      "  File \"/usr/lib/python3.8/wsgiref/util.py\", line 37, in __next__\n",
      "    data = self.filelike.read(self.blksize)\n",
      "TypeError: 'str' object is not callable\n",
      "\n",
      "During handling of the above exception, another exception occurred:\n",
      "\n",
      "Traceback (most recent call last):\n",
      "  File \"/usr/lib/python3.8/wsgiref/handlers.py\", line 138, in run\n",
      "    self.finish_response()\n",
      "  File \"/usr/lib/python3.8/wsgiref/handlers.py\", line 190, in finish_response\n",
      "    self.result.close()\n",
      "TypeError: 'str' object is not callable\n",
      "127.0.0.1 - - [13/May/2023 16:55:21] \"GET /show/?ids=1%22.3 HTTP/1.1\" 500 59\n",
      "^C\n"
     ]
    }
   ],
   "source": [
    "! python3 ./app.py"
   ]
  },
  {
   "cell_type": "code",
   "execution_count": null,
   "metadata": {},
   "outputs": [],
   "source": []
  },
  {
   "cell_type": "code",
   "execution_count": null,
   "metadata": {},
   "outputs": [],
   "source": []
  },
  {
   "cell_type": "code",
   "execution_count": null,
   "metadata": {},
   "outputs": [],
   "source": []
  },
  {
   "cell_type": "code",
   "execution_count": null,
   "metadata": {},
   "outputs": [],
   "source": []
  },
  {
   "cell_type": "code",
   "execution_count": null,
   "metadata": {},
   "outputs": [],
   "source": []
  }
 ],
 "metadata": {
  "kernelspec": {
   "display_name": "Python 3 (ipykernel)",
   "language": "python",
   "name": "python3"
  },
  "language_info": {
   "codemirror_mode": {
    "name": "ipython",
    "version": 3
   },
   "file_extension": ".py",
   "mimetype": "text/x-python",
   "name": "python",
   "nbconvert_exporter": "python",
   "pygments_lexer": "ipython3",
   "version": "3.10.6"
  }
 },
 "nbformat": 4,
 "nbformat_minor": 4
}
