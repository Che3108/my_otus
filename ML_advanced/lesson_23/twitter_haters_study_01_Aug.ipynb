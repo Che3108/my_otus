{
  "nbformat": 4,
  "nbformat_minor": 0,
  "metadata": {
    "colab": {
      "provenance": []
    },
    "kernelspec": {
      "name": "python3",
      "display_name": "Python 3"
    },
    "language_info": {
      "name": "python"
    },
    "accelerator": "GPU",
    "gpuClass": "standard"
  },
  "cells": [
    {
      "cell_type": "markdown",
      "source": [
        "#Установка пакетов и получение данных"
      ],
      "metadata": {
        "id": "BBHxiQ78J2zr"
      }
    },
    {
      "cell_type": "code",
      "source": [
        "!git clone https://github.com/stellargraph/stellargraph.git"
      ],
      "metadata": {
        "id": "_ttJNjQz4KpS",
        "colab": {
          "base_uri": "https://localhost:8080/"
        },
        "outputId": "3e628691-d647-4a0b-a774-0b86f7792431"
      },
      "execution_count": null,
      "outputs": [
        {
          "output_type": "stream",
          "name": "stdout",
          "text": [
            "Cloning into 'stellargraph'...\n",
            "remote: Enumerating objects: 22627, done.\u001b[K\n",
            "remote: Counting objects: 100% (96/96), done.\u001b[K\n",
            "remote: Compressing objects: 100% (75/75), done.\u001b[K\n",
            "remote: Total 22627 (delta 37), reused 61 (delta 20), pack-reused 22531\u001b[K\n",
            "Receiving objects: 100% (22627/22627), 93.44 MiB | 28.55 MiB/s, done.\n",
            "Resolving deltas: 100% (14721/14721), done.\n"
          ]
        }
      ]
    },
    {
      "cell_type": "code",
      "source": [
        "import sys\n",
        "sys.path.append('/content/stellargraph')"
      ],
      "metadata": {
        "id": "4AKg38yQHMzN"
      },
      "execution_count": null,
      "outputs": []
    },
    {
      "cell_type": "code",
      "source": [
        "!pip3 install kaggle"
      ],
      "metadata": {
        "id": "GMkeAHQ0JKa_",
        "colab": {
          "base_uri": "https://localhost:8080/"
        },
        "outputId": "ad9e206a-340b-482c-8d7b-4c68e07523c2"
      },
      "execution_count": null,
      "outputs": [
        {
          "output_type": "stream",
          "name": "stdout",
          "text": [
            "Requirement already satisfied: kaggle in /usr/local/lib/python3.10/dist-packages (1.5.16)\n",
            "Requirement already satisfied: six>=1.10 in /usr/local/lib/python3.10/dist-packages (from kaggle) (1.16.0)\n",
            "Requirement already satisfied: certifi in /usr/local/lib/python3.10/dist-packages (from kaggle) (2023.11.17)\n",
            "Requirement already satisfied: python-dateutil in /usr/local/lib/python3.10/dist-packages (from kaggle) (2.8.2)\n",
            "Requirement already satisfied: requests in /usr/local/lib/python3.10/dist-packages (from kaggle) (2.31.0)\n",
            "Requirement already satisfied: tqdm in /usr/local/lib/python3.10/dist-packages (from kaggle) (4.66.1)\n",
            "Requirement already satisfied: python-slugify in /usr/local/lib/python3.10/dist-packages (from kaggle) (8.0.1)\n",
            "Requirement already satisfied: urllib3 in /usr/local/lib/python3.10/dist-packages (from kaggle) (2.0.7)\n",
            "Requirement already satisfied: bleach in /usr/local/lib/python3.10/dist-packages (from kaggle) (6.1.0)\n",
            "Requirement already satisfied: webencodings in /usr/local/lib/python3.10/dist-packages (from bleach->kaggle) (0.5.1)\n",
            "Requirement already satisfied: text-unidecode>=1.3 in /usr/local/lib/python3.10/dist-packages (from python-slugify->kaggle) (1.3)\n",
            "Requirement already satisfied: charset-normalizer<4,>=2 in /usr/local/lib/python3.10/dist-packages (from requests->kaggle) (3.3.2)\n",
            "Requirement already satisfied: idna<4,>=2.5 in /usr/local/lib/python3.10/dist-packages (from requests->kaggle) (3.6)\n"
          ]
        }
      ]
    },
    {
      "cell_type": "markdown",
      "source": [
        "Перед выполнением следующей ячейки нужно получить свой токен Kaggle:\n",
        "- зайдите на kaggle.com\n",
        "- перейдите на страницу своего аккаунта\n",
        "- промотайте страницу до секции API section\n",
        "- нажмите кнопку \"Create new API tocken\" чтобы скачать ваш токен kaggle.json"
      ],
      "metadata": {
        "id": "QdYHvLjJI-kx"
      }
    },
    {
      "cell_type": "code",
      "source": [
        "from google.colab import files\n",
        "\n",
        "files.upload()"
      ],
      "metadata": {
        "id": "I6FDoJQQIId7",
        "colab": {
          "base_uri": "https://localhost:8080/",
          "height": 92
        },
        "outputId": "92e1898b-8107-4220-b59a-5d0bff4b9a8c"
      },
      "execution_count": null,
      "outputs": [
        {
          "output_type": "display_data",
          "data": {
            "text/plain": [
              "<IPython.core.display.HTML object>"
            ],
            "text/html": [
              "\n",
              "     <input type=\"file\" id=\"files-2cd03a8e-97e1-443a-aca3-68113b7a7efa\" name=\"files[]\" multiple disabled\n",
              "        style=\"border:none\" />\n",
              "     <output id=\"result-2cd03a8e-97e1-443a-aca3-68113b7a7efa\">\n",
              "      Upload widget is only available when the cell has been executed in the\n",
              "      current browser session. Please rerun this cell to enable.\n",
              "      </output>\n",
              "      <script>// Copyright 2017 Google LLC\n",
              "//\n",
              "// Licensed under the Apache License, Version 2.0 (the \"License\");\n",
              "// you may not use this file except in compliance with the License.\n",
              "// You may obtain a copy of the License at\n",
              "//\n",
              "//      http://www.apache.org/licenses/LICENSE-2.0\n",
              "//\n",
              "// Unless required by applicable law or agreed to in writing, software\n",
              "// distributed under the License is distributed on an \"AS IS\" BASIS,\n",
              "// WITHOUT WARRANTIES OR CONDITIONS OF ANY KIND, either express or implied.\n",
              "// See the License for the specific language governing permissions and\n",
              "// limitations under the License.\n",
              "\n",
              "/**\n",
              " * @fileoverview Helpers for google.colab Python module.\n",
              " */\n",
              "(function(scope) {\n",
              "function span(text, styleAttributes = {}) {\n",
              "  const element = document.createElement('span');\n",
              "  element.textContent = text;\n",
              "  for (const key of Object.keys(styleAttributes)) {\n",
              "    element.style[key] = styleAttributes[key];\n",
              "  }\n",
              "  return element;\n",
              "}\n",
              "\n",
              "// Max number of bytes which will be uploaded at a time.\n",
              "const MAX_PAYLOAD_SIZE = 100 * 1024;\n",
              "\n",
              "function _uploadFiles(inputId, outputId) {\n",
              "  const steps = uploadFilesStep(inputId, outputId);\n",
              "  const outputElement = document.getElementById(outputId);\n",
              "  // Cache steps on the outputElement to make it available for the next call\n",
              "  // to uploadFilesContinue from Python.\n",
              "  outputElement.steps = steps;\n",
              "\n",
              "  return _uploadFilesContinue(outputId);\n",
              "}\n",
              "\n",
              "// This is roughly an async generator (not supported in the browser yet),\n",
              "// where there are multiple asynchronous steps and the Python side is going\n",
              "// to poll for completion of each step.\n",
              "// This uses a Promise to block the python side on completion of each step,\n",
              "// then passes the result of the previous step as the input to the next step.\n",
              "function _uploadFilesContinue(outputId) {\n",
              "  const outputElement = document.getElementById(outputId);\n",
              "  const steps = outputElement.steps;\n",
              "\n",
              "  const next = steps.next(outputElement.lastPromiseValue);\n",
              "  return Promise.resolve(next.value.promise).then((value) => {\n",
              "    // Cache the last promise value to make it available to the next\n",
              "    // step of the generator.\n",
              "    outputElement.lastPromiseValue = value;\n",
              "    return next.value.response;\n",
              "  });\n",
              "}\n",
              "\n",
              "/**\n",
              " * Generator function which is called between each async step of the upload\n",
              " * process.\n",
              " * @param {string} inputId Element ID of the input file picker element.\n",
              " * @param {string} outputId Element ID of the output display.\n",
              " * @return {!Iterable<!Object>} Iterable of next steps.\n",
              " */\n",
              "function* uploadFilesStep(inputId, outputId) {\n",
              "  const inputElement = document.getElementById(inputId);\n",
              "  inputElement.disabled = false;\n",
              "\n",
              "  const outputElement = document.getElementById(outputId);\n",
              "  outputElement.innerHTML = '';\n",
              "\n",
              "  const pickedPromise = new Promise((resolve) => {\n",
              "    inputElement.addEventListener('change', (e) => {\n",
              "      resolve(e.target.files);\n",
              "    });\n",
              "  });\n",
              "\n",
              "  const cancel = document.createElement('button');\n",
              "  inputElement.parentElement.appendChild(cancel);\n",
              "  cancel.textContent = 'Cancel upload';\n",
              "  const cancelPromise = new Promise((resolve) => {\n",
              "    cancel.onclick = () => {\n",
              "      resolve(null);\n",
              "    };\n",
              "  });\n",
              "\n",
              "  // Wait for the user to pick the files.\n",
              "  const files = yield {\n",
              "    promise: Promise.race([pickedPromise, cancelPromise]),\n",
              "    response: {\n",
              "      action: 'starting',\n",
              "    }\n",
              "  };\n",
              "\n",
              "  cancel.remove();\n",
              "\n",
              "  // Disable the input element since further picks are not allowed.\n",
              "  inputElement.disabled = true;\n",
              "\n",
              "  if (!files) {\n",
              "    return {\n",
              "      response: {\n",
              "        action: 'complete',\n",
              "      }\n",
              "    };\n",
              "  }\n",
              "\n",
              "  for (const file of files) {\n",
              "    const li = document.createElement('li');\n",
              "    li.append(span(file.name, {fontWeight: 'bold'}));\n",
              "    li.append(span(\n",
              "        `(${file.type || 'n/a'}) - ${file.size} bytes, ` +\n",
              "        `last modified: ${\n",
              "            file.lastModifiedDate ? file.lastModifiedDate.toLocaleDateString() :\n",
              "                                    'n/a'} - `));\n",
              "    const percent = span('0% done');\n",
              "    li.appendChild(percent);\n",
              "\n",
              "    outputElement.appendChild(li);\n",
              "\n",
              "    const fileDataPromise = new Promise((resolve) => {\n",
              "      const reader = new FileReader();\n",
              "      reader.onload = (e) => {\n",
              "        resolve(e.target.result);\n",
              "      };\n",
              "      reader.readAsArrayBuffer(file);\n",
              "    });\n",
              "    // Wait for the data to be ready.\n",
              "    let fileData = yield {\n",
              "      promise: fileDataPromise,\n",
              "      response: {\n",
              "        action: 'continue',\n",
              "      }\n",
              "    };\n",
              "\n",
              "    // Use a chunked sending to avoid message size limits. See b/62115660.\n",
              "    let position = 0;\n",
              "    do {\n",
              "      const length = Math.min(fileData.byteLength - position, MAX_PAYLOAD_SIZE);\n",
              "      const chunk = new Uint8Array(fileData, position, length);\n",
              "      position += length;\n",
              "\n",
              "      const base64 = btoa(String.fromCharCode.apply(null, chunk));\n",
              "      yield {\n",
              "        response: {\n",
              "          action: 'append',\n",
              "          file: file.name,\n",
              "          data: base64,\n",
              "        },\n",
              "      };\n",
              "\n",
              "      let percentDone = fileData.byteLength === 0 ?\n",
              "          100 :\n",
              "          Math.round((position / fileData.byteLength) * 100);\n",
              "      percent.textContent = `${percentDone}% done`;\n",
              "\n",
              "    } while (position < fileData.byteLength);\n",
              "  }\n",
              "\n",
              "  // All done.\n",
              "  yield {\n",
              "    response: {\n",
              "      action: 'complete',\n",
              "    }\n",
              "  };\n",
              "}\n",
              "\n",
              "scope.google = scope.google || {};\n",
              "scope.google.colab = scope.google.colab || {};\n",
              "scope.google.colab._files = {\n",
              "  _uploadFiles,\n",
              "  _uploadFilesContinue,\n",
              "};\n",
              "})(self);\n",
              "</script> "
            ]
          },
          "metadata": {}
        },
        {
          "output_type": "stream",
          "name": "stdout",
          "text": [
            "Saving kaggle.json to kaggle.json\n"
          ]
        },
        {
          "output_type": "execute_result",
          "data": {
            "text/plain": [
              "{'kaggle.json': b'{\"username\":\"suleymanov\",\"key\":\"694bec8d8670aa538e986f41392d3ee5\"}'}"
            ]
          },
          "metadata": {},
          "execution_count": 5
        }
      ]
    },
    {
      "cell_type": "code",
      "source": [
        "!mkdir -p ~/.kaggle\n",
        "!cp kaggle.json ~/.kaggle/\n",
        "!chmod 600 /root/.kaggle/kaggle.json"
      ],
      "metadata": {
        "id": "GXIE-aFXJKdW"
      },
      "execution_count": null,
      "outputs": []
    },
    {
      "cell_type": "code",
      "source": [
        "%%time\n",
        "!kaggle datasets download -d manoelribeiro/hateful-users-on-twitter"
      ],
      "metadata": {
        "id": "qIHZeSjSJPPq",
        "colab": {
          "base_uri": "https://localhost:8080/"
        },
        "outputId": "d2de9917-3e3e-4db1-beb2-80a5d67aed35"
      },
      "execution_count": null,
      "outputs": [
        {
          "output_type": "stream",
          "name": "stdout",
          "text": [
            "Downloading hateful-users-on-twitter.zip to /content\n",
            " 99% 1.62G/1.63G [00:20<00:00, 156MB/s]\n",
            "100% 1.63G/1.63G [00:20<00:00, 86.6MB/s]\n",
            "CPU times: user 207 ms, sys: 54.2 ms, total: 261 ms\n",
            "Wall time: 21.1 s\n"
          ]
        }
      ]
    },
    {
      "cell_type": "code",
      "source": [
        "%%time\n",
        "!unzip hateful-users-on-twitter.zip"
      ],
      "metadata": {
        "id": "gUjpBljaJPR6",
        "colab": {
          "base_uri": "https://localhost:8080/"
        },
        "outputId": "2670f0fb-f9bb-40c2-d70e-d90471be12f4"
      },
      "execution_count": null,
      "outputs": [
        {
          "output_type": "stream",
          "name": "stdout",
          "text": [
            "Archive:  hateful-users-on-twitter.zip\n",
            "  inflating: users.edges             \n",
            "  inflating: users_clean.graphml     \n",
            "  inflating: users_hate_all.content  \n",
            "  inflating: users_hate_glove.content  \n",
            "  inflating: users_neighborhood_anon.csv  \n",
            "  inflating: users_suspended_all.content  \n",
            "  inflating: users_suspended_glove.content  \n",
            "CPU times: user 249 ms, sys: 33.9 ms, total: 283 ms\n",
            "Wall time: 46.2 s\n"
          ]
        }
      ]
    },
    {
      "cell_type": "code",
      "execution_count": null,
      "metadata": {
        "id": "RFld_8IUJE2E"
      },
      "outputs": [],
      "source": [
        "import numpy as np\n",
        "import pandas as pd\n",
        "import networkx as nx\n",
        "from tqdm import tqdm\n",
        "import stellargraph as sg\n",
        "from tensorflow import keras\n",
        "import matplotlib.pyplot as plt\n",
        "from stellargraph import StellarGraph\n",
        "# from sklearn.decomposition import PCA\n",
        "from stellargraph.mapper import GraphSAGENodeGenerator, GraphSAGELinkGenerator\n",
        "from stellargraph.layer import Node2Vec, link_classification, GraphSAGE\n",
        "from stellargraph.data import BiasedRandomWalk, EdgeSplitter, UniformRandomWalk, UnsupervisedSampler\n",
        "from stellargraph.mapper import Node2VecLinkGenerator, Node2VecNodeGenerator"
      ]
    },
    {
      "cell_type": "markdown",
      "source": [
        "# Загрузка данных"
      ],
      "metadata": {
        "id": "qaihM3-XJ9gm"
      }
    },
    {
      "cell_type": "markdown",
      "source": [
        "Сначала мы хотим загрузить данные о сети Twitter и о комментариях и посмотреть на них."
      ],
      "metadata": {
        "id": "d_hHFyjXKDQ2"
      }
    },
    {
      "cell_type": "code",
      "source": [
        "twdata = pd.read_csv('users_hate_glove.content', sep='\\t', header=None)\n",
        "print(np.unique(twdata[301], return_counts=True))"
      ],
      "metadata": {
        "colab": {
          "base_uri": "https://localhost:8080/"
        },
        "id": "Zp7yHIRiKFBC",
        "outputId": "5612d8da-7978-4be3-a591-b0e18af77887"
      },
      "execution_count": null,
      "outputs": [
        {
          "output_type": "stream",
          "name": "stdout",
          "text": [
            "(array(['hateful', 'normal', 'other'], dtype=object), array([  544,  4427, 95415]))\n"
          ]
        }
      ]
    },
    {
      "cell_type": "code",
      "source": [
        "twnet = nx.read_edgelist('users.edges')\n",
        "print(np.info(twnet))"
      ],
      "metadata": {
        "id": "294ZCSp7KFKc",
        "colab": {
          "base_uri": "https://localhost:8080/"
        },
        "outputId": "b56555be-e427-447b-c295-8c6e09a37d2d"
      },
      "execution_count": null,
      "outputs": [
        {
          "output_type": "stream",
          "name": "stdout",
          "text": [
            "Base class for undirected graphs.\n",
            "\n",
            "A Graph stores nodes and edges with optional data, or attributes.\n",
            "\n",
            "Graphs hold undirected edges.  Self loops are allowed but multiple\n",
            "(parallel) edges are not.\n",
            "\n",
            "Nodes can be arbitrary (hashable) Python objects with optional\n",
            "key/value attributes, except that `None` is not allowed as a node.\n",
            "\n",
            "Edges are represented as links between nodes with optional\n",
            "key/value attributes.\n",
            "\n",
            "Parameters\n",
            "----------\n",
            "incoming_graph_data : input graph (optional, default: None)\n",
            "    Data to initialize graph. If None (default) an empty\n",
            "    graph is created.  The data can be any format that is supported\n",
            "    by the to_networkx_graph() function, currently including edge list,\n",
            "    dict of dicts, dict of lists, NetworkX graph, 2D NumPy array, SciPy\n",
            "    sparse matrix, or PyGraphviz graph.\n",
            "\n",
            "attr : keyword arguments, optional (default= no attributes)\n",
            "    Attributes to add to graph as key=value pairs.\n",
            "\n",
            "See Also\n",
            "--------\n",
            "DiGraph\n",
            "MultiGraph\n",
            "MultiDiGraph\n",
            "\n",
            "Examples\n",
            "--------\n",
            "Create an empty graph structure (a \"null graph\") with no nodes and\n",
            "no edges.\n",
            "\n",
            ">>> G = nx.Graph()\n",
            "\n",
            "G can be grown in several ways.\n",
            "\n",
            "**Nodes:**\n",
            "\n",
            "Add one node at a time:\n",
            "\n",
            ">>> G.add_node(1)\n",
            "\n",
            "Add the nodes from any container (a list, dict, set or\n",
            "even the lines from a file or the nodes from another graph).\n",
            "\n",
            ">>> G.add_nodes_from([2, 3])\n",
            ">>> G.add_nodes_from(range(100, 110))\n",
            ">>> H = nx.path_graph(10)\n",
            ">>> G.add_nodes_from(H)\n",
            "\n",
            "In addition to strings and integers any hashable Python object\n",
            "(except None) can represent a node, e.g. a customized node object,\n",
            "or even another Graph.\n",
            "\n",
            ">>> G.add_node(H)\n",
            "\n",
            "**Edges:**\n",
            "\n",
            "G can also be grown by adding edges.\n",
            "\n",
            "Add one edge,\n",
            "\n",
            ">>> G.add_edge(1, 2)\n",
            "\n",
            "a list of edges,\n",
            "\n",
            ">>> G.add_edges_from([(1, 2), (1, 3)])\n",
            "\n",
            "or a collection of edges,\n",
            "\n",
            ">>> G.add_edges_from(H.edges)\n",
            "\n",
            "If some edges connect nodes not yet in the graph, the nodes\n",
            "are added automatically.  There are no errors when adding\n",
            "nodes or edges that already exist.\n",
            "\n",
            "**Attributes:**\n",
            "\n",
            "Each graph, node, and edge can hold key/value attribute pairs\n",
            "in an associated attribute dictionary (the keys must be hashable).\n",
            "By default these are empty, but can be added or changed using\n",
            "add_edge, add_node or direct manipulation of the attribute\n",
            "dictionaries named graph, node and edge respectively.\n",
            "\n",
            ">>> G = nx.Graph(day=\"Friday\")\n",
            ">>> G.graph\n",
            "{'day': 'Friday'}\n",
            "\n",
            "Add node attributes using add_node(), add_nodes_from() or G.nodes\n",
            "\n",
            ">>> G.add_node(1, time=\"5pm\")\n",
            ">>> G.add_nodes_from([3], time=\"2pm\")\n",
            ">>> G.nodes[1]\n",
            "{'time': '5pm'}\n",
            ">>> G.nodes[1][\"room\"] = 714  # node must exist already to use G.nodes\n",
            ">>> del G.nodes[1][\"room\"]  # remove attribute\n",
            ">>> list(G.nodes(data=True))\n",
            "[(1, {'time': '5pm'}), (3, {'time': '2pm'})]\n",
            "\n",
            "Add edge attributes using add_edge(), add_edges_from(), subscript\n",
            "notation, or G.edges.\n",
            "\n",
            ">>> G.add_edge(1, 2, weight=4.7)\n",
            ">>> G.add_edges_from([(3, 4), (4, 5)], color=\"red\")\n",
            ">>> G.add_edges_from([(1, 2, {\"color\": \"blue\"}), (2, 3, {\"weight\": 8})])\n",
            ">>> G[1][2][\"weight\"] = 4.7\n",
            ">>> G.edges[1, 2][\"weight\"] = 4\n",
            "\n",
            "Warning: we protect the graph data structure by making `G.edges` a\n",
            "read-only dict-like structure. However, you can assign to attributes\n",
            "in e.g. `G.edges[1, 2]`. Thus, use 2 sets of brackets to add/change\n",
            "data attributes: `G.edges[1, 2]['weight'] = 4`\n",
            "(For multigraphs: `MG.edges[u, v, key][name] = value`).\n",
            "\n",
            "**Shortcuts:**\n",
            "\n",
            "Many common graph features allow python syntax to speed reporting.\n",
            "\n",
            ">>> 1 in G  # check if node in graph\n",
            "True\n",
            ">>> [n for n in G if n < 3]  # iterate through nodes\n",
            "[1, 2]\n",
            ">>> len(G)  # number of nodes in graph\n",
            "5\n",
            "\n",
            "Often the best way to traverse all edges of a graph is via the neighbors.\n",
            "The neighbors are reported as an adjacency-dict `G.adj` or `G.adjacency()`\n",
            "\n",
            ">>> for n, nbrsdict in G.adjacency():\n",
            "...     for nbr, eattr in nbrsdict.items():\n",
            "...         if \"weight\" in eattr:\n",
            "...             # Do something useful with the edges\n",
            "...             pass\n",
            "\n",
            "But the edges() method is often more convenient:\n",
            "\n",
            ">>> for u, v, weight in G.edges.data(\"weight\"):\n",
            "...     if weight is not None:\n",
            "...         # Do something useful with the edges\n",
            "...         pass\n",
            "\n",
            "**Reporting:**\n",
            "\n",
            "Simple graph information is obtained using object-attributes and methods.\n",
            "Reporting typically provides views instead of containers to reduce memory\n",
            "usage. The views update as the graph is updated similarly to dict-views.\n",
            "The objects `nodes`, `edges` and `adj` provide access to data attributes\n",
            "via lookup (e.g. `nodes[n]`, `edges[u, v]`, `adj[u][v]`) and iteration\n",
            "(e.g. `nodes.items()`, `nodes.data('color')`,\n",
            "`nodes.data('color', default='blue')` and similarly for `edges`)\n",
            "Views exist for `nodes`, `edges`, `neighbors()`/`adj` and `degree`.\n",
            "\n",
            "For details on these and other miscellaneous methods, see below.\n",
            "\n",
            "**Subclasses (Advanced):**\n",
            "\n",
            "The Graph class uses a dict-of-dict-of-dict data structure.\n",
            "The outer dict (node_dict) holds adjacency information keyed by node.\n",
            "The next dict (adjlist_dict) represents the adjacency information and holds\n",
            "edge data keyed by neighbor.  The inner dict (edge_attr_dict) represents\n",
            "the edge data and holds edge attribute values keyed by attribute names.\n",
            "\n",
            "Each of these three dicts can be replaced in a subclass by a user defined\n",
            "dict-like object. In general, the dict-like features should be\n",
            "maintained but extra features can be added. To replace one of the\n",
            "dicts create a new graph class by changing the class(!) variable\n",
            "holding the factory for that dict-like structure.\n",
            "\n",
            "node_dict_factory : function, (default: dict)\n",
            "    Factory function to be used to create the dict containing node\n",
            "    attributes, keyed by node id.\n",
            "    It should require no arguments and return a dict-like object\n",
            "\n",
            "node_attr_dict_factory: function, (default: dict)\n",
            "    Factory function to be used to create the node attribute\n",
            "    dict which holds attribute values keyed by attribute name.\n",
            "    It should require no arguments and return a dict-like object\n",
            "\n",
            "adjlist_outer_dict_factory : function, (default: dict)\n",
            "    Factory function to be used to create the outer-most dict\n",
            "    in the data structure that holds adjacency info keyed by node.\n",
            "    It should require no arguments and return a dict-like object.\n",
            "\n",
            "adjlist_inner_dict_factory : function, (default: dict)\n",
            "    Factory function to be used to create the adjacency list\n",
            "    dict which holds edge data keyed by neighbor.\n",
            "    It should require no arguments and return a dict-like object\n",
            "\n",
            "edge_attr_dict_factory : function, (default: dict)\n",
            "    Factory function to be used to create the edge attribute\n",
            "    dict which holds attribute values keyed by attribute name.\n",
            "    It should require no arguments and return a dict-like object.\n",
            "\n",
            "graph_attr_dict_factory : function, (default: dict)\n",
            "    Factory function to be used to create the graph attribute\n",
            "    dict which holds attribute values keyed by attribute name.\n",
            "    It should require no arguments and return a dict-like object.\n",
            "\n",
            "Typically, if your extension doesn't impact the data structure all\n",
            "methods will inherit without issue except: `to_directed/to_undirected`.\n",
            "By default these methods create a DiGraph/Graph class and you probably\n",
            "want them to create your extension of a DiGraph/Graph. To facilitate\n",
            "this we define two class variables that you can set in your subclass.\n",
            "\n",
            "to_directed_class : callable, (default: DiGraph or MultiDiGraph)\n",
            "    Class to create a new graph structure in the `to_directed` method.\n",
            "    If `None`, a NetworkX class (DiGraph or MultiDiGraph) is used.\n",
            "\n",
            "to_undirected_class : callable, (default: Graph or MultiGraph)\n",
            "    Class to create a new graph structure in the `to_undirected` method.\n",
            "    If `None`, a NetworkX class (Graph or MultiGraph) is used.\n",
            "\n",
            "**Subclassing Example**\n",
            "\n",
            "Create a low memory graph class that effectively disallows edge\n",
            "attributes by using a single attribute dict for all edges.\n",
            "This reduces the memory used, but you lose edge attributes.\n",
            "\n",
            ">>> class ThinGraph(nx.Graph):\n",
            "...     all_edge_dict = {\"weight\": 1}\n",
            "...\n",
            "...     def single_edge_dict(self):\n",
            "...         return self.all_edge_dict\n",
            "...\n",
            "...     edge_attr_dict_factory = single_edge_dict\n",
            ">>> G = ThinGraph()\n",
            ">>> G.add_edge(2, 1)\n",
            ">>> G[2][1]\n",
            "{'weight': 1}\n",
            ">>> G.add_edge(2, 2)\n",
            ">>> G[2][1] is G[2][2]\n",
            "True\n",
            "None\n"
          ]
        }
      ]
    },
    {
      "cell_type": "markdown",
      "source": [
        "# Задача"
      ],
      "metadata": {
        "id": "1PyW5gphKLT6"
      }
    },
    {
      "cell_type": "markdown",
      "source": [
        "Мы хотим научиться предсказывать класс узла, используя одновременно информацию о взаимном расположении узлов в сети и информацию о комментариях."
      ],
      "metadata": {
        "id": "fjxxLiQAKNqL"
      }
    },
    {
      "cell_type": "markdown",
      "source": [
        "**Задача** - двухклассовая классификация;    \n",
        "**Целевая метка** - тип узла (нормальный, другой, хейтер);    \n",
        "**Используемые данные** - эмбеддинг узла и GloVe-эмбеддинг комментариев."
      ],
      "metadata": {
        "id": "o3QGfJcLKRKp"
      }
    },
    {
      "cell_type": "markdown",
      "source": [
        "Методы:\n",
        "1. Node2Vec+GloVe;\n",
        "2. GraphSage."
      ],
      "metadata": {
        "id": "yi4FzP85KTKC"
      }
    },
    {
      "cell_type": "markdown",
      "source": [
        "# Предобработка"
      ],
      "metadata": {
        "id": "pL7rK6fBKU3p"
      }
    },
    {
      "cell_type": "markdown",
      "source": [
        "Конвертируем граф в StellarGraph формат:"
      ],
      "metadata": {
        "id": "ig2NBcnnKWiZ"
      }
    },
    {
      "cell_type": "code",
      "source": [
        "G = StellarGraph.from_networkx(twnet)"
      ],
      "metadata": {
        "id": "3j1YwWy9KFPW"
      },
      "execution_count": null,
      "outputs": []
    },
    {
      "cell_type": "markdown",
      "source": [
        "Вытаскиваем GloVe из таблицы:"
      ],
      "metadata": {
        "id": "s8yWY4obKaAQ"
      }
    },
    {
      "cell_type": "code",
      "source": [
        "glove = twdata[twdata.columns[1:301]].values\n",
        "Y = twdata[301].values\n",
        "print(glove.shape)"
      ],
      "metadata": {
        "colab": {
          "base_uri": "https://localhost:8080/"
        },
        "id": "IW579ijfKaiq",
        "outputId": "254d3294-fad8-498c-ccee-f29d2bd48fd2"
      },
      "execution_count": null,
      "outputs": [
        {
          "output_type": "stream",
          "name": "stdout",
          "text": [
            "(100386, 300)\n"
          ]
        }
      ]
    },
    {
      "cell_type": "markdown",
      "source": [
        "Разбиваем на обучающую и тестовую выборку:"
      ],
      "metadata": {
        "id": "RO-t-63pKfI8"
      }
    },
    {
      "cell_type": "code",
      "source": [
        "glove_nh = glove[Y != 'other']\n",
        "Y_nh = Y[Y != 'other']\n",
        "node_names = twdata[0][Y != 'other'].values\n",
        "print(glove_nh.shape)"
      ],
      "metadata": {
        "colab": {
          "base_uri": "https://localhost:8080/"
        },
        "id": "WxaZfAUfKfbK",
        "outputId": "9e3c1726-69f3-4175-cd7d-fa31942e05f2"
      },
      "execution_count": null,
      "outputs": [
        {
          "output_type": "stream",
          "name": "stdout",
          "text": [
            "(4971, 300)\n"
          ]
        }
      ]
    },
    {
      "cell_type": "code",
      "source": [
        "Y_nh = np.array([['normal', 'hateful'].index(a) for a in Y_nh])\n",
        "print(Y_nh)"
      ],
      "metadata": {
        "colab": {
          "base_uri": "https://localhost:8080/"
        },
        "id": "tgLVu_jKKfgF",
        "outputId": "37360ca0-4dcb-417a-d491-b854d3c6dd6c"
      },
      "execution_count": null,
      "outputs": [
        {
          "output_type": "stream",
          "name": "stdout",
          "text": [
            "[0 0 0 ... 0 1 0]\n"
          ]
        }
      ]
    },
    {
      "cell_type": "markdown",
      "source": [
        "# Node2Vec+GloVe"
      ],
      "metadata": {
        "id": "ODpqKT-TKnAj"
      }
    },
    {
      "cell_type": "code",
      "source": [
        "batch_size = 64\n",
        "epochs = 2\n",
        "emb_size = 128\n",
        "walk_number = 10\n",
        "walk_length = 5"
      ],
      "metadata": {
        "id": "Yph7zJZoKfkw"
      },
      "execution_count": null,
      "outputs": []
    },
    {
      "cell_type": "code",
      "source": [
        "rw = BiasedRandomWalk(G, n=walk_number, length=walk_length, p=0.5, q=2.0)\n",
        "unsupervised_samples = UnsupervisedSampler(G, nodes=list(G.nodes()), walker=rw)\n",
        "generator = Node2VecLinkGenerator(G, batch_size)\n",
        "node2vec = Node2Vec(emb_size, generator=generator)\n",
        "x_inp, x_out = node2vec.in_out_tensors()"
      ],
      "metadata": {
        "id": "0lt--rVCKpFp"
      },
      "execution_count": null,
      "outputs": []
    },
    {
      "cell_type": "code",
      "source": [
        "x_inp"
      ],
      "metadata": {
        "colab": {
          "base_uri": "https://localhost:8080/"
        },
        "id": "LmDQ1Y8PJpJ5",
        "outputId": "a4a9ad5c-b30e-4da1-971d-67184c5257e6"
      },
      "execution_count": null,
      "outputs": [
        {
          "output_type": "execute_result",
          "data": {
            "text/plain": [
              "[<KerasTensor: shape=(None, 1) dtype=float32 (created by layer 'input_1')>,\n",
              " <KerasTensor: shape=(None, 1) dtype=float32 (created by layer 'input_2')>]"
            ]
          },
          "metadata": {},
          "execution_count": 20
        }
      ]
    },
    {
      "cell_type": "code",
      "source": [
        "x_out"
      ],
      "metadata": {
        "colab": {
          "base_uri": "https://localhost:8080/"
        },
        "id": "jVnQpDKyJupV",
        "outputId": "9be3502e-a1cc-4b6d-a622-17f9c65a6b03"
      },
      "execution_count": null,
      "outputs": [
        {
          "output_type": "execute_result",
          "data": {
            "text/plain": [
              "[<KerasTensor: shape=(None, 128) dtype=float32 (created by layer 'reshape')>,\n",
              " <KerasTensor: shape=(None, 128) dtype=float32 (created by layer 'reshape_1')>]"
            ]
          },
          "metadata": {},
          "execution_count": 21
        }
      ]
    },
    {
      "cell_type": "code",
      "source": [
        "prediction = link_classification(output_dim=1, output_act='sigmoid', edge_embedding_method='dot')(x_out)\n",
        "model = keras.Model(inputs=x_inp, outputs=prediction)\n",
        "model.compile(optimizer=keras.optimizers.Adam(learning_rate=0.001), loss=keras.losses.binary_crossentropy)"
      ],
      "metadata": {
        "colab": {
          "base_uri": "https://localhost:8080/"
        },
        "id": "dYA0VCKjKpM6",
        "outputId": "da9bce08-766f-4aba-c14a-d1fb27d733d2"
      },
      "execution_count": null,
      "outputs": [
        {
          "output_type": "stream",
          "name": "stdout",
          "text": [
            "link_classification: using 'dot' method to combine node embeddings into edge embeddings\n"
          ]
        }
      ]
    },
    {
      "cell_type": "code",
      "source": [
        "%%time\n",
        "history = model.fit(generator.flow(unsupervised_samples), epochs=epochs, verbose=1, shuffle=True)"
      ],
      "metadata": {
        "id": "6iO_y4n2Kv04"
      },
      "execution_count": null,
      "outputs": []
    },
    {
      "cell_type": "code",
      "source": [
        "model.summary()"
      ],
      "metadata": {
        "colab": {
          "base_uri": "https://localhost:8080/"
        },
        "id": "cksqo_ulKv3w",
        "outputId": "06b6c470-7610-423d-a130-8e337b460dc5"
      },
      "execution_count": null,
      "outputs": [
        {
          "output_type": "stream",
          "name": "stdout",
          "text": [
            "Model: \"model\"\n",
            "__________________________________________________________________________________________________\n",
            " Layer (type)                   Output Shape         Param #     Connected to                     \n",
            "==================================================================================================\n",
            " input_1 (InputLayer)           [(None, 1)]          0           []                               \n",
            "                                                                                                  \n",
            " input_2 (InputLayer)           [(None, 1)]          0           []                               \n",
            "                                                                                                  \n",
            " target_embedding (Embedding)   (None, 1, 128)       12849408    ['input_1[0][0]']                \n",
            "                                                                                                  \n",
            " context_embedding (Embedding)  (None, 1, 128)       12849408    ['input_2[0][0]']                \n",
            "                                                                                                  \n",
            " reshape (Reshape)              (None, 128)          0           ['target_embedding[0][0]']       \n",
            "                                                                                                  \n",
            " reshape_1 (Reshape)            (None, 128)          0           ['context_embedding[0][0]']      \n",
            "                                                                                                  \n",
            " link_embedding (LinkEmbedding)  (None, 1)           0           ['reshape[0][0]',                \n",
            "                                                                  'reshape_1[0][0]']              \n",
            "                                                                                                  \n",
            " activation (Activation)        (None, 1)            0           ['link_embedding[0][0]']         \n",
            "                                                                                                  \n",
            " reshape_2 (Reshape)            (None, 1)            0           ['activation[0][0]']             \n",
            "                                                                                                  \n",
            "==================================================================================================\n",
            "Total params: 25,698,816\n",
            "Trainable params: 25,698,816\n",
            "Non-trainable params: 0\n",
            "__________________________________________________________________________________________________\n"
          ]
        }
      ]
    },
    {
      "cell_type": "markdown",
      "source": [
        "## Постобработка для Node2Vec + GloVe"
      ],
      "metadata": {
        "id": "aWcL6JB1KzJO"
      }
    },
    {
      "cell_type": "code",
      "source": [
        "x_inp_src = x_inp[0]\n",
        "x_out_src = x_out[0]\n",
        "embedding_model = keras.Model(inputs=x_inp_src, outputs=x_out_src)"
      ],
      "metadata": {
        "id": "o-SIaUUwKv6E"
      },
      "execution_count": null,
      "outputs": []
    },
    {
      "cell_type": "code",
      "source": [
        "print(node_names)"
      ],
      "metadata": {
        "colab": {
          "base_uri": "https://localhost:8080/"
        },
        "id": "tjSTiV5wKv8L",
        "outputId": "5d655577-e1c9-4e8b-c9f2-a93a7daa5a3e"
      },
      "execution_count": null,
      "outputs": [
        {
          "output_type": "stream",
          "name": "stdout",
          "text": [
            "[     0     22     29 ... 100362 100380 100385]\n"
          ]
        }
      ]
    },
    {
      "cell_type": "code",
      "source": [
        "node_gen = Node2VecNodeGenerator(G, batch_size).flow([str(a) for a in node_names])\n",
        "node_embeddings = embedding_model.predict(node_gen, verbose=1)\n",
        "print(node_embeddings.shape)\n",
        "print(glove_nh.shape)"
      ],
      "metadata": {
        "colab": {
          "base_uri": "https://localhost:8080/"
        },
        "id": "6hrsTfcVKv-y",
        "outputId": "543532d8-5d5c-4e92-bb15-f08f87fbd8bd"
      },
      "execution_count": null,
      "outputs": [
        {
          "output_type": "stream",
          "name": "stdout",
          "text": [
            "78/78 [==============================] - 0s 2ms/step\n",
            "(4971, 128)\n",
            "(4971, 300)\n"
          ]
        }
      ]
    },
    {
      "cell_type": "code",
      "source": [
        "node_glove = np.concatenate([node_embeddings, glove_nh], 1)\n",
        "print(node_glove.shape)"
      ],
      "metadata": {
        "colab": {
          "base_uri": "https://localhost:8080/"
        },
        "id": "Zi32Nw9AK5iB",
        "outputId": "32180185-a22c-4e5a-89a0-4f2b954140b9"
      },
      "execution_count": null,
      "outputs": [
        {
          "output_type": "stream",
          "name": "stdout",
          "text": [
            "(4971, 428)\n"
          ]
        }
      ]
    },
    {
      "cell_type": "markdown",
      "source": [
        "## Обучение и проверка классификатора"
      ],
      "metadata": {
        "id": "Ia9aTdrjK9fv"
      }
    },
    {
      "cell_type": "code",
      "source": [
        "from sklearn.tree import DecisionTreeClassifier\n",
        "from sklearn.model_selection import train_test_split\n",
        "from sklearn.metrics import balanced_accuracy_score, roc_auc_score, f1_score"
      ],
      "metadata": {
        "id": "TKdIxP-EK5nO"
      },
      "execution_count": null,
      "outputs": []
    },
    {
      "cell_type": "code",
      "source": [
        "train_ix, test_ix = train_test_split(np.arange(Y_nh.shape[0]), stratify=Y_nh)"
      ],
      "metadata": {
        "id": "JmQruGvtLBjq"
      },
      "execution_count": null,
      "outputs": []
    },
    {
      "cell_type": "code",
      "source": [
        "dt = DecisionTreeClassifier()\n",
        "dt.fit(node_glove[train_ix], Y_nh[train_ix])"
      ],
      "metadata": {
        "colab": {
          "base_uri": "https://localhost:8080/",
          "height": 75
        },
        "id": "-9HMEx8dLBmQ",
        "outputId": "e1065730-e452-4ec4-d8ee-facef624aca7"
      },
      "execution_count": null,
      "outputs": [
        {
          "output_type": "execute_result",
          "data": {
            "text/plain": [
              "DecisionTreeClassifier()"
            ],
            "text/html": [
              "<style>#sk-container-id-1 {color: black;background-color: white;}#sk-container-id-1 pre{padding: 0;}#sk-container-id-1 div.sk-toggleable {background-color: white;}#sk-container-id-1 label.sk-toggleable__label {cursor: pointer;display: block;width: 100%;margin-bottom: 0;padding: 0.3em;box-sizing: border-box;text-align: center;}#sk-container-id-1 label.sk-toggleable__label-arrow:before {content: \"▸\";float: left;margin-right: 0.25em;color: #696969;}#sk-container-id-1 label.sk-toggleable__label-arrow:hover:before {color: black;}#sk-container-id-1 div.sk-estimator:hover label.sk-toggleable__label-arrow:before {color: black;}#sk-container-id-1 div.sk-toggleable__content {max-height: 0;max-width: 0;overflow: hidden;text-align: left;background-color: #f0f8ff;}#sk-container-id-1 div.sk-toggleable__content pre {margin: 0.2em;color: black;border-radius: 0.25em;background-color: #f0f8ff;}#sk-container-id-1 input.sk-toggleable__control:checked~div.sk-toggleable__content {max-height: 200px;max-width: 100%;overflow: auto;}#sk-container-id-1 input.sk-toggleable__control:checked~label.sk-toggleable__label-arrow:before {content: \"▾\";}#sk-container-id-1 div.sk-estimator input.sk-toggleable__control:checked~label.sk-toggleable__label {background-color: #d4ebff;}#sk-container-id-1 div.sk-label input.sk-toggleable__control:checked~label.sk-toggleable__label {background-color: #d4ebff;}#sk-container-id-1 input.sk-hidden--visually {border: 0;clip: rect(1px 1px 1px 1px);clip: rect(1px, 1px, 1px, 1px);height: 1px;margin: -1px;overflow: hidden;padding: 0;position: absolute;width: 1px;}#sk-container-id-1 div.sk-estimator {font-family: monospace;background-color: #f0f8ff;border: 1px dotted black;border-radius: 0.25em;box-sizing: border-box;margin-bottom: 0.5em;}#sk-container-id-1 div.sk-estimator:hover {background-color: #d4ebff;}#sk-container-id-1 div.sk-parallel-item::after {content: \"\";width: 100%;border-bottom: 1px solid gray;flex-grow: 1;}#sk-container-id-1 div.sk-label:hover label.sk-toggleable__label {background-color: #d4ebff;}#sk-container-id-1 div.sk-serial::before {content: \"\";position: absolute;border-left: 1px solid gray;box-sizing: border-box;top: 0;bottom: 0;left: 50%;z-index: 0;}#sk-container-id-1 div.sk-serial {display: flex;flex-direction: column;align-items: center;background-color: white;padding-right: 0.2em;padding-left: 0.2em;position: relative;}#sk-container-id-1 div.sk-item {position: relative;z-index: 1;}#sk-container-id-1 div.sk-parallel {display: flex;align-items: stretch;justify-content: center;background-color: white;position: relative;}#sk-container-id-1 div.sk-item::before, #sk-container-id-1 div.sk-parallel-item::before {content: \"\";position: absolute;border-left: 1px solid gray;box-sizing: border-box;top: 0;bottom: 0;left: 50%;z-index: -1;}#sk-container-id-1 div.sk-parallel-item {display: flex;flex-direction: column;z-index: 1;position: relative;background-color: white;}#sk-container-id-1 div.sk-parallel-item:first-child::after {align-self: flex-end;width: 50%;}#sk-container-id-1 div.sk-parallel-item:last-child::after {align-self: flex-start;width: 50%;}#sk-container-id-1 div.sk-parallel-item:only-child::after {width: 0;}#sk-container-id-1 div.sk-dashed-wrapped {border: 1px dashed gray;margin: 0 0.4em 0.5em 0.4em;box-sizing: border-box;padding-bottom: 0.4em;background-color: white;}#sk-container-id-1 div.sk-label label {font-family: monospace;font-weight: bold;display: inline-block;line-height: 1.2em;}#sk-container-id-1 div.sk-label-container {text-align: center;}#sk-container-id-1 div.sk-container {/* jupyter's `normalize.less` sets `[hidden] { display: none; }` but bootstrap.min.css set `[hidden] { display: none !important; }` so we also need the `!important` here to be able to override the default hidden behavior on the sphinx rendered scikit-learn.org. See: https://github.com/scikit-learn/scikit-learn/issues/21755 */display: inline-block !important;position: relative;}#sk-container-id-1 div.sk-text-repr-fallback {display: none;}</style><div id=\"sk-container-id-1\" class=\"sk-top-container\"><div class=\"sk-text-repr-fallback\"><pre>DecisionTreeClassifier()</pre><b>In a Jupyter environment, please rerun this cell to show the HTML representation or trust the notebook. <br />On GitHub, the HTML representation is unable to render, please try loading this page with nbviewer.org.</b></div><div class=\"sk-container\" hidden><div class=\"sk-item\"><div class=\"sk-estimator sk-toggleable\"><input class=\"sk-toggleable__control sk-hidden--visually\" id=\"sk-estimator-id-1\" type=\"checkbox\" checked><label for=\"sk-estimator-id-1\" class=\"sk-toggleable__label sk-toggleable__label-arrow\">DecisionTreeClassifier</label><div class=\"sk-toggleable__content\"><pre>DecisionTreeClassifier()</pre></div></div></div></div></div>"
            ]
          },
          "metadata": {},
          "execution_count": 27
        }
      ]
    },
    {
      "cell_type": "code",
      "source": [
        "Y_hat_n2v = dt.predict(node_glove[test_ix])"
      ],
      "metadata": {
        "id": "K_8ovKYiLBom"
      },
      "execution_count": null,
      "outputs": []
    },
    {
      "cell_type": "code",
      "source": [
        "print('Balance accuracy score: {:.3f}'.format(balanced_accuracy_score(y_pred=Y_hat_n2v, y_true=Y_nh[test_ix])))\n",
        "print('ROC-AUC score: {:.3f}'.format(roc_auc_score(y_score=Y_hat_n2v, y_true=Y_nh[test_ix])))\n",
        "print('F1 score: {:.3f}'.format(f1_score(y_pred=Y_hat_n2v, y_true=Y_nh[test_ix])))"
      ],
      "metadata": {
        "colab": {
          "base_uri": "https://localhost:8080/"
        },
        "id": "bx727C2iLBq8",
        "outputId": "5d57537a-604c-43db-ec8f-b615c2115489"
      },
      "execution_count": null,
      "outputs": [
        {
          "output_type": "stream",
          "name": "stdout",
          "text": [
            "Balance accuracy score: 0.649\n",
            "ROC-AUC score: 0.649\n",
            "F1 score: 0.382\n"
          ]
        }
      ]
    },
    {
      "cell_type": "markdown",
      "source": [
        "# GraphSage"
      ],
      "metadata": {
        "id": "kT8s9WJNLNGw"
      }
    },
    {
      "cell_type": "code",
      "source": [
        "print(G.node_features())"
      ],
      "metadata": {
        "id": "j_pZxk3ILOwu"
      },
      "execution_count": null,
      "outputs": []
    },
    {
      "cell_type": "code",
      "source": [
        "node_data = pd.DataFrame(glove, index=[str(a) for a in np.arange(glove.shape[0])])"
      ],
      "metadata": {
        "id": "4j38POMiLOzC"
      },
      "execution_count": null,
      "outputs": []
    },
    {
      "cell_type": "code",
      "source": [
        "G2 = StellarGraph.from_networkx(twnet, node_features=node_data)"
      ],
      "metadata": {
        "id": "e7i2HsJbLO1p"
      },
      "execution_count": null,
      "outputs": []
    },
    {
      "cell_type": "code",
      "source": [
        "batch_size = 64\n",
        "epochs = 1\n",
        "number_of_walks = 1\n",
        "length = 5\n",
        "num_samples = [10, 5]\n",
        "layer_sizes = [50, 50]"
      ],
      "metadata": {
        "id": "35pZs1dZLO3w"
      },
      "execution_count": null,
      "outputs": []
    },
    {
      "cell_type": "code",
      "source": [
        "unsupervised_samples = UnsupervisedSampler(\n",
        "    G2,\n",
        "    nodes=list(G2.nodes()),\n",
        "    length=length,\n",
        "    number_of_walks=number_of_walks\n",
        ")"
      ],
      "metadata": {
        "id": "_Zq2MJRULO6G"
      },
      "execution_count": null,
      "outputs": []
    },
    {
      "cell_type": "code",
      "source": [
        "generator = GraphSAGELinkGenerator(G2, batch_size, num_samples)"
      ],
      "metadata": {
        "id": "qREI_4QLLO8s"
      },
      "execution_count": null,
      "outputs": []
    },
    {
      "cell_type": "code",
      "source": [
        "# train_gen = generator.flow(unsupervised_samples)"
      ],
      "metadata": {
        "id": "iTuMQkwrLO-x"
      },
      "execution_count": null,
      "outputs": []
    },
    {
      "cell_type": "code",
      "source": [
        "graphsage = GraphSAGE(layer_sizes, generator=generator, bias=True)"
      ],
      "metadata": {
        "id": "3FR8h21_LPDc"
      },
      "execution_count": null,
      "outputs": []
    },
    {
      "cell_type": "code",
      "source": [
        "x_inp, x_out = graphsage.in_out_tensors()"
      ],
      "metadata": {
        "colab": {
          "base_uri": "https://localhost:8080/"
        },
        "id": "JeHnclr0LPGF",
        "outputId": "339fb144-c0c3-412a-8ece-95ddfef0f9a4"
      },
      "execution_count": null,
      "outputs": [
        {
          "output_type": "stream",
          "name": "stderr",
          "text": [
            "/usr/local/lib/python3.10/dist-packages/keras/initializers/initializers.py:120: UserWarning: The initializer GlorotUniform is unseeded and being called multiple times, which will return identical values each time (even if the initializer is unseeded). Please update your code to provide a seed to the initializer, or avoid using the same initalizer instance more than once.\n",
            "  warnings.warn(\n"
          ]
        }
      ]
    },
    {
      "cell_type": "code",
      "source": [
        "prediction = link_classification(output_dim=1, output_act='sigmoid', edge_embedding_method='ip')(x_out)"
      ],
      "metadata": {
        "colab": {
          "base_uri": "https://localhost:8080/"
        },
        "id": "5TVbRTrMLPIJ",
        "outputId": "e661c5db-a99a-4e9f-dd5a-171f141eb991"
      },
      "execution_count": null,
      "outputs": [
        {
          "output_type": "stream",
          "name": "stdout",
          "text": [
            "link_classification: using 'ip' method to combine node embeddings into edge embeddings\n"
          ]
        }
      ]
    },
    {
      "cell_type": "code",
      "source": [
        "model = keras.Model(inputs=x_inp, outputs=prediction)"
      ],
      "metadata": {
        "id": "NmTKF80FLdpZ"
      },
      "execution_count": null,
      "outputs": []
    },
    {
      "cell_type": "code",
      "source": [
        "model.compile(optimizer=keras.optimizers.Adam(learning_rate=0.001), loss=keras.losses.binary_crossentropy)"
      ],
      "metadata": {
        "id": "mfs-xYBJLduQ"
      },
      "execution_count": null,
      "outputs": []
    },
    {
      "cell_type": "code",
      "source": [
        "%%time\n",
        "history = model.fit(generator.flow(unsupervised_samples), epochs=epochs, verbose=1, shuffle=True)"
      ],
      "metadata": {
        "colab": {
          "base_uri": "https://localhost:8080/"
        },
        "id": "3yO07nxJLdwn",
        "outputId": "156119ee-2de3-442d-c518-bc20b06c519e"
      },
      "execution_count": null,
      "outputs": [
        {
          "output_type": "stream",
          "name": "stdout",
          "text": [
            "12549/12549 [==============================] - 781s 62ms/step - loss: 0.5761\n",
            "CPU times: user 14min 30s, sys: 14 s, total: 14min 44s\n",
            "Wall time: 13min 34s\n"
          ]
        }
      ]
    },
    {
      "cell_type": "markdown",
      "source": [
        "## Постобработка для GraphSage"
      ],
      "metadata": {
        "id": "23clLXIELiI4"
      }
    },
    {
      "cell_type": "code",
      "source": [
        "x_inp_src = x_inp[0::2]\n",
        "x_out_src = x_out[0]\n",
        "embedding_model = keras.Model(inputs=x_inp_src, outputs=x_out_src)"
      ],
      "metadata": {
        "id": "izY5G0DKLdy9"
      },
      "execution_count": null,
      "outputs": []
    },
    {
      "cell_type": "code",
      "source": [
        "node_gen = GraphSAGENodeGenerator(G2, batch_size, num_samples).flow([str(a) for a in node_names])"
      ],
      "metadata": {
        "id": "iicKsSLDLd1T"
      },
      "execution_count": null,
      "outputs": []
    },
    {
      "cell_type": "code",
      "source": [
        "node_embeddings = np.row_stack([embedding_model.predict(b[0], verbose=0) for b in node_gen])\n",
        "print(node_embeddings.shape)"
      ],
      "metadata": {
        "colab": {
          "base_uri": "https://localhost:8080/"
        },
        "id": "jp_o3QVbLlKm",
        "outputId": "8f3f6949-a0c3-492f-fe80-d3e26a5da2ca"
      },
      "execution_count": null,
      "outputs": [
        {
          "output_type": "stream",
          "name": "stdout",
          "text": [
            "(4971, 50)\n"
          ]
        }
      ]
    },
    {
      "cell_type": "markdown",
      "source": [
        "## Обучение и проверка классификатора"
      ],
      "metadata": {
        "id": "5_L8oyBILpWG"
      }
    },
    {
      "cell_type": "code",
      "source": [
        "train_ix, test_ix = train_test_split(np.arange(Y_nh.shape[0]), stratify=Y_nh)"
      ],
      "metadata": {
        "id": "xL7gETlPLlVS"
      },
      "execution_count": null,
      "outputs": []
    },
    {
      "cell_type": "code",
      "source": [
        "dt = DecisionTreeClassifier()\n",
        "dt.fit(node_embeddings[train_ix], Y_nh[train_ix])"
      ],
      "metadata": {
        "colab": {
          "base_uri": "https://localhost:8080/",
          "height": 75
        },
        "id": "om5qPFOdLlYG",
        "outputId": "0fe96a38-bbc1-47ca-dc9e-cbf17c021e6c"
      },
      "execution_count": null,
      "outputs": [
        {
          "output_type": "execute_result",
          "data": {
            "text/plain": [
              "DecisionTreeClassifier()"
            ],
            "text/html": [
              "<style>#sk-container-id-2 {color: black;background-color: white;}#sk-container-id-2 pre{padding: 0;}#sk-container-id-2 div.sk-toggleable {background-color: white;}#sk-container-id-2 label.sk-toggleable__label {cursor: pointer;display: block;width: 100%;margin-bottom: 0;padding: 0.3em;box-sizing: border-box;text-align: center;}#sk-container-id-2 label.sk-toggleable__label-arrow:before {content: \"▸\";float: left;margin-right: 0.25em;color: #696969;}#sk-container-id-2 label.sk-toggleable__label-arrow:hover:before {color: black;}#sk-container-id-2 div.sk-estimator:hover label.sk-toggleable__label-arrow:before {color: black;}#sk-container-id-2 div.sk-toggleable__content {max-height: 0;max-width: 0;overflow: hidden;text-align: left;background-color: #f0f8ff;}#sk-container-id-2 div.sk-toggleable__content pre {margin: 0.2em;color: black;border-radius: 0.25em;background-color: #f0f8ff;}#sk-container-id-2 input.sk-toggleable__control:checked~div.sk-toggleable__content {max-height: 200px;max-width: 100%;overflow: auto;}#sk-container-id-2 input.sk-toggleable__control:checked~label.sk-toggleable__label-arrow:before {content: \"▾\";}#sk-container-id-2 div.sk-estimator input.sk-toggleable__control:checked~label.sk-toggleable__label {background-color: #d4ebff;}#sk-container-id-2 div.sk-label input.sk-toggleable__control:checked~label.sk-toggleable__label {background-color: #d4ebff;}#sk-container-id-2 input.sk-hidden--visually {border: 0;clip: rect(1px 1px 1px 1px);clip: rect(1px, 1px, 1px, 1px);height: 1px;margin: -1px;overflow: hidden;padding: 0;position: absolute;width: 1px;}#sk-container-id-2 div.sk-estimator {font-family: monospace;background-color: #f0f8ff;border: 1px dotted black;border-radius: 0.25em;box-sizing: border-box;margin-bottom: 0.5em;}#sk-container-id-2 div.sk-estimator:hover {background-color: #d4ebff;}#sk-container-id-2 div.sk-parallel-item::after {content: \"\";width: 100%;border-bottom: 1px solid gray;flex-grow: 1;}#sk-container-id-2 div.sk-label:hover label.sk-toggleable__label {background-color: #d4ebff;}#sk-container-id-2 div.sk-serial::before {content: \"\";position: absolute;border-left: 1px solid gray;box-sizing: border-box;top: 0;bottom: 0;left: 50%;z-index: 0;}#sk-container-id-2 div.sk-serial {display: flex;flex-direction: column;align-items: center;background-color: white;padding-right: 0.2em;padding-left: 0.2em;position: relative;}#sk-container-id-2 div.sk-item {position: relative;z-index: 1;}#sk-container-id-2 div.sk-parallel {display: flex;align-items: stretch;justify-content: center;background-color: white;position: relative;}#sk-container-id-2 div.sk-item::before, #sk-container-id-2 div.sk-parallel-item::before {content: \"\";position: absolute;border-left: 1px solid gray;box-sizing: border-box;top: 0;bottom: 0;left: 50%;z-index: -1;}#sk-container-id-2 div.sk-parallel-item {display: flex;flex-direction: column;z-index: 1;position: relative;background-color: white;}#sk-container-id-2 div.sk-parallel-item:first-child::after {align-self: flex-end;width: 50%;}#sk-container-id-2 div.sk-parallel-item:last-child::after {align-self: flex-start;width: 50%;}#sk-container-id-2 div.sk-parallel-item:only-child::after {width: 0;}#sk-container-id-2 div.sk-dashed-wrapped {border: 1px dashed gray;margin: 0 0.4em 0.5em 0.4em;box-sizing: border-box;padding-bottom: 0.4em;background-color: white;}#sk-container-id-2 div.sk-label label {font-family: monospace;font-weight: bold;display: inline-block;line-height: 1.2em;}#sk-container-id-2 div.sk-label-container {text-align: center;}#sk-container-id-2 div.sk-container {/* jupyter's `normalize.less` sets `[hidden] { display: none; }` but bootstrap.min.css set `[hidden] { display: none !important; }` so we also need the `!important` here to be able to override the default hidden behavior on the sphinx rendered scikit-learn.org. See: https://github.com/scikit-learn/scikit-learn/issues/21755 */display: inline-block !important;position: relative;}#sk-container-id-2 div.sk-text-repr-fallback {display: none;}</style><div id=\"sk-container-id-2\" class=\"sk-top-container\"><div class=\"sk-text-repr-fallback\"><pre>DecisionTreeClassifier()</pre><b>In a Jupyter environment, please rerun this cell to show the HTML representation or trust the notebook. <br />On GitHub, the HTML representation is unable to render, please try loading this page with nbviewer.org.</b></div><div class=\"sk-container\" hidden><div class=\"sk-item\"><div class=\"sk-estimator sk-toggleable\"><input class=\"sk-toggleable__control sk-hidden--visually\" id=\"sk-estimator-id-2\" type=\"checkbox\" checked><label for=\"sk-estimator-id-2\" class=\"sk-toggleable__label sk-toggleable__label-arrow\">DecisionTreeClassifier</label><div class=\"sk-toggleable__content\"><pre>DecisionTreeClassifier()</pre></div></div></div></div></div>"
            ]
          },
          "metadata": {},
          "execution_count": 52
        }
      ]
    },
    {
      "cell_type": "code",
      "source": [
        "Y_hat_n2v = dt.predict(node_embeddings[test_ix])"
      ],
      "metadata": {
        "id": "hDmNGoi6LtA-"
      },
      "execution_count": null,
      "outputs": []
    },
    {
      "cell_type": "code",
      "source": [
        "print('Balance accuracy score: {}'.format(balanced_accuracy_score(y_pred=Y_hat_n2v, y_true=Y_nh[test_ix])))\n",
        "print('ROC-AUC score: {}'.format(roc_auc_score(y_score=Y_hat_n2v, y_true=Y_nh[test_ix])))\n",
        "print('F1 score: {}'.format(f1_score(y_pred=Y_hat_n2v, y_true=Y_nh[test_ix])))"
      ],
      "metadata": {
        "colab": {
          "base_uri": "https://localhost:8080/"
        },
        "id": "Mlj-Hw9oS16j",
        "outputId": "b81cd03e-7e2d-4d80-b3dc-4da567f15d75"
      },
      "execution_count": null,
      "outputs": [
        {
          "output_type": "stream",
          "name": "stdout",
          "text": [
            "Balance accuracy score: 0.7186354216483342\n",
            "ROC-AUC score: 0.718635421648334\n",
            "F1 score: 0.46451612903225803\n"
          ]
        }
      ]
    }
  ]
}