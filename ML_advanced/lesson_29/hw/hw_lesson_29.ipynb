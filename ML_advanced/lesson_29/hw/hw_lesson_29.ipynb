{
 "cells": [
  {
   "cell_type": "markdown",
   "metadata": {},
   "source": [
    "\n",
    "Используя фреймворк байесовских методов и библиотеку PyMC3 вам предстоит построить интерпретируемую вероятностную модель и решить задачу регрессии для заданного датасета.\n",
    "\n",
    "Описание/Пошаговая инструкция выполнения домашнего задания:\n",
    "Датасет доступен по ссылке: https://www.kaggle.com/c/house-prices-advanced-regression-techniques"
   ]
  },
  {
   "cell_type": "markdown",
   "metadata": {},
   "source": [
    "# Данные"
   ]
  },
  {
   "cell_type": "code",
   "execution_count": null,
   "metadata": {},
   "outputs": [],
   "source": []
  }
 ],
 "metadata": {
  "kernelspec": {
   "display_name": "venv",
   "language": "python",
   "name": "python3"
  },
  "language_info": {
   "name": "python",
   "version": "3.11.8"
  }
 },
 "nbformat": 4,
 "nbformat_minor": 2
}
