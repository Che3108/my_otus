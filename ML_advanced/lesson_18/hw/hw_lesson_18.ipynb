{
 "cells": [
  {
   "cell_type": "markdown",
   "metadata": {},
   "source": [
    "# Задание\n",
    "1) Выберите любой понравившийся вам набор данных по ссылке https://nijianmo.github.io/amazon/index.html, стоит обратить внимание на раздел \"Small\" subsets for experimentation, где представлены не самые большие датасеты (чтобы и в память поместился, и считался недолго).\n",
    "2) Проведите базовый EDA - распределения рейтингов, количество уникальных товаров и т.д.\n",
    "3) Отложите часть данных для тестирования. В рекомендательных системах для этого можно случайным образом “занулить” желаемый процент рейтингов в исходном датасете, чтобы получить “тренировочный набор”, и проверять качество ваших рекомендаций на этих уже не зануленных рейтингах. При этом, если у вас есть временная зависимость в данных, имеет смысл занулять рейтинги “из будущего”, чтобы обучаться на “исторических” покупках/просмотрах и т.д.\n",
    "4) На основании вашего датасета постройте рекомендательную систему.\n",
    "5) Оцените качество полученных рекомендаций, при помощи подходящих метрик (если вы использовали рейтинги, можно взять RMSE)."
   ]
  },
  {
   "cell_type": "markdown",
   "metadata": {},
   "source": [
    "# Посмотрим на данные"
   ]
  },
  {
   "cell_type": "code",
   "execution_count": 50,
   "metadata": {},
   "outputs": [],
   "source": [
    "# библиотеки\n",
    "import numpy as np\n",
    "import pandas as pd\n",
    "import matplotlib.pyplot as plt\n",
    "import os"
   ]
  },
  {
   "cell_type": "code",
   "execution_count": 51,
   "metadata": {},
   "outputs": [],
   "source": [
    "# Сменим рабочую дирректорию для удобства\n",
    "import os\n",
    "os.chdir('/home/slawa/HDD/my_scripts/my_otus/ML_advanced/lesson_18/hw')"
   ]
  },
  {
   "cell_type": "code",
   "execution_count": 52,
   "metadata": {},
   "outputs": [
    {
     "data": {
      "text/html": [
       "<div>\n",
       "<style scoped>\n",
       "    .dataframe tbody tr th:only-of-type {\n",
       "        vertical-align: middle;\n",
       "    }\n",
       "\n",
       "    .dataframe tbody tr th {\n",
       "        vertical-align: top;\n",
       "    }\n",
       "\n",
       "    .dataframe thead th {\n",
       "        text-align: right;\n",
       "    }\n",
       "</style>\n",
       "<table border=\"1\" class=\"dataframe\">\n",
       "  <thead>\n",
       "    <tr style=\"text-align: right;\">\n",
       "      <th></th>\n",
       "      <th>item</th>\n",
       "      <th>user</th>\n",
       "      <th>rating</th>\n",
       "      <th>timestamp</th>\n",
       "    </tr>\n",
       "  </thead>\n",
       "  <tbody>\n",
       "    <tr>\n",
       "      <th>0</th>\n",
       "      <td>0143026860</td>\n",
       "      <td>A1V6B6TNIC10QE</td>\n",
       "      <td>1.0</td>\n",
       "      <td>1424304000</td>\n",
       "    </tr>\n",
       "    <tr>\n",
       "      <th>1</th>\n",
       "      <td>0143026860</td>\n",
       "      <td>A2F5GHSXFQ0W6J</td>\n",
       "      <td>4.0</td>\n",
       "      <td>1418860800</td>\n",
       "    </tr>\n",
       "    <tr>\n",
       "      <th>2</th>\n",
       "      <td>0143026860</td>\n",
       "      <td>A1572GUYS7DGSR</td>\n",
       "      <td>4.0</td>\n",
       "      <td>1407628800</td>\n",
       "    </tr>\n",
       "    <tr>\n",
       "      <th>3</th>\n",
       "      <td>0143026860</td>\n",
       "      <td>A1PSGLFK1NSVO</td>\n",
       "      <td>5.0</td>\n",
       "      <td>1362960000</td>\n",
       "    </tr>\n",
       "    <tr>\n",
       "      <th>4</th>\n",
       "      <td>0143026860</td>\n",
       "      <td>A6IKXKZMTKGSC</td>\n",
       "      <td>5.0</td>\n",
       "      <td>1324771200</td>\n",
       "    </tr>\n",
       "    <tr>\n",
       "      <th>...</th>\n",
       "      <td>...</td>\n",
       "      <td>...</td>\n",
       "      <td>...</td>\n",
       "      <td>...</td>\n",
       "    </tr>\n",
       "    <tr>\n",
       "      <th>371340</th>\n",
       "      <td>B01HJEGTYK</td>\n",
       "      <td>A202DCI7TV1022</td>\n",
       "      <td>1.0</td>\n",
       "      <td>1500508800</td>\n",
       "    </tr>\n",
       "    <tr>\n",
       "      <th>371341</th>\n",
       "      <td>B01HJEGTYK</td>\n",
       "      <td>A3FSOR5IJOFIBE</td>\n",
       "      <td>5.0</td>\n",
       "      <td>1489622400</td>\n",
       "    </tr>\n",
       "    <tr>\n",
       "      <th>371342</th>\n",
       "      <td>B01HJEGTYK</td>\n",
       "      <td>A1B5DK6CTP2P24</td>\n",
       "      <td>5.0</td>\n",
       "      <td>1488326400</td>\n",
       "    </tr>\n",
       "    <tr>\n",
       "      <th>371343</th>\n",
       "      <td>B01HJEGTYK</td>\n",
       "      <td>A23OUYS5IRMJS9</td>\n",
       "      <td>2.0</td>\n",
       "      <td>1487635200</td>\n",
       "    </tr>\n",
       "    <tr>\n",
       "      <th>371344</th>\n",
       "      <td>B01HJEGTYK</td>\n",
       "      <td>A24KQ9RVU81L87</td>\n",
       "      <td>2.0</td>\n",
       "      <td>1481760000</td>\n",
       "    </tr>\n",
       "  </tbody>\n",
       "</table>\n",
       "<p>371345 rows × 4 columns</p>\n",
       "</div>"
      ],
      "text/plain": [
       "              item            user  rating   timestamp\n",
       "0       0143026860  A1V6B6TNIC10QE     1.0  1424304000\n",
       "1       0143026860  A2F5GHSXFQ0W6J     4.0  1418860800\n",
       "2       0143026860  A1572GUYS7DGSR     4.0  1407628800\n",
       "3       0143026860   A1PSGLFK1NSVO     5.0  1362960000\n",
       "4       0143026860   A6IKXKZMTKGSC     5.0  1324771200\n",
       "...            ...             ...     ...         ...\n",
       "371340  B01HJEGTYK  A202DCI7TV1022     1.0  1500508800\n",
       "371341  B01HJEGTYK  A3FSOR5IJOFIBE     5.0  1489622400\n",
       "371342  B01HJEGTYK  A1B5DK6CTP2P24     5.0  1488326400\n",
       "371343  B01HJEGTYK  A23OUYS5IRMJS9     2.0  1487635200\n",
       "371344  B01HJEGTYK  A24KQ9RVU81L87     2.0  1481760000\n",
       "\n",
       "[371345 rows x 4 columns]"
      ]
     },
     "execution_count": 52,
     "metadata": {},
     "output_type": "execute_result"
    }
   ],
   "source": [
    "# Загрузка данных\n",
    "raw_data_file_name = 'All_Beauty.csv'\n",
    "raw_df = pd.read_csv(raw_data_file_name, delimiter=',', decimal='.', names=['item', 'user', 'rating', 'timestamp'])\n",
    "raw_df"
   ]
  },
  {
   "cell_type": "code",
   "execution_count": 53,
   "metadata": {},
   "outputs": [
    {
     "name": "stdout",
     "output_type": "stream",
     "text": [
      "<class 'pandas.core.frame.DataFrame'>\n",
      "RangeIndex: 371345 entries, 0 to 371344\n",
      "Data columns (total 4 columns):\n",
      " #   Column     Non-Null Count   Dtype  \n",
      "---  ------     --------------   -----  \n",
      " 0   item       371345 non-null  object \n",
      " 1   user       371345 non-null  object \n",
      " 2   rating     371345 non-null  float64\n",
      " 3   timestamp  371345 non-null  int64  \n",
      "dtypes: float64(1), int64(1), object(2)\n",
      "memory usage: 11.3+ MB\n"
     ]
    }
   ],
   "source": [
    "# проверяем на пустые значения\n",
    "raw_df.info()"
   ]
  },
  {
   "cell_type": "code",
   "execution_count": 54,
   "metadata": {},
   "outputs": [
    {
     "data": {
      "text/html": [
       "<div>\n",
       "<style scoped>\n",
       "    .dataframe tbody tr th:only-of-type {\n",
       "        vertical-align: middle;\n",
       "    }\n",
       "\n",
       "    .dataframe tbody tr th {\n",
       "        vertical-align: top;\n",
       "    }\n",
       "\n",
       "    .dataframe thead th {\n",
       "        text-align: right;\n",
       "    }\n",
       "</style>\n",
       "<table border=\"1\" class=\"dataframe\">\n",
       "  <thead>\n",
       "    <tr style=\"text-align: right;\">\n",
       "      <th></th>\n",
       "      <th>item</th>\n",
       "      <th>user</th>\n",
       "      <th>rating</th>\n",
       "      <th>timestamp</th>\n",
       "    </tr>\n",
       "  </thead>\n",
       "  <tbody>\n",
       "    <tr>\n",
       "      <th>0</th>\n",
       "      <td>0143026860</td>\n",
       "      <td>A1V6B6TNIC10QE</td>\n",
       "      <td>1.0</td>\n",
       "      <td>1424304000</td>\n",
       "    </tr>\n",
       "    <tr>\n",
       "      <th>1</th>\n",
       "      <td>0143026860</td>\n",
       "      <td>A2F5GHSXFQ0W6J</td>\n",
       "      <td>4.0</td>\n",
       "      <td>1418860800</td>\n",
       "    </tr>\n",
       "    <tr>\n",
       "      <th>2</th>\n",
       "      <td>0143026860</td>\n",
       "      <td>A1572GUYS7DGSR</td>\n",
       "      <td>4.0</td>\n",
       "      <td>1407628800</td>\n",
       "    </tr>\n",
       "    <tr>\n",
       "      <th>3</th>\n",
       "      <td>0143026860</td>\n",
       "      <td>A1PSGLFK1NSVO</td>\n",
       "      <td>5.0</td>\n",
       "      <td>1362960000</td>\n",
       "    </tr>\n",
       "    <tr>\n",
       "      <th>4</th>\n",
       "      <td>0143026860</td>\n",
       "      <td>A6IKXKZMTKGSC</td>\n",
       "      <td>5.0</td>\n",
       "      <td>1324771200</td>\n",
       "    </tr>\n",
       "    <tr>\n",
       "      <th>...</th>\n",
       "      <td>...</td>\n",
       "      <td>...</td>\n",
       "      <td>...</td>\n",
       "      <td>...</td>\n",
       "    </tr>\n",
       "    <tr>\n",
       "      <th>371340</th>\n",
       "      <td>B01HJEGTYK</td>\n",
       "      <td>A202DCI7TV1022</td>\n",
       "      <td>1.0</td>\n",
       "      <td>1500508800</td>\n",
       "    </tr>\n",
       "    <tr>\n",
       "      <th>371341</th>\n",
       "      <td>B01HJEGTYK</td>\n",
       "      <td>A3FSOR5IJOFIBE</td>\n",
       "      <td>5.0</td>\n",
       "      <td>1489622400</td>\n",
       "    </tr>\n",
       "    <tr>\n",
       "      <th>371342</th>\n",
       "      <td>B01HJEGTYK</td>\n",
       "      <td>A1B5DK6CTP2P24</td>\n",
       "      <td>5.0</td>\n",
       "      <td>1488326400</td>\n",
       "    </tr>\n",
       "    <tr>\n",
       "      <th>371343</th>\n",
       "      <td>B01HJEGTYK</td>\n",
       "      <td>A23OUYS5IRMJS9</td>\n",
       "      <td>2.0</td>\n",
       "      <td>1487635200</td>\n",
       "    </tr>\n",
       "    <tr>\n",
       "      <th>371344</th>\n",
       "      <td>B01HJEGTYK</td>\n",
       "      <td>A24KQ9RVU81L87</td>\n",
       "      <td>2.0</td>\n",
       "      <td>1481760000</td>\n",
       "    </tr>\n",
       "  </tbody>\n",
       "</table>\n",
       "<p>362275 rows × 4 columns</p>\n",
       "</div>"
      ],
      "text/plain": [
       "              item            user  rating   timestamp\n",
       "0       0143026860  A1V6B6TNIC10QE     1.0  1424304000\n",
       "1       0143026860  A2F5GHSXFQ0W6J     4.0  1418860800\n",
       "2       0143026860  A1572GUYS7DGSR     4.0  1407628800\n",
       "3       0143026860   A1PSGLFK1NSVO     5.0  1362960000\n",
       "4       0143026860   A6IKXKZMTKGSC     5.0  1324771200\n",
       "...            ...             ...     ...         ...\n",
       "371340  B01HJEGTYK  A202DCI7TV1022     1.0  1500508800\n",
       "371341  B01HJEGTYK  A3FSOR5IJOFIBE     5.0  1489622400\n",
       "371342  B01HJEGTYK  A1B5DK6CTP2P24     5.0  1488326400\n",
       "371343  B01HJEGTYK  A23OUYS5IRMJS9     2.0  1487635200\n",
       "371344  B01HJEGTYK  A24KQ9RVU81L87     2.0  1481760000\n",
       "\n",
       "[362275 rows x 4 columns]"
      ]
     },
     "execution_count": 54,
     "metadata": {},
     "output_type": "execute_result"
    }
   ],
   "source": [
    "# убираем дубликаты\n",
    "raw_df.drop_duplicates(inplace=True)\n",
    "raw_df"
   ]
  },
  {
   "cell_type": "code",
   "execution_count": 55,
   "metadata": {},
   "outputs": [
    {
     "data": {
      "text/html": [
       "<div>\n",
       "<style scoped>\n",
       "    .dataframe tbody tr th:only-of-type {\n",
       "        vertical-align: middle;\n",
       "    }\n",
       "\n",
       "    .dataframe tbody tr th {\n",
       "        vertical-align: top;\n",
       "    }\n",
       "\n",
       "    .dataframe thead th {\n",
       "        text-align: right;\n",
       "    }\n",
       "</style>\n",
       "<table border=\"1\" class=\"dataframe\">\n",
       "  <thead>\n",
       "    <tr style=\"text-align: right;\">\n",
       "      <th></th>\n",
       "      <th></th>\n",
       "      <th></th>\n",
       "      <th>rating</th>\n",
       "    </tr>\n",
       "    <tr>\n",
       "      <th>timestamp</th>\n",
       "      <th>user</th>\n",
       "      <th>item</th>\n",
       "      <th></th>\n",
       "    </tr>\n",
       "  </thead>\n",
       "  <tbody>\n",
       "    <tr>\n",
       "      <th>1120262400</th>\n",
       "      <th>AIBRTGBN07D6A</th>\n",
       "      <th>B0009MFZAE</th>\n",
       "      <td>2</td>\n",
       "    </tr>\n",
       "    <tr>\n",
       "      <th>1130630400</th>\n",
       "      <th>A2ML7RYN9VQPPK</th>\n",
       "      <th>B0009MFUN6</th>\n",
       "      <td>2</td>\n",
       "    </tr>\n",
       "    <tr>\n",
       "      <th>1245974400</th>\n",
       "      <th>A3R9H6OKZHHRJD</th>\n",
       "      <th>B000LIBUBY</th>\n",
       "      <td>2</td>\n",
       "    </tr>\n",
       "    <tr>\n",
       "      <th>1252627200</th>\n",
       "      <th>A154S5BSNCEJOD</th>\n",
       "      <th>B0002W30IA</th>\n",
       "      <td>2</td>\n",
       "    </tr>\n",
       "    <tr>\n",
       "      <th>1317513600</th>\n",
       "      <th>A2EHYCA29NSQLU</th>\n",
       "      <th>B004A7PB26</th>\n",
       "      <td>2</td>\n",
       "    </tr>\n",
       "    <tr>\n",
       "      <th>...</th>\n",
       "      <th>...</th>\n",
       "      <th>...</th>\n",
       "      <td>...</td>\n",
       "    </tr>\n",
       "    <tr>\n",
       "      <th>1520294400</th>\n",
       "      <th>A2MERYBWEV2PLQ</th>\n",
       "      <th>B00W259T7G</th>\n",
       "      <td>2</td>\n",
       "    </tr>\n",
       "    <tr>\n",
       "      <th>1521158400</th>\n",
       "      <th>A19647HABGFHHG</th>\n",
       "      <th>B00NE5Q9JO</th>\n",
       "      <td>2</td>\n",
       "    </tr>\n",
       "    <tr>\n",
       "      <th>1522368000</th>\n",
       "      <th>A3FAJ4P2GREPP9</th>\n",
       "      <th>B00W259T7G</th>\n",
       "      <td>2</td>\n",
       "    </tr>\n",
       "    <tr>\n",
       "      <th rowspan=\"2\" valign=\"top\">1526688000</th>\n",
       "      <th rowspan=\"2\" valign=\"top\">ARPSCXPD7FYZ4</th>\n",
       "      <th>B000URXP6E</th>\n",
       "      <td>2</td>\n",
       "    </tr>\n",
       "    <tr>\n",
       "      <th>B0012Y0ZG2</th>\n",
       "      <td>2</td>\n",
       "    </tr>\n",
       "  </tbody>\n",
       "</table>\n",
       "<p>74 rows × 1 columns</p>\n",
       "</div>"
      ],
      "text/plain": [
       "                                      rating\n",
       "timestamp  user           item              \n",
       "1120262400 AIBRTGBN07D6A  B0009MFZAE       2\n",
       "1130630400 A2ML7RYN9VQPPK B0009MFUN6       2\n",
       "1245974400 A3R9H6OKZHHRJD B000LIBUBY       2\n",
       "1252627200 A154S5BSNCEJOD B0002W30IA       2\n",
       "1317513600 A2EHYCA29NSQLU B004A7PB26       2\n",
       "...                                      ...\n",
       "1520294400 A2MERYBWEV2PLQ B00W259T7G       2\n",
       "1521158400 A19647HABGFHHG B00NE5Q9JO       2\n",
       "1522368000 A3FAJ4P2GREPP9 B00W259T7G       2\n",
       "1526688000 ARPSCXPD7FYZ4  B000URXP6E       2\n",
       "                          B0012Y0ZG2       2\n",
       "\n",
       "[74 rows x 1 columns]"
      ]
     },
     "execution_count": 55,
     "metadata": {},
     "output_type": "execute_result"
    }
   ],
   "source": [
    "# может быть ситуация, что пользователь в одну метку времени выставил разные оценки одному и тому же предмету\n",
    "# проверим\n",
    "rating_count = raw_df.groupby(['timestamp', 'user', 'item']).count()\n",
    "rating_count_error = rating_count.loc[rating_count['rating'] > 1, :]\n",
    "rating_count_error"
   ]
  },
  {
   "cell_type": "code",
   "execution_count": 56,
   "metadata": {},
   "outputs": [
    {
     "data": {
      "text/html": [
       "<div>\n",
       "<style scoped>\n",
       "    .dataframe tbody tr th:only-of-type {\n",
       "        vertical-align: middle;\n",
       "    }\n",
       "\n",
       "    .dataframe tbody tr th {\n",
       "        vertical-align: top;\n",
       "    }\n",
       "\n",
       "    .dataframe thead th {\n",
       "        text-align: right;\n",
       "    }\n",
       "</style>\n",
       "<table border=\"1\" class=\"dataframe\">\n",
       "  <thead>\n",
       "    <tr style=\"text-align: right;\">\n",
       "      <th></th>\n",
       "      <th>item</th>\n",
       "      <th>user</th>\n",
       "      <th>rating</th>\n",
       "      <th>timestamp</th>\n",
       "    </tr>\n",
       "  </thead>\n",
       "  <tbody>\n",
       "    <tr>\n",
       "      <th>0</th>\n",
       "      <td>0143026860</td>\n",
       "      <td>A1V6B6TNIC10QE</td>\n",
       "      <td>1.0</td>\n",
       "      <td>1424304000</td>\n",
       "    </tr>\n",
       "    <tr>\n",
       "      <th>1</th>\n",
       "      <td>0143026860</td>\n",
       "      <td>A2F5GHSXFQ0W6J</td>\n",
       "      <td>4.0</td>\n",
       "      <td>1418860800</td>\n",
       "    </tr>\n",
       "    <tr>\n",
       "      <th>2</th>\n",
       "      <td>0143026860</td>\n",
       "      <td>A1572GUYS7DGSR</td>\n",
       "      <td>4.0</td>\n",
       "      <td>1407628800</td>\n",
       "    </tr>\n",
       "    <tr>\n",
       "      <th>3</th>\n",
       "      <td>0143026860</td>\n",
       "      <td>A1PSGLFK1NSVO</td>\n",
       "      <td>5.0</td>\n",
       "      <td>1362960000</td>\n",
       "    </tr>\n",
       "    <tr>\n",
       "      <th>4</th>\n",
       "      <td>0143026860</td>\n",
       "      <td>A6IKXKZMTKGSC</td>\n",
       "      <td>5.0</td>\n",
       "      <td>1324771200</td>\n",
       "    </tr>\n",
       "    <tr>\n",
       "      <th>...</th>\n",
       "      <td>...</td>\n",
       "      <td>...</td>\n",
       "      <td>...</td>\n",
       "      <td>...</td>\n",
       "    </tr>\n",
       "    <tr>\n",
       "      <th>371340</th>\n",
       "      <td>B01HJEGTYK</td>\n",
       "      <td>A202DCI7TV1022</td>\n",
       "      <td>1.0</td>\n",
       "      <td>1500508800</td>\n",
       "    </tr>\n",
       "    <tr>\n",
       "      <th>371341</th>\n",
       "      <td>B01HJEGTYK</td>\n",
       "      <td>A3FSOR5IJOFIBE</td>\n",
       "      <td>5.0</td>\n",
       "      <td>1489622400</td>\n",
       "    </tr>\n",
       "    <tr>\n",
       "      <th>371342</th>\n",
       "      <td>B01HJEGTYK</td>\n",
       "      <td>A1B5DK6CTP2P24</td>\n",
       "      <td>5.0</td>\n",
       "      <td>1488326400</td>\n",
       "    </tr>\n",
       "    <tr>\n",
       "      <th>371343</th>\n",
       "      <td>B01HJEGTYK</td>\n",
       "      <td>A23OUYS5IRMJS9</td>\n",
       "      <td>2.0</td>\n",
       "      <td>1487635200</td>\n",
       "    </tr>\n",
       "    <tr>\n",
       "      <th>371344</th>\n",
       "      <td>B01HJEGTYK</td>\n",
       "      <td>A24KQ9RVU81L87</td>\n",
       "      <td>2.0</td>\n",
       "      <td>1481760000</td>\n",
       "    </tr>\n",
       "  </tbody>\n",
       "</table>\n",
       "<p>362127 rows × 4 columns</p>\n",
       "</div>"
      ],
      "text/plain": [
       "              item            user  rating   timestamp\n",
       "0       0143026860  A1V6B6TNIC10QE     1.0  1424304000\n",
       "1       0143026860  A2F5GHSXFQ0W6J     4.0  1418860800\n",
       "2       0143026860  A1572GUYS7DGSR     4.0  1407628800\n",
       "3       0143026860   A1PSGLFK1NSVO     5.0  1362960000\n",
       "4       0143026860   A6IKXKZMTKGSC     5.0  1324771200\n",
       "...            ...             ...     ...         ...\n",
       "371340  B01HJEGTYK  A202DCI7TV1022     1.0  1500508800\n",
       "371341  B01HJEGTYK  A3FSOR5IJOFIBE     5.0  1489622400\n",
       "371342  B01HJEGTYK  A1B5DK6CTP2P24     5.0  1488326400\n",
       "371343  B01HJEGTYK  A23OUYS5IRMJS9     2.0  1487635200\n",
       "371344  B01HJEGTYK  A24KQ9RVU81L87     2.0  1481760000\n",
       "\n",
       "[362127 rows x 4 columns]"
      ]
     },
     "execution_count": 56,
     "metadata": {},
     "output_type": "execute_result"
    }
   ],
   "source": [
    "# удалим ошибочные оценки\n",
    "for timestamp, user, item in rating_count_error.index:\n",
    "    idx = raw_df.loc[\n",
    "        (raw_df['timestamp'] == timestamp) &\\\n",
    "        (raw_df['user'] == user) &\\\n",
    "        (raw_df['item'] == item),\n",
    "        :\n",
    "    ].index\n",
    "    raw_df.drop(index=idx, inplace=True)\n",
    "raw_df"
   ]
  },
  {
   "cell_type": "code",
   "execution_count": 57,
   "metadata": {},
   "outputs": [
    {
     "name": "stdout",
     "output_type": "stream",
     "text": [
      "Размер датасета: (362127, 4)\n",
      "Количество уникальных товаров: 32586\n",
      "Количество уникальных пользователей: 323995\n",
      "Уникальные оценки: [1. 4. 5. 2. 3.]\n"
     ]
    }
   ],
   "source": [
    "print(f'Размер датасета: {raw_df.shape}')\n",
    "print(f'Количество уникальных товаров: {len(raw_df[\"item\"].unique())}')\n",
    "print(f'Количество уникальных пользователей: {len(raw_df[\"user\"].unique())}')\n",
    "print(f'Уникальные оценки: {raw_df[\"rating\"].unique()}')"
   ]
  },
  {
   "cell_type": "code",
   "execution_count": 58,
   "metadata": {},
   "outputs": [
    {
     "data": {
      "image/png": "[encoded data removed]",
      "text/plain": [
       "<Figure size 640x480 with 1 Axes>"
      ]
     },
     "metadata": {},
     "output_type": "display_data"
    }
   ],
   "source": [
    "raw_df[\"rating\"].hist(bins=100)\n",
    "plt.show()"
   ]
  },
  {
   "cell_type": "code",
   "execution_count": 59,
   "metadata": {},
   "outputs": [
    {
     "data": {
      "text/html": [
       "<div>\n",
       "<style scoped>\n",
       "    .dataframe tbody tr th:only-of-type {\n",
       "        vertical-align: middle;\n",
       "    }\n",
       "\n",
       "    .dataframe tbody tr th {\n",
       "        vertical-align: top;\n",
       "    }\n",
       "\n",
       "    .dataframe thead th {\n",
       "        text-align: right;\n",
       "    }\n",
       "</style>\n",
       "<table border=\"1\" class=\"dataframe\">\n",
       "  <thead>\n",
       "    <tr style=\"text-align: right;\">\n",
       "      <th></th>\n",
       "      <th>index</th>\n",
       "      <th>item</th>\n",
       "      <th>user</th>\n",
       "      <th>rating</th>\n",
       "      <th>timestamp</th>\n",
       "    </tr>\n",
       "  </thead>\n",
       "  <tbody>\n",
       "    <tr>\n",
       "      <th>0</th>\n",
       "      <td>256078</td>\n",
       "      <td>3317005939</td>\n",
       "      <td>AL2PQBKHP7LM4</td>\n",
       "      <td>5.0</td>\n",
       "      <td>947462400</td>\n",
       "    </tr>\n",
       "    <tr>\n",
       "      <th>1</th>\n",
       "      <td>261647</td>\n",
       "      <td>0061073717</td>\n",
       "      <td>ATKPYXA8XFKGJ</td>\n",
       "      <td>5.0</td>\n",
       "      <td>957571200</td>\n",
       "    </tr>\n",
       "    <tr>\n",
       "      <th>2</th>\n",
       "      <td>261646</td>\n",
       "      <td>0061073717</td>\n",
       "      <td>A2XMFX1BR0IJFJ</td>\n",
       "      <td>5.0</td>\n",
       "      <td>959990400</td>\n",
       "    </tr>\n",
       "    <tr>\n",
       "      <th>3</th>\n",
       "      <td>256161</td>\n",
       "      <td>B000050B62</td>\n",
       "      <td>A1U7T7UCCV3SBN</td>\n",
       "      <td>5.0</td>\n",
       "      <td>972777600</td>\n",
       "    </tr>\n",
       "    <tr>\n",
       "      <th>4</th>\n",
       "      <td>5299</td>\n",
       "      <td>B000050FDP</td>\n",
       "      <td>A3RVIXD86WUT1E</td>\n",
       "      <td>5.0</td>\n",
       "      <td>973987200</td>\n",
       "    </tr>\n",
       "    <tr>\n",
       "      <th>...</th>\n",
       "      <td>...</td>\n",
       "      <td>...</td>\n",
       "      <td>...</td>\n",
       "      <td>...</td>\n",
       "      <td>...</td>\n",
       "    </tr>\n",
       "    <tr>\n",
       "      <th>362122</th>\n",
       "      <td>371246</td>\n",
       "      <td>B01HHWQX8G</td>\n",
       "      <td>A32D5I46E15TEC</td>\n",
       "      <td>3.0</td>\n",
       "      <td>1538265600</td>\n",
       "    </tr>\n",
       "    <tr>\n",
       "      <th>362123</th>\n",
       "      <td>370903</td>\n",
       "      <td>B01HC6G4D6</td>\n",
       "      <td>A1RAXJN2Q4V20X</td>\n",
       "      <td>4.0</td>\n",
       "      <td>1538265600</td>\n",
       "    </tr>\n",
       "    <tr>\n",
       "      <th>362124</th>\n",
       "      <td>368798</td>\n",
       "      <td>B01GJQXRLC</td>\n",
       "      <td>A3ORA680FWE8SW</td>\n",
       "      <td>5.0</td>\n",
       "      <td>1538352000</td>\n",
       "    </tr>\n",
       "    <tr>\n",
       "      <th>362125</th>\n",
       "      <td>368687</td>\n",
       "      <td>B01GIYE88G</td>\n",
       "      <td>A3RTH0S9XVBPVK</td>\n",
       "      <td>5.0</td>\n",
       "      <td>1538352000</td>\n",
       "    </tr>\n",
       "    <tr>\n",
       "      <th>362126</th>\n",
       "      <td>368861</td>\n",
       "      <td>B01GKCUEPM</td>\n",
       "      <td>AE9BNPJIYXPBN</td>\n",
       "      <td>3.0</td>\n",
       "      <td>1538438400</td>\n",
       "    </tr>\n",
       "  </tbody>\n",
       "</table>\n",
       "<p>362127 rows × 5 columns</p>\n",
       "</div>"
      ],
      "text/plain": [
       "         index        item            user  rating   timestamp\n",
       "0       256078  3317005939   AL2PQBKHP7LM4     5.0   947462400\n",
       "1       261647  0061073717   ATKPYXA8XFKGJ     5.0   957571200\n",
       "2       261646  0061073717  A2XMFX1BR0IJFJ     5.0   959990400\n",
       "3       256161  B000050B62  A1U7T7UCCV3SBN     5.0   972777600\n",
       "4         5299  B000050FDP  A3RVIXD86WUT1E     5.0   973987200\n",
       "...        ...         ...             ...     ...         ...\n",
       "362122  371246  B01HHWQX8G  A32D5I46E15TEC     3.0  1538265600\n",
       "362123  370903  B01HC6G4D6  A1RAXJN2Q4V20X     4.0  1538265600\n",
       "362124  368798  B01GJQXRLC  A3ORA680FWE8SW     5.0  1538352000\n",
       "362125  368687  B01GIYE88G  A3RTH0S9XVBPVK     5.0  1538352000\n",
       "362126  368861  B01GKCUEPM   AE9BNPJIYXPBN     3.0  1538438400\n",
       "\n",
       "[362127 rows x 5 columns]"
      ]
     },
     "execution_count": 59,
     "metadata": {},
     "output_type": "execute_result"
    }
   ],
   "source": [
    "# отсортируем по временной метке\n",
    "sort_raw_df = raw_df.sort_values(by=['timestamp'])\n",
    "sort_raw_df.reset_index(inplace=True)\n",
    "sort_raw_df"
   ]
  },
  {
   "cell_type": "code",
   "execution_count": 60,
   "metadata": {},
   "outputs": [
    {
     "data": {
      "text/html": [
       "<div>\n",
       "<style scoped>\n",
       "    .dataframe tbody tr th:only-of-type {\n",
       "        vertical-align: middle;\n",
       "    }\n",
       "\n",
       "    .dataframe tbody tr th {\n",
       "        vertical-align: top;\n",
       "    }\n",
       "\n",
       "    .dataframe thead th {\n",
       "        text-align: right;\n",
       "    }\n",
       "</style>\n",
       "<table border=\"1\" class=\"dataframe\">\n",
       "  <thead>\n",
       "    <tr style=\"text-align: right;\">\n",
       "      <th></th>\n",
       "      <th>user</th>\n",
       "      <th>item</th>\n",
       "      <th>rating</th>\n",
       "    </tr>\n",
       "  </thead>\n",
       "  <tbody>\n",
       "    <tr>\n",
       "      <th>0</th>\n",
       "      <td>AL2PQBKHP7LM4</td>\n",
       "      <td>3317005939</td>\n",
       "      <td>5.0</td>\n",
       "    </tr>\n",
       "    <tr>\n",
       "      <th>1</th>\n",
       "      <td>ATKPYXA8XFKGJ</td>\n",
       "      <td>0061073717</td>\n",
       "      <td>5.0</td>\n",
       "    </tr>\n",
       "    <tr>\n",
       "      <th>2</th>\n",
       "      <td>A2XMFX1BR0IJFJ</td>\n",
       "      <td>0061073717</td>\n",
       "      <td>5.0</td>\n",
       "    </tr>\n",
       "    <tr>\n",
       "      <th>3</th>\n",
       "      <td>A1U7T7UCCV3SBN</td>\n",
       "      <td>B000050B62</td>\n",
       "      <td>5.0</td>\n",
       "    </tr>\n",
       "    <tr>\n",
       "      <th>4</th>\n",
       "      <td>A3RVIXD86WUT1E</td>\n",
       "      <td>B000050FDP</td>\n",
       "      <td>5.0</td>\n",
       "    </tr>\n",
       "    <tr>\n",
       "      <th>...</th>\n",
       "      <td>...</td>\n",
       "      <td>...</td>\n",
       "      <td>...</td>\n",
       "    </tr>\n",
       "    <tr>\n",
       "      <th>362122</th>\n",
       "      <td>A32D5I46E15TEC</td>\n",
       "      <td>B01HHWQX8G</td>\n",
       "      <td>0.0</td>\n",
       "    </tr>\n",
       "    <tr>\n",
       "      <th>362123</th>\n",
       "      <td>A1RAXJN2Q4V20X</td>\n",
       "      <td>B01HC6G4D6</td>\n",
       "      <td>0.0</td>\n",
       "    </tr>\n",
       "    <tr>\n",
       "      <th>362124</th>\n",
       "      <td>A3ORA680FWE8SW</td>\n",
       "      <td>B01GJQXRLC</td>\n",
       "      <td>0.0</td>\n",
       "    </tr>\n",
       "    <tr>\n",
       "      <th>362125</th>\n",
       "      <td>A3RTH0S9XVBPVK</td>\n",
       "      <td>B01GIYE88G</td>\n",
       "      <td>0.0</td>\n",
       "    </tr>\n",
       "    <tr>\n",
       "      <th>362126</th>\n",
       "      <td>AE9BNPJIYXPBN</td>\n",
       "      <td>B01GKCUEPM</td>\n",
       "      <td>0.0</td>\n",
       "    </tr>\n",
       "  </tbody>\n",
       "</table>\n",
       "<p>362127 rows × 3 columns</p>\n",
       "</div>"
      ],
      "text/plain": [
       "                  user        item  rating\n",
       "0        AL2PQBKHP7LM4  3317005939     5.0\n",
       "1        ATKPYXA8XFKGJ  0061073717     5.0\n",
       "2       A2XMFX1BR0IJFJ  0061073717     5.0\n",
       "3       A1U7T7UCCV3SBN  B000050B62     5.0\n",
       "4       A3RVIXD86WUT1E  B000050FDP     5.0\n",
       "...                ...         ...     ...\n",
       "362122  A32D5I46E15TEC  B01HHWQX8G     0.0\n",
       "362123  A1RAXJN2Q4V20X  B01HC6G4D6     0.0\n",
       "362124  A3ORA680FWE8SW  B01GJQXRLC     0.0\n",
       "362125  A3RTH0S9XVBPVK  B01GIYE88G     0.0\n",
       "362126   AE9BNPJIYXPBN  B01GKCUEPM     0.0\n",
       "\n",
       "[362127 rows x 3 columns]"
      ]
     },
     "execution_count": 60,
     "metadata": {},
     "output_type": "execute_result"
    }
   ],
   "source": [
    "# делим датасет на train и test\n",
    "\n",
    "# считаем индекс места разделения на две части\n",
    "start_index = sort_raw_df.shape[0] * (1 - 0.2)\n",
    "\n",
    "# отбираем данные для теста\n",
    "test_df = sort_raw_df.loc[start_index:, ['user', 'item', 'rating']]\n",
    "\n",
    "# зануляем данные в основном датасете, которые ранее отобрали\n",
    "train_df = sort_raw_df.loc[:, ['user', 'item', 'rating']]\n",
    "train_df.loc[start_index:, ['rating']] = 0.0\n",
    "train_df\n"
   ]
  },
  {
   "cell_type": "code",
   "execution_count": 61,
   "metadata": {},
   "outputs": [],
   "source": [
    "# Сохраняем собранные датасеты\n",
    "train_df.to_csv('train_data.csv', decimal='.', sep=',', index=False)\n",
    "test_df.to_csv('test_data.csv', decimal='.', sep=',', index=False)\n"
   ]
  },
  {
   "cell_type": "markdown",
   "metadata": {},
   "source": [
    "# BaseLine\n",
    "В качестве ориентира наполним нулевые оценки рандомными оценками."
   ]
  },
  {
   "cell_type": "code",
   "execution_count": 62,
   "metadata": {},
   "outputs": [],
   "source": [
    "# библиотеки\n",
    "import numpy as np\n",
    "import pandas as pd\n",
    "import matplotlib.pyplot as plt\n",
    "from sklearn.metrics import root_mean_squared_error as RMSE\n",
    "import os"
   ]
  },
  {
   "cell_type": "code",
   "execution_count": 63,
   "metadata": {},
   "outputs": [],
   "source": [
    "# Сменим рабочую дирректорию для удобства\n",
    "import os\n",
    "os.chdir('/home/slawa/HDD/my_scripts/my_otus/ML_advanced/lesson_18/hw')"
   ]
  },
  {
   "cell_type": "code",
   "execution_count": 64,
   "metadata": {},
   "outputs": [],
   "source": [
    "# загружаем датасеты\n",
    "train_data = pd.read_csv('train_data.csv', decimal='.', delimiter=',')\n",
    "test_data = pd.read_csv('test_data.csv', decimal='.', delimiter=',')"
   ]
  },
  {
   "cell_type": "code",
   "execution_count": 65,
   "metadata": {},
   "outputs": [],
   "source": [
    "# инициализация случайного генератора\n",
    "rnd_gen = np.random.default_rng(seed=100)\n",
    "\n",
    "# получаем уникальные значения оценки, исключая ноль\n",
    "rating = test_data['rating'].unique()\n",
    "rating = rating[rating != 0.0]"
   ]
  },
  {
   "cell_type": "code",
   "execution_count": 66,
   "metadata": {},
   "outputs": [],
   "source": [
    "# генерируем случайные рейтинги\n",
    "test_data['random_rating'] = rnd_gen.choice(rating, size=(test_data.shape[0],))"
   ]
  },
  {
   "cell_type": "code",
   "execution_count": 67,
   "metadata": {},
   "outputs": [
    {
     "name": "stdout",
     "output_type": "stream",
     "text": [
      "Качество предсказания: 2.2708368577505667\n"
     ]
    }
   ],
   "source": [
    "# считаем метрику\n",
    "rmse_metric = RMSE(test_data['rating'], test_data['random_rating'])\n",
    "print(f'Качество предсказания: {rmse_metric}')"
   ]
  },
  {
   "cell_type": "markdown",
   "metadata": {},
   "source": [
    "# Библиотека surprise"
   ]
  },
  {
   "cell_type": "markdown",
   "metadata": {},
   "source": [
    "## SVD"
   ]
  },
  {
   "cell_type": "code",
   "execution_count": 68,
   "metadata": {},
   "outputs": [],
   "source": [
    "# библиотеки\n",
    "import numpy as np\n",
    "import pandas as pd\n",
    "import matplotlib.pyplot as plt\n",
    "import os\n",
    "from sklearn.metrics import root_mean_squared_error as RMSE\n",
    "from surprise import SVD, Dataset, Reader"
   ]
  },
  {
   "cell_type": "code",
   "execution_count": 69,
   "metadata": {},
   "outputs": [],
   "source": [
    "# Сменим рабочую дирректорию для удобства\n",
    "import os\n",
    "os.chdir('/home/slawa/HDD/my_scripts/my_otus/ML_advanced/lesson_18/hw')"
   ]
  },
  {
   "cell_type": "code",
   "execution_count": 70,
   "metadata": {},
   "outputs": [],
   "source": [
    "# загружаем датасеты\n",
    "train_data = pd.read_csv('train_data.csv', decimal='.', delimiter=',')\n",
    "test_data = pd.read_csv('test_data.csv', decimal='.', delimiter=',')"
   ]
  },
  {
   "cell_type": "code",
   "execution_count": 71,
   "metadata": {},
   "outputs": [],
   "source": [
    "# создаем модель\n",
    "algo = SVD()"
   ]
  },
  {
   "cell_type": "code",
   "execution_count": 72,
   "metadata": {},
   "outputs": [],
   "source": [
    "# создаем объект, использующийся для обучения модели\n",
    "reader = Reader(line_format='user item rating', sep=',', rating_scale=(1.0, 5.0), skip_lines=0)\n",
    "dataset_train = Dataset.load_from_df(\n",
    "    train_data.loc[:, ['user', 'item', 'rating']],\n",
    "    reader=reader\n",
    ")\n",
    "X_train = dataset_train.build_full_trainset()"
   ]
  },
  {
   "cell_type": "code",
   "execution_count": 73,
   "metadata": {},
   "outputs": [
    {
     "data": {
      "text/plain": [
       "<surprise.prediction_algorithms.matrix_factorization.SVD at 0x7353e98b2d10>"
      ]
     },
     "execution_count": 73,
     "metadata": {},
     "output_type": "execute_result"
    }
   ],
   "source": [
    "# обучаем алгоритм\n",
    "algo.fit(X_train)"
   ]
  },
  {
   "cell_type": "code",
   "execution_count": 74,
   "metadata": {},
   "outputs": [
    {
     "name": "stdout",
     "output_type": "stream",
     "text": [
      "Всего данных: 72425\n",
      "Неизветстных пользователей: 0\n",
      "Неизветстных предметов: 0\n"
     ]
    }
   ],
   "source": [
    "# получем массивы с предсказанной оценкой алгоритмом и реальными оценками пользователей, используя test_data\n",
    "# отдельно собираем пользователей и предметы, о которых ничего ранее было неизвестно \n",
    "Y_true = []\n",
    "Y_pred = []\n",
    "new_users = []\n",
    "new_items = []\n",
    "for idx in test_data.index:\n",
    "    user = test_data.loc[idx,'user']\n",
    "    item = test_data.loc[idx,'item']\n",
    "    rating_true = test_data.loc[idx,'rating']\n",
    "    uid = ''\n",
    "    iid = ''\n",
    "    try:\n",
    "        uid = X_train.to_inner_uid(user)\n",
    "    except ValueError as ex:\n",
    "        pass\n",
    "    try:\n",
    "        iid = X_train.to_inner_uid(user)\n",
    "    except ValueError as ex:\n",
    "        pass\n",
    "    if uid == '':\n",
    "        new_users.append(user)\n",
    "        continue\n",
    "    if iid == '':\n",
    "        new_items.append(item)\n",
    "        continue\n",
    "    rating_pred= algo.predict(uid, iid).est\n",
    "    Y_true.append(rating_true)\n",
    "    Y_pred.append(rating_pred)\n",
    "\n",
    "Y_true = np.array(Y_true)\n",
    "Y_pred = np.array(Y_pred)\n",
    "\n",
    "print(f'Всего данных: {len(Y_true)}')\n",
    "print(f'Неизветстных пользователей: {len(new_users)}')\n",
    "print(f'Неизветстных предметов: {len(new_items)}')"
   ]
  },
  {
   "cell_type": "code",
   "execution_count": 75,
   "metadata": {},
   "outputs": [
    {
     "name": "stdout",
     "output_type": "stream",
     "text": [
      "Качество предсказания: 1.6179262323406618\n"
     ]
    }
   ],
   "source": [
    "# считаем метрику\n",
    "rmse_metric = RMSE(Y_true, Y_pred)\n",
    "print(f'Качество предсказания: {rmse_metric}')"
   ]
  },
  {
   "cell_type": "markdown",
   "metadata": {},
   "source": [
    "## NMF"
   ]
  },
  {
   "cell_type": "code",
   "execution_count": 76,
   "metadata": {},
   "outputs": [],
   "source": [
    "# библиотеки\n",
    "import numpy as np\n",
    "import pandas as pd\n",
    "import matplotlib.pyplot as plt\n",
    "import os\n",
    "from sklearn.metrics import root_mean_squared_error as RMSE\n",
    "from surprise import NMF, Dataset, Reader"
   ]
  },
  {
   "cell_type": "code",
   "execution_count": 77,
   "metadata": {},
   "outputs": [],
   "source": [
    "# Сменим рабочую дирректорию для удобства\n",
    "import os\n",
    "os.chdir('/home/slawa/HDD/my_scripts/my_otus/ML_advanced/lesson_18/hw')"
   ]
  },
  {
   "cell_type": "code",
   "execution_count": 78,
   "metadata": {},
   "outputs": [],
   "source": [
    "# загружаем датасеты\n",
    "train_data = pd.read_csv('train_data.csv', decimal='.', delimiter=',')\n",
    "test_data = pd.read_csv('test_data.csv', decimal='.', delimiter=',')"
   ]
  },
  {
   "cell_type": "code",
   "execution_count": 79,
   "metadata": {},
   "outputs": [],
   "source": [
    "# создаем модель\n",
    "algo = NMF()"
   ]
  },
  {
   "cell_type": "code",
   "execution_count": 80,
   "metadata": {},
   "outputs": [],
   "source": [
    "# создаем объект, использующийся для обучения модели\n",
    "reader = Reader(line_format='user item rating', sep=',', rating_scale=(1.0, 5.0), skip_lines=0)\n",
    "dataset_train = Dataset.load_from_df(\n",
    "    train_data.loc[:, ['user', 'item', 'rating']],\n",
    "    reader=reader\n",
    ")\n",
    "X_train = dataset_train.build_full_trainset()"
   ]
  },
  {
   "cell_type": "code",
   "execution_count": 81,
   "metadata": {},
   "outputs": [
    {
     "data": {
      "text/plain": [
       "<surprise.prediction_algorithms.matrix_factorization.NMF at 0x7353d798da50>"
      ]
     },
     "execution_count": 81,
     "metadata": {},
     "output_type": "execute_result"
    }
   ],
   "source": [
    "# обучаем алгоритм\n",
    "algo.fit(X_train)"
   ]
  },
  {
   "cell_type": "code",
   "execution_count": 82,
   "metadata": {},
   "outputs": [
    {
     "name": "stdout",
     "output_type": "stream",
     "text": [
      "Всего данных: 72425\n",
      "Неизветстных пользователей: 0\n",
      "Неизветстных предметов: 0\n"
     ]
    }
   ],
   "source": [
    "# получем массивы с предсказанной оценкой алгоритмом и реальными оценками пользователей, используя test_data\n",
    "# отдельно собираем пользователей и предметы, о которых ничего ранее было неизвестно \n",
    "Y_true = []\n",
    "Y_pred = []\n",
    "new_users = []\n",
    "new_items = []\n",
    "for idx in test_data.index:\n",
    "    user = test_data.loc[idx,'user']\n",
    "    item = test_data.loc[idx,'item']\n",
    "    rating_true = test_data.loc[idx,'rating']\n",
    "    uid = ''\n",
    "    iid = ''\n",
    "    try:\n",
    "        uid = X_train.to_inner_uid(user)\n",
    "    except ValueError as ex:\n",
    "        pass\n",
    "    try:\n",
    "        iid = X_train.to_inner_uid(user)\n",
    "    except ValueError as ex:\n",
    "        pass\n",
    "    if uid == '':\n",
    "        new_users.append(user)\n",
    "        continue\n",
    "    if iid == '':\n",
    "        new_items.append(item)\n",
    "        continue\n",
    "    rating_pred= algo.predict(uid, iid).est\n",
    "    Y_true.append(rating_true)\n",
    "    Y_pred.append(rating_pred)\n",
    "\n",
    "Y_true = np.array(Y_true)\n",
    "Y_pred = np.array(Y_pred)\n",
    "\n",
    "print(f'Всего данных: {len(Y_true)}')\n",
    "print(f'Неизветстных пользователей: {len(new_users)}')\n",
    "print(f'Неизветстных предметов: {len(new_items)}')"
   ]
  },
  {
   "cell_type": "code",
   "execution_count": 83,
   "metadata": {},
   "outputs": [
    {
     "name": "stdout",
     "output_type": "stream",
     "text": [
      "Качество предсказания: 1.6179262323406618\n"
     ]
    }
   ],
   "source": [
    "# считаем метрику\n",
    "rmse_metric = RMSE(Y_true, Y_pred)\n",
    "print(f'Качество предсказания: {rmse_metric}')"
   ]
  }
 ],
 "metadata": {
  "kernelspec": {
   "display_name": "venv",
   "language": "python",
   "name": "python3"
  },
  "language_info": {
   "codemirror_mode": {
    "name": "ipython",
    "version": 3
   },
   "file_extension": ".py",
   "mimetype": "text/x-python",
   "name": "python",
   "nbconvert_exporter": "python",
   "pygments_lexer": "ipython3",
   "version": "3.11.8"
  }
 },
 "nbformat": 4,
 "nbformat_minor": 2
}
